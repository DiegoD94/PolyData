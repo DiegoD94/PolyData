{
 "cells": [
  {
   "cell_type": "markdown",
   "id": "95aaee32",
   "metadata": {},
   "source": [
    "### SP500"
   ]
  },
  {
   "cell_type": "code",
   "execution_count": 1,
   "id": "26ecba5f",
   "metadata": {},
   "outputs": [],
   "source": [
    "import matplotlib.pyplot as plt\n",
    "import pandas as pd\n",
    "import datetime\n",
    "import numpy as np\n",
    "from pytz import timezone\n",
    "import requests\n",
    "import time\n",
    "from tqdm.auto import tqdm\n",
    "from datetime import timedelta\n"
   ]
  },
  {
   "cell_type": "code",
   "execution_count": 2,
   "id": "35a2ca80",
   "metadata": {},
   "outputs": [],
   "source": [
    "import requests\n",
    "from bs4 import BeautifulSoup\n",
    "\n",
    "# Fetch the webpage content\n",
    "url = \"https://en.wikipedia.org/wiki/List_of_S%26P_500_companies\"\n",
    "response = requests.get(url)\n",
    "soup = BeautifulSoup(response.content, 'html.parser')\n",
    "table = soup.find('table', {'id': 'constituents'})\n",
    "tickers = []\n",
    "for row in table.find_all('tr')[1:]:  # Skip the header row\n",
    "    cols = row.find_all('td')\n",
    "    ticker = cols[0].text.strip()  # The ticker symbol is in the first column\n",
    "    tickers.append(ticker)\n"
   ]
  },
  {
   "cell_type": "code",
   "execution_count": 3,
   "id": "9cddc706",
   "metadata": {},
   "outputs": [],
   "source": [
    "api_key = \"NahcgY5iZpJiLbXPYqZcgV6RatP09HUV\""
   ]
  },
  {
   "cell_type": "code",
   "execution_count": 5,
   "id": "48a83ddb",
   "metadata": {},
   "outputs": [],
   "source": [
    "def get_df_by_year(ticker, year):\n",
    "    res_df = []\n",
    "    for month in range(1, 10, 3):\n",
    "        from_date = \"{}-{:02d}-01\".format(year, month)\n",
    "        to_date = \"{}-{:02d}-01\".format(year, month + 3)\n",
    "        query_string = f\"https://api.polygon.io/v2/aggs/ticker/{ticker}/range/15/minute/{from_date}/{to_date}?adjusted=true&sort=asc&limit={50*1000}&apiKey={api_key}\"\n",
    "        print(query_string)\n",
    "        res = requests.get(query_string)\n",
    "        data = res.json()\n",
    "        try:\n",
    "            res = data['results']\n",
    "            res_df.append(pd.DataFrame().from_records(res))\n",
    "        except:\n",
    "            print(data)\n",
    "    from_date = \"{}-{:02d}-01\".format(year, 10)\n",
    "    to_date = \"{}-{:02d}-01\".format(year+1, 1)\n",
    "    query_string = f\"https://api.polygon.io/v2/aggs/ticker/{ticker}/range/15/minute/{from_date}/{to_date}?adjusted=true&sort=asc&limit={50*1000}&apiKey={api_key}\"\n",
    "    print(query_string)\n",
    "    res = requests.get(query_string)\n",
    "    data = res.json()\n",
    "    try:\n",
    "        res = data['results']\n",
    "        res_df.append(pd.DataFrame().from_records(res))\n",
    "    except:\n",
    "        print(data)\n",
    "    try:\n",
    "        return pd.concat(res_df).reset_index()\n",
    "    except:\n",
    "        return None\n",
    "    \n",
    "    \n",
    "        \n",
    "        "
   ]
  },
  {
   "cell_type": "code",
   "execution_count": 18,
   "id": "70b648e2",
   "metadata": {
    "scrolled": true
   },
   "outputs": [
    {
     "data": {
      "application/vnd.jupyter.widget-view+json": {
       "model_id": "bab70b7b8c7f4c389d05c9b6201faf1d",
       "version_major": 2,
       "version_minor": 0
      },
      "text/plain": [
       "  0%|          | 0/503 [00:00<?, ?it/s]"
      ]
     },
     "metadata": {},
     "output_type": "display_data"
    },
    {
     "name": "stdout",
     "output_type": "stream",
     "text": [
      "https://api.polygon.io/v2/aggs/ticker/MMM/range/15/minute/2023-01-01/2023-04-01?adjusted=true&sort=asc&limit=50000&apiKey=NahcgY5iZpJiLbXPYqZcgV6RatP09HUV\n",
      "https://api.polygon.io/v2/aggs/ticker/MMM/range/15/minute/2023-04-01/2023-07-01?adjusted=true&sort=asc&limit=50000&apiKey=NahcgY5iZpJiLbXPYqZcgV6RatP09HUV\n",
      "https://api.polygon.io/v2/aggs/ticker/MMM/range/15/minute/2023-07-01/2023-10-01?adjusted=true&sort=asc&limit=50000&apiKey=NahcgY5iZpJiLbXPYqZcgV6RatP09HUV\n",
      "https://api.polygon.io/v2/aggs/ticker/MMM/range/15/minute/2023-10-01/2024-01-01?adjusted=true&sort=asc&limit=50000&apiKey=NahcgY5iZpJiLbXPYqZcgV6RatP09HUV\n",
      "https://api.polygon.io/v2/aggs/ticker/AOS/range/15/minute/2023-01-01/2023-04-01?adjusted=true&sort=asc&limit=50000&apiKey=NahcgY5iZpJiLbXPYqZcgV6RatP09HUV\n",
      "https://api.polygon.io/v2/aggs/ticker/AOS/range/15/minute/2023-04-01/2023-07-01?adjusted=true&sort=asc&limit=50000&apiKey=NahcgY5iZpJiLbXPYqZcgV6RatP09HUV\n",
      "https://api.polygon.io/v2/aggs/ticker/AOS/range/15/minute/2023-07-01/2023-10-01?adjusted=true&sort=asc&limit=50000&apiKey=NahcgY5iZpJiLbXPYqZcgV6RatP09HUV\n",
      "https://api.polygon.io/v2/aggs/ticker/AOS/range/15/minute/2023-10-01/2024-01-01?adjusted=true&sort=asc&limit=50000&apiKey=NahcgY5iZpJiLbXPYqZcgV6RatP09HUV\n",
      "https://api.polygon.io/v2/aggs/ticker/ABT/range/15/minute/2023-01-01/2023-04-01?adjusted=true&sort=asc&limit=50000&apiKey=NahcgY5iZpJiLbXPYqZcgV6RatP09HUV\n",
      "https://api.polygon.io/v2/aggs/ticker/ABT/range/15/minute/2023-04-01/2023-07-01?adjusted=true&sort=asc&limit=50000&apiKey=NahcgY5iZpJiLbXPYqZcgV6RatP09HUV\n",
      "https://api.polygon.io/v2/aggs/ticker/ABT/range/15/minute/2023-07-01/2023-10-01?adjusted=true&sort=asc&limit=50000&apiKey=NahcgY5iZpJiLbXPYqZcgV6RatP09HUV\n",
      "https://api.polygon.io/v2/aggs/ticker/ABT/range/15/minute/2023-10-01/2024-01-01?adjusted=true&sort=asc&limit=50000&apiKey=NahcgY5iZpJiLbXPYqZcgV6RatP09HUV\n",
      "https://api.polygon.io/v2/aggs/ticker/ABBV/range/15/minute/2023-01-01/2023-04-01?adjusted=true&sort=asc&limit=50000&apiKey=NahcgY5iZpJiLbXPYqZcgV6RatP09HUV\n",
      "https://api.polygon.io/v2/aggs/ticker/ABBV/range/15/minute/2023-04-01/2023-07-01?adjusted=true&sort=asc&limit=50000&apiKey=NahcgY5iZpJiLbXPYqZcgV6RatP09HUV\n",
      "https://api.polygon.io/v2/aggs/ticker/ABBV/range/15/minute/2023-07-01/2023-10-01?adjusted=true&sort=asc&limit=50000&apiKey=NahcgY5iZpJiLbXPYqZcgV6RatP09HUV\n",
      "https://api.polygon.io/v2/aggs/ticker/ABBV/range/15/minute/2023-10-01/2024-01-01?adjusted=true&sort=asc&limit=50000&apiKey=NahcgY5iZpJiLbXPYqZcgV6RatP09HUV\n",
      "https://api.polygon.io/v2/aggs/ticker/ACN/range/15/minute/2023-01-01/2023-04-01?adjusted=true&sort=asc&limit=50000&apiKey=NahcgY5iZpJiLbXPYqZcgV6RatP09HUV\n",
      "https://api.polygon.io/v2/aggs/ticker/ACN/range/15/minute/2023-04-01/2023-07-01?adjusted=true&sort=asc&limit=50000&apiKey=NahcgY5iZpJiLbXPYqZcgV6RatP09HUV\n",
      "https://api.polygon.io/v2/aggs/ticker/ACN/range/15/minute/2023-07-01/2023-10-01?adjusted=true&sort=asc&limit=50000&apiKey=NahcgY5iZpJiLbXPYqZcgV6RatP09HUV\n",
      "https://api.polygon.io/v2/aggs/ticker/ACN/range/15/minute/2023-10-01/2024-01-01?adjusted=true&sort=asc&limit=50000&apiKey=NahcgY5iZpJiLbXPYqZcgV6RatP09HUV\n",
      "https://api.polygon.io/v2/aggs/ticker/ADBE/range/15/minute/2023-01-01/2023-04-01?adjusted=true&sort=asc&limit=50000&apiKey=NahcgY5iZpJiLbXPYqZcgV6RatP09HUV\n",
      "https://api.polygon.io/v2/aggs/ticker/ADBE/range/15/minute/2023-04-01/2023-07-01?adjusted=true&sort=asc&limit=50000&apiKey=NahcgY5iZpJiLbXPYqZcgV6RatP09HUV\n",
      "https://api.polygon.io/v2/aggs/ticker/ADBE/range/15/minute/2023-07-01/2023-10-01?adjusted=true&sort=asc&limit=50000&apiKey=NahcgY5iZpJiLbXPYqZcgV6RatP09HUV\n",
      "https://api.polygon.io/v2/aggs/ticker/ADBE/range/15/minute/2023-10-01/2024-01-01?adjusted=true&sort=asc&limit=50000&apiKey=NahcgY5iZpJiLbXPYqZcgV6RatP09HUV\n",
      "https://api.polygon.io/v2/aggs/ticker/AMD/range/15/minute/2023-01-01/2023-04-01?adjusted=true&sort=asc&limit=50000&apiKey=NahcgY5iZpJiLbXPYqZcgV6RatP09HUV\n",
      "https://api.polygon.io/v2/aggs/ticker/AMD/range/15/minute/2023-04-01/2023-07-01?adjusted=true&sort=asc&limit=50000&apiKey=NahcgY5iZpJiLbXPYqZcgV6RatP09HUV\n",
      "https://api.polygon.io/v2/aggs/ticker/AMD/range/15/minute/2023-07-01/2023-10-01?adjusted=true&sort=asc&limit=50000&apiKey=NahcgY5iZpJiLbXPYqZcgV6RatP09HUV\n",
      "https://api.polygon.io/v2/aggs/ticker/AMD/range/15/minute/2023-10-01/2024-01-01?adjusted=true&sort=asc&limit=50000&apiKey=NahcgY5iZpJiLbXPYqZcgV6RatP09HUV\n",
      "https://api.polygon.io/v2/aggs/ticker/AES/range/15/minute/2023-01-01/2023-04-01?adjusted=true&sort=asc&limit=50000&apiKey=NahcgY5iZpJiLbXPYqZcgV6RatP09HUV\n",
      "https://api.polygon.io/v2/aggs/ticker/AES/range/15/minute/2023-04-01/2023-07-01?adjusted=true&sort=asc&limit=50000&apiKey=NahcgY5iZpJiLbXPYqZcgV6RatP09HUV\n",
      "https://api.polygon.io/v2/aggs/ticker/AES/range/15/minute/2023-07-01/2023-10-01?adjusted=true&sort=asc&limit=50000&apiKey=NahcgY5iZpJiLbXPYqZcgV6RatP09HUV\n",
      "https://api.polygon.io/v2/aggs/ticker/AES/range/15/minute/2023-10-01/2024-01-01?adjusted=true&sort=asc&limit=50000&apiKey=NahcgY5iZpJiLbXPYqZcgV6RatP09HUV\n",
      "https://api.polygon.io/v2/aggs/ticker/AFL/range/15/minute/2023-01-01/2023-04-01?adjusted=true&sort=asc&limit=50000&apiKey=NahcgY5iZpJiLbXPYqZcgV6RatP09HUV\n",
      "https://api.polygon.io/v2/aggs/ticker/AFL/range/15/minute/2023-04-01/2023-07-01?adjusted=true&sort=asc&limit=50000&apiKey=NahcgY5iZpJiLbXPYqZcgV6RatP09HUV\n",
      "https://api.polygon.io/v2/aggs/ticker/AFL/range/15/minute/2023-07-01/2023-10-01?adjusted=true&sort=asc&limit=50000&apiKey=NahcgY5iZpJiLbXPYqZcgV6RatP09HUV\n",
      "https://api.polygon.io/v2/aggs/ticker/AFL/range/15/minute/2023-10-01/2024-01-01?adjusted=true&sort=asc&limit=50000&apiKey=NahcgY5iZpJiLbXPYqZcgV6RatP09HUV\n",
      "https://api.polygon.io/v2/aggs/ticker/A/range/15/minute/2023-01-01/2023-04-01?adjusted=true&sort=asc&limit=50000&apiKey=NahcgY5iZpJiLbXPYqZcgV6RatP09HUV\n",
      "https://api.polygon.io/v2/aggs/ticker/A/range/15/minute/2023-04-01/2023-07-01?adjusted=true&sort=asc&limit=50000&apiKey=NahcgY5iZpJiLbXPYqZcgV6RatP09HUV\n",
      "https://api.polygon.io/v2/aggs/ticker/A/range/15/minute/2023-07-01/2023-10-01?adjusted=true&sort=asc&limit=50000&apiKey=NahcgY5iZpJiLbXPYqZcgV6RatP09HUV\n",
      "https://api.polygon.io/v2/aggs/ticker/A/range/15/minute/2023-10-01/2024-01-01?adjusted=true&sort=asc&limit=50000&apiKey=NahcgY5iZpJiLbXPYqZcgV6RatP09HUV\n",
      "https://api.polygon.io/v2/aggs/ticker/APD/range/15/minute/2023-01-01/2023-04-01?adjusted=true&sort=asc&limit=50000&apiKey=NahcgY5iZpJiLbXPYqZcgV6RatP09HUV\n",
      "https://api.polygon.io/v2/aggs/ticker/APD/range/15/minute/2023-04-01/2023-07-01?adjusted=true&sort=asc&limit=50000&apiKey=NahcgY5iZpJiLbXPYqZcgV6RatP09HUV\n",
      "https://api.polygon.io/v2/aggs/ticker/APD/range/15/minute/2023-07-01/2023-10-01?adjusted=true&sort=asc&limit=50000&apiKey=NahcgY5iZpJiLbXPYqZcgV6RatP09HUV\n",
      "https://api.polygon.io/v2/aggs/ticker/APD/range/15/minute/2023-10-01/2024-01-01?adjusted=true&sort=asc&limit=50000&apiKey=NahcgY5iZpJiLbXPYqZcgV6RatP09HUV\n",
      "https://api.polygon.io/v2/aggs/ticker/ABNB/range/15/minute/2023-01-01/2023-04-01?adjusted=true&sort=asc&limit=50000&apiKey=NahcgY5iZpJiLbXPYqZcgV6RatP09HUV\n",
      "https://api.polygon.io/v2/aggs/ticker/ABNB/range/15/minute/2023-04-01/2023-07-01?adjusted=true&sort=asc&limit=50000&apiKey=NahcgY5iZpJiLbXPYqZcgV6RatP09HUV\n",
      "https://api.polygon.io/v2/aggs/ticker/ABNB/range/15/minute/2023-07-01/2023-10-01?adjusted=true&sort=asc&limit=50000&apiKey=NahcgY5iZpJiLbXPYqZcgV6RatP09HUV\n",
      "https://api.polygon.io/v2/aggs/ticker/ABNB/range/15/minute/2023-10-01/2024-01-01?adjusted=true&sort=asc&limit=50000&apiKey=NahcgY5iZpJiLbXPYqZcgV6RatP09HUV\n",
      "https://api.polygon.io/v2/aggs/ticker/AKAM/range/15/minute/2023-01-01/2023-04-01?adjusted=true&sort=asc&limit=50000&apiKey=NahcgY5iZpJiLbXPYqZcgV6RatP09HUV\n",
      "https://api.polygon.io/v2/aggs/ticker/AKAM/range/15/minute/2023-04-01/2023-07-01?adjusted=true&sort=asc&limit=50000&apiKey=NahcgY5iZpJiLbXPYqZcgV6RatP09HUV\n",
      "https://api.polygon.io/v2/aggs/ticker/AKAM/range/15/minute/2023-07-01/2023-10-01?adjusted=true&sort=asc&limit=50000&apiKey=NahcgY5iZpJiLbXPYqZcgV6RatP09HUV\n",
      "https://api.polygon.io/v2/aggs/ticker/AKAM/range/15/minute/2023-10-01/2024-01-01?adjusted=true&sort=asc&limit=50000&apiKey=NahcgY5iZpJiLbXPYqZcgV6RatP09HUV\n",
      "https://api.polygon.io/v2/aggs/ticker/ALB/range/15/minute/2023-01-01/2023-04-01?adjusted=true&sort=asc&limit=50000&apiKey=NahcgY5iZpJiLbXPYqZcgV6RatP09HUV\n"
     ]
    },
    {
     "name": "stdout",
     "output_type": "stream",
     "text": [
      "https://api.polygon.io/v2/aggs/ticker/ALB/range/15/minute/2023-04-01/2023-07-01?adjusted=true&sort=asc&limit=50000&apiKey=NahcgY5iZpJiLbXPYqZcgV6RatP09HUV\n",
      "https://api.polygon.io/v2/aggs/ticker/ALB/range/15/minute/2023-07-01/2023-10-01?adjusted=true&sort=asc&limit=50000&apiKey=NahcgY5iZpJiLbXPYqZcgV6RatP09HUV\n",
      "https://api.polygon.io/v2/aggs/ticker/ALB/range/15/minute/2023-10-01/2024-01-01?adjusted=true&sort=asc&limit=50000&apiKey=NahcgY5iZpJiLbXPYqZcgV6RatP09HUV\n",
      "https://api.polygon.io/v2/aggs/ticker/ARE/range/15/minute/2023-01-01/2023-04-01?adjusted=true&sort=asc&limit=50000&apiKey=NahcgY5iZpJiLbXPYqZcgV6RatP09HUV\n",
      "https://api.polygon.io/v2/aggs/ticker/ARE/range/15/minute/2023-04-01/2023-07-01?adjusted=true&sort=asc&limit=50000&apiKey=NahcgY5iZpJiLbXPYqZcgV6RatP09HUV\n",
      "https://api.polygon.io/v2/aggs/ticker/ARE/range/15/minute/2023-07-01/2023-10-01?adjusted=true&sort=asc&limit=50000&apiKey=NahcgY5iZpJiLbXPYqZcgV6RatP09HUV\n",
      "https://api.polygon.io/v2/aggs/ticker/ARE/range/15/minute/2023-10-01/2024-01-01?adjusted=true&sort=asc&limit=50000&apiKey=NahcgY5iZpJiLbXPYqZcgV6RatP09HUV\n",
      "https://api.polygon.io/v2/aggs/ticker/ALGN/range/15/minute/2023-01-01/2023-04-01?adjusted=true&sort=asc&limit=50000&apiKey=NahcgY5iZpJiLbXPYqZcgV6RatP09HUV\n",
      "https://api.polygon.io/v2/aggs/ticker/ALGN/range/15/minute/2023-04-01/2023-07-01?adjusted=true&sort=asc&limit=50000&apiKey=NahcgY5iZpJiLbXPYqZcgV6RatP09HUV\n",
      "https://api.polygon.io/v2/aggs/ticker/ALGN/range/15/minute/2023-07-01/2023-10-01?adjusted=true&sort=asc&limit=50000&apiKey=NahcgY5iZpJiLbXPYqZcgV6RatP09HUV\n",
      "https://api.polygon.io/v2/aggs/ticker/ALGN/range/15/minute/2023-10-01/2024-01-01?adjusted=true&sort=asc&limit=50000&apiKey=NahcgY5iZpJiLbXPYqZcgV6RatP09HUV\n",
      "https://api.polygon.io/v2/aggs/ticker/ALLE/range/15/minute/2023-01-01/2023-04-01?adjusted=true&sort=asc&limit=50000&apiKey=NahcgY5iZpJiLbXPYqZcgV6RatP09HUV\n",
      "https://api.polygon.io/v2/aggs/ticker/ALLE/range/15/minute/2023-04-01/2023-07-01?adjusted=true&sort=asc&limit=50000&apiKey=NahcgY5iZpJiLbXPYqZcgV6RatP09HUV\n",
      "https://api.polygon.io/v2/aggs/ticker/ALLE/range/15/minute/2023-07-01/2023-10-01?adjusted=true&sort=asc&limit=50000&apiKey=NahcgY5iZpJiLbXPYqZcgV6RatP09HUV\n",
      "https://api.polygon.io/v2/aggs/ticker/ALLE/range/15/minute/2023-10-01/2024-01-01?adjusted=true&sort=asc&limit=50000&apiKey=NahcgY5iZpJiLbXPYqZcgV6RatP09HUV\n",
      "https://api.polygon.io/v2/aggs/ticker/LNT/range/15/minute/2023-01-01/2023-04-01?adjusted=true&sort=asc&limit=50000&apiKey=NahcgY5iZpJiLbXPYqZcgV6RatP09HUV\n",
      "https://api.polygon.io/v2/aggs/ticker/LNT/range/15/minute/2023-04-01/2023-07-01?adjusted=true&sort=asc&limit=50000&apiKey=NahcgY5iZpJiLbXPYqZcgV6RatP09HUV\n",
      "https://api.polygon.io/v2/aggs/ticker/LNT/range/15/minute/2023-07-01/2023-10-01?adjusted=true&sort=asc&limit=50000&apiKey=NahcgY5iZpJiLbXPYqZcgV6RatP09HUV\n",
      "https://api.polygon.io/v2/aggs/ticker/LNT/range/15/minute/2023-10-01/2024-01-01?adjusted=true&sort=asc&limit=50000&apiKey=NahcgY5iZpJiLbXPYqZcgV6RatP09HUV\n",
      "https://api.polygon.io/v2/aggs/ticker/ALL/range/15/minute/2023-01-01/2023-04-01?adjusted=true&sort=asc&limit=50000&apiKey=NahcgY5iZpJiLbXPYqZcgV6RatP09HUV\n",
      "https://api.polygon.io/v2/aggs/ticker/ALL/range/15/minute/2023-04-01/2023-07-01?adjusted=true&sort=asc&limit=50000&apiKey=NahcgY5iZpJiLbXPYqZcgV6RatP09HUV\n",
      "https://api.polygon.io/v2/aggs/ticker/ALL/range/15/minute/2023-07-01/2023-10-01?adjusted=true&sort=asc&limit=50000&apiKey=NahcgY5iZpJiLbXPYqZcgV6RatP09HUV\n",
      "https://api.polygon.io/v2/aggs/ticker/ALL/range/15/minute/2023-10-01/2024-01-01?adjusted=true&sort=asc&limit=50000&apiKey=NahcgY5iZpJiLbXPYqZcgV6RatP09HUV\n",
      "https://api.polygon.io/v2/aggs/ticker/GOOGL/range/15/minute/2023-01-01/2023-04-01?adjusted=true&sort=asc&limit=50000&apiKey=NahcgY5iZpJiLbXPYqZcgV6RatP09HUV\n",
      "https://api.polygon.io/v2/aggs/ticker/GOOGL/range/15/minute/2023-04-01/2023-07-01?adjusted=true&sort=asc&limit=50000&apiKey=NahcgY5iZpJiLbXPYqZcgV6RatP09HUV\n",
      "https://api.polygon.io/v2/aggs/ticker/GOOGL/range/15/minute/2023-07-01/2023-10-01?adjusted=true&sort=asc&limit=50000&apiKey=NahcgY5iZpJiLbXPYqZcgV6RatP09HUV\n",
      "https://api.polygon.io/v2/aggs/ticker/GOOGL/range/15/minute/2023-10-01/2024-01-01?adjusted=true&sort=asc&limit=50000&apiKey=NahcgY5iZpJiLbXPYqZcgV6RatP09HUV\n",
      "https://api.polygon.io/v2/aggs/ticker/GOOG/range/15/minute/2023-01-01/2023-04-01?adjusted=true&sort=asc&limit=50000&apiKey=NahcgY5iZpJiLbXPYqZcgV6RatP09HUV\n",
      "https://api.polygon.io/v2/aggs/ticker/GOOG/range/15/minute/2023-04-01/2023-07-01?adjusted=true&sort=asc&limit=50000&apiKey=NahcgY5iZpJiLbXPYqZcgV6RatP09HUV\n",
      "https://api.polygon.io/v2/aggs/ticker/GOOG/range/15/minute/2023-07-01/2023-10-01?adjusted=true&sort=asc&limit=50000&apiKey=NahcgY5iZpJiLbXPYqZcgV6RatP09HUV\n",
      "https://api.polygon.io/v2/aggs/ticker/GOOG/range/15/minute/2023-10-01/2024-01-01?adjusted=true&sort=asc&limit=50000&apiKey=NahcgY5iZpJiLbXPYqZcgV6RatP09HUV\n",
      "https://api.polygon.io/v2/aggs/ticker/MO/range/15/minute/2023-01-01/2023-04-01?adjusted=true&sort=asc&limit=50000&apiKey=NahcgY5iZpJiLbXPYqZcgV6RatP09HUV\n",
      "https://api.polygon.io/v2/aggs/ticker/MO/range/15/minute/2023-04-01/2023-07-01?adjusted=true&sort=asc&limit=50000&apiKey=NahcgY5iZpJiLbXPYqZcgV6RatP09HUV\n",
      "https://api.polygon.io/v2/aggs/ticker/MO/range/15/minute/2023-07-01/2023-10-01?adjusted=true&sort=asc&limit=50000&apiKey=NahcgY5iZpJiLbXPYqZcgV6RatP09HUV\n",
      "https://api.polygon.io/v2/aggs/ticker/MO/range/15/minute/2023-10-01/2024-01-01?adjusted=true&sort=asc&limit=50000&apiKey=NahcgY5iZpJiLbXPYqZcgV6RatP09HUV\n",
      "https://api.polygon.io/v2/aggs/ticker/AMZN/range/15/minute/2023-01-01/2023-04-01?adjusted=true&sort=asc&limit=50000&apiKey=NahcgY5iZpJiLbXPYqZcgV6RatP09HUV\n",
      "https://api.polygon.io/v2/aggs/ticker/AMZN/range/15/minute/2023-04-01/2023-07-01?adjusted=true&sort=asc&limit=50000&apiKey=NahcgY5iZpJiLbXPYqZcgV6RatP09HUV\n",
      "https://api.polygon.io/v2/aggs/ticker/AMZN/range/15/minute/2023-07-01/2023-10-01?adjusted=true&sort=asc&limit=50000&apiKey=NahcgY5iZpJiLbXPYqZcgV6RatP09HUV\n",
      "https://api.polygon.io/v2/aggs/ticker/AMZN/range/15/minute/2023-10-01/2024-01-01?adjusted=true&sort=asc&limit=50000&apiKey=NahcgY5iZpJiLbXPYqZcgV6RatP09HUV\n",
      "https://api.polygon.io/v2/aggs/ticker/AMCR/range/15/minute/2023-01-01/2023-04-01?adjusted=true&sort=asc&limit=50000&apiKey=NahcgY5iZpJiLbXPYqZcgV6RatP09HUV\n",
      "https://api.polygon.io/v2/aggs/ticker/AMCR/range/15/minute/2023-04-01/2023-07-01?adjusted=true&sort=asc&limit=50000&apiKey=NahcgY5iZpJiLbXPYqZcgV6RatP09HUV\n",
      "https://api.polygon.io/v2/aggs/ticker/AMCR/range/15/minute/2023-07-01/2023-10-01?adjusted=true&sort=asc&limit=50000&apiKey=NahcgY5iZpJiLbXPYqZcgV6RatP09HUV\n",
      "https://api.polygon.io/v2/aggs/ticker/AMCR/range/15/minute/2023-10-01/2024-01-01?adjusted=true&sort=asc&limit=50000&apiKey=NahcgY5iZpJiLbXPYqZcgV6RatP09HUV\n",
      "https://api.polygon.io/v2/aggs/ticker/AEE/range/15/minute/2023-01-01/2023-04-01?adjusted=true&sort=asc&limit=50000&apiKey=NahcgY5iZpJiLbXPYqZcgV6RatP09HUV\n",
      "https://api.polygon.io/v2/aggs/ticker/AEE/range/15/minute/2023-04-01/2023-07-01?adjusted=true&sort=asc&limit=50000&apiKey=NahcgY5iZpJiLbXPYqZcgV6RatP09HUV\n",
      "https://api.polygon.io/v2/aggs/ticker/AEE/range/15/minute/2023-07-01/2023-10-01?adjusted=true&sort=asc&limit=50000&apiKey=NahcgY5iZpJiLbXPYqZcgV6RatP09HUV\n",
      "https://api.polygon.io/v2/aggs/ticker/AEE/range/15/minute/2023-10-01/2024-01-01?adjusted=true&sort=asc&limit=50000&apiKey=NahcgY5iZpJiLbXPYqZcgV6RatP09HUV\n",
      "https://api.polygon.io/v2/aggs/ticker/AAL/range/15/minute/2023-01-01/2023-04-01?adjusted=true&sort=asc&limit=50000&apiKey=NahcgY5iZpJiLbXPYqZcgV6RatP09HUV\n",
      "https://api.polygon.io/v2/aggs/ticker/AAL/range/15/minute/2023-04-01/2023-07-01?adjusted=true&sort=asc&limit=50000&apiKey=NahcgY5iZpJiLbXPYqZcgV6RatP09HUV\n",
      "https://api.polygon.io/v2/aggs/ticker/AAL/range/15/minute/2023-07-01/2023-10-01?adjusted=true&sort=asc&limit=50000&apiKey=NahcgY5iZpJiLbXPYqZcgV6RatP09HUV\n",
      "https://api.polygon.io/v2/aggs/ticker/AAL/range/15/minute/2023-10-01/2024-01-01?adjusted=true&sort=asc&limit=50000&apiKey=NahcgY5iZpJiLbXPYqZcgV6RatP09HUV\n",
      "https://api.polygon.io/v2/aggs/ticker/AEP/range/15/minute/2023-01-01/2023-04-01?adjusted=true&sort=asc&limit=50000&apiKey=NahcgY5iZpJiLbXPYqZcgV6RatP09HUV\n",
      "https://api.polygon.io/v2/aggs/ticker/AEP/range/15/minute/2023-04-01/2023-07-01?adjusted=true&sort=asc&limit=50000&apiKey=NahcgY5iZpJiLbXPYqZcgV6RatP09HUV\n"
     ]
    },
    {
     "name": "stdout",
     "output_type": "stream",
     "text": [
      "https://api.polygon.io/v2/aggs/ticker/AEP/range/15/minute/2023-07-01/2023-10-01?adjusted=true&sort=asc&limit=50000&apiKey=NahcgY5iZpJiLbXPYqZcgV6RatP09HUV\n",
      "https://api.polygon.io/v2/aggs/ticker/AEP/range/15/minute/2023-10-01/2024-01-01?adjusted=true&sort=asc&limit=50000&apiKey=NahcgY5iZpJiLbXPYqZcgV6RatP09HUV\n",
      "https://api.polygon.io/v2/aggs/ticker/AXP/range/15/minute/2023-01-01/2023-04-01?adjusted=true&sort=asc&limit=50000&apiKey=NahcgY5iZpJiLbXPYqZcgV6RatP09HUV\n",
      "https://api.polygon.io/v2/aggs/ticker/AXP/range/15/minute/2023-04-01/2023-07-01?adjusted=true&sort=asc&limit=50000&apiKey=NahcgY5iZpJiLbXPYqZcgV6RatP09HUV\n",
      "https://api.polygon.io/v2/aggs/ticker/AXP/range/15/minute/2023-07-01/2023-10-01?adjusted=true&sort=asc&limit=50000&apiKey=NahcgY5iZpJiLbXPYqZcgV6RatP09HUV\n",
      "https://api.polygon.io/v2/aggs/ticker/AXP/range/15/minute/2023-10-01/2024-01-01?adjusted=true&sort=asc&limit=50000&apiKey=NahcgY5iZpJiLbXPYqZcgV6RatP09HUV\n",
      "https://api.polygon.io/v2/aggs/ticker/AIG/range/15/minute/2023-01-01/2023-04-01?adjusted=true&sort=asc&limit=50000&apiKey=NahcgY5iZpJiLbXPYqZcgV6RatP09HUV\n",
      "https://api.polygon.io/v2/aggs/ticker/AIG/range/15/minute/2023-04-01/2023-07-01?adjusted=true&sort=asc&limit=50000&apiKey=NahcgY5iZpJiLbXPYqZcgV6RatP09HUV\n",
      "https://api.polygon.io/v2/aggs/ticker/AIG/range/15/minute/2023-07-01/2023-10-01?adjusted=true&sort=asc&limit=50000&apiKey=NahcgY5iZpJiLbXPYqZcgV6RatP09HUV\n",
      "https://api.polygon.io/v2/aggs/ticker/AIG/range/15/minute/2023-10-01/2024-01-01?adjusted=true&sort=asc&limit=50000&apiKey=NahcgY5iZpJiLbXPYqZcgV6RatP09HUV\n",
      "https://api.polygon.io/v2/aggs/ticker/AMT/range/15/minute/2023-01-01/2023-04-01?adjusted=true&sort=asc&limit=50000&apiKey=NahcgY5iZpJiLbXPYqZcgV6RatP09HUV\n",
      "https://api.polygon.io/v2/aggs/ticker/AMT/range/15/minute/2023-04-01/2023-07-01?adjusted=true&sort=asc&limit=50000&apiKey=NahcgY5iZpJiLbXPYqZcgV6RatP09HUV\n",
      "https://api.polygon.io/v2/aggs/ticker/AMT/range/15/minute/2023-07-01/2023-10-01?adjusted=true&sort=asc&limit=50000&apiKey=NahcgY5iZpJiLbXPYqZcgV6RatP09HUV\n",
      "https://api.polygon.io/v2/aggs/ticker/AMT/range/15/minute/2023-10-01/2024-01-01?adjusted=true&sort=asc&limit=50000&apiKey=NahcgY5iZpJiLbXPYqZcgV6RatP09HUV\n",
      "https://api.polygon.io/v2/aggs/ticker/AWK/range/15/minute/2023-01-01/2023-04-01?adjusted=true&sort=asc&limit=50000&apiKey=NahcgY5iZpJiLbXPYqZcgV6RatP09HUV\n",
      "https://api.polygon.io/v2/aggs/ticker/AWK/range/15/minute/2023-04-01/2023-07-01?adjusted=true&sort=asc&limit=50000&apiKey=NahcgY5iZpJiLbXPYqZcgV6RatP09HUV\n",
      "https://api.polygon.io/v2/aggs/ticker/AWK/range/15/minute/2023-07-01/2023-10-01?adjusted=true&sort=asc&limit=50000&apiKey=NahcgY5iZpJiLbXPYqZcgV6RatP09HUV\n",
      "https://api.polygon.io/v2/aggs/ticker/AWK/range/15/minute/2023-10-01/2024-01-01?adjusted=true&sort=asc&limit=50000&apiKey=NahcgY5iZpJiLbXPYqZcgV6RatP09HUV\n",
      "https://api.polygon.io/v2/aggs/ticker/AMP/range/15/minute/2023-01-01/2023-04-01?adjusted=true&sort=asc&limit=50000&apiKey=NahcgY5iZpJiLbXPYqZcgV6RatP09HUV\n",
      "https://api.polygon.io/v2/aggs/ticker/AMP/range/15/minute/2023-04-01/2023-07-01?adjusted=true&sort=asc&limit=50000&apiKey=NahcgY5iZpJiLbXPYqZcgV6RatP09HUV\n",
      "https://api.polygon.io/v2/aggs/ticker/AMP/range/15/minute/2023-07-01/2023-10-01?adjusted=true&sort=asc&limit=50000&apiKey=NahcgY5iZpJiLbXPYqZcgV6RatP09HUV\n",
      "https://api.polygon.io/v2/aggs/ticker/AMP/range/15/minute/2023-10-01/2024-01-01?adjusted=true&sort=asc&limit=50000&apiKey=NahcgY5iZpJiLbXPYqZcgV6RatP09HUV\n",
      "https://api.polygon.io/v2/aggs/ticker/AME/range/15/minute/2023-01-01/2023-04-01?adjusted=true&sort=asc&limit=50000&apiKey=NahcgY5iZpJiLbXPYqZcgV6RatP09HUV\n",
      "https://api.polygon.io/v2/aggs/ticker/AME/range/15/minute/2023-04-01/2023-07-01?adjusted=true&sort=asc&limit=50000&apiKey=NahcgY5iZpJiLbXPYqZcgV6RatP09HUV\n",
      "https://api.polygon.io/v2/aggs/ticker/AME/range/15/minute/2023-07-01/2023-10-01?adjusted=true&sort=asc&limit=50000&apiKey=NahcgY5iZpJiLbXPYqZcgV6RatP09HUV\n",
      "https://api.polygon.io/v2/aggs/ticker/AME/range/15/minute/2023-10-01/2024-01-01?adjusted=true&sort=asc&limit=50000&apiKey=NahcgY5iZpJiLbXPYqZcgV6RatP09HUV\n",
      "https://api.polygon.io/v2/aggs/ticker/AMGN/range/15/minute/2023-01-01/2023-04-01?adjusted=true&sort=asc&limit=50000&apiKey=NahcgY5iZpJiLbXPYqZcgV6RatP09HUV\n",
      "https://api.polygon.io/v2/aggs/ticker/AMGN/range/15/minute/2023-04-01/2023-07-01?adjusted=true&sort=asc&limit=50000&apiKey=NahcgY5iZpJiLbXPYqZcgV6RatP09HUV\n",
      "https://api.polygon.io/v2/aggs/ticker/AMGN/range/15/minute/2023-07-01/2023-10-01?adjusted=true&sort=asc&limit=50000&apiKey=NahcgY5iZpJiLbXPYqZcgV6RatP09HUV\n",
      "https://api.polygon.io/v2/aggs/ticker/AMGN/range/15/minute/2023-10-01/2024-01-01?adjusted=true&sort=asc&limit=50000&apiKey=NahcgY5iZpJiLbXPYqZcgV6RatP09HUV\n",
      "https://api.polygon.io/v2/aggs/ticker/APH/range/15/minute/2023-01-01/2023-04-01?adjusted=true&sort=asc&limit=50000&apiKey=NahcgY5iZpJiLbXPYqZcgV6RatP09HUV\n",
      "https://api.polygon.io/v2/aggs/ticker/APH/range/15/minute/2023-04-01/2023-07-01?adjusted=true&sort=asc&limit=50000&apiKey=NahcgY5iZpJiLbXPYqZcgV6RatP09HUV\n",
      "https://api.polygon.io/v2/aggs/ticker/APH/range/15/minute/2023-07-01/2023-10-01?adjusted=true&sort=asc&limit=50000&apiKey=NahcgY5iZpJiLbXPYqZcgV6RatP09HUV\n",
      "https://api.polygon.io/v2/aggs/ticker/APH/range/15/minute/2023-10-01/2024-01-01?adjusted=true&sort=asc&limit=50000&apiKey=NahcgY5iZpJiLbXPYqZcgV6RatP09HUV\n",
      "https://api.polygon.io/v2/aggs/ticker/ADI/range/15/minute/2023-01-01/2023-04-01?adjusted=true&sort=asc&limit=50000&apiKey=NahcgY5iZpJiLbXPYqZcgV6RatP09HUV\n",
      "https://api.polygon.io/v2/aggs/ticker/ADI/range/15/minute/2023-04-01/2023-07-01?adjusted=true&sort=asc&limit=50000&apiKey=NahcgY5iZpJiLbXPYqZcgV6RatP09HUV\n",
      "https://api.polygon.io/v2/aggs/ticker/ADI/range/15/minute/2023-07-01/2023-10-01?adjusted=true&sort=asc&limit=50000&apiKey=NahcgY5iZpJiLbXPYqZcgV6RatP09HUV\n",
      "https://api.polygon.io/v2/aggs/ticker/ADI/range/15/minute/2023-10-01/2024-01-01?adjusted=true&sort=asc&limit=50000&apiKey=NahcgY5iZpJiLbXPYqZcgV6RatP09HUV\n",
      "https://api.polygon.io/v2/aggs/ticker/ANSS/range/15/minute/2023-01-01/2023-04-01?adjusted=true&sort=asc&limit=50000&apiKey=NahcgY5iZpJiLbXPYqZcgV6RatP09HUV\n",
      "https://api.polygon.io/v2/aggs/ticker/ANSS/range/15/minute/2023-04-01/2023-07-01?adjusted=true&sort=asc&limit=50000&apiKey=NahcgY5iZpJiLbXPYqZcgV6RatP09HUV\n",
      "https://api.polygon.io/v2/aggs/ticker/ANSS/range/15/minute/2023-07-01/2023-10-01?adjusted=true&sort=asc&limit=50000&apiKey=NahcgY5iZpJiLbXPYqZcgV6RatP09HUV\n",
      "https://api.polygon.io/v2/aggs/ticker/ANSS/range/15/minute/2023-10-01/2024-01-01?adjusted=true&sort=asc&limit=50000&apiKey=NahcgY5iZpJiLbXPYqZcgV6RatP09HUV\n",
      "https://api.polygon.io/v2/aggs/ticker/AON/range/15/minute/2023-01-01/2023-04-01?adjusted=true&sort=asc&limit=50000&apiKey=NahcgY5iZpJiLbXPYqZcgV6RatP09HUV\n",
      "https://api.polygon.io/v2/aggs/ticker/AON/range/15/minute/2023-04-01/2023-07-01?adjusted=true&sort=asc&limit=50000&apiKey=NahcgY5iZpJiLbXPYqZcgV6RatP09HUV\n",
      "https://api.polygon.io/v2/aggs/ticker/AON/range/15/minute/2023-07-01/2023-10-01?adjusted=true&sort=asc&limit=50000&apiKey=NahcgY5iZpJiLbXPYqZcgV6RatP09HUV\n",
      "https://api.polygon.io/v2/aggs/ticker/AON/range/15/minute/2023-10-01/2024-01-01?adjusted=true&sort=asc&limit=50000&apiKey=NahcgY5iZpJiLbXPYqZcgV6RatP09HUV\n",
      "https://api.polygon.io/v2/aggs/ticker/APA/range/15/minute/2023-01-01/2023-04-01?adjusted=true&sort=asc&limit=50000&apiKey=NahcgY5iZpJiLbXPYqZcgV6RatP09HUV\n",
      "https://api.polygon.io/v2/aggs/ticker/APA/range/15/minute/2023-04-01/2023-07-01?adjusted=true&sort=asc&limit=50000&apiKey=NahcgY5iZpJiLbXPYqZcgV6RatP09HUV\n",
      "https://api.polygon.io/v2/aggs/ticker/APA/range/15/minute/2023-07-01/2023-10-01?adjusted=true&sort=asc&limit=50000&apiKey=NahcgY5iZpJiLbXPYqZcgV6RatP09HUV\n",
      "https://api.polygon.io/v2/aggs/ticker/APA/range/15/minute/2023-10-01/2024-01-01?adjusted=true&sort=asc&limit=50000&apiKey=NahcgY5iZpJiLbXPYqZcgV6RatP09HUV\n",
      "https://api.polygon.io/v2/aggs/ticker/AAPL/range/15/minute/2023-01-01/2023-04-01?adjusted=true&sort=asc&limit=50000&apiKey=NahcgY5iZpJiLbXPYqZcgV6RatP09HUV\n",
      "https://api.polygon.io/v2/aggs/ticker/AAPL/range/15/minute/2023-04-01/2023-07-01?adjusted=true&sort=asc&limit=50000&apiKey=NahcgY5iZpJiLbXPYqZcgV6RatP09HUV\n",
      "https://api.polygon.io/v2/aggs/ticker/AAPL/range/15/minute/2023-07-01/2023-10-01?adjusted=true&sort=asc&limit=50000&apiKey=NahcgY5iZpJiLbXPYqZcgV6RatP09HUV\n"
     ]
    },
    {
     "name": "stdout",
     "output_type": "stream",
     "text": [
      "https://api.polygon.io/v2/aggs/ticker/AAPL/range/15/minute/2023-10-01/2024-01-01?adjusted=true&sort=asc&limit=50000&apiKey=NahcgY5iZpJiLbXPYqZcgV6RatP09HUV\n",
      "https://api.polygon.io/v2/aggs/ticker/AMAT/range/15/minute/2023-01-01/2023-04-01?adjusted=true&sort=asc&limit=50000&apiKey=NahcgY5iZpJiLbXPYqZcgV6RatP09HUV\n",
      "https://api.polygon.io/v2/aggs/ticker/AMAT/range/15/minute/2023-04-01/2023-07-01?adjusted=true&sort=asc&limit=50000&apiKey=NahcgY5iZpJiLbXPYqZcgV6RatP09HUV\n",
      "https://api.polygon.io/v2/aggs/ticker/AMAT/range/15/minute/2023-07-01/2023-10-01?adjusted=true&sort=asc&limit=50000&apiKey=NahcgY5iZpJiLbXPYqZcgV6RatP09HUV\n",
      "https://api.polygon.io/v2/aggs/ticker/AMAT/range/15/minute/2023-10-01/2024-01-01?adjusted=true&sort=asc&limit=50000&apiKey=NahcgY5iZpJiLbXPYqZcgV6RatP09HUV\n",
      "https://api.polygon.io/v2/aggs/ticker/APTV/range/15/minute/2023-01-01/2023-04-01?adjusted=true&sort=asc&limit=50000&apiKey=NahcgY5iZpJiLbXPYqZcgV6RatP09HUV\n",
      "https://api.polygon.io/v2/aggs/ticker/APTV/range/15/minute/2023-04-01/2023-07-01?adjusted=true&sort=asc&limit=50000&apiKey=NahcgY5iZpJiLbXPYqZcgV6RatP09HUV\n",
      "https://api.polygon.io/v2/aggs/ticker/APTV/range/15/minute/2023-07-01/2023-10-01?adjusted=true&sort=asc&limit=50000&apiKey=NahcgY5iZpJiLbXPYqZcgV6RatP09HUV\n",
      "https://api.polygon.io/v2/aggs/ticker/APTV/range/15/minute/2023-10-01/2024-01-01?adjusted=true&sort=asc&limit=50000&apiKey=NahcgY5iZpJiLbXPYqZcgV6RatP09HUV\n",
      "https://api.polygon.io/v2/aggs/ticker/ACGL/range/15/minute/2023-01-01/2023-04-01?adjusted=true&sort=asc&limit=50000&apiKey=NahcgY5iZpJiLbXPYqZcgV6RatP09HUV\n",
      "https://api.polygon.io/v2/aggs/ticker/ACGL/range/15/minute/2023-04-01/2023-07-01?adjusted=true&sort=asc&limit=50000&apiKey=NahcgY5iZpJiLbXPYqZcgV6RatP09HUV\n",
      "https://api.polygon.io/v2/aggs/ticker/ACGL/range/15/minute/2023-07-01/2023-10-01?adjusted=true&sort=asc&limit=50000&apiKey=NahcgY5iZpJiLbXPYqZcgV6RatP09HUV\n",
      "https://api.polygon.io/v2/aggs/ticker/ACGL/range/15/minute/2023-10-01/2024-01-01?adjusted=true&sort=asc&limit=50000&apiKey=NahcgY5iZpJiLbXPYqZcgV6RatP09HUV\n",
      "https://api.polygon.io/v2/aggs/ticker/ADM/range/15/minute/2023-01-01/2023-04-01?adjusted=true&sort=asc&limit=50000&apiKey=NahcgY5iZpJiLbXPYqZcgV6RatP09HUV\n",
      "https://api.polygon.io/v2/aggs/ticker/ADM/range/15/minute/2023-04-01/2023-07-01?adjusted=true&sort=asc&limit=50000&apiKey=NahcgY5iZpJiLbXPYqZcgV6RatP09HUV\n",
      "https://api.polygon.io/v2/aggs/ticker/ADM/range/15/minute/2023-07-01/2023-10-01?adjusted=true&sort=asc&limit=50000&apiKey=NahcgY5iZpJiLbXPYqZcgV6RatP09HUV\n",
      "https://api.polygon.io/v2/aggs/ticker/ADM/range/15/minute/2023-10-01/2024-01-01?adjusted=true&sort=asc&limit=50000&apiKey=NahcgY5iZpJiLbXPYqZcgV6RatP09HUV\n",
      "https://api.polygon.io/v2/aggs/ticker/ANET/range/15/minute/2023-01-01/2023-04-01?adjusted=true&sort=asc&limit=50000&apiKey=NahcgY5iZpJiLbXPYqZcgV6RatP09HUV\n",
      "https://api.polygon.io/v2/aggs/ticker/ANET/range/15/minute/2023-04-01/2023-07-01?adjusted=true&sort=asc&limit=50000&apiKey=NahcgY5iZpJiLbXPYqZcgV6RatP09HUV\n",
      "https://api.polygon.io/v2/aggs/ticker/ANET/range/15/minute/2023-07-01/2023-10-01?adjusted=true&sort=asc&limit=50000&apiKey=NahcgY5iZpJiLbXPYqZcgV6RatP09HUV\n",
      "https://api.polygon.io/v2/aggs/ticker/ANET/range/15/minute/2023-10-01/2024-01-01?adjusted=true&sort=asc&limit=50000&apiKey=NahcgY5iZpJiLbXPYqZcgV6RatP09HUV\n",
      "https://api.polygon.io/v2/aggs/ticker/AJG/range/15/minute/2023-01-01/2023-04-01?adjusted=true&sort=asc&limit=50000&apiKey=NahcgY5iZpJiLbXPYqZcgV6RatP09HUV\n",
      "https://api.polygon.io/v2/aggs/ticker/AJG/range/15/minute/2023-04-01/2023-07-01?adjusted=true&sort=asc&limit=50000&apiKey=NahcgY5iZpJiLbXPYqZcgV6RatP09HUV\n",
      "https://api.polygon.io/v2/aggs/ticker/AJG/range/15/minute/2023-07-01/2023-10-01?adjusted=true&sort=asc&limit=50000&apiKey=NahcgY5iZpJiLbXPYqZcgV6RatP09HUV\n",
      "https://api.polygon.io/v2/aggs/ticker/AJG/range/15/minute/2023-10-01/2024-01-01?adjusted=true&sort=asc&limit=50000&apiKey=NahcgY5iZpJiLbXPYqZcgV6RatP09HUV\n",
      "https://api.polygon.io/v2/aggs/ticker/AIZ/range/15/minute/2023-01-01/2023-04-01?adjusted=true&sort=asc&limit=50000&apiKey=NahcgY5iZpJiLbXPYqZcgV6RatP09HUV\n",
      "https://api.polygon.io/v2/aggs/ticker/AIZ/range/15/minute/2023-04-01/2023-07-01?adjusted=true&sort=asc&limit=50000&apiKey=NahcgY5iZpJiLbXPYqZcgV6RatP09HUV\n",
      "https://api.polygon.io/v2/aggs/ticker/AIZ/range/15/minute/2023-07-01/2023-10-01?adjusted=true&sort=asc&limit=50000&apiKey=NahcgY5iZpJiLbXPYqZcgV6RatP09HUV\n",
      "https://api.polygon.io/v2/aggs/ticker/AIZ/range/15/minute/2023-10-01/2024-01-01?adjusted=true&sort=asc&limit=50000&apiKey=NahcgY5iZpJiLbXPYqZcgV6RatP09HUV\n",
      "https://api.polygon.io/v2/aggs/ticker/T/range/15/minute/2023-01-01/2023-04-01?adjusted=true&sort=asc&limit=50000&apiKey=NahcgY5iZpJiLbXPYqZcgV6RatP09HUV\n",
      "https://api.polygon.io/v2/aggs/ticker/T/range/15/minute/2023-04-01/2023-07-01?adjusted=true&sort=asc&limit=50000&apiKey=NahcgY5iZpJiLbXPYqZcgV6RatP09HUV\n",
      "https://api.polygon.io/v2/aggs/ticker/T/range/15/minute/2023-07-01/2023-10-01?adjusted=true&sort=asc&limit=50000&apiKey=NahcgY5iZpJiLbXPYqZcgV6RatP09HUV\n",
      "https://api.polygon.io/v2/aggs/ticker/T/range/15/minute/2023-10-01/2024-01-01?adjusted=true&sort=asc&limit=50000&apiKey=NahcgY5iZpJiLbXPYqZcgV6RatP09HUV\n",
      "https://api.polygon.io/v2/aggs/ticker/ATO/range/15/minute/2023-01-01/2023-04-01?adjusted=true&sort=asc&limit=50000&apiKey=NahcgY5iZpJiLbXPYqZcgV6RatP09HUV\n",
      "https://api.polygon.io/v2/aggs/ticker/ATO/range/15/minute/2023-04-01/2023-07-01?adjusted=true&sort=asc&limit=50000&apiKey=NahcgY5iZpJiLbXPYqZcgV6RatP09HUV\n",
      "https://api.polygon.io/v2/aggs/ticker/ATO/range/15/minute/2023-07-01/2023-10-01?adjusted=true&sort=asc&limit=50000&apiKey=NahcgY5iZpJiLbXPYqZcgV6RatP09HUV\n",
      "https://api.polygon.io/v2/aggs/ticker/ATO/range/15/minute/2023-10-01/2024-01-01?adjusted=true&sort=asc&limit=50000&apiKey=NahcgY5iZpJiLbXPYqZcgV6RatP09HUV\n",
      "https://api.polygon.io/v2/aggs/ticker/ADSK/range/15/minute/2023-01-01/2023-04-01?adjusted=true&sort=asc&limit=50000&apiKey=NahcgY5iZpJiLbXPYqZcgV6RatP09HUV\n",
      "https://api.polygon.io/v2/aggs/ticker/ADSK/range/15/minute/2023-04-01/2023-07-01?adjusted=true&sort=asc&limit=50000&apiKey=NahcgY5iZpJiLbXPYqZcgV6RatP09HUV\n",
      "https://api.polygon.io/v2/aggs/ticker/ADSK/range/15/minute/2023-07-01/2023-10-01?adjusted=true&sort=asc&limit=50000&apiKey=NahcgY5iZpJiLbXPYqZcgV6RatP09HUV\n",
      "https://api.polygon.io/v2/aggs/ticker/ADSK/range/15/minute/2023-10-01/2024-01-01?adjusted=true&sort=asc&limit=50000&apiKey=NahcgY5iZpJiLbXPYqZcgV6RatP09HUV\n",
      "https://api.polygon.io/v2/aggs/ticker/ADP/range/15/minute/2023-01-01/2023-04-01?adjusted=true&sort=asc&limit=50000&apiKey=NahcgY5iZpJiLbXPYqZcgV6RatP09HUV\n",
      "https://api.polygon.io/v2/aggs/ticker/ADP/range/15/minute/2023-04-01/2023-07-01?adjusted=true&sort=asc&limit=50000&apiKey=NahcgY5iZpJiLbXPYqZcgV6RatP09HUV\n",
      "https://api.polygon.io/v2/aggs/ticker/ADP/range/15/minute/2023-07-01/2023-10-01?adjusted=true&sort=asc&limit=50000&apiKey=NahcgY5iZpJiLbXPYqZcgV6RatP09HUV\n",
      "https://api.polygon.io/v2/aggs/ticker/ADP/range/15/minute/2023-10-01/2024-01-01?adjusted=true&sort=asc&limit=50000&apiKey=NahcgY5iZpJiLbXPYqZcgV6RatP09HUV\n",
      "https://api.polygon.io/v2/aggs/ticker/AZO/range/15/minute/2023-01-01/2023-04-01?adjusted=true&sort=asc&limit=50000&apiKey=NahcgY5iZpJiLbXPYqZcgV6RatP09HUV\n",
      "https://api.polygon.io/v2/aggs/ticker/AZO/range/15/minute/2023-04-01/2023-07-01?adjusted=true&sort=asc&limit=50000&apiKey=NahcgY5iZpJiLbXPYqZcgV6RatP09HUV\n",
      "https://api.polygon.io/v2/aggs/ticker/AZO/range/15/minute/2023-07-01/2023-10-01?adjusted=true&sort=asc&limit=50000&apiKey=NahcgY5iZpJiLbXPYqZcgV6RatP09HUV\n",
      "https://api.polygon.io/v2/aggs/ticker/AZO/range/15/minute/2023-10-01/2024-01-01?adjusted=true&sort=asc&limit=50000&apiKey=NahcgY5iZpJiLbXPYqZcgV6RatP09HUV\n",
      "https://api.polygon.io/v2/aggs/ticker/AVB/range/15/minute/2023-01-01/2023-04-01?adjusted=true&sort=asc&limit=50000&apiKey=NahcgY5iZpJiLbXPYqZcgV6RatP09HUV\n",
      "https://api.polygon.io/v2/aggs/ticker/AVB/range/15/minute/2023-04-01/2023-07-01?adjusted=true&sort=asc&limit=50000&apiKey=NahcgY5iZpJiLbXPYqZcgV6RatP09HUV\n",
      "https://api.polygon.io/v2/aggs/ticker/AVB/range/15/minute/2023-07-01/2023-10-01?adjusted=true&sort=asc&limit=50000&apiKey=NahcgY5iZpJiLbXPYqZcgV6RatP09HUV\n",
      "https://api.polygon.io/v2/aggs/ticker/AVB/range/15/minute/2023-10-01/2024-01-01?adjusted=true&sort=asc&limit=50000&apiKey=NahcgY5iZpJiLbXPYqZcgV6RatP09HUV\n"
     ]
    },
    {
     "name": "stdout",
     "output_type": "stream",
     "text": [
      "https://api.polygon.io/v2/aggs/ticker/AVY/range/15/minute/2023-01-01/2023-04-01?adjusted=true&sort=asc&limit=50000&apiKey=NahcgY5iZpJiLbXPYqZcgV6RatP09HUV\n",
      "https://api.polygon.io/v2/aggs/ticker/AVY/range/15/minute/2023-04-01/2023-07-01?adjusted=true&sort=asc&limit=50000&apiKey=NahcgY5iZpJiLbXPYqZcgV6RatP09HUV\n",
      "https://api.polygon.io/v2/aggs/ticker/AVY/range/15/minute/2023-07-01/2023-10-01?adjusted=true&sort=asc&limit=50000&apiKey=NahcgY5iZpJiLbXPYqZcgV6RatP09HUV\n",
      "https://api.polygon.io/v2/aggs/ticker/AVY/range/15/minute/2023-10-01/2024-01-01?adjusted=true&sort=asc&limit=50000&apiKey=NahcgY5iZpJiLbXPYqZcgV6RatP09HUV\n",
      "https://api.polygon.io/v2/aggs/ticker/AXON/range/15/minute/2023-01-01/2023-04-01?adjusted=true&sort=asc&limit=50000&apiKey=NahcgY5iZpJiLbXPYqZcgV6RatP09HUV\n",
      "https://api.polygon.io/v2/aggs/ticker/AXON/range/15/minute/2023-04-01/2023-07-01?adjusted=true&sort=asc&limit=50000&apiKey=NahcgY5iZpJiLbXPYqZcgV6RatP09HUV\n",
      "https://api.polygon.io/v2/aggs/ticker/AXON/range/15/minute/2023-07-01/2023-10-01?adjusted=true&sort=asc&limit=50000&apiKey=NahcgY5iZpJiLbXPYqZcgV6RatP09HUV\n",
      "https://api.polygon.io/v2/aggs/ticker/AXON/range/15/minute/2023-10-01/2024-01-01?adjusted=true&sort=asc&limit=50000&apiKey=NahcgY5iZpJiLbXPYqZcgV6RatP09HUV\n",
      "https://api.polygon.io/v2/aggs/ticker/BKR/range/15/minute/2023-01-01/2023-04-01?adjusted=true&sort=asc&limit=50000&apiKey=NahcgY5iZpJiLbXPYqZcgV6RatP09HUV\n",
      "https://api.polygon.io/v2/aggs/ticker/BKR/range/15/minute/2023-04-01/2023-07-01?adjusted=true&sort=asc&limit=50000&apiKey=NahcgY5iZpJiLbXPYqZcgV6RatP09HUV\n",
      "https://api.polygon.io/v2/aggs/ticker/BKR/range/15/minute/2023-07-01/2023-10-01?adjusted=true&sort=asc&limit=50000&apiKey=NahcgY5iZpJiLbXPYqZcgV6RatP09HUV\n",
      "https://api.polygon.io/v2/aggs/ticker/BKR/range/15/minute/2023-10-01/2024-01-01?adjusted=true&sort=asc&limit=50000&apiKey=NahcgY5iZpJiLbXPYqZcgV6RatP09HUV\n",
      "https://api.polygon.io/v2/aggs/ticker/BALL/range/15/minute/2023-01-01/2023-04-01?adjusted=true&sort=asc&limit=50000&apiKey=NahcgY5iZpJiLbXPYqZcgV6RatP09HUV\n",
      "https://api.polygon.io/v2/aggs/ticker/BALL/range/15/minute/2023-04-01/2023-07-01?adjusted=true&sort=asc&limit=50000&apiKey=NahcgY5iZpJiLbXPYqZcgV6RatP09HUV\n",
      "https://api.polygon.io/v2/aggs/ticker/BALL/range/15/minute/2023-07-01/2023-10-01?adjusted=true&sort=asc&limit=50000&apiKey=NahcgY5iZpJiLbXPYqZcgV6RatP09HUV\n",
      "https://api.polygon.io/v2/aggs/ticker/BALL/range/15/minute/2023-10-01/2024-01-01?adjusted=true&sort=asc&limit=50000&apiKey=NahcgY5iZpJiLbXPYqZcgV6RatP09HUV\n",
      "https://api.polygon.io/v2/aggs/ticker/BAC/range/15/minute/2023-01-01/2023-04-01?adjusted=true&sort=asc&limit=50000&apiKey=NahcgY5iZpJiLbXPYqZcgV6RatP09HUV\n",
      "https://api.polygon.io/v2/aggs/ticker/BAC/range/15/minute/2023-04-01/2023-07-01?adjusted=true&sort=asc&limit=50000&apiKey=NahcgY5iZpJiLbXPYqZcgV6RatP09HUV\n",
      "https://api.polygon.io/v2/aggs/ticker/BAC/range/15/minute/2023-07-01/2023-10-01?adjusted=true&sort=asc&limit=50000&apiKey=NahcgY5iZpJiLbXPYqZcgV6RatP09HUV\n",
      "https://api.polygon.io/v2/aggs/ticker/BAC/range/15/minute/2023-10-01/2024-01-01?adjusted=true&sort=asc&limit=50000&apiKey=NahcgY5iZpJiLbXPYqZcgV6RatP09HUV\n",
      "https://api.polygon.io/v2/aggs/ticker/BK/range/15/minute/2023-01-01/2023-04-01?adjusted=true&sort=asc&limit=50000&apiKey=NahcgY5iZpJiLbXPYqZcgV6RatP09HUV\n",
      "https://api.polygon.io/v2/aggs/ticker/BK/range/15/minute/2023-04-01/2023-07-01?adjusted=true&sort=asc&limit=50000&apiKey=NahcgY5iZpJiLbXPYqZcgV6RatP09HUV\n",
      "https://api.polygon.io/v2/aggs/ticker/BK/range/15/minute/2023-07-01/2023-10-01?adjusted=true&sort=asc&limit=50000&apiKey=NahcgY5iZpJiLbXPYqZcgV6RatP09HUV\n",
      "https://api.polygon.io/v2/aggs/ticker/BK/range/15/minute/2023-10-01/2024-01-01?adjusted=true&sort=asc&limit=50000&apiKey=NahcgY5iZpJiLbXPYqZcgV6RatP09HUV\n",
      "https://api.polygon.io/v2/aggs/ticker/BBWI/range/15/minute/2023-01-01/2023-04-01?adjusted=true&sort=asc&limit=50000&apiKey=NahcgY5iZpJiLbXPYqZcgV6RatP09HUV\n",
      "https://api.polygon.io/v2/aggs/ticker/BBWI/range/15/minute/2023-04-01/2023-07-01?adjusted=true&sort=asc&limit=50000&apiKey=NahcgY5iZpJiLbXPYqZcgV6RatP09HUV\n",
      "https://api.polygon.io/v2/aggs/ticker/BBWI/range/15/minute/2023-07-01/2023-10-01?adjusted=true&sort=asc&limit=50000&apiKey=NahcgY5iZpJiLbXPYqZcgV6RatP09HUV\n",
      "https://api.polygon.io/v2/aggs/ticker/BBWI/range/15/minute/2023-10-01/2024-01-01?adjusted=true&sort=asc&limit=50000&apiKey=NahcgY5iZpJiLbXPYqZcgV6RatP09HUV\n",
      "https://api.polygon.io/v2/aggs/ticker/BAX/range/15/minute/2023-01-01/2023-04-01?adjusted=true&sort=asc&limit=50000&apiKey=NahcgY5iZpJiLbXPYqZcgV6RatP09HUV\n",
      "https://api.polygon.io/v2/aggs/ticker/BAX/range/15/minute/2023-04-01/2023-07-01?adjusted=true&sort=asc&limit=50000&apiKey=NahcgY5iZpJiLbXPYqZcgV6RatP09HUV\n",
      "https://api.polygon.io/v2/aggs/ticker/BAX/range/15/minute/2023-07-01/2023-10-01?adjusted=true&sort=asc&limit=50000&apiKey=NahcgY5iZpJiLbXPYqZcgV6RatP09HUV\n",
      "https://api.polygon.io/v2/aggs/ticker/BAX/range/15/minute/2023-10-01/2024-01-01?adjusted=true&sort=asc&limit=50000&apiKey=NahcgY5iZpJiLbXPYqZcgV6RatP09HUV\n",
      "https://api.polygon.io/v2/aggs/ticker/BDX/range/15/minute/2023-01-01/2023-04-01?adjusted=true&sort=asc&limit=50000&apiKey=NahcgY5iZpJiLbXPYqZcgV6RatP09HUV\n",
      "https://api.polygon.io/v2/aggs/ticker/BDX/range/15/minute/2023-04-01/2023-07-01?adjusted=true&sort=asc&limit=50000&apiKey=NahcgY5iZpJiLbXPYqZcgV6RatP09HUV\n",
      "https://api.polygon.io/v2/aggs/ticker/BDX/range/15/minute/2023-07-01/2023-10-01?adjusted=true&sort=asc&limit=50000&apiKey=NahcgY5iZpJiLbXPYqZcgV6RatP09HUV\n",
      "https://api.polygon.io/v2/aggs/ticker/BDX/range/15/minute/2023-10-01/2024-01-01?adjusted=true&sort=asc&limit=50000&apiKey=NahcgY5iZpJiLbXPYqZcgV6RatP09HUV\n",
      "https://api.polygon.io/v2/aggs/ticker/BRK.B/range/15/minute/2023-01-01/2023-04-01?adjusted=true&sort=asc&limit=50000&apiKey=NahcgY5iZpJiLbXPYqZcgV6RatP09HUV\n",
      "https://api.polygon.io/v2/aggs/ticker/BRK.B/range/15/minute/2023-04-01/2023-07-01?adjusted=true&sort=asc&limit=50000&apiKey=NahcgY5iZpJiLbXPYqZcgV6RatP09HUV\n",
      "https://api.polygon.io/v2/aggs/ticker/BRK.B/range/15/minute/2023-07-01/2023-10-01?adjusted=true&sort=asc&limit=50000&apiKey=NahcgY5iZpJiLbXPYqZcgV6RatP09HUV\n",
      "https://api.polygon.io/v2/aggs/ticker/BRK.B/range/15/minute/2023-10-01/2024-01-01?adjusted=true&sort=asc&limit=50000&apiKey=NahcgY5iZpJiLbXPYqZcgV6RatP09HUV\n",
      "https://api.polygon.io/v2/aggs/ticker/BBY/range/15/minute/2023-01-01/2023-04-01?adjusted=true&sort=asc&limit=50000&apiKey=NahcgY5iZpJiLbXPYqZcgV6RatP09HUV\n",
      "https://api.polygon.io/v2/aggs/ticker/BBY/range/15/minute/2023-04-01/2023-07-01?adjusted=true&sort=asc&limit=50000&apiKey=NahcgY5iZpJiLbXPYqZcgV6RatP09HUV\n",
      "https://api.polygon.io/v2/aggs/ticker/BBY/range/15/minute/2023-07-01/2023-10-01?adjusted=true&sort=asc&limit=50000&apiKey=NahcgY5iZpJiLbXPYqZcgV6RatP09HUV\n",
      "https://api.polygon.io/v2/aggs/ticker/BBY/range/15/minute/2023-10-01/2024-01-01?adjusted=true&sort=asc&limit=50000&apiKey=NahcgY5iZpJiLbXPYqZcgV6RatP09HUV\n",
      "https://api.polygon.io/v2/aggs/ticker/BIO/range/15/minute/2023-01-01/2023-04-01?adjusted=true&sort=asc&limit=50000&apiKey=NahcgY5iZpJiLbXPYqZcgV6RatP09HUV\n",
      "https://api.polygon.io/v2/aggs/ticker/BIO/range/15/minute/2023-04-01/2023-07-01?adjusted=true&sort=asc&limit=50000&apiKey=NahcgY5iZpJiLbXPYqZcgV6RatP09HUV\n",
      "https://api.polygon.io/v2/aggs/ticker/BIO/range/15/minute/2023-07-01/2023-10-01?adjusted=true&sort=asc&limit=50000&apiKey=NahcgY5iZpJiLbXPYqZcgV6RatP09HUV\n",
      "https://api.polygon.io/v2/aggs/ticker/BIO/range/15/minute/2023-10-01/2024-01-01?adjusted=true&sort=asc&limit=50000&apiKey=NahcgY5iZpJiLbXPYqZcgV6RatP09HUV\n",
      "https://api.polygon.io/v2/aggs/ticker/TECH/range/15/minute/2023-01-01/2023-04-01?adjusted=true&sort=asc&limit=50000&apiKey=NahcgY5iZpJiLbXPYqZcgV6RatP09HUV\n",
      "https://api.polygon.io/v2/aggs/ticker/TECH/range/15/minute/2023-04-01/2023-07-01?adjusted=true&sort=asc&limit=50000&apiKey=NahcgY5iZpJiLbXPYqZcgV6RatP09HUV\n",
      "https://api.polygon.io/v2/aggs/ticker/TECH/range/15/minute/2023-07-01/2023-10-01?adjusted=true&sort=asc&limit=50000&apiKey=NahcgY5iZpJiLbXPYqZcgV6RatP09HUV\n",
      "https://api.polygon.io/v2/aggs/ticker/TECH/range/15/minute/2023-10-01/2024-01-01?adjusted=true&sort=asc&limit=50000&apiKey=NahcgY5iZpJiLbXPYqZcgV6RatP09HUV\n",
      "https://api.polygon.io/v2/aggs/ticker/BIIB/range/15/minute/2023-01-01/2023-04-01?adjusted=true&sort=asc&limit=50000&apiKey=NahcgY5iZpJiLbXPYqZcgV6RatP09HUV\n"
     ]
    },
    {
     "name": "stdout",
     "output_type": "stream",
     "text": [
      "https://api.polygon.io/v2/aggs/ticker/BIIB/range/15/minute/2023-04-01/2023-07-01?adjusted=true&sort=asc&limit=50000&apiKey=NahcgY5iZpJiLbXPYqZcgV6RatP09HUV\n",
      "https://api.polygon.io/v2/aggs/ticker/BIIB/range/15/minute/2023-07-01/2023-10-01?adjusted=true&sort=asc&limit=50000&apiKey=NahcgY5iZpJiLbXPYqZcgV6RatP09HUV\n",
      "https://api.polygon.io/v2/aggs/ticker/BIIB/range/15/minute/2023-10-01/2024-01-01?adjusted=true&sort=asc&limit=50000&apiKey=NahcgY5iZpJiLbXPYqZcgV6RatP09HUV\n",
      "https://api.polygon.io/v2/aggs/ticker/BLK/range/15/minute/2023-01-01/2023-04-01?adjusted=true&sort=asc&limit=50000&apiKey=NahcgY5iZpJiLbXPYqZcgV6RatP09HUV\n",
      "https://api.polygon.io/v2/aggs/ticker/BLK/range/15/minute/2023-04-01/2023-07-01?adjusted=true&sort=asc&limit=50000&apiKey=NahcgY5iZpJiLbXPYqZcgV6RatP09HUV\n",
      "https://api.polygon.io/v2/aggs/ticker/BLK/range/15/minute/2023-07-01/2023-10-01?adjusted=true&sort=asc&limit=50000&apiKey=NahcgY5iZpJiLbXPYqZcgV6RatP09HUV\n",
      "https://api.polygon.io/v2/aggs/ticker/BLK/range/15/minute/2023-10-01/2024-01-01?adjusted=true&sort=asc&limit=50000&apiKey=NahcgY5iZpJiLbXPYqZcgV6RatP09HUV\n",
      "https://api.polygon.io/v2/aggs/ticker/BX/range/15/minute/2023-01-01/2023-04-01?adjusted=true&sort=asc&limit=50000&apiKey=NahcgY5iZpJiLbXPYqZcgV6RatP09HUV\n",
      "https://api.polygon.io/v2/aggs/ticker/BX/range/15/minute/2023-04-01/2023-07-01?adjusted=true&sort=asc&limit=50000&apiKey=NahcgY5iZpJiLbXPYqZcgV6RatP09HUV\n",
      "https://api.polygon.io/v2/aggs/ticker/BX/range/15/minute/2023-07-01/2023-10-01?adjusted=true&sort=asc&limit=50000&apiKey=NahcgY5iZpJiLbXPYqZcgV6RatP09HUV\n",
      "https://api.polygon.io/v2/aggs/ticker/BX/range/15/minute/2023-10-01/2024-01-01?adjusted=true&sort=asc&limit=50000&apiKey=NahcgY5iZpJiLbXPYqZcgV6RatP09HUV\n",
      "https://api.polygon.io/v2/aggs/ticker/BA/range/15/minute/2023-01-01/2023-04-01?adjusted=true&sort=asc&limit=50000&apiKey=NahcgY5iZpJiLbXPYqZcgV6RatP09HUV\n",
      "https://api.polygon.io/v2/aggs/ticker/BA/range/15/minute/2023-04-01/2023-07-01?adjusted=true&sort=asc&limit=50000&apiKey=NahcgY5iZpJiLbXPYqZcgV6RatP09HUV\n",
      "https://api.polygon.io/v2/aggs/ticker/BA/range/15/minute/2023-07-01/2023-10-01?adjusted=true&sort=asc&limit=50000&apiKey=NahcgY5iZpJiLbXPYqZcgV6RatP09HUV\n",
      "https://api.polygon.io/v2/aggs/ticker/BA/range/15/minute/2023-10-01/2024-01-01?adjusted=true&sort=asc&limit=50000&apiKey=NahcgY5iZpJiLbXPYqZcgV6RatP09HUV\n",
      "https://api.polygon.io/v2/aggs/ticker/BKNG/range/15/minute/2023-01-01/2023-04-01?adjusted=true&sort=asc&limit=50000&apiKey=NahcgY5iZpJiLbXPYqZcgV6RatP09HUV\n",
      "https://api.polygon.io/v2/aggs/ticker/BKNG/range/15/minute/2023-04-01/2023-07-01?adjusted=true&sort=asc&limit=50000&apiKey=NahcgY5iZpJiLbXPYqZcgV6RatP09HUV\n",
      "https://api.polygon.io/v2/aggs/ticker/BKNG/range/15/minute/2023-07-01/2023-10-01?adjusted=true&sort=asc&limit=50000&apiKey=NahcgY5iZpJiLbXPYqZcgV6RatP09HUV\n",
      "https://api.polygon.io/v2/aggs/ticker/BKNG/range/15/minute/2023-10-01/2024-01-01?adjusted=true&sort=asc&limit=50000&apiKey=NahcgY5iZpJiLbXPYqZcgV6RatP09HUV\n",
      "https://api.polygon.io/v2/aggs/ticker/BWA/range/15/minute/2023-01-01/2023-04-01?adjusted=true&sort=asc&limit=50000&apiKey=NahcgY5iZpJiLbXPYqZcgV6RatP09HUV\n",
      "https://api.polygon.io/v2/aggs/ticker/BWA/range/15/minute/2023-04-01/2023-07-01?adjusted=true&sort=asc&limit=50000&apiKey=NahcgY5iZpJiLbXPYqZcgV6RatP09HUV\n",
      "https://api.polygon.io/v2/aggs/ticker/BWA/range/15/minute/2023-07-01/2023-10-01?adjusted=true&sort=asc&limit=50000&apiKey=NahcgY5iZpJiLbXPYqZcgV6RatP09HUV\n",
      "https://api.polygon.io/v2/aggs/ticker/BWA/range/15/minute/2023-10-01/2024-01-01?adjusted=true&sort=asc&limit=50000&apiKey=NahcgY5iZpJiLbXPYqZcgV6RatP09HUV\n",
      "https://api.polygon.io/v2/aggs/ticker/BXP/range/15/minute/2023-01-01/2023-04-01?adjusted=true&sort=asc&limit=50000&apiKey=NahcgY5iZpJiLbXPYqZcgV6RatP09HUV\n",
      "https://api.polygon.io/v2/aggs/ticker/BXP/range/15/minute/2023-04-01/2023-07-01?adjusted=true&sort=asc&limit=50000&apiKey=NahcgY5iZpJiLbXPYqZcgV6RatP09HUV\n",
      "https://api.polygon.io/v2/aggs/ticker/BXP/range/15/minute/2023-07-01/2023-10-01?adjusted=true&sort=asc&limit=50000&apiKey=NahcgY5iZpJiLbXPYqZcgV6RatP09HUV\n",
      "https://api.polygon.io/v2/aggs/ticker/BXP/range/15/minute/2023-10-01/2024-01-01?adjusted=true&sort=asc&limit=50000&apiKey=NahcgY5iZpJiLbXPYqZcgV6RatP09HUV\n",
      "https://api.polygon.io/v2/aggs/ticker/BSX/range/15/minute/2023-01-01/2023-04-01?adjusted=true&sort=asc&limit=50000&apiKey=NahcgY5iZpJiLbXPYqZcgV6RatP09HUV\n",
      "https://api.polygon.io/v2/aggs/ticker/BSX/range/15/minute/2023-04-01/2023-07-01?adjusted=true&sort=asc&limit=50000&apiKey=NahcgY5iZpJiLbXPYqZcgV6RatP09HUV\n",
      "https://api.polygon.io/v2/aggs/ticker/BSX/range/15/minute/2023-07-01/2023-10-01?adjusted=true&sort=asc&limit=50000&apiKey=NahcgY5iZpJiLbXPYqZcgV6RatP09HUV\n",
      "https://api.polygon.io/v2/aggs/ticker/BSX/range/15/minute/2023-10-01/2024-01-01?adjusted=true&sort=asc&limit=50000&apiKey=NahcgY5iZpJiLbXPYqZcgV6RatP09HUV\n",
      "https://api.polygon.io/v2/aggs/ticker/BMY/range/15/minute/2023-01-01/2023-04-01?adjusted=true&sort=asc&limit=50000&apiKey=NahcgY5iZpJiLbXPYqZcgV6RatP09HUV\n",
      "https://api.polygon.io/v2/aggs/ticker/BMY/range/15/minute/2023-04-01/2023-07-01?adjusted=true&sort=asc&limit=50000&apiKey=NahcgY5iZpJiLbXPYqZcgV6RatP09HUV\n",
      "https://api.polygon.io/v2/aggs/ticker/BMY/range/15/minute/2023-07-01/2023-10-01?adjusted=true&sort=asc&limit=50000&apiKey=NahcgY5iZpJiLbXPYqZcgV6RatP09HUV\n",
      "https://api.polygon.io/v2/aggs/ticker/BMY/range/15/minute/2023-10-01/2024-01-01?adjusted=true&sort=asc&limit=50000&apiKey=NahcgY5iZpJiLbXPYqZcgV6RatP09HUV\n",
      "https://api.polygon.io/v2/aggs/ticker/AVGO/range/15/minute/2023-01-01/2023-04-01?adjusted=true&sort=asc&limit=50000&apiKey=NahcgY5iZpJiLbXPYqZcgV6RatP09HUV\n",
      "https://api.polygon.io/v2/aggs/ticker/AVGO/range/15/minute/2023-04-01/2023-07-01?adjusted=true&sort=asc&limit=50000&apiKey=NahcgY5iZpJiLbXPYqZcgV6RatP09HUV\n",
      "https://api.polygon.io/v2/aggs/ticker/AVGO/range/15/minute/2023-07-01/2023-10-01?adjusted=true&sort=asc&limit=50000&apiKey=NahcgY5iZpJiLbXPYqZcgV6RatP09HUV\n",
      "https://api.polygon.io/v2/aggs/ticker/AVGO/range/15/minute/2023-10-01/2024-01-01?adjusted=true&sort=asc&limit=50000&apiKey=NahcgY5iZpJiLbXPYqZcgV6RatP09HUV\n",
      "https://api.polygon.io/v2/aggs/ticker/BR/range/15/minute/2023-01-01/2023-04-01?adjusted=true&sort=asc&limit=50000&apiKey=NahcgY5iZpJiLbXPYqZcgV6RatP09HUV\n",
      "https://api.polygon.io/v2/aggs/ticker/BR/range/15/minute/2023-04-01/2023-07-01?adjusted=true&sort=asc&limit=50000&apiKey=NahcgY5iZpJiLbXPYqZcgV6RatP09HUV\n",
      "https://api.polygon.io/v2/aggs/ticker/BR/range/15/minute/2023-07-01/2023-10-01?adjusted=true&sort=asc&limit=50000&apiKey=NahcgY5iZpJiLbXPYqZcgV6RatP09HUV\n",
      "https://api.polygon.io/v2/aggs/ticker/BR/range/15/minute/2023-10-01/2024-01-01?adjusted=true&sort=asc&limit=50000&apiKey=NahcgY5iZpJiLbXPYqZcgV6RatP09HUV\n",
      "https://api.polygon.io/v2/aggs/ticker/BRO/range/15/minute/2023-01-01/2023-04-01?adjusted=true&sort=asc&limit=50000&apiKey=NahcgY5iZpJiLbXPYqZcgV6RatP09HUV\n",
      "https://api.polygon.io/v2/aggs/ticker/BRO/range/15/minute/2023-04-01/2023-07-01?adjusted=true&sort=asc&limit=50000&apiKey=NahcgY5iZpJiLbXPYqZcgV6RatP09HUV\n",
      "https://api.polygon.io/v2/aggs/ticker/BRO/range/15/minute/2023-07-01/2023-10-01?adjusted=true&sort=asc&limit=50000&apiKey=NahcgY5iZpJiLbXPYqZcgV6RatP09HUV\n",
      "https://api.polygon.io/v2/aggs/ticker/BRO/range/15/minute/2023-10-01/2024-01-01?adjusted=true&sort=asc&limit=50000&apiKey=NahcgY5iZpJiLbXPYqZcgV6RatP09HUV\n",
      "https://api.polygon.io/v2/aggs/ticker/BF.B/range/15/minute/2023-01-01/2023-04-01?adjusted=true&sort=asc&limit=50000&apiKey=NahcgY5iZpJiLbXPYqZcgV6RatP09HUV\n",
      "https://api.polygon.io/v2/aggs/ticker/BF.B/range/15/minute/2023-04-01/2023-07-01?adjusted=true&sort=asc&limit=50000&apiKey=NahcgY5iZpJiLbXPYqZcgV6RatP09HUV\n",
      "https://api.polygon.io/v2/aggs/ticker/BF.B/range/15/minute/2023-07-01/2023-10-01?adjusted=true&sort=asc&limit=50000&apiKey=NahcgY5iZpJiLbXPYqZcgV6RatP09HUV\n",
      "https://api.polygon.io/v2/aggs/ticker/BF.B/range/15/minute/2023-10-01/2024-01-01?adjusted=true&sort=asc&limit=50000&apiKey=NahcgY5iZpJiLbXPYqZcgV6RatP09HUV\n",
      "https://api.polygon.io/v2/aggs/ticker/BLDR/range/15/minute/2023-01-01/2023-04-01?adjusted=true&sort=asc&limit=50000&apiKey=NahcgY5iZpJiLbXPYqZcgV6RatP09HUV\n",
      "https://api.polygon.io/v2/aggs/ticker/BLDR/range/15/minute/2023-04-01/2023-07-01?adjusted=true&sort=asc&limit=50000&apiKey=NahcgY5iZpJiLbXPYqZcgV6RatP09HUV\n"
     ]
    },
    {
     "name": "stdout",
     "output_type": "stream",
     "text": [
      "https://api.polygon.io/v2/aggs/ticker/BLDR/range/15/minute/2023-07-01/2023-10-01?adjusted=true&sort=asc&limit=50000&apiKey=NahcgY5iZpJiLbXPYqZcgV6RatP09HUV\n",
      "https://api.polygon.io/v2/aggs/ticker/BLDR/range/15/minute/2023-10-01/2024-01-01?adjusted=true&sort=asc&limit=50000&apiKey=NahcgY5iZpJiLbXPYqZcgV6RatP09HUV\n",
      "https://api.polygon.io/v2/aggs/ticker/BG/range/15/minute/2023-01-01/2023-04-01?adjusted=true&sort=asc&limit=50000&apiKey=NahcgY5iZpJiLbXPYqZcgV6RatP09HUV\n",
      "https://api.polygon.io/v2/aggs/ticker/BG/range/15/minute/2023-04-01/2023-07-01?adjusted=true&sort=asc&limit=50000&apiKey=NahcgY5iZpJiLbXPYqZcgV6RatP09HUV\n",
      "https://api.polygon.io/v2/aggs/ticker/BG/range/15/minute/2023-07-01/2023-10-01?adjusted=true&sort=asc&limit=50000&apiKey=NahcgY5iZpJiLbXPYqZcgV6RatP09HUV\n",
      "https://api.polygon.io/v2/aggs/ticker/BG/range/15/minute/2023-10-01/2024-01-01?adjusted=true&sort=asc&limit=50000&apiKey=NahcgY5iZpJiLbXPYqZcgV6RatP09HUV\n",
      "https://api.polygon.io/v2/aggs/ticker/CDNS/range/15/minute/2023-01-01/2023-04-01?adjusted=true&sort=asc&limit=50000&apiKey=NahcgY5iZpJiLbXPYqZcgV6RatP09HUV\n",
      "https://api.polygon.io/v2/aggs/ticker/CDNS/range/15/minute/2023-04-01/2023-07-01?adjusted=true&sort=asc&limit=50000&apiKey=NahcgY5iZpJiLbXPYqZcgV6RatP09HUV\n",
      "https://api.polygon.io/v2/aggs/ticker/CDNS/range/15/minute/2023-07-01/2023-10-01?adjusted=true&sort=asc&limit=50000&apiKey=NahcgY5iZpJiLbXPYqZcgV6RatP09HUV\n",
      "https://api.polygon.io/v2/aggs/ticker/CDNS/range/15/minute/2023-10-01/2024-01-01?adjusted=true&sort=asc&limit=50000&apiKey=NahcgY5iZpJiLbXPYqZcgV6RatP09HUV\n",
      "https://api.polygon.io/v2/aggs/ticker/CZR/range/15/minute/2023-01-01/2023-04-01?adjusted=true&sort=asc&limit=50000&apiKey=NahcgY5iZpJiLbXPYqZcgV6RatP09HUV\n",
      "https://api.polygon.io/v2/aggs/ticker/CZR/range/15/minute/2023-04-01/2023-07-01?adjusted=true&sort=asc&limit=50000&apiKey=NahcgY5iZpJiLbXPYqZcgV6RatP09HUV\n",
      "https://api.polygon.io/v2/aggs/ticker/CZR/range/15/minute/2023-07-01/2023-10-01?adjusted=true&sort=asc&limit=50000&apiKey=NahcgY5iZpJiLbXPYqZcgV6RatP09HUV\n",
      "https://api.polygon.io/v2/aggs/ticker/CZR/range/15/minute/2023-10-01/2024-01-01?adjusted=true&sort=asc&limit=50000&apiKey=NahcgY5iZpJiLbXPYqZcgV6RatP09HUV\n",
      "https://api.polygon.io/v2/aggs/ticker/CPT/range/15/minute/2023-01-01/2023-04-01?adjusted=true&sort=asc&limit=50000&apiKey=NahcgY5iZpJiLbXPYqZcgV6RatP09HUV\n",
      "https://api.polygon.io/v2/aggs/ticker/CPT/range/15/minute/2023-04-01/2023-07-01?adjusted=true&sort=asc&limit=50000&apiKey=NahcgY5iZpJiLbXPYqZcgV6RatP09HUV\n",
      "https://api.polygon.io/v2/aggs/ticker/CPT/range/15/minute/2023-07-01/2023-10-01?adjusted=true&sort=asc&limit=50000&apiKey=NahcgY5iZpJiLbXPYqZcgV6RatP09HUV\n",
      "https://api.polygon.io/v2/aggs/ticker/CPT/range/15/minute/2023-10-01/2024-01-01?adjusted=true&sort=asc&limit=50000&apiKey=NahcgY5iZpJiLbXPYqZcgV6RatP09HUV\n",
      "https://api.polygon.io/v2/aggs/ticker/CPB/range/15/minute/2023-01-01/2023-04-01?adjusted=true&sort=asc&limit=50000&apiKey=NahcgY5iZpJiLbXPYqZcgV6RatP09HUV\n",
      "https://api.polygon.io/v2/aggs/ticker/CPB/range/15/minute/2023-04-01/2023-07-01?adjusted=true&sort=asc&limit=50000&apiKey=NahcgY5iZpJiLbXPYqZcgV6RatP09HUV\n",
      "https://api.polygon.io/v2/aggs/ticker/CPB/range/15/minute/2023-07-01/2023-10-01?adjusted=true&sort=asc&limit=50000&apiKey=NahcgY5iZpJiLbXPYqZcgV6RatP09HUV\n",
      "https://api.polygon.io/v2/aggs/ticker/CPB/range/15/minute/2023-10-01/2024-01-01?adjusted=true&sort=asc&limit=50000&apiKey=NahcgY5iZpJiLbXPYqZcgV6RatP09HUV\n",
      "https://api.polygon.io/v2/aggs/ticker/COF/range/15/minute/2023-01-01/2023-04-01?adjusted=true&sort=asc&limit=50000&apiKey=NahcgY5iZpJiLbXPYqZcgV6RatP09HUV\n",
      "https://api.polygon.io/v2/aggs/ticker/COF/range/15/minute/2023-04-01/2023-07-01?adjusted=true&sort=asc&limit=50000&apiKey=NahcgY5iZpJiLbXPYqZcgV6RatP09HUV\n",
      "https://api.polygon.io/v2/aggs/ticker/COF/range/15/minute/2023-07-01/2023-10-01?adjusted=true&sort=asc&limit=50000&apiKey=NahcgY5iZpJiLbXPYqZcgV6RatP09HUV\n",
      "https://api.polygon.io/v2/aggs/ticker/COF/range/15/minute/2023-10-01/2024-01-01?adjusted=true&sort=asc&limit=50000&apiKey=NahcgY5iZpJiLbXPYqZcgV6RatP09HUV\n",
      "https://api.polygon.io/v2/aggs/ticker/CAH/range/15/minute/2023-01-01/2023-04-01?adjusted=true&sort=asc&limit=50000&apiKey=NahcgY5iZpJiLbXPYqZcgV6RatP09HUV\n",
      "https://api.polygon.io/v2/aggs/ticker/CAH/range/15/minute/2023-04-01/2023-07-01?adjusted=true&sort=asc&limit=50000&apiKey=NahcgY5iZpJiLbXPYqZcgV6RatP09HUV\n",
      "https://api.polygon.io/v2/aggs/ticker/CAH/range/15/minute/2023-07-01/2023-10-01?adjusted=true&sort=asc&limit=50000&apiKey=NahcgY5iZpJiLbXPYqZcgV6RatP09HUV\n",
      "https://api.polygon.io/v2/aggs/ticker/CAH/range/15/minute/2023-10-01/2024-01-01?adjusted=true&sort=asc&limit=50000&apiKey=NahcgY5iZpJiLbXPYqZcgV6RatP09HUV\n",
      "https://api.polygon.io/v2/aggs/ticker/KMX/range/15/minute/2023-01-01/2023-04-01?adjusted=true&sort=asc&limit=50000&apiKey=NahcgY5iZpJiLbXPYqZcgV6RatP09HUV\n",
      "https://api.polygon.io/v2/aggs/ticker/KMX/range/15/minute/2023-04-01/2023-07-01?adjusted=true&sort=asc&limit=50000&apiKey=NahcgY5iZpJiLbXPYqZcgV6RatP09HUV\n",
      "https://api.polygon.io/v2/aggs/ticker/KMX/range/15/minute/2023-07-01/2023-10-01?adjusted=true&sort=asc&limit=50000&apiKey=NahcgY5iZpJiLbXPYqZcgV6RatP09HUV\n",
      "https://api.polygon.io/v2/aggs/ticker/KMX/range/15/minute/2023-10-01/2024-01-01?adjusted=true&sort=asc&limit=50000&apiKey=NahcgY5iZpJiLbXPYqZcgV6RatP09HUV\n",
      "https://api.polygon.io/v2/aggs/ticker/CCL/range/15/minute/2023-01-01/2023-04-01?adjusted=true&sort=asc&limit=50000&apiKey=NahcgY5iZpJiLbXPYqZcgV6RatP09HUV\n",
      "https://api.polygon.io/v2/aggs/ticker/CCL/range/15/minute/2023-04-01/2023-07-01?adjusted=true&sort=asc&limit=50000&apiKey=NahcgY5iZpJiLbXPYqZcgV6RatP09HUV\n",
      "https://api.polygon.io/v2/aggs/ticker/CCL/range/15/minute/2023-07-01/2023-10-01?adjusted=true&sort=asc&limit=50000&apiKey=NahcgY5iZpJiLbXPYqZcgV6RatP09HUV\n",
      "https://api.polygon.io/v2/aggs/ticker/CCL/range/15/minute/2023-10-01/2024-01-01?adjusted=true&sort=asc&limit=50000&apiKey=NahcgY5iZpJiLbXPYqZcgV6RatP09HUV\n",
      "https://api.polygon.io/v2/aggs/ticker/CARR/range/15/minute/2023-01-01/2023-04-01?adjusted=true&sort=asc&limit=50000&apiKey=NahcgY5iZpJiLbXPYqZcgV6RatP09HUV\n",
      "https://api.polygon.io/v2/aggs/ticker/CARR/range/15/minute/2023-04-01/2023-07-01?adjusted=true&sort=asc&limit=50000&apiKey=NahcgY5iZpJiLbXPYqZcgV6RatP09HUV\n",
      "https://api.polygon.io/v2/aggs/ticker/CARR/range/15/minute/2023-07-01/2023-10-01?adjusted=true&sort=asc&limit=50000&apiKey=NahcgY5iZpJiLbXPYqZcgV6RatP09HUV\n",
      "https://api.polygon.io/v2/aggs/ticker/CARR/range/15/minute/2023-10-01/2024-01-01?adjusted=true&sort=asc&limit=50000&apiKey=NahcgY5iZpJiLbXPYqZcgV6RatP09HUV\n",
      "https://api.polygon.io/v2/aggs/ticker/CTLT/range/15/minute/2023-01-01/2023-04-01?adjusted=true&sort=asc&limit=50000&apiKey=NahcgY5iZpJiLbXPYqZcgV6RatP09HUV\n",
      "https://api.polygon.io/v2/aggs/ticker/CTLT/range/15/minute/2023-04-01/2023-07-01?adjusted=true&sort=asc&limit=50000&apiKey=NahcgY5iZpJiLbXPYqZcgV6RatP09HUV\n",
      "https://api.polygon.io/v2/aggs/ticker/CTLT/range/15/minute/2023-07-01/2023-10-01?adjusted=true&sort=asc&limit=50000&apiKey=NahcgY5iZpJiLbXPYqZcgV6RatP09HUV\n",
      "https://api.polygon.io/v2/aggs/ticker/CTLT/range/15/minute/2023-10-01/2024-01-01?adjusted=true&sort=asc&limit=50000&apiKey=NahcgY5iZpJiLbXPYqZcgV6RatP09HUV\n",
      "https://api.polygon.io/v2/aggs/ticker/CAT/range/15/minute/2023-01-01/2023-04-01?adjusted=true&sort=asc&limit=50000&apiKey=NahcgY5iZpJiLbXPYqZcgV6RatP09HUV\n",
      "https://api.polygon.io/v2/aggs/ticker/CAT/range/15/minute/2023-04-01/2023-07-01?adjusted=true&sort=asc&limit=50000&apiKey=NahcgY5iZpJiLbXPYqZcgV6RatP09HUV\n",
      "https://api.polygon.io/v2/aggs/ticker/CAT/range/15/minute/2023-07-01/2023-10-01?adjusted=true&sort=asc&limit=50000&apiKey=NahcgY5iZpJiLbXPYqZcgV6RatP09HUV\n",
      "https://api.polygon.io/v2/aggs/ticker/CAT/range/15/minute/2023-10-01/2024-01-01?adjusted=true&sort=asc&limit=50000&apiKey=NahcgY5iZpJiLbXPYqZcgV6RatP09HUV\n",
      "https://api.polygon.io/v2/aggs/ticker/CBOE/range/15/minute/2023-01-01/2023-04-01?adjusted=true&sort=asc&limit=50000&apiKey=NahcgY5iZpJiLbXPYqZcgV6RatP09HUV\n",
      "https://api.polygon.io/v2/aggs/ticker/CBOE/range/15/minute/2023-04-01/2023-07-01?adjusted=true&sort=asc&limit=50000&apiKey=NahcgY5iZpJiLbXPYqZcgV6RatP09HUV\n",
      "https://api.polygon.io/v2/aggs/ticker/CBOE/range/15/minute/2023-07-01/2023-10-01?adjusted=true&sort=asc&limit=50000&apiKey=NahcgY5iZpJiLbXPYqZcgV6RatP09HUV\n"
     ]
    },
    {
     "name": "stdout",
     "output_type": "stream",
     "text": [
      "https://api.polygon.io/v2/aggs/ticker/CBOE/range/15/minute/2023-10-01/2024-01-01?adjusted=true&sort=asc&limit=50000&apiKey=NahcgY5iZpJiLbXPYqZcgV6RatP09HUV\n",
      "https://api.polygon.io/v2/aggs/ticker/CBRE/range/15/minute/2023-01-01/2023-04-01?adjusted=true&sort=asc&limit=50000&apiKey=NahcgY5iZpJiLbXPYqZcgV6RatP09HUV\n",
      "https://api.polygon.io/v2/aggs/ticker/CBRE/range/15/minute/2023-04-01/2023-07-01?adjusted=true&sort=asc&limit=50000&apiKey=NahcgY5iZpJiLbXPYqZcgV6RatP09HUV\n",
      "https://api.polygon.io/v2/aggs/ticker/CBRE/range/15/minute/2023-07-01/2023-10-01?adjusted=true&sort=asc&limit=50000&apiKey=NahcgY5iZpJiLbXPYqZcgV6RatP09HUV\n",
      "https://api.polygon.io/v2/aggs/ticker/CBRE/range/15/minute/2023-10-01/2024-01-01?adjusted=true&sort=asc&limit=50000&apiKey=NahcgY5iZpJiLbXPYqZcgV6RatP09HUV\n",
      "https://api.polygon.io/v2/aggs/ticker/CDW/range/15/minute/2023-01-01/2023-04-01?adjusted=true&sort=asc&limit=50000&apiKey=NahcgY5iZpJiLbXPYqZcgV6RatP09HUV\n",
      "https://api.polygon.io/v2/aggs/ticker/CDW/range/15/minute/2023-04-01/2023-07-01?adjusted=true&sort=asc&limit=50000&apiKey=NahcgY5iZpJiLbXPYqZcgV6RatP09HUV\n",
      "https://api.polygon.io/v2/aggs/ticker/CDW/range/15/minute/2023-07-01/2023-10-01?adjusted=true&sort=asc&limit=50000&apiKey=NahcgY5iZpJiLbXPYqZcgV6RatP09HUV\n",
      "https://api.polygon.io/v2/aggs/ticker/CDW/range/15/minute/2023-10-01/2024-01-01?adjusted=true&sort=asc&limit=50000&apiKey=NahcgY5iZpJiLbXPYqZcgV6RatP09HUV\n",
      "https://api.polygon.io/v2/aggs/ticker/CE/range/15/minute/2023-01-01/2023-04-01?adjusted=true&sort=asc&limit=50000&apiKey=NahcgY5iZpJiLbXPYqZcgV6RatP09HUV\n",
      "https://api.polygon.io/v2/aggs/ticker/CE/range/15/minute/2023-04-01/2023-07-01?adjusted=true&sort=asc&limit=50000&apiKey=NahcgY5iZpJiLbXPYqZcgV6RatP09HUV\n",
      "https://api.polygon.io/v2/aggs/ticker/CE/range/15/minute/2023-07-01/2023-10-01?adjusted=true&sort=asc&limit=50000&apiKey=NahcgY5iZpJiLbXPYqZcgV6RatP09HUV\n",
      "https://api.polygon.io/v2/aggs/ticker/CE/range/15/minute/2023-10-01/2024-01-01?adjusted=true&sort=asc&limit=50000&apiKey=NahcgY5iZpJiLbXPYqZcgV6RatP09HUV\n",
      "https://api.polygon.io/v2/aggs/ticker/COR/range/15/minute/2023-01-01/2023-04-01?adjusted=true&sort=asc&limit=50000&apiKey=NahcgY5iZpJiLbXPYqZcgV6RatP09HUV\n",
      "{'ticker': 'COR', 'queryCount': 0, 'resultsCount': 0, 'adjusted': True, 'status': 'OK', 'request_id': '0c4fac7066c9497b180cffd5181e3576'}\n",
      "https://api.polygon.io/v2/aggs/ticker/COR/range/15/minute/2023-04-01/2023-07-01?adjusted=true&sort=asc&limit=50000&apiKey=NahcgY5iZpJiLbXPYqZcgV6RatP09HUV\n",
      "{'ticker': 'COR', 'queryCount': 0, 'resultsCount': 0, 'adjusted': True, 'status': 'OK', 'request_id': '9f9694ad46092142a7a0ff031a2ea62d'}\n",
      "https://api.polygon.io/v2/aggs/ticker/COR/range/15/minute/2023-07-01/2023-10-01?adjusted=true&sort=asc&limit=50000&apiKey=NahcgY5iZpJiLbXPYqZcgV6RatP09HUV\n",
      "https://api.polygon.io/v2/aggs/ticker/COR/range/15/minute/2023-10-01/2024-01-01?adjusted=true&sort=asc&limit=50000&apiKey=NahcgY5iZpJiLbXPYqZcgV6RatP09HUV\n",
      "https://api.polygon.io/v2/aggs/ticker/CNC/range/15/minute/2023-01-01/2023-04-01?adjusted=true&sort=asc&limit=50000&apiKey=NahcgY5iZpJiLbXPYqZcgV6RatP09HUV\n",
      "https://api.polygon.io/v2/aggs/ticker/CNC/range/15/minute/2023-04-01/2023-07-01?adjusted=true&sort=asc&limit=50000&apiKey=NahcgY5iZpJiLbXPYqZcgV6RatP09HUV\n",
      "https://api.polygon.io/v2/aggs/ticker/CNC/range/15/minute/2023-07-01/2023-10-01?adjusted=true&sort=asc&limit=50000&apiKey=NahcgY5iZpJiLbXPYqZcgV6RatP09HUV\n",
      "https://api.polygon.io/v2/aggs/ticker/CNC/range/15/minute/2023-10-01/2024-01-01?adjusted=true&sort=asc&limit=50000&apiKey=NahcgY5iZpJiLbXPYqZcgV6RatP09HUV\n",
      "https://api.polygon.io/v2/aggs/ticker/CNP/range/15/minute/2023-01-01/2023-04-01?adjusted=true&sort=asc&limit=50000&apiKey=NahcgY5iZpJiLbXPYqZcgV6RatP09HUV\n",
      "https://api.polygon.io/v2/aggs/ticker/CNP/range/15/minute/2023-04-01/2023-07-01?adjusted=true&sort=asc&limit=50000&apiKey=NahcgY5iZpJiLbXPYqZcgV6RatP09HUV\n",
      "https://api.polygon.io/v2/aggs/ticker/CNP/range/15/minute/2023-07-01/2023-10-01?adjusted=true&sort=asc&limit=50000&apiKey=NahcgY5iZpJiLbXPYqZcgV6RatP09HUV\n",
      "https://api.polygon.io/v2/aggs/ticker/CNP/range/15/minute/2023-10-01/2024-01-01?adjusted=true&sort=asc&limit=50000&apiKey=NahcgY5iZpJiLbXPYqZcgV6RatP09HUV\n",
      "https://api.polygon.io/v2/aggs/ticker/CF/range/15/minute/2023-01-01/2023-04-01?adjusted=true&sort=asc&limit=50000&apiKey=NahcgY5iZpJiLbXPYqZcgV6RatP09HUV\n",
      "https://api.polygon.io/v2/aggs/ticker/CF/range/15/minute/2023-04-01/2023-07-01?adjusted=true&sort=asc&limit=50000&apiKey=NahcgY5iZpJiLbXPYqZcgV6RatP09HUV\n",
      "https://api.polygon.io/v2/aggs/ticker/CF/range/15/minute/2023-07-01/2023-10-01?adjusted=true&sort=asc&limit=50000&apiKey=NahcgY5iZpJiLbXPYqZcgV6RatP09HUV\n",
      "https://api.polygon.io/v2/aggs/ticker/CF/range/15/minute/2023-10-01/2024-01-01?adjusted=true&sort=asc&limit=50000&apiKey=NahcgY5iZpJiLbXPYqZcgV6RatP09HUV\n",
      "https://api.polygon.io/v2/aggs/ticker/CHRW/range/15/minute/2023-01-01/2023-04-01?adjusted=true&sort=asc&limit=50000&apiKey=NahcgY5iZpJiLbXPYqZcgV6RatP09HUV\n",
      "https://api.polygon.io/v2/aggs/ticker/CHRW/range/15/minute/2023-04-01/2023-07-01?adjusted=true&sort=asc&limit=50000&apiKey=NahcgY5iZpJiLbXPYqZcgV6RatP09HUV\n",
      "https://api.polygon.io/v2/aggs/ticker/CHRW/range/15/minute/2023-07-01/2023-10-01?adjusted=true&sort=asc&limit=50000&apiKey=NahcgY5iZpJiLbXPYqZcgV6RatP09HUV\n",
      "https://api.polygon.io/v2/aggs/ticker/CHRW/range/15/minute/2023-10-01/2024-01-01?adjusted=true&sort=asc&limit=50000&apiKey=NahcgY5iZpJiLbXPYqZcgV6RatP09HUV\n",
      "https://api.polygon.io/v2/aggs/ticker/CRL/range/15/minute/2023-01-01/2023-04-01?adjusted=true&sort=asc&limit=50000&apiKey=NahcgY5iZpJiLbXPYqZcgV6RatP09HUV\n",
      "https://api.polygon.io/v2/aggs/ticker/CRL/range/15/minute/2023-04-01/2023-07-01?adjusted=true&sort=asc&limit=50000&apiKey=NahcgY5iZpJiLbXPYqZcgV6RatP09HUV\n",
      "https://api.polygon.io/v2/aggs/ticker/CRL/range/15/minute/2023-07-01/2023-10-01?adjusted=true&sort=asc&limit=50000&apiKey=NahcgY5iZpJiLbXPYqZcgV6RatP09HUV\n",
      "https://api.polygon.io/v2/aggs/ticker/CRL/range/15/minute/2023-10-01/2024-01-01?adjusted=true&sort=asc&limit=50000&apiKey=NahcgY5iZpJiLbXPYqZcgV6RatP09HUV\n",
      "https://api.polygon.io/v2/aggs/ticker/SCHW/range/15/minute/2023-01-01/2023-04-01?adjusted=true&sort=asc&limit=50000&apiKey=NahcgY5iZpJiLbXPYqZcgV6RatP09HUV\n",
      "https://api.polygon.io/v2/aggs/ticker/SCHW/range/15/minute/2023-04-01/2023-07-01?adjusted=true&sort=asc&limit=50000&apiKey=NahcgY5iZpJiLbXPYqZcgV6RatP09HUV\n",
      "https://api.polygon.io/v2/aggs/ticker/SCHW/range/15/minute/2023-07-01/2023-10-01?adjusted=true&sort=asc&limit=50000&apiKey=NahcgY5iZpJiLbXPYqZcgV6RatP09HUV\n",
      "https://api.polygon.io/v2/aggs/ticker/SCHW/range/15/minute/2023-10-01/2024-01-01?adjusted=true&sort=asc&limit=50000&apiKey=NahcgY5iZpJiLbXPYqZcgV6RatP09HUV\n",
      "https://api.polygon.io/v2/aggs/ticker/CHTR/range/15/minute/2023-01-01/2023-04-01?adjusted=true&sort=asc&limit=50000&apiKey=NahcgY5iZpJiLbXPYqZcgV6RatP09HUV\n",
      "https://api.polygon.io/v2/aggs/ticker/CHTR/range/15/minute/2023-04-01/2023-07-01?adjusted=true&sort=asc&limit=50000&apiKey=NahcgY5iZpJiLbXPYqZcgV6RatP09HUV\n",
      "https://api.polygon.io/v2/aggs/ticker/CHTR/range/15/minute/2023-07-01/2023-10-01?adjusted=true&sort=asc&limit=50000&apiKey=NahcgY5iZpJiLbXPYqZcgV6RatP09HUV\n",
      "https://api.polygon.io/v2/aggs/ticker/CHTR/range/15/minute/2023-10-01/2024-01-01?adjusted=true&sort=asc&limit=50000&apiKey=NahcgY5iZpJiLbXPYqZcgV6RatP09HUV\n",
      "https://api.polygon.io/v2/aggs/ticker/CVX/range/15/minute/2023-01-01/2023-04-01?adjusted=true&sort=asc&limit=50000&apiKey=NahcgY5iZpJiLbXPYqZcgV6RatP09HUV\n",
      "https://api.polygon.io/v2/aggs/ticker/CVX/range/15/minute/2023-04-01/2023-07-01?adjusted=true&sort=asc&limit=50000&apiKey=NahcgY5iZpJiLbXPYqZcgV6RatP09HUV\n",
      "https://api.polygon.io/v2/aggs/ticker/CVX/range/15/minute/2023-07-01/2023-10-01?adjusted=true&sort=asc&limit=50000&apiKey=NahcgY5iZpJiLbXPYqZcgV6RatP09HUV\n",
      "https://api.polygon.io/v2/aggs/ticker/CVX/range/15/minute/2023-10-01/2024-01-01?adjusted=true&sort=asc&limit=50000&apiKey=NahcgY5iZpJiLbXPYqZcgV6RatP09HUV\n",
      "https://api.polygon.io/v2/aggs/ticker/CMG/range/15/minute/2023-01-01/2023-04-01?adjusted=true&sort=asc&limit=50000&apiKey=NahcgY5iZpJiLbXPYqZcgV6RatP09HUV\n",
      "https://api.polygon.io/v2/aggs/ticker/CMG/range/15/minute/2023-04-01/2023-07-01?adjusted=true&sort=asc&limit=50000&apiKey=NahcgY5iZpJiLbXPYqZcgV6RatP09HUV\n",
      "https://api.polygon.io/v2/aggs/ticker/CMG/range/15/minute/2023-07-01/2023-10-01?adjusted=true&sort=asc&limit=50000&apiKey=NahcgY5iZpJiLbXPYqZcgV6RatP09HUV\n"
     ]
    },
    {
     "name": "stdout",
     "output_type": "stream",
     "text": [
      "https://api.polygon.io/v2/aggs/ticker/CMG/range/15/minute/2023-10-01/2024-01-01?adjusted=true&sort=asc&limit=50000&apiKey=NahcgY5iZpJiLbXPYqZcgV6RatP09HUV\n",
      "https://api.polygon.io/v2/aggs/ticker/CB/range/15/minute/2023-01-01/2023-04-01?adjusted=true&sort=asc&limit=50000&apiKey=NahcgY5iZpJiLbXPYqZcgV6RatP09HUV\n",
      "https://api.polygon.io/v2/aggs/ticker/CB/range/15/minute/2023-04-01/2023-07-01?adjusted=true&sort=asc&limit=50000&apiKey=NahcgY5iZpJiLbXPYqZcgV6RatP09HUV\n",
      "https://api.polygon.io/v2/aggs/ticker/CB/range/15/minute/2023-07-01/2023-10-01?adjusted=true&sort=asc&limit=50000&apiKey=NahcgY5iZpJiLbXPYqZcgV6RatP09HUV\n",
      "https://api.polygon.io/v2/aggs/ticker/CB/range/15/minute/2023-10-01/2024-01-01?adjusted=true&sort=asc&limit=50000&apiKey=NahcgY5iZpJiLbXPYqZcgV6RatP09HUV\n",
      "https://api.polygon.io/v2/aggs/ticker/CHD/range/15/minute/2023-01-01/2023-04-01?adjusted=true&sort=asc&limit=50000&apiKey=NahcgY5iZpJiLbXPYqZcgV6RatP09HUV\n",
      "https://api.polygon.io/v2/aggs/ticker/CHD/range/15/minute/2023-04-01/2023-07-01?adjusted=true&sort=asc&limit=50000&apiKey=NahcgY5iZpJiLbXPYqZcgV6RatP09HUV\n",
      "https://api.polygon.io/v2/aggs/ticker/CHD/range/15/minute/2023-07-01/2023-10-01?adjusted=true&sort=asc&limit=50000&apiKey=NahcgY5iZpJiLbXPYqZcgV6RatP09HUV\n",
      "https://api.polygon.io/v2/aggs/ticker/CHD/range/15/minute/2023-10-01/2024-01-01?adjusted=true&sort=asc&limit=50000&apiKey=NahcgY5iZpJiLbXPYqZcgV6RatP09HUV\n",
      "https://api.polygon.io/v2/aggs/ticker/CI/range/15/minute/2023-01-01/2023-04-01?adjusted=true&sort=asc&limit=50000&apiKey=NahcgY5iZpJiLbXPYqZcgV6RatP09HUV\n",
      "https://api.polygon.io/v2/aggs/ticker/CI/range/15/minute/2023-04-01/2023-07-01?adjusted=true&sort=asc&limit=50000&apiKey=NahcgY5iZpJiLbXPYqZcgV6RatP09HUV\n",
      "https://api.polygon.io/v2/aggs/ticker/CI/range/15/minute/2023-07-01/2023-10-01?adjusted=true&sort=asc&limit=50000&apiKey=NahcgY5iZpJiLbXPYqZcgV6RatP09HUV\n",
      "https://api.polygon.io/v2/aggs/ticker/CI/range/15/minute/2023-10-01/2024-01-01?adjusted=true&sort=asc&limit=50000&apiKey=NahcgY5iZpJiLbXPYqZcgV6RatP09HUV\n",
      "https://api.polygon.io/v2/aggs/ticker/CINF/range/15/minute/2023-01-01/2023-04-01?adjusted=true&sort=asc&limit=50000&apiKey=NahcgY5iZpJiLbXPYqZcgV6RatP09HUV\n",
      "https://api.polygon.io/v2/aggs/ticker/CINF/range/15/minute/2023-04-01/2023-07-01?adjusted=true&sort=asc&limit=50000&apiKey=NahcgY5iZpJiLbXPYqZcgV6RatP09HUV\n",
      "https://api.polygon.io/v2/aggs/ticker/CINF/range/15/minute/2023-07-01/2023-10-01?adjusted=true&sort=asc&limit=50000&apiKey=NahcgY5iZpJiLbXPYqZcgV6RatP09HUV\n",
      "https://api.polygon.io/v2/aggs/ticker/CINF/range/15/minute/2023-10-01/2024-01-01?adjusted=true&sort=asc&limit=50000&apiKey=NahcgY5iZpJiLbXPYqZcgV6RatP09HUV\n",
      "https://api.polygon.io/v2/aggs/ticker/CTAS/range/15/minute/2023-01-01/2023-04-01?adjusted=true&sort=asc&limit=50000&apiKey=NahcgY5iZpJiLbXPYqZcgV6RatP09HUV\n",
      "https://api.polygon.io/v2/aggs/ticker/CTAS/range/15/minute/2023-04-01/2023-07-01?adjusted=true&sort=asc&limit=50000&apiKey=NahcgY5iZpJiLbXPYqZcgV6RatP09HUV\n",
      "https://api.polygon.io/v2/aggs/ticker/CTAS/range/15/minute/2023-07-01/2023-10-01?adjusted=true&sort=asc&limit=50000&apiKey=NahcgY5iZpJiLbXPYqZcgV6RatP09HUV\n",
      "https://api.polygon.io/v2/aggs/ticker/CTAS/range/15/minute/2023-10-01/2024-01-01?adjusted=true&sort=asc&limit=50000&apiKey=NahcgY5iZpJiLbXPYqZcgV6RatP09HUV\n",
      "https://api.polygon.io/v2/aggs/ticker/CSCO/range/15/minute/2023-01-01/2023-04-01?adjusted=true&sort=asc&limit=50000&apiKey=NahcgY5iZpJiLbXPYqZcgV6RatP09HUV\n",
      "https://api.polygon.io/v2/aggs/ticker/CSCO/range/15/minute/2023-04-01/2023-07-01?adjusted=true&sort=asc&limit=50000&apiKey=NahcgY5iZpJiLbXPYqZcgV6RatP09HUV\n",
      "https://api.polygon.io/v2/aggs/ticker/CSCO/range/15/minute/2023-07-01/2023-10-01?adjusted=true&sort=asc&limit=50000&apiKey=NahcgY5iZpJiLbXPYqZcgV6RatP09HUV\n",
      "https://api.polygon.io/v2/aggs/ticker/CSCO/range/15/minute/2023-10-01/2024-01-01?adjusted=true&sort=asc&limit=50000&apiKey=NahcgY5iZpJiLbXPYqZcgV6RatP09HUV\n",
      "https://api.polygon.io/v2/aggs/ticker/C/range/15/minute/2023-01-01/2023-04-01?adjusted=true&sort=asc&limit=50000&apiKey=NahcgY5iZpJiLbXPYqZcgV6RatP09HUV\n",
      "https://api.polygon.io/v2/aggs/ticker/C/range/15/minute/2023-04-01/2023-07-01?adjusted=true&sort=asc&limit=50000&apiKey=NahcgY5iZpJiLbXPYqZcgV6RatP09HUV\n",
      "https://api.polygon.io/v2/aggs/ticker/C/range/15/minute/2023-07-01/2023-10-01?adjusted=true&sort=asc&limit=50000&apiKey=NahcgY5iZpJiLbXPYqZcgV6RatP09HUV\n",
      "https://api.polygon.io/v2/aggs/ticker/C/range/15/minute/2023-10-01/2024-01-01?adjusted=true&sort=asc&limit=50000&apiKey=NahcgY5iZpJiLbXPYqZcgV6RatP09HUV\n",
      "https://api.polygon.io/v2/aggs/ticker/CFG/range/15/minute/2023-01-01/2023-04-01?adjusted=true&sort=asc&limit=50000&apiKey=NahcgY5iZpJiLbXPYqZcgV6RatP09HUV\n",
      "https://api.polygon.io/v2/aggs/ticker/CFG/range/15/minute/2023-04-01/2023-07-01?adjusted=true&sort=asc&limit=50000&apiKey=NahcgY5iZpJiLbXPYqZcgV6RatP09HUV\n",
      "https://api.polygon.io/v2/aggs/ticker/CFG/range/15/minute/2023-07-01/2023-10-01?adjusted=true&sort=asc&limit=50000&apiKey=NahcgY5iZpJiLbXPYqZcgV6RatP09HUV\n",
      "https://api.polygon.io/v2/aggs/ticker/CFG/range/15/minute/2023-10-01/2024-01-01?adjusted=true&sort=asc&limit=50000&apiKey=NahcgY5iZpJiLbXPYqZcgV6RatP09HUV\n",
      "https://api.polygon.io/v2/aggs/ticker/CLX/range/15/minute/2023-01-01/2023-04-01?adjusted=true&sort=asc&limit=50000&apiKey=NahcgY5iZpJiLbXPYqZcgV6RatP09HUV\n",
      "https://api.polygon.io/v2/aggs/ticker/CLX/range/15/minute/2023-04-01/2023-07-01?adjusted=true&sort=asc&limit=50000&apiKey=NahcgY5iZpJiLbXPYqZcgV6RatP09HUV\n",
      "https://api.polygon.io/v2/aggs/ticker/CLX/range/15/minute/2023-07-01/2023-10-01?adjusted=true&sort=asc&limit=50000&apiKey=NahcgY5iZpJiLbXPYqZcgV6RatP09HUV\n",
      "https://api.polygon.io/v2/aggs/ticker/CLX/range/15/minute/2023-10-01/2024-01-01?adjusted=true&sort=asc&limit=50000&apiKey=NahcgY5iZpJiLbXPYqZcgV6RatP09HUV\n",
      "https://api.polygon.io/v2/aggs/ticker/CME/range/15/minute/2023-01-01/2023-04-01?adjusted=true&sort=asc&limit=50000&apiKey=NahcgY5iZpJiLbXPYqZcgV6RatP09HUV\n",
      "https://api.polygon.io/v2/aggs/ticker/CME/range/15/minute/2023-04-01/2023-07-01?adjusted=true&sort=asc&limit=50000&apiKey=NahcgY5iZpJiLbXPYqZcgV6RatP09HUV\n",
      "https://api.polygon.io/v2/aggs/ticker/CME/range/15/minute/2023-07-01/2023-10-01?adjusted=true&sort=asc&limit=50000&apiKey=NahcgY5iZpJiLbXPYqZcgV6RatP09HUV\n",
      "https://api.polygon.io/v2/aggs/ticker/CME/range/15/minute/2023-10-01/2024-01-01?adjusted=true&sort=asc&limit=50000&apiKey=NahcgY5iZpJiLbXPYqZcgV6RatP09HUV\n",
      "https://api.polygon.io/v2/aggs/ticker/CMS/range/15/minute/2023-01-01/2023-04-01?adjusted=true&sort=asc&limit=50000&apiKey=NahcgY5iZpJiLbXPYqZcgV6RatP09HUV\n",
      "https://api.polygon.io/v2/aggs/ticker/CMS/range/15/minute/2023-04-01/2023-07-01?adjusted=true&sort=asc&limit=50000&apiKey=NahcgY5iZpJiLbXPYqZcgV6RatP09HUV\n",
      "https://api.polygon.io/v2/aggs/ticker/CMS/range/15/minute/2023-07-01/2023-10-01?adjusted=true&sort=asc&limit=50000&apiKey=NahcgY5iZpJiLbXPYqZcgV6RatP09HUV\n",
      "https://api.polygon.io/v2/aggs/ticker/CMS/range/15/minute/2023-10-01/2024-01-01?adjusted=true&sort=asc&limit=50000&apiKey=NahcgY5iZpJiLbXPYqZcgV6RatP09HUV\n",
      "https://api.polygon.io/v2/aggs/ticker/KO/range/15/minute/2023-01-01/2023-04-01?adjusted=true&sort=asc&limit=50000&apiKey=NahcgY5iZpJiLbXPYqZcgV6RatP09HUV\n",
      "https://api.polygon.io/v2/aggs/ticker/KO/range/15/minute/2023-04-01/2023-07-01?adjusted=true&sort=asc&limit=50000&apiKey=NahcgY5iZpJiLbXPYqZcgV6RatP09HUV\n",
      "https://api.polygon.io/v2/aggs/ticker/KO/range/15/minute/2023-07-01/2023-10-01?adjusted=true&sort=asc&limit=50000&apiKey=NahcgY5iZpJiLbXPYqZcgV6RatP09HUV\n",
      "https://api.polygon.io/v2/aggs/ticker/KO/range/15/minute/2023-10-01/2024-01-01?adjusted=true&sort=asc&limit=50000&apiKey=NahcgY5iZpJiLbXPYqZcgV6RatP09HUV\n",
      "https://api.polygon.io/v2/aggs/ticker/CTSH/range/15/minute/2023-01-01/2023-04-01?adjusted=true&sort=asc&limit=50000&apiKey=NahcgY5iZpJiLbXPYqZcgV6RatP09HUV\n",
      "https://api.polygon.io/v2/aggs/ticker/CTSH/range/15/minute/2023-04-01/2023-07-01?adjusted=true&sort=asc&limit=50000&apiKey=NahcgY5iZpJiLbXPYqZcgV6RatP09HUV\n",
      "https://api.polygon.io/v2/aggs/ticker/CTSH/range/15/minute/2023-07-01/2023-10-01?adjusted=true&sort=asc&limit=50000&apiKey=NahcgY5iZpJiLbXPYqZcgV6RatP09HUV\n",
      "https://api.polygon.io/v2/aggs/ticker/CTSH/range/15/minute/2023-10-01/2024-01-01?adjusted=true&sort=asc&limit=50000&apiKey=NahcgY5iZpJiLbXPYqZcgV6RatP09HUV\n"
     ]
    },
    {
     "name": "stdout",
     "output_type": "stream",
     "text": [
      "https://api.polygon.io/v2/aggs/ticker/CL/range/15/minute/2023-01-01/2023-04-01?adjusted=true&sort=asc&limit=50000&apiKey=NahcgY5iZpJiLbXPYqZcgV6RatP09HUV\n",
      "https://api.polygon.io/v2/aggs/ticker/CL/range/15/minute/2023-04-01/2023-07-01?adjusted=true&sort=asc&limit=50000&apiKey=NahcgY5iZpJiLbXPYqZcgV6RatP09HUV\n",
      "https://api.polygon.io/v2/aggs/ticker/CL/range/15/minute/2023-07-01/2023-10-01?adjusted=true&sort=asc&limit=50000&apiKey=NahcgY5iZpJiLbXPYqZcgV6RatP09HUV\n",
      "https://api.polygon.io/v2/aggs/ticker/CL/range/15/minute/2023-10-01/2024-01-01?adjusted=true&sort=asc&limit=50000&apiKey=NahcgY5iZpJiLbXPYqZcgV6RatP09HUV\n",
      "https://api.polygon.io/v2/aggs/ticker/CMCSA/range/15/minute/2023-01-01/2023-04-01?adjusted=true&sort=asc&limit=50000&apiKey=NahcgY5iZpJiLbXPYqZcgV6RatP09HUV\n",
      "https://api.polygon.io/v2/aggs/ticker/CMCSA/range/15/minute/2023-04-01/2023-07-01?adjusted=true&sort=asc&limit=50000&apiKey=NahcgY5iZpJiLbXPYqZcgV6RatP09HUV\n",
      "https://api.polygon.io/v2/aggs/ticker/CMCSA/range/15/minute/2023-07-01/2023-10-01?adjusted=true&sort=asc&limit=50000&apiKey=NahcgY5iZpJiLbXPYqZcgV6RatP09HUV\n",
      "https://api.polygon.io/v2/aggs/ticker/CMCSA/range/15/minute/2023-10-01/2024-01-01?adjusted=true&sort=asc&limit=50000&apiKey=NahcgY5iZpJiLbXPYqZcgV6RatP09HUV\n",
      "https://api.polygon.io/v2/aggs/ticker/CMA/range/15/minute/2023-01-01/2023-04-01?adjusted=true&sort=asc&limit=50000&apiKey=NahcgY5iZpJiLbXPYqZcgV6RatP09HUV\n",
      "https://api.polygon.io/v2/aggs/ticker/CMA/range/15/minute/2023-04-01/2023-07-01?adjusted=true&sort=asc&limit=50000&apiKey=NahcgY5iZpJiLbXPYqZcgV6RatP09HUV\n",
      "https://api.polygon.io/v2/aggs/ticker/CMA/range/15/minute/2023-07-01/2023-10-01?adjusted=true&sort=asc&limit=50000&apiKey=NahcgY5iZpJiLbXPYqZcgV6RatP09HUV\n",
      "https://api.polygon.io/v2/aggs/ticker/CMA/range/15/minute/2023-10-01/2024-01-01?adjusted=true&sort=asc&limit=50000&apiKey=NahcgY5iZpJiLbXPYqZcgV6RatP09HUV\n",
      "https://api.polygon.io/v2/aggs/ticker/CAG/range/15/minute/2023-01-01/2023-04-01?adjusted=true&sort=asc&limit=50000&apiKey=NahcgY5iZpJiLbXPYqZcgV6RatP09HUV\n",
      "https://api.polygon.io/v2/aggs/ticker/CAG/range/15/minute/2023-04-01/2023-07-01?adjusted=true&sort=asc&limit=50000&apiKey=NahcgY5iZpJiLbXPYqZcgV6RatP09HUV\n",
      "https://api.polygon.io/v2/aggs/ticker/CAG/range/15/minute/2023-07-01/2023-10-01?adjusted=true&sort=asc&limit=50000&apiKey=NahcgY5iZpJiLbXPYqZcgV6RatP09HUV\n",
      "https://api.polygon.io/v2/aggs/ticker/CAG/range/15/minute/2023-10-01/2024-01-01?adjusted=true&sort=asc&limit=50000&apiKey=NahcgY5iZpJiLbXPYqZcgV6RatP09HUV\n",
      "https://api.polygon.io/v2/aggs/ticker/COP/range/15/minute/2023-01-01/2023-04-01?adjusted=true&sort=asc&limit=50000&apiKey=NahcgY5iZpJiLbXPYqZcgV6RatP09HUV\n",
      "https://api.polygon.io/v2/aggs/ticker/COP/range/15/minute/2023-04-01/2023-07-01?adjusted=true&sort=asc&limit=50000&apiKey=NahcgY5iZpJiLbXPYqZcgV6RatP09HUV\n",
      "https://api.polygon.io/v2/aggs/ticker/COP/range/15/minute/2023-07-01/2023-10-01?adjusted=true&sort=asc&limit=50000&apiKey=NahcgY5iZpJiLbXPYqZcgV6RatP09HUV\n",
      "https://api.polygon.io/v2/aggs/ticker/COP/range/15/minute/2023-10-01/2024-01-01?adjusted=true&sort=asc&limit=50000&apiKey=NahcgY5iZpJiLbXPYqZcgV6RatP09HUV\n",
      "https://api.polygon.io/v2/aggs/ticker/ED/range/15/minute/2023-01-01/2023-04-01?adjusted=true&sort=asc&limit=50000&apiKey=NahcgY5iZpJiLbXPYqZcgV6RatP09HUV\n",
      "https://api.polygon.io/v2/aggs/ticker/ED/range/15/minute/2023-04-01/2023-07-01?adjusted=true&sort=asc&limit=50000&apiKey=NahcgY5iZpJiLbXPYqZcgV6RatP09HUV\n",
      "https://api.polygon.io/v2/aggs/ticker/ED/range/15/minute/2023-07-01/2023-10-01?adjusted=true&sort=asc&limit=50000&apiKey=NahcgY5iZpJiLbXPYqZcgV6RatP09HUV\n",
      "https://api.polygon.io/v2/aggs/ticker/ED/range/15/minute/2023-10-01/2024-01-01?adjusted=true&sort=asc&limit=50000&apiKey=NahcgY5iZpJiLbXPYqZcgV6RatP09HUV\n",
      "https://api.polygon.io/v2/aggs/ticker/STZ/range/15/minute/2023-01-01/2023-04-01?adjusted=true&sort=asc&limit=50000&apiKey=NahcgY5iZpJiLbXPYqZcgV6RatP09HUV\n",
      "https://api.polygon.io/v2/aggs/ticker/STZ/range/15/minute/2023-04-01/2023-07-01?adjusted=true&sort=asc&limit=50000&apiKey=NahcgY5iZpJiLbXPYqZcgV6RatP09HUV\n",
      "https://api.polygon.io/v2/aggs/ticker/STZ/range/15/minute/2023-07-01/2023-10-01?adjusted=true&sort=asc&limit=50000&apiKey=NahcgY5iZpJiLbXPYqZcgV6RatP09HUV\n",
      "https://api.polygon.io/v2/aggs/ticker/STZ/range/15/minute/2023-10-01/2024-01-01?adjusted=true&sort=asc&limit=50000&apiKey=NahcgY5iZpJiLbXPYqZcgV6RatP09HUV\n",
      "https://api.polygon.io/v2/aggs/ticker/CEG/range/15/minute/2023-01-01/2023-04-01?adjusted=true&sort=asc&limit=50000&apiKey=NahcgY5iZpJiLbXPYqZcgV6RatP09HUV\n",
      "https://api.polygon.io/v2/aggs/ticker/CEG/range/15/minute/2023-04-01/2023-07-01?adjusted=true&sort=asc&limit=50000&apiKey=NahcgY5iZpJiLbXPYqZcgV6RatP09HUV\n",
      "https://api.polygon.io/v2/aggs/ticker/CEG/range/15/minute/2023-07-01/2023-10-01?adjusted=true&sort=asc&limit=50000&apiKey=NahcgY5iZpJiLbXPYqZcgV6RatP09HUV\n",
      "https://api.polygon.io/v2/aggs/ticker/CEG/range/15/minute/2023-10-01/2024-01-01?adjusted=true&sort=asc&limit=50000&apiKey=NahcgY5iZpJiLbXPYqZcgV6RatP09HUV\n",
      "https://api.polygon.io/v2/aggs/ticker/COO/range/15/minute/2023-01-01/2023-04-01?adjusted=true&sort=asc&limit=50000&apiKey=NahcgY5iZpJiLbXPYqZcgV6RatP09HUV\n",
      "https://api.polygon.io/v2/aggs/ticker/COO/range/15/minute/2023-04-01/2023-07-01?adjusted=true&sort=asc&limit=50000&apiKey=NahcgY5iZpJiLbXPYqZcgV6RatP09HUV\n",
      "https://api.polygon.io/v2/aggs/ticker/COO/range/15/minute/2023-07-01/2023-10-01?adjusted=true&sort=asc&limit=50000&apiKey=NahcgY5iZpJiLbXPYqZcgV6RatP09HUV\n",
      "https://api.polygon.io/v2/aggs/ticker/COO/range/15/minute/2023-10-01/2024-01-01?adjusted=true&sort=asc&limit=50000&apiKey=NahcgY5iZpJiLbXPYqZcgV6RatP09HUV\n",
      "https://api.polygon.io/v2/aggs/ticker/CPRT/range/15/minute/2023-01-01/2023-04-01?adjusted=true&sort=asc&limit=50000&apiKey=NahcgY5iZpJiLbXPYqZcgV6RatP09HUV\n",
      "https://api.polygon.io/v2/aggs/ticker/CPRT/range/15/minute/2023-04-01/2023-07-01?adjusted=true&sort=asc&limit=50000&apiKey=NahcgY5iZpJiLbXPYqZcgV6RatP09HUV\n",
      "https://api.polygon.io/v2/aggs/ticker/CPRT/range/15/minute/2023-07-01/2023-10-01?adjusted=true&sort=asc&limit=50000&apiKey=NahcgY5iZpJiLbXPYqZcgV6RatP09HUV\n",
      "https://api.polygon.io/v2/aggs/ticker/CPRT/range/15/minute/2023-10-01/2024-01-01?adjusted=true&sort=asc&limit=50000&apiKey=NahcgY5iZpJiLbXPYqZcgV6RatP09HUV\n",
      "https://api.polygon.io/v2/aggs/ticker/GLW/range/15/minute/2023-01-01/2023-04-01?adjusted=true&sort=asc&limit=50000&apiKey=NahcgY5iZpJiLbXPYqZcgV6RatP09HUV\n",
      "https://api.polygon.io/v2/aggs/ticker/GLW/range/15/minute/2023-04-01/2023-07-01?adjusted=true&sort=asc&limit=50000&apiKey=NahcgY5iZpJiLbXPYqZcgV6RatP09HUV\n",
      "https://api.polygon.io/v2/aggs/ticker/GLW/range/15/minute/2023-07-01/2023-10-01?adjusted=true&sort=asc&limit=50000&apiKey=NahcgY5iZpJiLbXPYqZcgV6RatP09HUV\n",
      "https://api.polygon.io/v2/aggs/ticker/GLW/range/15/minute/2023-10-01/2024-01-01?adjusted=true&sort=asc&limit=50000&apiKey=NahcgY5iZpJiLbXPYqZcgV6RatP09HUV\n",
      "https://api.polygon.io/v2/aggs/ticker/CTVA/range/15/minute/2023-01-01/2023-04-01?adjusted=true&sort=asc&limit=50000&apiKey=NahcgY5iZpJiLbXPYqZcgV6RatP09HUV\n",
      "https://api.polygon.io/v2/aggs/ticker/CTVA/range/15/minute/2023-04-01/2023-07-01?adjusted=true&sort=asc&limit=50000&apiKey=NahcgY5iZpJiLbXPYqZcgV6RatP09HUV\n",
      "https://api.polygon.io/v2/aggs/ticker/CTVA/range/15/minute/2023-07-01/2023-10-01?adjusted=true&sort=asc&limit=50000&apiKey=NahcgY5iZpJiLbXPYqZcgV6RatP09HUV\n",
      "https://api.polygon.io/v2/aggs/ticker/CTVA/range/15/minute/2023-10-01/2024-01-01?adjusted=true&sort=asc&limit=50000&apiKey=NahcgY5iZpJiLbXPYqZcgV6RatP09HUV\n",
      "https://api.polygon.io/v2/aggs/ticker/CSGP/range/15/minute/2023-01-01/2023-04-01?adjusted=true&sort=asc&limit=50000&apiKey=NahcgY5iZpJiLbXPYqZcgV6RatP09HUV\n",
      "https://api.polygon.io/v2/aggs/ticker/CSGP/range/15/minute/2023-04-01/2023-07-01?adjusted=true&sort=asc&limit=50000&apiKey=NahcgY5iZpJiLbXPYqZcgV6RatP09HUV\n",
      "https://api.polygon.io/v2/aggs/ticker/CSGP/range/15/minute/2023-07-01/2023-10-01?adjusted=true&sort=asc&limit=50000&apiKey=NahcgY5iZpJiLbXPYqZcgV6RatP09HUV\n",
      "https://api.polygon.io/v2/aggs/ticker/CSGP/range/15/minute/2023-10-01/2024-01-01?adjusted=true&sort=asc&limit=50000&apiKey=NahcgY5iZpJiLbXPYqZcgV6RatP09HUV\n",
      "https://api.polygon.io/v2/aggs/ticker/COST/range/15/minute/2023-01-01/2023-04-01?adjusted=true&sort=asc&limit=50000&apiKey=NahcgY5iZpJiLbXPYqZcgV6RatP09HUV\n"
     ]
    },
    {
     "name": "stdout",
     "output_type": "stream",
     "text": [
      "https://api.polygon.io/v2/aggs/ticker/COST/range/15/minute/2023-04-01/2023-07-01?adjusted=true&sort=asc&limit=50000&apiKey=NahcgY5iZpJiLbXPYqZcgV6RatP09HUV\n",
      "https://api.polygon.io/v2/aggs/ticker/COST/range/15/minute/2023-07-01/2023-10-01?adjusted=true&sort=asc&limit=50000&apiKey=NahcgY5iZpJiLbXPYqZcgV6RatP09HUV\n",
      "https://api.polygon.io/v2/aggs/ticker/COST/range/15/minute/2023-10-01/2024-01-01?adjusted=true&sort=asc&limit=50000&apiKey=NahcgY5iZpJiLbXPYqZcgV6RatP09HUV\n",
      "https://api.polygon.io/v2/aggs/ticker/CTRA/range/15/minute/2023-01-01/2023-04-01?adjusted=true&sort=asc&limit=50000&apiKey=NahcgY5iZpJiLbXPYqZcgV6RatP09HUV\n",
      "https://api.polygon.io/v2/aggs/ticker/CTRA/range/15/minute/2023-04-01/2023-07-01?adjusted=true&sort=asc&limit=50000&apiKey=NahcgY5iZpJiLbXPYqZcgV6RatP09HUV\n",
      "https://api.polygon.io/v2/aggs/ticker/CTRA/range/15/minute/2023-07-01/2023-10-01?adjusted=true&sort=asc&limit=50000&apiKey=NahcgY5iZpJiLbXPYqZcgV6RatP09HUV\n",
      "https://api.polygon.io/v2/aggs/ticker/CTRA/range/15/minute/2023-10-01/2024-01-01?adjusted=true&sort=asc&limit=50000&apiKey=NahcgY5iZpJiLbXPYqZcgV6RatP09HUV\n",
      "https://api.polygon.io/v2/aggs/ticker/CCI/range/15/minute/2023-01-01/2023-04-01?adjusted=true&sort=asc&limit=50000&apiKey=NahcgY5iZpJiLbXPYqZcgV6RatP09HUV\n",
      "https://api.polygon.io/v2/aggs/ticker/CCI/range/15/minute/2023-04-01/2023-07-01?adjusted=true&sort=asc&limit=50000&apiKey=NahcgY5iZpJiLbXPYqZcgV6RatP09HUV\n",
      "https://api.polygon.io/v2/aggs/ticker/CCI/range/15/minute/2023-07-01/2023-10-01?adjusted=true&sort=asc&limit=50000&apiKey=NahcgY5iZpJiLbXPYqZcgV6RatP09HUV\n",
      "https://api.polygon.io/v2/aggs/ticker/CCI/range/15/minute/2023-10-01/2024-01-01?adjusted=true&sort=asc&limit=50000&apiKey=NahcgY5iZpJiLbXPYqZcgV6RatP09HUV\n",
      "https://api.polygon.io/v2/aggs/ticker/CSX/range/15/minute/2023-01-01/2023-04-01?adjusted=true&sort=asc&limit=50000&apiKey=NahcgY5iZpJiLbXPYqZcgV6RatP09HUV\n",
      "https://api.polygon.io/v2/aggs/ticker/CSX/range/15/minute/2023-04-01/2023-07-01?adjusted=true&sort=asc&limit=50000&apiKey=NahcgY5iZpJiLbXPYqZcgV6RatP09HUV\n",
      "https://api.polygon.io/v2/aggs/ticker/CSX/range/15/minute/2023-07-01/2023-10-01?adjusted=true&sort=asc&limit=50000&apiKey=NahcgY5iZpJiLbXPYqZcgV6RatP09HUV\n",
      "https://api.polygon.io/v2/aggs/ticker/CSX/range/15/minute/2023-10-01/2024-01-01?adjusted=true&sort=asc&limit=50000&apiKey=NahcgY5iZpJiLbXPYqZcgV6RatP09HUV\n",
      "https://api.polygon.io/v2/aggs/ticker/CMI/range/15/minute/2023-01-01/2023-04-01?adjusted=true&sort=asc&limit=50000&apiKey=NahcgY5iZpJiLbXPYqZcgV6RatP09HUV\n",
      "https://api.polygon.io/v2/aggs/ticker/CMI/range/15/minute/2023-04-01/2023-07-01?adjusted=true&sort=asc&limit=50000&apiKey=NahcgY5iZpJiLbXPYqZcgV6RatP09HUV\n",
      "https://api.polygon.io/v2/aggs/ticker/CMI/range/15/minute/2023-07-01/2023-10-01?adjusted=true&sort=asc&limit=50000&apiKey=NahcgY5iZpJiLbXPYqZcgV6RatP09HUV\n",
      "https://api.polygon.io/v2/aggs/ticker/CMI/range/15/minute/2023-10-01/2024-01-01?adjusted=true&sort=asc&limit=50000&apiKey=NahcgY5iZpJiLbXPYqZcgV6RatP09HUV\n",
      "https://api.polygon.io/v2/aggs/ticker/CVS/range/15/minute/2023-01-01/2023-04-01?adjusted=true&sort=asc&limit=50000&apiKey=NahcgY5iZpJiLbXPYqZcgV6RatP09HUV\n",
      "https://api.polygon.io/v2/aggs/ticker/CVS/range/15/minute/2023-04-01/2023-07-01?adjusted=true&sort=asc&limit=50000&apiKey=NahcgY5iZpJiLbXPYqZcgV6RatP09HUV\n",
      "https://api.polygon.io/v2/aggs/ticker/CVS/range/15/minute/2023-07-01/2023-10-01?adjusted=true&sort=asc&limit=50000&apiKey=NahcgY5iZpJiLbXPYqZcgV6RatP09HUV\n",
      "https://api.polygon.io/v2/aggs/ticker/CVS/range/15/minute/2023-10-01/2024-01-01?adjusted=true&sort=asc&limit=50000&apiKey=NahcgY5iZpJiLbXPYqZcgV6RatP09HUV\n",
      "https://api.polygon.io/v2/aggs/ticker/DHR/range/15/minute/2023-01-01/2023-04-01?adjusted=true&sort=asc&limit=50000&apiKey=NahcgY5iZpJiLbXPYqZcgV6RatP09HUV\n",
      "https://api.polygon.io/v2/aggs/ticker/DHR/range/15/minute/2023-04-01/2023-07-01?adjusted=true&sort=asc&limit=50000&apiKey=NahcgY5iZpJiLbXPYqZcgV6RatP09HUV\n",
      "https://api.polygon.io/v2/aggs/ticker/DHR/range/15/minute/2023-07-01/2023-10-01?adjusted=true&sort=asc&limit=50000&apiKey=NahcgY5iZpJiLbXPYqZcgV6RatP09HUV\n",
      "https://api.polygon.io/v2/aggs/ticker/DHR/range/15/minute/2023-10-01/2024-01-01?adjusted=true&sort=asc&limit=50000&apiKey=NahcgY5iZpJiLbXPYqZcgV6RatP09HUV\n",
      "https://api.polygon.io/v2/aggs/ticker/DRI/range/15/minute/2023-01-01/2023-04-01?adjusted=true&sort=asc&limit=50000&apiKey=NahcgY5iZpJiLbXPYqZcgV6RatP09HUV\n",
      "https://api.polygon.io/v2/aggs/ticker/DRI/range/15/minute/2023-04-01/2023-07-01?adjusted=true&sort=asc&limit=50000&apiKey=NahcgY5iZpJiLbXPYqZcgV6RatP09HUV\n",
      "https://api.polygon.io/v2/aggs/ticker/DRI/range/15/minute/2023-07-01/2023-10-01?adjusted=true&sort=asc&limit=50000&apiKey=NahcgY5iZpJiLbXPYqZcgV6RatP09HUV\n",
      "https://api.polygon.io/v2/aggs/ticker/DRI/range/15/minute/2023-10-01/2024-01-01?adjusted=true&sort=asc&limit=50000&apiKey=NahcgY5iZpJiLbXPYqZcgV6RatP09HUV\n",
      "https://api.polygon.io/v2/aggs/ticker/DVA/range/15/minute/2023-01-01/2023-04-01?adjusted=true&sort=asc&limit=50000&apiKey=NahcgY5iZpJiLbXPYqZcgV6RatP09HUV\n",
      "https://api.polygon.io/v2/aggs/ticker/DVA/range/15/minute/2023-04-01/2023-07-01?adjusted=true&sort=asc&limit=50000&apiKey=NahcgY5iZpJiLbXPYqZcgV6RatP09HUV\n",
      "https://api.polygon.io/v2/aggs/ticker/DVA/range/15/minute/2023-07-01/2023-10-01?adjusted=true&sort=asc&limit=50000&apiKey=NahcgY5iZpJiLbXPYqZcgV6RatP09HUV\n",
      "https://api.polygon.io/v2/aggs/ticker/DVA/range/15/minute/2023-10-01/2024-01-01?adjusted=true&sort=asc&limit=50000&apiKey=NahcgY5iZpJiLbXPYqZcgV6RatP09HUV\n",
      "https://api.polygon.io/v2/aggs/ticker/DAY/range/15/minute/2023-01-01/2023-04-01?adjusted=true&sort=asc&limit=50000&apiKey=NahcgY5iZpJiLbXPYqZcgV6RatP09HUV\n",
      "{'ticker': 'DAY', 'queryCount': 0, 'resultsCount': 0, 'adjusted': True, 'status': 'OK', 'request_id': 'cfc69df90c5ae212ed163a30b2fc6fb3'}\n",
      "https://api.polygon.io/v2/aggs/ticker/DAY/range/15/minute/2023-04-01/2023-07-01?adjusted=true&sort=asc&limit=50000&apiKey=NahcgY5iZpJiLbXPYqZcgV6RatP09HUV\n",
      "{'ticker': 'DAY', 'queryCount': 0, 'resultsCount': 0, 'adjusted': True, 'status': 'OK', 'request_id': '2e93b57120fb1925e9de0a898e08e00f'}\n",
      "https://api.polygon.io/v2/aggs/ticker/DAY/range/15/minute/2023-07-01/2023-10-01?adjusted=true&sort=asc&limit=50000&apiKey=NahcgY5iZpJiLbXPYqZcgV6RatP09HUV\n",
      "{'ticker': 'DAY', 'queryCount': 0, 'resultsCount': 0, 'adjusted': True, 'status': 'OK', 'request_id': 'ef9cbb04f68b6c1ab84727ea106178ac'}\n",
      "https://api.polygon.io/v2/aggs/ticker/DAY/range/15/minute/2023-10-01/2024-01-01?adjusted=true&sort=asc&limit=50000&apiKey=NahcgY5iZpJiLbXPYqZcgV6RatP09HUV\n",
      "{'ticker': 'DAY', 'queryCount': 0, 'resultsCount': 0, 'adjusted': True, 'status': 'OK', 'request_id': '057401a4bfdc86ce7ae2c66eaf2da154'}\n",
      "https://api.polygon.io/v2/aggs/ticker/DE/range/15/minute/2023-01-01/2023-04-01?adjusted=true&sort=asc&limit=50000&apiKey=NahcgY5iZpJiLbXPYqZcgV6RatP09HUV\n",
      "https://api.polygon.io/v2/aggs/ticker/DE/range/15/minute/2023-04-01/2023-07-01?adjusted=true&sort=asc&limit=50000&apiKey=NahcgY5iZpJiLbXPYqZcgV6RatP09HUV\n",
      "https://api.polygon.io/v2/aggs/ticker/DE/range/15/minute/2023-07-01/2023-10-01?adjusted=true&sort=asc&limit=50000&apiKey=NahcgY5iZpJiLbXPYqZcgV6RatP09HUV\n",
      "https://api.polygon.io/v2/aggs/ticker/DE/range/15/minute/2023-10-01/2024-01-01?adjusted=true&sort=asc&limit=50000&apiKey=NahcgY5iZpJiLbXPYqZcgV6RatP09HUV\n",
      "https://api.polygon.io/v2/aggs/ticker/DAL/range/15/minute/2023-01-01/2023-04-01?adjusted=true&sort=asc&limit=50000&apiKey=NahcgY5iZpJiLbXPYqZcgV6RatP09HUV\n",
      "https://api.polygon.io/v2/aggs/ticker/DAL/range/15/minute/2023-04-01/2023-07-01?adjusted=true&sort=asc&limit=50000&apiKey=NahcgY5iZpJiLbXPYqZcgV6RatP09HUV\n",
      "https://api.polygon.io/v2/aggs/ticker/DAL/range/15/minute/2023-07-01/2023-10-01?adjusted=true&sort=asc&limit=50000&apiKey=NahcgY5iZpJiLbXPYqZcgV6RatP09HUV\n",
      "https://api.polygon.io/v2/aggs/ticker/DAL/range/15/minute/2023-10-01/2024-01-01?adjusted=true&sort=asc&limit=50000&apiKey=NahcgY5iZpJiLbXPYqZcgV6RatP09HUV\n",
      "https://api.polygon.io/v2/aggs/ticker/XRAY/range/15/minute/2023-01-01/2023-04-01?adjusted=true&sort=asc&limit=50000&apiKey=NahcgY5iZpJiLbXPYqZcgV6RatP09HUV\n",
      "https://api.polygon.io/v2/aggs/ticker/XRAY/range/15/minute/2023-04-01/2023-07-01?adjusted=true&sort=asc&limit=50000&apiKey=NahcgY5iZpJiLbXPYqZcgV6RatP09HUV\n",
      "https://api.polygon.io/v2/aggs/ticker/XRAY/range/15/minute/2023-07-01/2023-10-01?adjusted=true&sort=asc&limit=50000&apiKey=NahcgY5iZpJiLbXPYqZcgV6RatP09HUV\n"
     ]
    },
    {
     "name": "stdout",
     "output_type": "stream",
     "text": [
      "https://api.polygon.io/v2/aggs/ticker/XRAY/range/15/minute/2023-10-01/2024-01-01?adjusted=true&sort=asc&limit=50000&apiKey=NahcgY5iZpJiLbXPYqZcgV6RatP09HUV\n",
      "https://api.polygon.io/v2/aggs/ticker/DVN/range/15/minute/2023-01-01/2023-04-01?adjusted=true&sort=asc&limit=50000&apiKey=NahcgY5iZpJiLbXPYqZcgV6RatP09HUV\n",
      "https://api.polygon.io/v2/aggs/ticker/DVN/range/15/minute/2023-04-01/2023-07-01?adjusted=true&sort=asc&limit=50000&apiKey=NahcgY5iZpJiLbXPYqZcgV6RatP09HUV\n",
      "https://api.polygon.io/v2/aggs/ticker/DVN/range/15/minute/2023-07-01/2023-10-01?adjusted=true&sort=asc&limit=50000&apiKey=NahcgY5iZpJiLbXPYqZcgV6RatP09HUV\n",
      "https://api.polygon.io/v2/aggs/ticker/DVN/range/15/minute/2023-10-01/2024-01-01?adjusted=true&sort=asc&limit=50000&apiKey=NahcgY5iZpJiLbXPYqZcgV6RatP09HUV\n",
      "https://api.polygon.io/v2/aggs/ticker/DXCM/range/15/minute/2023-01-01/2023-04-01?adjusted=true&sort=asc&limit=50000&apiKey=NahcgY5iZpJiLbXPYqZcgV6RatP09HUV\n",
      "https://api.polygon.io/v2/aggs/ticker/DXCM/range/15/minute/2023-04-01/2023-07-01?adjusted=true&sort=asc&limit=50000&apiKey=NahcgY5iZpJiLbXPYqZcgV6RatP09HUV\n",
      "https://api.polygon.io/v2/aggs/ticker/DXCM/range/15/minute/2023-07-01/2023-10-01?adjusted=true&sort=asc&limit=50000&apiKey=NahcgY5iZpJiLbXPYqZcgV6RatP09HUV\n",
      "https://api.polygon.io/v2/aggs/ticker/DXCM/range/15/minute/2023-10-01/2024-01-01?adjusted=true&sort=asc&limit=50000&apiKey=NahcgY5iZpJiLbXPYqZcgV6RatP09HUV\n",
      "https://api.polygon.io/v2/aggs/ticker/FANG/range/15/minute/2023-01-01/2023-04-01?adjusted=true&sort=asc&limit=50000&apiKey=NahcgY5iZpJiLbXPYqZcgV6RatP09HUV\n",
      "https://api.polygon.io/v2/aggs/ticker/FANG/range/15/minute/2023-04-01/2023-07-01?adjusted=true&sort=asc&limit=50000&apiKey=NahcgY5iZpJiLbXPYqZcgV6RatP09HUV\n",
      "https://api.polygon.io/v2/aggs/ticker/FANG/range/15/minute/2023-07-01/2023-10-01?adjusted=true&sort=asc&limit=50000&apiKey=NahcgY5iZpJiLbXPYqZcgV6RatP09HUV\n",
      "https://api.polygon.io/v2/aggs/ticker/FANG/range/15/minute/2023-10-01/2024-01-01?adjusted=true&sort=asc&limit=50000&apiKey=NahcgY5iZpJiLbXPYqZcgV6RatP09HUV\n",
      "https://api.polygon.io/v2/aggs/ticker/DLR/range/15/minute/2023-01-01/2023-04-01?adjusted=true&sort=asc&limit=50000&apiKey=NahcgY5iZpJiLbXPYqZcgV6RatP09HUV\n",
      "https://api.polygon.io/v2/aggs/ticker/DLR/range/15/minute/2023-04-01/2023-07-01?adjusted=true&sort=asc&limit=50000&apiKey=NahcgY5iZpJiLbXPYqZcgV6RatP09HUV\n",
      "https://api.polygon.io/v2/aggs/ticker/DLR/range/15/minute/2023-07-01/2023-10-01?adjusted=true&sort=asc&limit=50000&apiKey=NahcgY5iZpJiLbXPYqZcgV6RatP09HUV\n",
      "https://api.polygon.io/v2/aggs/ticker/DLR/range/15/minute/2023-10-01/2024-01-01?adjusted=true&sort=asc&limit=50000&apiKey=NahcgY5iZpJiLbXPYqZcgV6RatP09HUV\n",
      "https://api.polygon.io/v2/aggs/ticker/DFS/range/15/minute/2023-01-01/2023-04-01?adjusted=true&sort=asc&limit=50000&apiKey=NahcgY5iZpJiLbXPYqZcgV6RatP09HUV\n",
      "https://api.polygon.io/v2/aggs/ticker/DFS/range/15/minute/2023-04-01/2023-07-01?adjusted=true&sort=asc&limit=50000&apiKey=NahcgY5iZpJiLbXPYqZcgV6RatP09HUV\n",
      "https://api.polygon.io/v2/aggs/ticker/DFS/range/15/minute/2023-07-01/2023-10-01?adjusted=true&sort=asc&limit=50000&apiKey=NahcgY5iZpJiLbXPYqZcgV6RatP09HUV\n",
      "https://api.polygon.io/v2/aggs/ticker/DFS/range/15/minute/2023-10-01/2024-01-01?adjusted=true&sort=asc&limit=50000&apiKey=NahcgY5iZpJiLbXPYqZcgV6RatP09HUV\n",
      "https://api.polygon.io/v2/aggs/ticker/DG/range/15/minute/2023-01-01/2023-04-01?adjusted=true&sort=asc&limit=50000&apiKey=NahcgY5iZpJiLbXPYqZcgV6RatP09HUV\n",
      "https://api.polygon.io/v2/aggs/ticker/DG/range/15/minute/2023-04-01/2023-07-01?adjusted=true&sort=asc&limit=50000&apiKey=NahcgY5iZpJiLbXPYqZcgV6RatP09HUV\n",
      "https://api.polygon.io/v2/aggs/ticker/DG/range/15/minute/2023-07-01/2023-10-01?adjusted=true&sort=asc&limit=50000&apiKey=NahcgY5iZpJiLbXPYqZcgV6RatP09HUV\n",
      "https://api.polygon.io/v2/aggs/ticker/DG/range/15/minute/2023-10-01/2024-01-01?adjusted=true&sort=asc&limit=50000&apiKey=NahcgY5iZpJiLbXPYqZcgV6RatP09HUV\n",
      "https://api.polygon.io/v2/aggs/ticker/DLTR/range/15/minute/2023-01-01/2023-04-01?adjusted=true&sort=asc&limit=50000&apiKey=NahcgY5iZpJiLbXPYqZcgV6RatP09HUV\n",
      "https://api.polygon.io/v2/aggs/ticker/DLTR/range/15/minute/2023-04-01/2023-07-01?adjusted=true&sort=asc&limit=50000&apiKey=NahcgY5iZpJiLbXPYqZcgV6RatP09HUV\n",
      "https://api.polygon.io/v2/aggs/ticker/DLTR/range/15/minute/2023-07-01/2023-10-01?adjusted=true&sort=asc&limit=50000&apiKey=NahcgY5iZpJiLbXPYqZcgV6RatP09HUV\n",
      "https://api.polygon.io/v2/aggs/ticker/DLTR/range/15/minute/2023-10-01/2024-01-01?adjusted=true&sort=asc&limit=50000&apiKey=NahcgY5iZpJiLbXPYqZcgV6RatP09HUV\n",
      "https://api.polygon.io/v2/aggs/ticker/D/range/15/minute/2023-01-01/2023-04-01?adjusted=true&sort=asc&limit=50000&apiKey=NahcgY5iZpJiLbXPYqZcgV6RatP09HUV\n",
      "https://api.polygon.io/v2/aggs/ticker/D/range/15/minute/2023-04-01/2023-07-01?adjusted=true&sort=asc&limit=50000&apiKey=NahcgY5iZpJiLbXPYqZcgV6RatP09HUV\n",
      "https://api.polygon.io/v2/aggs/ticker/D/range/15/minute/2023-07-01/2023-10-01?adjusted=true&sort=asc&limit=50000&apiKey=NahcgY5iZpJiLbXPYqZcgV6RatP09HUV\n",
      "https://api.polygon.io/v2/aggs/ticker/D/range/15/minute/2023-10-01/2024-01-01?adjusted=true&sort=asc&limit=50000&apiKey=NahcgY5iZpJiLbXPYqZcgV6RatP09HUV\n",
      "https://api.polygon.io/v2/aggs/ticker/DPZ/range/15/minute/2023-01-01/2023-04-01?adjusted=true&sort=asc&limit=50000&apiKey=NahcgY5iZpJiLbXPYqZcgV6RatP09HUV\n",
      "https://api.polygon.io/v2/aggs/ticker/DPZ/range/15/minute/2023-04-01/2023-07-01?adjusted=true&sort=asc&limit=50000&apiKey=NahcgY5iZpJiLbXPYqZcgV6RatP09HUV\n",
      "https://api.polygon.io/v2/aggs/ticker/DPZ/range/15/minute/2023-07-01/2023-10-01?adjusted=true&sort=asc&limit=50000&apiKey=NahcgY5iZpJiLbXPYqZcgV6RatP09HUV\n",
      "https://api.polygon.io/v2/aggs/ticker/DPZ/range/15/minute/2023-10-01/2024-01-01?adjusted=true&sort=asc&limit=50000&apiKey=NahcgY5iZpJiLbXPYqZcgV6RatP09HUV\n",
      "https://api.polygon.io/v2/aggs/ticker/DOV/range/15/minute/2023-01-01/2023-04-01?adjusted=true&sort=asc&limit=50000&apiKey=NahcgY5iZpJiLbXPYqZcgV6RatP09HUV\n",
      "https://api.polygon.io/v2/aggs/ticker/DOV/range/15/minute/2023-04-01/2023-07-01?adjusted=true&sort=asc&limit=50000&apiKey=NahcgY5iZpJiLbXPYqZcgV6RatP09HUV\n",
      "https://api.polygon.io/v2/aggs/ticker/DOV/range/15/minute/2023-07-01/2023-10-01?adjusted=true&sort=asc&limit=50000&apiKey=NahcgY5iZpJiLbXPYqZcgV6RatP09HUV\n",
      "https://api.polygon.io/v2/aggs/ticker/DOV/range/15/minute/2023-10-01/2024-01-01?adjusted=true&sort=asc&limit=50000&apiKey=NahcgY5iZpJiLbXPYqZcgV6RatP09HUV\n",
      "https://api.polygon.io/v2/aggs/ticker/DOW/range/15/minute/2023-01-01/2023-04-01?adjusted=true&sort=asc&limit=50000&apiKey=NahcgY5iZpJiLbXPYqZcgV6RatP09HUV\n",
      "https://api.polygon.io/v2/aggs/ticker/DOW/range/15/minute/2023-04-01/2023-07-01?adjusted=true&sort=asc&limit=50000&apiKey=NahcgY5iZpJiLbXPYqZcgV6RatP09HUV\n",
      "https://api.polygon.io/v2/aggs/ticker/DOW/range/15/minute/2023-07-01/2023-10-01?adjusted=true&sort=asc&limit=50000&apiKey=NahcgY5iZpJiLbXPYqZcgV6RatP09HUV\n",
      "https://api.polygon.io/v2/aggs/ticker/DOW/range/15/minute/2023-10-01/2024-01-01?adjusted=true&sort=asc&limit=50000&apiKey=NahcgY5iZpJiLbXPYqZcgV6RatP09HUV\n",
      "https://api.polygon.io/v2/aggs/ticker/DHI/range/15/minute/2023-01-01/2023-04-01?adjusted=true&sort=asc&limit=50000&apiKey=NahcgY5iZpJiLbXPYqZcgV6RatP09HUV\n",
      "https://api.polygon.io/v2/aggs/ticker/DHI/range/15/minute/2023-04-01/2023-07-01?adjusted=true&sort=asc&limit=50000&apiKey=NahcgY5iZpJiLbXPYqZcgV6RatP09HUV\n",
      "https://api.polygon.io/v2/aggs/ticker/DHI/range/15/minute/2023-07-01/2023-10-01?adjusted=true&sort=asc&limit=50000&apiKey=NahcgY5iZpJiLbXPYqZcgV6RatP09HUV\n",
      "https://api.polygon.io/v2/aggs/ticker/DHI/range/15/minute/2023-10-01/2024-01-01?adjusted=true&sort=asc&limit=50000&apiKey=NahcgY5iZpJiLbXPYqZcgV6RatP09HUV\n",
      "https://api.polygon.io/v2/aggs/ticker/DTE/range/15/minute/2023-01-01/2023-04-01?adjusted=true&sort=asc&limit=50000&apiKey=NahcgY5iZpJiLbXPYqZcgV6RatP09HUV\n",
      "https://api.polygon.io/v2/aggs/ticker/DTE/range/15/minute/2023-04-01/2023-07-01?adjusted=true&sort=asc&limit=50000&apiKey=NahcgY5iZpJiLbXPYqZcgV6RatP09HUV\n",
      "https://api.polygon.io/v2/aggs/ticker/DTE/range/15/minute/2023-07-01/2023-10-01?adjusted=true&sort=asc&limit=50000&apiKey=NahcgY5iZpJiLbXPYqZcgV6RatP09HUV\n",
      "https://api.polygon.io/v2/aggs/ticker/DTE/range/15/minute/2023-10-01/2024-01-01?adjusted=true&sort=asc&limit=50000&apiKey=NahcgY5iZpJiLbXPYqZcgV6RatP09HUV\n"
     ]
    },
    {
     "name": "stdout",
     "output_type": "stream",
     "text": [
      "https://api.polygon.io/v2/aggs/ticker/DUK/range/15/minute/2023-01-01/2023-04-01?adjusted=true&sort=asc&limit=50000&apiKey=NahcgY5iZpJiLbXPYqZcgV6RatP09HUV\n",
      "https://api.polygon.io/v2/aggs/ticker/DUK/range/15/minute/2023-04-01/2023-07-01?adjusted=true&sort=asc&limit=50000&apiKey=NahcgY5iZpJiLbXPYqZcgV6RatP09HUV\n",
      "https://api.polygon.io/v2/aggs/ticker/DUK/range/15/minute/2023-07-01/2023-10-01?adjusted=true&sort=asc&limit=50000&apiKey=NahcgY5iZpJiLbXPYqZcgV6RatP09HUV\n",
      "https://api.polygon.io/v2/aggs/ticker/DUK/range/15/minute/2023-10-01/2024-01-01?adjusted=true&sort=asc&limit=50000&apiKey=NahcgY5iZpJiLbXPYqZcgV6RatP09HUV\n",
      "https://api.polygon.io/v2/aggs/ticker/DD/range/15/minute/2023-01-01/2023-04-01?adjusted=true&sort=asc&limit=50000&apiKey=NahcgY5iZpJiLbXPYqZcgV6RatP09HUV\n",
      "https://api.polygon.io/v2/aggs/ticker/DD/range/15/minute/2023-04-01/2023-07-01?adjusted=true&sort=asc&limit=50000&apiKey=NahcgY5iZpJiLbXPYqZcgV6RatP09HUV\n",
      "https://api.polygon.io/v2/aggs/ticker/DD/range/15/minute/2023-07-01/2023-10-01?adjusted=true&sort=asc&limit=50000&apiKey=NahcgY5iZpJiLbXPYqZcgV6RatP09HUV\n",
      "https://api.polygon.io/v2/aggs/ticker/DD/range/15/minute/2023-10-01/2024-01-01?adjusted=true&sort=asc&limit=50000&apiKey=NahcgY5iZpJiLbXPYqZcgV6RatP09HUV\n",
      "https://api.polygon.io/v2/aggs/ticker/EMN/range/15/minute/2023-01-01/2023-04-01?adjusted=true&sort=asc&limit=50000&apiKey=NahcgY5iZpJiLbXPYqZcgV6RatP09HUV\n",
      "https://api.polygon.io/v2/aggs/ticker/EMN/range/15/minute/2023-04-01/2023-07-01?adjusted=true&sort=asc&limit=50000&apiKey=NahcgY5iZpJiLbXPYqZcgV6RatP09HUV\n",
      "https://api.polygon.io/v2/aggs/ticker/EMN/range/15/minute/2023-07-01/2023-10-01?adjusted=true&sort=asc&limit=50000&apiKey=NahcgY5iZpJiLbXPYqZcgV6RatP09HUV\n",
      "https://api.polygon.io/v2/aggs/ticker/EMN/range/15/minute/2023-10-01/2024-01-01?adjusted=true&sort=asc&limit=50000&apiKey=NahcgY5iZpJiLbXPYqZcgV6RatP09HUV\n",
      "https://api.polygon.io/v2/aggs/ticker/ETN/range/15/minute/2023-01-01/2023-04-01?adjusted=true&sort=asc&limit=50000&apiKey=NahcgY5iZpJiLbXPYqZcgV6RatP09HUV\n",
      "https://api.polygon.io/v2/aggs/ticker/ETN/range/15/minute/2023-04-01/2023-07-01?adjusted=true&sort=asc&limit=50000&apiKey=NahcgY5iZpJiLbXPYqZcgV6RatP09HUV\n",
      "https://api.polygon.io/v2/aggs/ticker/ETN/range/15/minute/2023-07-01/2023-10-01?adjusted=true&sort=asc&limit=50000&apiKey=NahcgY5iZpJiLbXPYqZcgV6RatP09HUV\n",
      "https://api.polygon.io/v2/aggs/ticker/ETN/range/15/minute/2023-10-01/2024-01-01?adjusted=true&sort=asc&limit=50000&apiKey=NahcgY5iZpJiLbXPYqZcgV6RatP09HUV\n",
      "https://api.polygon.io/v2/aggs/ticker/EBAY/range/15/minute/2023-01-01/2023-04-01?adjusted=true&sort=asc&limit=50000&apiKey=NahcgY5iZpJiLbXPYqZcgV6RatP09HUV\n",
      "https://api.polygon.io/v2/aggs/ticker/EBAY/range/15/minute/2023-04-01/2023-07-01?adjusted=true&sort=asc&limit=50000&apiKey=NahcgY5iZpJiLbXPYqZcgV6RatP09HUV\n",
      "https://api.polygon.io/v2/aggs/ticker/EBAY/range/15/minute/2023-07-01/2023-10-01?adjusted=true&sort=asc&limit=50000&apiKey=NahcgY5iZpJiLbXPYqZcgV6RatP09HUV\n",
      "https://api.polygon.io/v2/aggs/ticker/EBAY/range/15/minute/2023-10-01/2024-01-01?adjusted=true&sort=asc&limit=50000&apiKey=NahcgY5iZpJiLbXPYqZcgV6RatP09HUV\n",
      "https://api.polygon.io/v2/aggs/ticker/ECL/range/15/minute/2023-01-01/2023-04-01?adjusted=true&sort=asc&limit=50000&apiKey=NahcgY5iZpJiLbXPYqZcgV6RatP09HUV\n",
      "https://api.polygon.io/v2/aggs/ticker/ECL/range/15/minute/2023-04-01/2023-07-01?adjusted=true&sort=asc&limit=50000&apiKey=NahcgY5iZpJiLbXPYqZcgV6RatP09HUV\n",
      "https://api.polygon.io/v2/aggs/ticker/ECL/range/15/minute/2023-07-01/2023-10-01?adjusted=true&sort=asc&limit=50000&apiKey=NahcgY5iZpJiLbXPYqZcgV6RatP09HUV\n",
      "https://api.polygon.io/v2/aggs/ticker/ECL/range/15/minute/2023-10-01/2024-01-01?adjusted=true&sort=asc&limit=50000&apiKey=NahcgY5iZpJiLbXPYqZcgV6RatP09HUV\n",
      "https://api.polygon.io/v2/aggs/ticker/EIX/range/15/minute/2023-01-01/2023-04-01?adjusted=true&sort=asc&limit=50000&apiKey=NahcgY5iZpJiLbXPYqZcgV6RatP09HUV\n",
      "https://api.polygon.io/v2/aggs/ticker/EIX/range/15/minute/2023-04-01/2023-07-01?adjusted=true&sort=asc&limit=50000&apiKey=NahcgY5iZpJiLbXPYqZcgV6RatP09HUV\n",
      "https://api.polygon.io/v2/aggs/ticker/EIX/range/15/minute/2023-07-01/2023-10-01?adjusted=true&sort=asc&limit=50000&apiKey=NahcgY5iZpJiLbXPYqZcgV6RatP09HUV\n",
      "https://api.polygon.io/v2/aggs/ticker/EIX/range/15/minute/2023-10-01/2024-01-01?adjusted=true&sort=asc&limit=50000&apiKey=NahcgY5iZpJiLbXPYqZcgV6RatP09HUV\n",
      "https://api.polygon.io/v2/aggs/ticker/EW/range/15/minute/2023-01-01/2023-04-01?adjusted=true&sort=asc&limit=50000&apiKey=NahcgY5iZpJiLbXPYqZcgV6RatP09HUV\n",
      "https://api.polygon.io/v2/aggs/ticker/EW/range/15/minute/2023-04-01/2023-07-01?adjusted=true&sort=asc&limit=50000&apiKey=NahcgY5iZpJiLbXPYqZcgV6RatP09HUV\n",
      "https://api.polygon.io/v2/aggs/ticker/EW/range/15/minute/2023-07-01/2023-10-01?adjusted=true&sort=asc&limit=50000&apiKey=NahcgY5iZpJiLbXPYqZcgV6RatP09HUV\n",
      "https://api.polygon.io/v2/aggs/ticker/EW/range/15/minute/2023-10-01/2024-01-01?adjusted=true&sort=asc&limit=50000&apiKey=NahcgY5iZpJiLbXPYqZcgV6RatP09HUV\n",
      "https://api.polygon.io/v2/aggs/ticker/EA/range/15/minute/2023-01-01/2023-04-01?adjusted=true&sort=asc&limit=50000&apiKey=NahcgY5iZpJiLbXPYqZcgV6RatP09HUV\n",
      "https://api.polygon.io/v2/aggs/ticker/EA/range/15/minute/2023-04-01/2023-07-01?adjusted=true&sort=asc&limit=50000&apiKey=NahcgY5iZpJiLbXPYqZcgV6RatP09HUV\n",
      "https://api.polygon.io/v2/aggs/ticker/EA/range/15/minute/2023-07-01/2023-10-01?adjusted=true&sort=asc&limit=50000&apiKey=NahcgY5iZpJiLbXPYqZcgV6RatP09HUV\n",
      "https://api.polygon.io/v2/aggs/ticker/EA/range/15/minute/2023-10-01/2024-01-01?adjusted=true&sort=asc&limit=50000&apiKey=NahcgY5iZpJiLbXPYqZcgV6RatP09HUV\n",
      "https://api.polygon.io/v2/aggs/ticker/ELV/range/15/minute/2023-01-01/2023-04-01?adjusted=true&sort=asc&limit=50000&apiKey=NahcgY5iZpJiLbXPYqZcgV6RatP09HUV\n",
      "https://api.polygon.io/v2/aggs/ticker/ELV/range/15/minute/2023-04-01/2023-07-01?adjusted=true&sort=asc&limit=50000&apiKey=NahcgY5iZpJiLbXPYqZcgV6RatP09HUV\n",
      "https://api.polygon.io/v2/aggs/ticker/ELV/range/15/minute/2023-07-01/2023-10-01?adjusted=true&sort=asc&limit=50000&apiKey=NahcgY5iZpJiLbXPYqZcgV6RatP09HUV\n",
      "https://api.polygon.io/v2/aggs/ticker/ELV/range/15/minute/2023-10-01/2024-01-01?adjusted=true&sort=asc&limit=50000&apiKey=NahcgY5iZpJiLbXPYqZcgV6RatP09HUV\n",
      "https://api.polygon.io/v2/aggs/ticker/LLY/range/15/minute/2023-01-01/2023-04-01?adjusted=true&sort=asc&limit=50000&apiKey=NahcgY5iZpJiLbXPYqZcgV6RatP09HUV\n",
      "https://api.polygon.io/v2/aggs/ticker/LLY/range/15/minute/2023-04-01/2023-07-01?adjusted=true&sort=asc&limit=50000&apiKey=NahcgY5iZpJiLbXPYqZcgV6RatP09HUV\n",
      "https://api.polygon.io/v2/aggs/ticker/LLY/range/15/minute/2023-07-01/2023-10-01?adjusted=true&sort=asc&limit=50000&apiKey=NahcgY5iZpJiLbXPYqZcgV6RatP09HUV\n",
      "https://api.polygon.io/v2/aggs/ticker/LLY/range/15/minute/2023-10-01/2024-01-01?adjusted=true&sort=asc&limit=50000&apiKey=NahcgY5iZpJiLbXPYqZcgV6RatP09HUV\n",
      "https://api.polygon.io/v2/aggs/ticker/EMR/range/15/minute/2023-01-01/2023-04-01?adjusted=true&sort=asc&limit=50000&apiKey=NahcgY5iZpJiLbXPYqZcgV6RatP09HUV\n",
      "https://api.polygon.io/v2/aggs/ticker/EMR/range/15/minute/2023-04-01/2023-07-01?adjusted=true&sort=asc&limit=50000&apiKey=NahcgY5iZpJiLbXPYqZcgV6RatP09HUV\n",
      "https://api.polygon.io/v2/aggs/ticker/EMR/range/15/minute/2023-07-01/2023-10-01?adjusted=true&sort=asc&limit=50000&apiKey=NahcgY5iZpJiLbXPYqZcgV6RatP09HUV\n",
      "https://api.polygon.io/v2/aggs/ticker/EMR/range/15/minute/2023-10-01/2024-01-01?adjusted=true&sort=asc&limit=50000&apiKey=NahcgY5iZpJiLbXPYqZcgV6RatP09HUV\n",
      "https://api.polygon.io/v2/aggs/ticker/ENPH/range/15/minute/2023-01-01/2023-04-01?adjusted=true&sort=asc&limit=50000&apiKey=NahcgY5iZpJiLbXPYqZcgV6RatP09HUV\n",
      "https://api.polygon.io/v2/aggs/ticker/ENPH/range/15/minute/2023-04-01/2023-07-01?adjusted=true&sort=asc&limit=50000&apiKey=NahcgY5iZpJiLbXPYqZcgV6RatP09HUV\n",
      "https://api.polygon.io/v2/aggs/ticker/ENPH/range/15/minute/2023-07-01/2023-10-01?adjusted=true&sort=asc&limit=50000&apiKey=NahcgY5iZpJiLbXPYqZcgV6RatP09HUV\n",
      "https://api.polygon.io/v2/aggs/ticker/ENPH/range/15/minute/2023-10-01/2024-01-01?adjusted=true&sort=asc&limit=50000&apiKey=NahcgY5iZpJiLbXPYqZcgV6RatP09HUV\n",
      "https://api.polygon.io/v2/aggs/ticker/ETR/range/15/minute/2023-01-01/2023-04-01?adjusted=true&sort=asc&limit=50000&apiKey=NahcgY5iZpJiLbXPYqZcgV6RatP09HUV\n"
     ]
    },
    {
     "name": "stdout",
     "output_type": "stream",
     "text": [
      "https://api.polygon.io/v2/aggs/ticker/ETR/range/15/minute/2023-04-01/2023-07-01?adjusted=true&sort=asc&limit=50000&apiKey=NahcgY5iZpJiLbXPYqZcgV6RatP09HUV\n",
      "https://api.polygon.io/v2/aggs/ticker/ETR/range/15/minute/2023-07-01/2023-10-01?adjusted=true&sort=asc&limit=50000&apiKey=NahcgY5iZpJiLbXPYqZcgV6RatP09HUV\n",
      "https://api.polygon.io/v2/aggs/ticker/ETR/range/15/minute/2023-10-01/2024-01-01?adjusted=true&sort=asc&limit=50000&apiKey=NahcgY5iZpJiLbXPYqZcgV6RatP09HUV\n",
      "https://api.polygon.io/v2/aggs/ticker/EOG/range/15/minute/2023-01-01/2023-04-01?adjusted=true&sort=asc&limit=50000&apiKey=NahcgY5iZpJiLbXPYqZcgV6RatP09HUV\n",
      "https://api.polygon.io/v2/aggs/ticker/EOG/range/15/minute/2023-04-01/2023-07-01?adjusted=true&sort=asc&limit=50000&apiKey=NahcgY5iZpJiLbXPYqZcgV6RatP09HUV\n",
      "https://api.polygon.io/v2/aggs/ticker/EOG/range/15/minute/2023-07-01/2023-10-01?adjusted=true&sort=asc&limit=50000&apiKey=NahcgY5iZpJiLbXPYqZcgV6RatP09HUV\n",
      "https://api.polygon.io/v2/aggs/ticker/EOG/range/15/minute/2023-10-01/2024-01-01?adjusted=true&sort=asc&limit=50000&apiKey=NahcgY5iZpJiLbXPYqZcgV6RatP09HUV\n",
      "https://api.polygon.io/v2/aggs/ticker/EPAM/range/15/minute/2023-01-01/2023-04-01?adjusted=true&sort=asc&limit=50000&apiKey=NahcgY5iZpJiLbXPYqZcgV6RatP09HUV\n",
      "https://api.polygon.io/v2/aggs/ticker/EPAM/range/15/minute/2023-04-01/2023-07-01?adjusted=true&sort=asc&limit=50000&apiKey=NahcgY5iZpJiLbXPYqZcgV6RatP09HUV\n",
      "https://api.polygon.io/v2/aggs/ticker/EPAM/range/15/minute/2023-07-01/2023-10-01?adjusted=true&sort=asc&limit=50000&apiKey=NahcgY5iZpJiLbXPYqZcgV6RatP09HUV\n",
      "https://api.polygon.io/v2/aggs/ticker/EPAM/range/15/minute/2023-10-01/2024-01-01?adjusted=true&sort=asc&limit=50000&apiKey=NahcgY5iZpJiLbXPYqZcgV6RatP09HUV\n",
      "https://api.polygon.io/v2/aggs/ticker/EQT/range/15/minute/2023-01-01/2023-04-01?adjusted=true&sort=asc&limit=50000&apiKey=NahcgY5iZpJiLbXPYqZcgV6RatP09HUV\n",
      "https://api.polygon.io/v2/aggs/ticker/EQT/range/15/minute/2023-04-01/2023-07-01?adjusted=true&sort=asc&limit=50000&apiKey=NahcgY5iZpJiLbXPYqZcgV6RatP09HUV\n",
      "https://api.polygon.io/v2/aggs/ticker/EQT/range/15/minute/2023-07-01/2023-10-01?adjusted=true&sort=asc&limit=50000&apiKey=NahcgY5iZpJiLbXPYqZcgV6RatP09HUV\n",
      "https://api.polygon.io/v2/aggs/ticker/EQT/range/15/minute/2023-10-01/2024-01-01?adjusted=true&sort=asc&limit=50000&apiKey=NahcgY5iZpJiLbXPYqZcgV6RatP09HUV\n",
      "https://api.polygon.io/v2/aggs/ticker/EFX/range/15/minute/2023-01-01/2023-04-01?adjusted=true&sort=asc&limit=50000&apiKey=NahcgY5iZpJiLbXPYqZcgV6RatP09HUV\n",
      "https://api.polygon.io/v2/aggs/ticker/EFX/range/15/minute/2023-04-01/2023-07-01?adjusted=true&sort=asc&limit=50000&apiKey=NahcgY5iZpJiLbXPYqZcgV6RatP09HUV\n",
      "https://api.polygon.io/v2/aggs/ticker/EFX/range/15/minute/2023-07-01/2023-10-01?adjusted=true&sort=asc&limit=50000&apiKey=NahcgY5iZpJiLbXPYqZcgV6RatP09HUV\n",
      "https://api.polygon.io/v2/aggs/ticker/EFX/range/15/minute/2023-10-01/2024-01-01?adjusted=true&sort=asc&limit=50000&apiKey=NahcgY5iZpJiLbXPYqZcgV6RatP09HUV\n",
      "https://api.polygon.io/v2/aggs/ticker/EQIX/range/15/minute/2023-01-01/2023-04-01?adjusted=true&sort=asc&limit=50000&apiKey=NahcgY5iZpJiLbXPYqZcgV6RatP09HUV\n",
      "https://api.polygon.io/v2/aggs/ticker/EQIX/range/15/minute/2023-04-01/2023-07-01?adjusted=true&sort=asc&limit=50000&apiKey=NahcgY5iZpJiLbXPYqZcgV6RatP09HUV\n",
      "https://api.polygon.io/v2/aggs/ticker/EQIX/range/15/minute/2023-07-01/2023-10-01?adjusted=true&sort=asc&limit=50000&apiKey=NahcgY5iZpJiLbXPYqZcgV6RatP09HUV\n",
      "https://api.polygon.io/v2/aggs/ticker/EQIX/range/15/minute/2023-10-01/2024-01-01?adjusted=true&sort=asc&limit=50000&apiKey=NahcgY5iZpJiLbXPYqZcgV6RatP09HUV\n",
      "https://api.polygon.io/v2/aggs/ticker/EQR/range/15/minute/2023-01-01/2023-04-01?adjusted=true&sort=asc&limit=50000&apiKey=NahcgY5iZpJiLbXPYqZcgV6RatP09HUV\n",
      "https://api.polygon.io/v2/aggs/ticker/EQR/range/15/minute/2023-04-01/2023-07-01?adjusted=true&sort=asc&limit=50000&apiKey=NahcgY5iZpJiLbXPYqZcgV6RatP09HUV\n",
      "https://api.polygon.io/v2/aggs/ticker/EQR/range/15/minute/2023-07-01/2023-10-01?adjusted=true&sort=asc&limit=50000&apiKey=NahcgY5iZpJiLbXPYqZcgV6RatP09HUV\n",
      "https://api.polygon.io/v2/aggs/ticker/EQR/range/15/minute/2023-10-01/2024-01-01?adjusted=true&sort=asc&limit=50000&apiKey=NahcgY5iZpJiLbXPYqZcgV6RatP09HUV\n",
      "https://api.polygon.io/v2/aggs/ticker/ESS/range/15/minute/2023-01-01/2023-04-01?adjusted=true&sort=asc&limit=50000&apiKey=NahcgY5iZpJiLbXPYqZcgV6RatP09HUV\n",
      "https://api.polygon.io/v2/aggs/ticker/ESS/range/15/minute/2023-04-01/2023-07-01?adjusted=true&sort=asc&limit=50000&apiKey=NahcgY5iZpJiLbXPYqZcgV6RatP09HUV\n",
      "https://api.polygon.io/v2/aggs/ticker/ESS/range/15/minute/2023-07-01/2023-10-01?adjusted=true&sort=asc&limit=50000&apiKey=NahcgY5iZpJiLbXPYqZcgV6RatP09HUV\n",
      "https://api.polygon.io/v2/aggs/ticker/ESS/range/15/minute/2023-10-01/2024-01-01?adjusted=true&sort=asc&limit=50000&apiKey=NahcgY5iZpJiLbXPYqZcgV6RatP09HUV\n",
      "https://api.polygon.io/v2/aggs/ticker/EL/range/15/minute/2023-01-01/2023-04-01?adjusted=true&sort=asc&limit=50000&apiKey=NahcgY5iZpJiLbXPYqZcgV6RatP09HUV\n",
      "https://api.polygon.io/v2/aggs/ticker/EL/range/15/minute/2023-04-01/2023-07-01?adjusted=true&sort=asc&limit=50000&apiKey=NahcgY5iZpJiLbXPYqZcgV6RatP09HUV\n",
      "https://api.polygon.io/v2/aggs/ticker/EL/range/15/minute/2023-07-01/2023-10-01?adjusted=true&sort=asc&limit=50000&apiKey=NahcgY5iZpJiLbXPYqZcgV6RatP09HUV\n",
      "https://api.polygon.io/v2/aggs/ticker/EL/range/15/minute/2023-10-01/2024-01-01?adjusted=true&sort=asc&limit=50000&apiKey=NahcgY5iZpJiLbXPYqZcgV6RatP09HUV\n",
      "https://api.polygon.io/v2/aggs/ticker/ETSY/range/15/minute/2023-01-01/2023-04-01?adjusted=true&sort=asc&limit=50000&apiKey=NahcgY5iZpJiLbXPYqZcgV6RatP09HUV\n",
      "https://api.polygon.io/v2/aggs/ticker/ETSY/range/15/minute/2023-04-01/2023-07-01?adjusted=true&sort=asc&limit=50000&apiKey=NahcgY5iZpJiLbXPYqZcgV6RatP09HUV\n",
      "https://api.polygon.io/v2/aggs/ticker/ETSY/range/15/minute/2023-07-01/2023-10-01?adjusted=true&sort=asc&limit=50000&apiKey=NahcgY5iZpJiLbXPYqZcgV6RatP09HUV\n",
      "https://api.polygon.io/v2/aggs/ticker/ETSY/range/15/minute/2023-10-01/2024-01-01?adjusted=true&sort=asc&limit=50000&apiKey=NahcgY5iZpJiLbXPYqZcgV6RatP09HUV\n",
      "https://api.polygon.io/v2/aggs/ticker/EG/range/15/minute/2023-01-01/2023-04-01?adjusted=true&sort=asc&limit=50000&apiKey=NahcgY5iZpJiLbXPYqZcgV6RatP09HUV\n",
      "{'ticker': 'EG', 'queryCount': 0, 'resultsCount': 0, 'adjusted': True, 'status': 'OK', 'request_id': '7a979fdba378de82d68bb2304fa21126'}\n",
      "https://api.polygon.io/v2/aggs/ticker/EG/range/15/minute/2023-04-01/2023-07-01?adjusted=true&sort=asc&limit=50000&apiKey=NahcgY5iZpJiLbXPYqZcgV6RatP09HUV\n",
      "{'ticker': 'EG', 'queryCount': 0, 'resultsCount': 0, 'adjusted': True, 'status': 'OK', 'request_id': 'e3f25e3a1df91bd102533d50be741c0d'}\n",
      "https://api.polygon.io/v2/aggs/ticker/EG/range/15/minute/2023-07-01/2023-10-01?adjusted=true&sort=asc&limit=50000&apiKey=NahcgY5iZpJiLbXPYqZcgV6RatP09HUV\n",
      "https://api.polygon.io/v2/aggs/ticker/EG/range/15/minute/2023-10-01/2024-01-01?adjusted=true&sort=asc&limit=50000&apiKey=NahcgY5iZpJiLbXPYqZcgV6RatP09HUV\n",
      "https://api.polygon.io/v2/aggs/ticker/EVRG/range/15/minute/2023-01-01/2023-04-01?adjusted=true&sort=asc&limit=50000&apiKey=NahcgY5iZpJiLbXPYqZcgV6RatP09HUV\n",
      "https://api.polygon.io/v2/aggs/ticker/EVRG/range/15/minute/2023-04-01/2023-07-01?adjusted=true&sort=asc&limit=50000&apiKey=NahcgY5iZpJiLbXPYqZcgV6RatP09HUV\n",
      "https://api.polygon.io/v2/aggs/ticker/EVRG/range/15/minute/2023-07-01/2023-10-01?adjusted=true&sort=asc&limit=50000&apiKey=NahcgY5iZpJiLbXPYqZcgV6RatP09HUV\n",
      "https://api.polygon.io/v2/aggs/ticker/EVRG/range/15/minute/2023-10-01/2024-01-01?adjusted=true&sort=asc&limit=50000&apiKey=NahcgY5iZpJiLbXPYqZcgV6RatP09HUV\n",
      "https://api.polygon.io/v2/aggs/ticker/ES/range/15/minute/2023-01-01/2023-04-01?adjusted=true&sort=asc&limit=50000&apiKey=NahcgY5iZpJiLbXPYqZcgV6RatP09HUV\n",
      "https://api.polygon.io/v2/aggs/ticker/ES/range/15/minute/2023-04-01/2023-07-01?adjusted=true&sort=asc&limit=50000&apiKey=NahcgY5iZpJiLbXPYqZcgV6RatP09HUV\n",
      "https://api.polygon.io/v2/aggs/ticker/ES/range/15/minute/2023-07-01/2023-10-01?adjusted=true&sort=asc&limit=50000&apiKey=NahcgY5iZpJiLbXPYqZcgV6RatP09HUV\n",
      "https://api.polygon.io/v2/aggs/ticker/ES/range/15/minute/2023-10-01/2024-01-01?adjusted=true&sort=asc&limit=50000&apiKey=NahcgY5iZpJiLbXPYqZcgV6RatP09HUV\n",
      "https://api.polygon.io/v2/aggs/ticker/EXC/range/15/minute/2023-01-01/2023-04-01?adjusted=true&sort=asc&limit=50000&apiKey=NahcgY5iZpJiLbXPYqZcgV6RatP09HUV\n"
     ]
    },
    {
     "name": "stdout",
     "output_type": "stream",
     "text": [
      "https://api.polygon.io/v2/aggs/ticker/EXC/range/15/minute/2023-04-01/2023-07-01?adjusted=true&sort=asc&limit=50000&apiKey=NahcgY5iZpJiLbXPYqZcgV6RatP09HUV\n",
      "https://api.polygon.io/v2/aggs/ticker/EXC/range/15/minute/2023-07-01/2023-10-01?adjusted=true&sort=asc&limit=50000&apiKey=NahcgY5iZpJiLbXPYqZcgV6RatP09HUV\n",
      "https://api.polygon.io/v2/aggs/ticker/EXC/range/15/minute/2023-10-01/2024-01-01?adjusted=true&sort=asc&limit=50000&apiKey=NahcgY5iZpJiLbXPYqZcgV6RatP09HUV\n",
      "https://api.polygon.io/v2/aggs/ticker/EXPE/range/15/minute/2023-01-01/2023-04-01?adjusted=true&sort=asc&limit=50000&apiKey=NahcgY5iZpJiLbXPYqZcgV6RatP09HUV\n",
      "https://api.polygon.io/v2/aggs/ticker/EXPE/range/15/minute/2023-04-01/2023-07-01?adjusted=true&sort=asc&limit=50000&apiKey=NahcgY5iZpJiLbXPYqZcgV6RatP09HUV\n",
      "https://api.polygon.io/v2/aggs/ticker/EXPE/range/15/minute/2023-07-01/2023-10-01?adjusted=true&sort=asc&limit=50000&apiKey=NahcgY5iZpJiLbXPYqZcgV6RatP09HUV\n",
      "https://api.polygon.io/v2/aggs/ticker/EXPE/range/15/minute/2023-10-01/2024-01-01?adjusted=true&sort=asc&limit=50000&apiKey=NahcgY5iZpJiLbXPYqZcgV6RatP09HUV\n",
      "https://api.polygon.io/v2/aggs/ticker/EXPD/range/15/minute/2023-01-01/2023-04-01?adjusted=true&sort=asc&limit=50000&apiKey=NahcgY5iZpJiLbXPYqZcgV6RatP09HUV\n",
      "https://api.polygon.io/v2/aggs/ticker/EXPD/range/15/minute/2023-04-01/2023-07-01?adjusted=true&sort=asc&limit=50000&apiKey=NahcgY5iZpJiLbXPYqZcgV6RatP09HUV\n",
      "https://api.polygon.io/v2/aggs/ticker/EXPD/range/15/minute/2023-07-01/2023-10-01?adjusted=true&sort=asc&limit=50000&apiKey=NahcgY5iZpJiLbXPYqZcgV6RatP09HUV\n",
      "https://api.polygon.io/v2/aggs/ticker/EXPD/range/15/minute/2023-10-01/2024-01-01?adjusted=true&sort=asc&limit=50000&apiKey=NahcgY5iZpJiLbXPYqZcgV6RatP09HUV\n",
      "https://api.polygon.io/v2/aggs/ticker/EXR/range/15/minute/2023-01-01/2023-04-01?adjusted=true&sort=asc&limit=50000&apiKey=NahcgY5iZpJiLbXPYqZcgV6RatP09HUV\n",
      "https://api.polygon.io/v2/aggs/ticker/EXR/range/15/minute/2023-04-01/2023-07-01?adjusted=true&sort=asc&limit=50000&apiKey=NahcgY5iZpJiLbXPYqZcgV6RatP09HUV\n",
      "https://api.polygon.io/v2/aggs/ticker/EXR/range/15/minute/2023-07-01/2023-10-01?adjusted=true&sort=asc&limit=50000&apiKey=NahcgY5iZpJiLbXPYqZcgV6RatP09HUV\n",
      "https://api.polygon.io/v2/aggs/ticker/EXR/range/15/minute/2023-10-01/2024-01-01?adjusted=true&sort=asc&limit=50000&apiKey=NahcgY5iZpJiLbXPYqZcgV6RatP09HUV\n",
      "https://api.polygon.io/v2/aggs/ticker/XOM/range/15/minute/2023-01-01/2023-04-01?adjusted=true&sort=asc&limit=50000&apiKey=NahcgY5iZpJiLbXPYqZcgV6RatP09HUV\n",
      "https://api.polygon.io/v2/aggs/ticker/XOM/range/15/minute/2023-04-01/2023-07-01?adjusted=true&sort=asc&limit=50000&apiKey=NahcgY5iZpJiLbXPYqZcgV6RatP09HUV\n",
      "https://api.polygon.io/v2/aggs/ticker/XOM/range/15/minute/2023-07-01/2023-10-01?adjusted=true&sort=asc&limit=50000&apiKey=NahcgY5iZpJiLbXPYqZcgV6RatP09HUV\n",
      "https://api.polygon.io/v2/aggs/ticker/XOM/range/15/minute/2023-10-01/2024-01-01?adjusted=true&sort=asc&limit=50000&apiKey=NahcgY5iZpJiLbXPYqZcgV6RatP09HUV\n",
      "https://api.polygon.io/v2/aggs/ticker/FFIV/range/15/minute/2023-01-01/2023-04-01?adjusted=true&sort=asc&limit=50000&apiKey=NahcgY5iZpJiLbXPYqZcgV6RatP09HUV\n",
      "https://api.polygon.io/v2/aggs/ticker/FFIV/range/15/minute/2023-04-01/2023-07-01?adjusted=true&sort=asc&limit=50000&apiKey=NahcgY5iZpJiLbXPYqZcgV6RatP09HUV\n",
      "https://api.polygon.io/v2/aggs/ticker/FFIV/range/15/minute/2023-07-01/2023-10-01?adjusted=true&sort=asc&limit=50000&apiKey=NahcgY5iZpJiLbXPYqZcgV6RatP09HUV\n",
      "https://api.polygon.io/v2/aggs/ticker/FFIV/range/15/minute/2023-10-01/2024-01-01?adjusted=true&sort=asc&limit=50000&apiKey=NahcgY5iZpJiLbXPYqZcgV6RatP09HUV\n",
      "https://api.polygon.io/v2/aggs/ticker/FDS/range/15/minute/2023-01-01/2023-04-01?adjusted=true&sort=asc&limit=50000&apiKey=NahcgY5iZpJiLbXPYqZcgV6RatP09HUV\n",
      "https://api.polygon.io/v2/aggs/ticker/FDS/range/15/minute/2023-04-01/2023-07-01?adjusted=true&sort=asc&limit=50000&apiKey=NahcgY5iZpJiLbXPYqZcgV6RatP09HUV\n",
      "https://api.polygon.io/v2/aggs/ticker/FDS/range/15/minute/2023-07-01/2023-10-01?adjusted=true&sort=asc&limit=50000&apiKey=NahcgY5iZpJiLbXPYqZcgV6RatP09HUV\n",
      "https://api.polygon.io/v2/aggs/ticker/FDS/range/15/minute/2023-10-01/2024-01-01?adjusted=true&sort=asc&limit=50000&apiKey=NahcgY5iZpJiLbXPYqZcgV6RatP09HUV\n",
      "https://api.polygon.io/v2/aggs/ticker/FICO/range/15/minute/2023-01-01/2023-04-01?adjusted=true&sort=asc&limit=50000&apiKey=NahcgY5iZpJiLbXPYqZcgV6RatP09HUV\n",
      "https://api.polygon.io/v2/aggs/ticker/FICO/range/15/minute/2023-04-01/2023-07-01?adjusted=true&sort=asc&limit=50000&apiKey=NahcgY5iZpJiLbXPYqZcgV6RatP09HUV\n",
      "https://api.polygon.io/v2/aggs/ticker/FICO/range/15/minute/2023-07-01/2023-10-01?adjusted=true&sort=asc&limit=50000&apiKey=NahcgY5iZpJiLbXPYqZcgV6RatP09HUV\n",
      "https://api.polygon.io/v2/aggs/ticker/FICO/range/15/minute/2023-10-01/2024-01-01?adjusted=true&sort=asc&limit=50000&apiKey=NahcgY5iZpJiLbXPYqZcgV6RatP09HUV\n",
      "https://api.polygon.io/v2/aggs/ticker/FAST/range/15/minute/2023-01-01/2023-04-01?adjusted=true&sort=asc&limit=50000&apiKey=NahcgY5iZpJiLbXPYqZcgV6RatP09HUV\n",
      "https://api.polygon.io/v2/aggs/ticker/FAST/range/15/minute/2023-04-01/2023-07-01?adjusted=true&sort=asc&limit=50000&apiKey=NahcgY5iZpJiLbXPYqZcgV6RatP09HUV\n",
      "https://api.polygon.io/v2/aggs/ticker/FAST/range/15/minute/2023-07-01/2023-10-01?adjusted=true&sort=asc&limit=50000&apiKey=NahcgY5iZpJiLbXPYqZcgV6RatP09HUV\n",
      "https://api.polygon.io/v2/aggs/ticker/FAST/range/15/minute/2023-10-01/2024-01-01?adjusted=true&sort=asc&limit=50000&apiKey=NahcgY5iZpJiLbXPYqZcgV6RatP09HUV\n",
      "https://api.polygon.io/v2/aggs/ticker/FRT/range/15/minute/2023-01-01/2023-04-01?adjusted=true&sort=asc&limit=50000&apiKey=NahcgY5iZpJiLbXPYqZcgV6RatP09HUV\n",
      "https://api.polygon.io/v2/aggs/ticker/FRT/range/15/minute/2023-04-01/2023-07-01?adjusted=true&sort=asc&limit=50000&apiKey=NahcgY5iZpJiLbXPYqZcgV6RatP09HUV\n",
      "https://api.polygon.io/v2/aggs/ticker/FRT/range/15/minute/2023-07-01/2023-10-01?adjusted=true&sort=asc&limit=50000&apiKey=NahcgY5iZpJiLbXPYqZcgV6RatP09HUV\n",
      "https://api.polygon.io/v2/aggs/ticker/FRT/range/15/minute/2023-10-01/2024-01-01?adjusted=true&sort=asc&limit=50000&apiKey=NahcgY5iZpJiLbXPYqZcgV6RatP09HUV\n",
      "https://api.polygon.io/v2/aggs/ticker/FDX/range/15/minute/2023-01-01/2023-04-01?adjusted=true&sort=asc&limit=50000&apiKey=NahcgY5iZpJiLbXPYqZcgV6RatP09HUV\n",
      "https://api.polygon.io/v2/aggs/ticker/FDX/range/15/minute/2023-04-01/2023-07-01?adjusted=true&sort=asc&limit=50000&apiKey=NahcgY5iZpJiLbXPYqZcgV6RatP09HUV\n",
      "https://api.polygon.io/v2/aggs/ticker/FDX/range/15/minute/2023-07-01/2023-10-01?adjusted=true&sort=asc&limit=50000&apiKey=NahcgY5iZpJiLbXPYqZcgV6RatP09HUV\n",
      "https://api.polygon.io/v2/aggs/ticker/FDX/range/15/minute/2023-10-01/2024-01-01?adjusted=true&sort=asc&limit=50000&apiKey=NahcgY5iZpJiLbXPYqZcgV6RatP09HUV\n",
      "https://api.polygon.io/v2/aggs/ticker/FIS/range/15/minute/2023-01-01/2023-04-01?adjusted=true&sort=asc&limit=50000&apiKey=NahcgY5iZpJiLbXPYqZcgV6RatP09HUV\n",
      "https://api.polygon.io/v2/aggs/ticker/FIS/range/15/minute/2023-04-01/2023-07-01?adjusted=true&sort=asc&limit=50000&apiKey=NahcgY5iZpJiLbXPYqZcgV6RatP09HUV\n",
      "https://api.polygon.io/v2/aggs/ticker/FIS/range/15/minute/2023-07-01/2023-10-01?adjusted=true&sort=asc&limit=50000&apiKey=NahcgY5iZpJiLbXPYqZcgV6RatP09HUV\n",
      "https://api.polygon.io/v2/aggs/ticker/FIS/range/15/minute/2023-10-01/2024-01-01?adjusted=true&sort=asc&limit=50000&apiKey=NahcgY5iZpJiLbXPYqZcgV6RatP09HUV\n",
      "https://api.polygon.io/v2/aggs/ticker/FITB/range/15/minute/2023-01-01/2023-04-01?adjusted=true&sort=asc&limit=50000&apiKey=NahcgY5iZpJiLbXPYqZcgV6RatP09HUV\n",
      "https://api.polygon.io/v2/aggs/ticker/FITB/range/15/minute/2023-04-01/2023-07-01?adjusted=true&sort=asc&limit=50000&apiKey=NahcgY5iZpJiLbXPYqZcgV6RatP09HUV\n",
      "https://api.polygon.io/v2/aggs/ticker/FITB/range/15/minute/2023-07-01/2023-10-01?adjusted=true&sort=asc&limit=50000&apiKey=NahcgY5iZpJiLbXPYqZcgV6RatP09HUV\n",
      "https://api.polygon.io/v2/aggs/ticker/FITB/range/15/minute/2023-10-01/2024-01-01?adjusted=true&sort=asc&limit=50000&apiKey=NahcgY5iZpJiLbXPYqZcgV6RatP09HUV\n",
      "https://api.polygon.io/v2/aggs/ticker/FSLR/range/15/minute/2023-01-01/2023-04-01?adjusted=true&sort=asc&limit=50000&apiKey=NahcgY5iZpJiLbXPYqZcgV6RatP09HUV\n",
      "https://api.polygon.io/v2/aggs/ticker/FSLR/range/15/minute/2023-04-01/2023-07-01?adjusted=true&sort=asc&limit=50000&apiKey=NahcgY5iZpJiLbXPYqZcgV6RatP09HUV\n"
     ]
    },
    {
     "name": "stdout",
     "output_type": "stream",
     "text": [
      "https://api.polygon.io/v2/aggs/ticker/FSLR/range/15/minute/2023-07-01/2023-10-01?adjusted=true&sort=asc&limit=50000&apiKey=NahcgY5iZpJiLbXPYqZcgV6RatP09HUV\n",
      "https://api.polygon.io/v2/aggs/ticker/FSLR/range/15/minute/2023-10-01/2024-01-01?adjusted=true&sort=asc&limit=50000&apiKey=NahcgY5iZpJiLbXPYqZcgV6RatP09HUV\n",
      "https://api.polygon.io/v2/aggs/ticker/FE/range/15/minute/2023-01-01/2023-04-01?adjusted=true&sort=asc&limit=50000&apiKey=NahcgY5iZpJiLbXPYqZcgV6RatP09HUV\n",
      "https://api.polygon.io/v2/aggs/ticker/FE/range/15/minute/2023-04-01/2023-07-01?adjusted=true&sort=asc&limit=50000&apiKey=NahcgY5iZpJiLbXPYqZcgV6RatP09HUV\n",
      "https://api.polygon.io/v2/aggs/ticker/FE/range/15/minute/2023-07-01/2023-10-01?adjusted=true&sort=asc&limit=50000&apiKey=NahcgY5iZpJiLbXPYqZcgV6RatP09HUV\n",
      "https://api.polygon.io/v2/aggs/ticker/FE/range/15/minute/2023-10-01/2024-01-01?adjusted=true&sort=asc&limit=50000&apiKey=NahcgY5iZpJiLbXPYqZcgV6RatP09HUV\n",
      "https://api.polygon.io/v2/aggs/ticker/FI/range/15/minute/2023-01-01/2023-04-01?adjusted=true&sort=asc&limit=50000&apiKey=NahcgY5iZpJiLbXPYqZcgV6RatP09HUV\n",
      "{'ticker': 'FI', 'queryCount': 0, 'resultsCount': 0, 'adjusted': True, 'status': 'OK', 'request_id': 'ae48fe28ba78d29e41355350a5c372c4'}\n",
      "https://api.polygon.io/v2/aggs/ticker/FI/range/15/minute/2023-04-01/2023-07-01?adjusted=true&sort=asc&limit=50000&apiKey=NahcgY5iZpJiLbXPYqZcgV6RatP09HUV\n",
      "https://api.polygon.io/v2/aggs/ticker/FI/range/15/minute/2023-07-01/2023-10-01?adjusted=true&sort=asc&limit=50000&apiKey=NahcgY5iZpJiLbXPYqZcgV6RatP09HUV\n",
      "https://api.polygon.io/v2/aggs/ticker/FI/range/15/minute/2023-10-01/2024-01-01?adjusted=true&sort=asc&limit=50000&apiKey=NahcgY5iZpJiLbXPYqZcgV6RatP09HUV\n",
      "https://api.polygon.io/v2/aggs/ticker/FLT/range/15/minute/2023-01-01/2023-04-01?adjusted=true&sort=asc&limit=50000&apiKey=NahcgY5iZpJiLbXPYqZcgV6RatP09HUV\n",
      "https://api.polygon.io/v2/aggs/ticker/FLT/range/15/minute/2023-04-01/2023-07-01?adjusted=true&sort=asc&limit=50000&apiKey=NahcgY5iZpJiLbXPYqZcgV6RatP09HUV\n",
      "https://api.polygon.io/v2/aggs/ticker/FLT/range/15/minute/2023-07-01/2023-10-01?adjusted=true&sort=asc&limit=50000&apiKey=NahcgY5iZpJiLbXPYqZcgV6RatP09HUV\n",
      "https://api.polygon.io/v2/aggs/ticker/FLT/range/15/minute/2023-10-01/2024-01-01?adjusted=true&sort=asc&limit=50000&apiKey=NahcgY5iZpJiLbXPYqZcgV6RatP09HUV\n",
      "https://api.polygon.io/v2/aggs/ticker/FMC/range/15/minute/2023-01-01/2023-04-01?adjusted=true&sort=asc&limit=50000&apiKey=NahcgY5iZpJiLbXPYqZcgV6RatP09HUV\n",
      "https://api.polygon.io/v2/aggs/ticker/FMC/range/15/minute/2023-04-01/2023-07-01?adjusted=true&sort=asc&limit=50000&apiKey=NahcgY5iZpJiLbXPYqZcgV6RatP09HUV\n",
      "https://api.polygon.io/v2/aggs/ticker/FMC/range/15/minute/2023-07-01/2023-10-01?adjusted=true&sort=asc&limit=50000&apiKey=NahcgY5iZpJiLbXPYqZcgV6RatP09HUV\n",
      "https://api.polygon.io/v2/aggs/ticker/FMC/range/15/minute/2023-10-01/2024-01-01?adjusted=true&sort=asc&limit=50000&apiKey=NahcgY5iZpJiLbXPYqZcgV6RatP09HUV\n",
      "https://api.polygon.io/v2/aggs/ticker/F/range/15/minute/2023-01-01/2023-04-01?adjusted=true&sort=asc&limit=50000&apiKey=NahcgY5iZpJiLbXPYqZcgV6RatP09HUV\n",
      "https://api.polygon.io/v2/aggs/ticker/F/range/15/minute/2023-04-01/2023-07-01?adjusted=true&sort=asc&limit=50000&apiKey=NahcgY5iZpJiLbXPYqZcgV6RatP09HUV\n",
      "https://api.polygon.io/v2/aggs/ticker/F/range/15/minute/2023-07-01/2023-10-01?adjusted=true&sort=asc&limit=50000&apiKey=NahcgY5iZpJiLbXPYqZcgV6RatP09HUV\n",
      "https://api.polygon.io/v2/aggs/ticker/F/range/15/minute/2023-10-01/2024-01-01?adjusted=true&sort=asc&limit=50000&apiKey=NahcgY5iZpJiLbXPYqZcgV6RatP09HUV\n",
      "https://api.polygon.io/v2/aggs/ticker/FTNT/range/15/minute/2023-01-01/2023-04-01?adjusted=true&sort=asc&limit=50000&apiKey=NahcgY5iZpJiLbXPYqZcgV6RatP09HUV\n",
      "https://api.polygon.io/v2/aggs/ticker/FTNT/range/15/minute/2023-04-01/2023-07-01?adjusted=true&sort=asc&limit=50000&apiKey=NahcgY5iZpJiLbXPYqZcgV6RatP09HUV\n",
      "https://api.polygon.io/v2/aggs/ticker/FTNT/range/15/minute/2023-07-01/2023-10-01?adjusted=true&sort=asc&limit=50000&apiKey=NahcgY5iZpJiLbXPYqZcgV6RatP09HUV\n",
      "https://api.polygon.io/v2/aggs/ticker/FTNT/range/15/minute/2023-10-01/2024-01-01?adjusted=true&sort=asc&limit=50000&apiKey=NahcgY5iZpJiLbXPYqZcgV6RatP09HUV\n",
      "https://api.polygon.io/v2/aggs/ticker/FTV/range/15/minute/2023-01-01/2023-04-01?adjusted=true&sort=asc&limit=50000&apiKey=NahcgY5iZpJiLbXPYqZcgV6RatP09HUV\n",
      "https://api.polygon.io/v2/aggs/ticker/FTV/range/15/minute/2023-04-01/2023-07-01?adjusted=true&sort=asc&limit=50000&apiKey=NahcgY5iZpJiLbXPYqZcgV6RatP09HUV\n",
      "https://api.polygon.io/v2/aggs/ticker/FTV/range/15/minute/2023-07-01/2023-10-01?adjusted=true&sort=asc&limit=50000&apiKey=NahcgY5iZpJiLbXPYqZcgV6RatP09HUV\n",
      "https://api.polygon.io/v2/aggs/ticker/FTV/range/15/minute/2023-10-01/2024-01-01?adjusted=true&sort=asc&limit=50000&apiKey=NahcgY5iZpJiLbXPYqZcgV6RatP09HUV\n",
      "https://api.polygon.io/v2/aggs/ticker/FOXA/range/15/minute/2023-01-01/2023-04-01?adjusted=true&sort=asc&limit=50000&apiKey=NahcgY5iZpJiLbXPYqZcgV6RatP09HUV\n",
      "https://api.polygon.io/v2/aggs/ticker/FOXA/range/15/minute/2023-04-01/2023-07-01?adjusted=true&sort=asc&limit=50000&apiKey=NahcgY5iZpJiLbXPYqZcgV6RatP09HUV\n",
      "https://api.polygon.io/v2/aggs/ticker/FOXA/range/15/minute/2023-07-01/2023-10-01?adjusted=true&sort=asc&limit=50000&apiKey=NahcgY5iZpJiLbXPYqZcgV6RatP09HUV\n",
      "https://api.polygon.io/v2/aggs/ticker/FOXA/range/15/minute/2023-10-01/2024-01-01?adjusted=true&sort=asc&limit=50000&apiKey=NahcgY5iZpJiLbXPYqZcgV6RatP09HUV\n",
      "https://api.polygon.io/v2/aggs/ticker/FOX/range/15/minute/2023-01-01/2023-04-01?adjusted=true&sort=asc&limit=50000&apiKey=NahcgY5iZpJiLbXPYqZcgV6RatP09HUV\n",
      "https://api.polygon.io/v2/aggs/ticker/FOX/range/15/minute/2023-04-01/2023-07-01?adjusted=true&sort=asc&limit=50000&apiKey=NahcgY5iZpJiLbXPYqZcgV6RatP09HUV\n",
      "https://api.polygon.io/v2/aggs/ticker/FOX/range/15/minute/2023-07-01/2023-10-01?adjusted=true&sort=asc&limit=50000&apiKey=NahcgY5iZpJiLbXPYqZcgV6RatP09HUV\n",
      "https://api.polygon.io/v2/aggs/ticker/FOX/range/15/minute/2023-10-01/2024-01-01?adjusted=true&sort=asc&limit=50000&apiKey=NahcgY5iZpJiLbXPYqZcgV6RatP09HUV\n",
      "https://api.polygon.io/v2/aggs/ticker/BEN/range/15/minute/2023-01-01/2023-04-01?adjusted=true&sort=asc&limit=50000&apiKey=NahcgY5iZpJiLbXPYqZcgV6RatP09HUV\n",
      "https://api.polygon.io/v2/aggs/ticker/BEN/range/15/minute/2023-04-01/2023-07-01?adjusted=true&sort=asc&limit=50000&apiKey=NahcgY5iZpJiLbXPYqZcgV6RatP09HUV\n",
      "https://api.polygon.io/v2/aggs/ticker/BEN/range/15/minute/2023-07-01/2023-10-01?adjusted=true&sort=asc&limit=50000&apiKey=NahcgY5iZpJiLbXPYqZcgV6RatP09HUV\n",
      "https://api.polygon.io/v2/aggs/ticker/BEN/range/15/minute/2023-10-01/2024-01-01?adjusted=true&sort=asc&limit=50000&apiKey=NahcgY5iZpJiLbXPYqZcgV6RatP09HUV\n",
      "https://api.polygon.io/v2/aggs/ticker/FCX/range/15/minute/2023-01-01/2023-04-01?adjusted=true&sort=asc&limit=50000&apiKey=NahcgY5iZpJiLbXPYqZcgV6RatP09HUV\n",
      "https://api.polygon.io/v2/aggs/ticker/FCX/range/15/minute/2023-04-01/2023-07-01?adjusted=true&sort=asc&limit=50000&apiKey=NahcgY5iZpJiLbXPYqZcgV6RatP09HUV\n",
      "https://api.polygon.io/v2/aggs/ticker/FCX/range/15/minute/2023-07-01/2023-10-01?adjusted=true&sort=asc&limit=50000&apiKey=NahcgY5iZpJiLbXPYqZcgV6RatP09HUV\n",
      "https://api.polygon.io/v2/aggs/ticker/FCX/range/15/minute/2023-10-01/2024-01-01?adjusted=true&sort=asc&limit=50000&apiKey=NahcgY5iZpJiLbXPYqZcgV6RatP09HUV\n",
      "https://api.polygon.io/v2/aggs/ticker/GRMN/range/15/minute/2023-01-01/2023-04-01?adjusted=true&sort=asc&limit=50000&apiKey=NahcgY5iZpJiLbXPYqZcgV6RatP09HUV\n",
      "https://api.polygon.io/v2/aggs/ticker/GRMN/range/15/minute/2023-04-01/2023-07-01?adjusted=true&sort=asc&limit=50000&apiKey=NahcgY5iZpJiLbXPYqZcgV6RatP09HUV\n",
      "https://api.polygon.io/v2/aggs/ticker/GRMN/range/15/minute/2023-07-01/2023-10-01?adjusted=true&sort=asc&limit=50000&apiKey=NahcgY5iZpJiLbXPYqZcgV6RatP09HUV\n",
      "https://api.polygon.io/v2/aggs/ticker/GRMN/range/15/minute/2023-10-01/2024-01-01?adjusted=true&sort=asc&limit=50000&apiKey=NahcgY5iZpJiLbXPYqZcgV6RatP09HUV\n",
      "https://api.polygon.io/v2/aggs/ticker/IT/range/15/minute/2023-01-01/2023-04-01?adjusted=true&sort=asc&limit=50000&apiKey=NahcgY5iZpJiLbXPYqZcgV6RatP09HUV\n",
      "https://api.polygon.io/v2/aggs/ticker/IT/range/15/minute/2023-04-01/2023-07-01?adjusted=true&sort=asc&limit=50000&apiKey=NahcgY5iZpJiLbXPYqZcgV6RatP09HUV\n"
     ]
    },
    {
     "name": "stdout",
     "output_type": "stream",
     "text": [
      "https://api.polygon.io/v2/aggs/ticker/IT/range/15/minute/2023-07-01/2023-10-01?adjusted=true&sort=asc&limit=50000&apiKey=NahcgY5iZpJiLbXPYqZcgV6RatP09HUV\n",
      "https://api.polygon.io/v2/aggs/ticker/IT/range/15/minute/2023-10-01/2024-01-01?adjusted=true&sort=asc&limit=50000&apiKey=NahcgY5iZpJiLbXPYqZcgV6RatP09HUV\n",
      "https://api.polygon.io/v2/aggs/ticker/GEHC/range/15/minute/2023-01-01/2023-04-01?adjusted=true&sort=asc&limit=50000&apiKey=NahcgY5iZpJiLbXPYqZcgV6RatP09HUV\n",
      "https://api.polygon.io/v2/aggs/ticker/GEHC/range/15/minute/2023-04-01/2023-07-01?adjusted=true&sort=asc&limit=50000&apiKey=NahcgY5iZpJiLbXPYqZcgV6RatP09HUV\n",
      "https://api.polygon.io/v2/aggs/ticker/GEHC/range/15/minute/2023-07-01/2023-10-01?adjusted=true&sort=asc&limit=50000&apiKey=NahcgY5iZpJiLbXPYqZcgV6RatP09HUV\n",
      "https://api.polygon.io/v2/aggs/ticker/GEHC/range/15/minute/2023-10-01/2024-01-01?adjusted=true&sort=asc&limit=50000&apiKey=NahcgY5iZpJiLbXPYqZcgV6RatP09HUV\n",
      "https://api.polygon.io/v2/aggs/ticker/GEN/range/15/minute/2023-01-01/2023-04-01?adjusted=true&sort=asc&limit=50000&apiKey=NahcgY5iZpJiLbXPYqZcgV6RatP09HUV\n",
      "https://api.polygon.io/v2/aggs/ticker/GEN/range/15/minute/2023-04-01/2023-07-01?adjusted=true&sort=asc&limit=50000&apiKey=NahcgY5iZpJiLbXPYqZcgV6RatP09HUV\n",
      "https://api.polygon.io/v2/aggs/ticker/GEN/range/15/minute/2023-07-01/2023-10-01?adjusted=true&sort=asc&limit=50000&apiKey=NahcgY5iZpJiLbXPYqZcgV6RatP09HUV\n",
      "https://api.polygon.io/v2/aggs/ticker/GEN/range/15/minute/2023-10-01/2024-01-01?adjusted=true&sort=asc&limit=50000&apiKey=NahcgY5iZpJiLbXPYqZcgV6RatP09HUV\n",
      "https://api.polygon.io/v2/aggs/ticker/GNRC/range/15/minute/2023-01-01/2023-04-01?adjusted=true&sort=asc&limit=50000&apiKey=NahcgY5iZpJiLbXPYqZcgV6RatP09HUV\n",
      "https://api.polygon.io/v2/aggs/ticker/GNRC/range/15/minute/2023-04-01/2023-07-01?adjusted=true&sort=asc&limit=50000&apiKey=NahcgY5iZpJiLbXPYqZcgV6RatP09HUV\n",
      "https://api.polygon.io/v2/aggs/ticker/GNRC/range/15/minute/2023-07-01/2023-10-01?adjusted=true&sort=asc&limit=50000&apiKey=NahcgY5iZpJiLbXPYqZcgV6RatP09HUV\n",
      "https://api.polygon.io/v2/aggs/ticker/GNRC/range/15/minute/2023-10-01/2024-01-01?adjusted=true&sort=asc&limit=50000&apiKey=NahcgY5iZpJiLbXPYqZcgV6RatP09HUV\n",
      "https://api.polygon.io/v2/aggs/ticker/GD/range/15/minute/2023-01-01/2023-04-01?adjusted=true&sort=asc&limit=50000&apiKey=NahcgY5iZpJiLbXPYqZcgV6RatP09HUV\n",
      "https://api.polygon.io/v2/aggs/ticker/GD/range/15/minute/2023-04-01/2023-07-01?adjusted=true&sort=asc&limit=50000&apiKey=NahcgY5iZpJiLbXPYqZcgV6RatP09HUV\n",
      "https://api.polygon.io/v2/aggs/ticker/GD/range/15/minute/2023-07-01/2023-10-01?adjusted=true&sort=asc&limit=50000&apiKey=NahcgY5iZpJiLbXPYqZcgV6RatP09HUV\n",
      "https://api.polygon.io/v2/aggs/ticker/GD/range/15/minute/2023-10-01/2024-01-01?adjusted=true&sort=asc&limit=50000&apiKey=NahcgY5iZpJiLbXPYqZcgV6RatP09HUV\n",
      "https://api.polygon.io/v2/aggs/ticker/GE/range/15/minute/2023-01-01/2023-04-01?adjusted=true&sort=asc&limit=50000&apiKey=NahcgY5iZpJiLbXPYqZcgV6RatP09HUV\n",
      "https://api.polygon.io/v2/aggs/ticker/GE/range/15/minute/2023-04-01/2023-07-01?adjusted=true&sort=asc&limit=50000&apiKey=NahcgY5iZpJiLbXPYqZcgV6RatP09HUV\n",
      "https://api.polygon.io/v2/aggs/ticker/GE/range/15/minute/2023-07-01/2023-10-01?adjusted=true&sort=asc&limit=50000&apiKey=NahcgY5iZpJiLbXPYqZcgV6RatP09HUV\n",
      "https://api.polygon.io/v2/aggs/ticker/GE/range/15/minute/2023-10-01/2024-01-01?adjusted=true&sort=asc&limit=50000&apiKey=NahcgY5iZpJiLbXPYqZcgV6RatP09HUV\n",
      "https://api.polygon.io/v2/aggs/ticker/GIS/range/15/minute/2023-01-01/2023-04-01?adjusted=true&sort=asc&limit=50000&apiKey=NahcgY5iZpJiLbXPYqZcgV6RatP09HUV\n",
      "https://api.polygon.io/v2/aggs/ticker/GIS/range/15/minute/2023-04-01/2023-07-01?adjusted=true&sort=asc&limit=50000&apiKey=NahcgY5iZpJiLbXPYqZcgV6RatP09HUV\n",
      "https://api.polygon.io/v2/aggs/ticker/GIS/range/15/minute/2023-07-01/2023-10-01?adjusted=true&sort=asc&limit=50000&apiKey=NahcgY5iZpJiLbXPYqZcgV6RatP09HUV\n",
      "https://api.polygon.io/v2/aggs/ticker/GIS/range/15/minute/2023-10-01/2024-01-01?adjusted=true&sort=asc&limit=50000&apiKey=NahcgY5iZpJiLbXPYqZcgV6RatP09HUV\n",
      "https://api.polygon.io/v2/aggs/ticker/GM/range/15/minute/2023-01-01/2023-04-01?adjusted=true&sort=asc&limit=50000&apiKey=NahcgY5iZpJiLbXPYqZcgV6RatP09HUV\n",
      "https://api.polygon.io/v2/aggs/ticker/GM/range/15/minute/2023-04-01/2023-07-01?adjusted=true&sort=asc&limit=50000&apiKey=NahcgY5iZpJiLbXPYqZcgV6RatP09HUV\n",
      "https://api.polygon.io/v2/aggs/ticker/GM/range/15/minute/2023-07-01/2023-10-01?adjusted=true&sort=asc&limit=50000&apiKey=NahcgY5iZpJiLbXPYqZcgV6RatP09HUV\n",
      "https://api.polygon.io/v2/aggs/ticker/GM/range/15/minute/2023-10-01/2024-01-01?adjusted=true&sort=asc&limit=50000&apiKey=NahcgY5iZpJiLbXPYqZcgV6RatP09HUV\n",
      "https://api.polygon.io/v2/aggs/ticker/GPC/range/15/minute/2023-01-01/2023-04-01?adjusted=true&sort=asc&limit=50000&apiKey=NahcgY5iZpJiLbXPYqZcgV6RatP09HUV\n",
      "https://api.polygon.io/v2/aggs/ticker/GPC/range/15/minute/2023-04-01/2023-07-01?adjusted=true&sort=asc&limit=50000&apiKey=NahcgY5iZpJiLbXPYqZcgV6RatP09HUV\n",
      "https://api.polygon.io/v2/aggs/ticker/GPC/range/15/minute/2023-07-01/2023-10-01?adjusted=true&sort=asc&limit=50000&apiKey=NahcgY5iZpJiLbXPYqZcgV6RatP09HUV\n",
      "https://api.polygon.io/v2/aggs/ticker/GPC/range/15/minute/2023-10-01/2024-01-01?adjusted=true&sort=asc&limit=50000&apiKey=NahcgY5iZpJiLbXPYqZcgV6RatP09HUV\n",
      "https://api.polygon.io/v2/aggs/ticker/GILD/range/15/minute/2023-01-01/2023-04-01?adjusted=true&sort=asc&limit=50000&apiKey=NahcgY5iZpJiLbXPYqZcgV6RatP09HUV\n",
      "https://api.polygon.io/v2/aggs/ticker/GILD/range/15/minute/2023-04-01/2023-07-01?adjusted=true&sort=asc&limit=50000&apiKey=NahcgY5iZpJiLbXPYqZcgV6RatP09HUV\n",
      "https://api.polygon.io/v2/aggs/ticker/GILD/range/15/minute/2023-07-01/2023-10-01?adjusted=true&sort=asc&limit=50000&apiKey=NahcgY5iZpJiLbXPYqZcgV6RatP09HUV\n",
      "https://api.polygon.io/v2/aggs/ticker/GILD/range/15/minute/2023-10-01/2024-01-01?adjusted=true&sort=asc&limit=50000&apiKey=NahcgY5iZpJiLbXPYqZcgV6RatP09HUV\n",
      "https://api.polygon.io/v2/aggs/ticker/GPN/range/15/minute/2023-01-01/2023-04-01?adjusted=true&sort=asc&limit=50000&apiKey=NahcgY5iZpJiLbXPYqZcgV6RatP09HUV\n",
      "https://api.polygon.io/v2/aggs/ticker/GPN/range/15/minute/2023-04-01/2023-07-01?adjusted=true&sort=asc&limit=50000&apiKey=NahcgY5iZpJiLbXPYqZcgV6RatP09HUV\n",
      "https://api.polygon.io/v2/aggs/ticker/GPN/range/15/minute/2023-07-01/2023-10-01?adjusted=true&sort=asc&limit=50000&apiKey=NahcgY5iZpJiLbXPYqZcgV6RatP09HUV\n",
      "https://api.polygon.io/v2/aggs/ticker/GPN/range/15/minute/2023-10-01/2024-01-01?adjusted=true&sort=asc&limit=50000&apiKey=NahcgY5iZpJiLbXPYqZcgV6RatP09HUV\n",
      "https://api.polygon.io/v2/aggs/ticker/GL/range/15/minute/2023-01-01/2023-04-01?adjusted=true&sort=asc&limit=50000&apiKey=NahcgY5iZpJiLbXPYqZcgV6RatP09HUV\n",
      "https://api.polygon.io/v2/aggs/ticker/GL/range/15/minute/2023-04-01/2023-07-01?adjusted=true&sort=asc&limit=50000&apiKey=NahcgY5iZpJiLbXPYqZcgV6RatP09HUV\n",
      "https://api.polygon.io/v2/aggs/ticker/GL/range/15/minute/2023-07-01/2023-10-01?adjusted=true&sort=asc&limit=50000&apiKey=NahcgY5iZpJiLbXPYqZcgV6RatP09HUV\n",
      "https://api.polygon.io/v2/aggs/ticker/GL/range/15/minute/2023-10-01/2024-01-01?adjusted=true&sort=asc&limit=50000&apiKey=NahcgY5iZpJiLbXPYqZcgV6RatP09HUV\n",
      "https://api.polygon.io/v2/aggs/ticker/GS/range/15/minute/2023-01-01/2023-04-01?adjusted=true&sort=asc&limit=50000&apiKey=NahcgY5iZpJiLbXPYqZcgV6RatP09HUV\n",
      "https://api.polygon.io/v2/aggs/ticker/GS/range/15/minute/2023-04-01/2023-07-01?adjusted=true&sort=asc&limit=50000&apiKey=NahcgY5iZpJiLbXPYqZcgV6RatP09HUV\n",
      "https://api.polygon.io/v2/aggs/ticker/GS/range/15/minute/2023-07-01/2023-10-01?adjusted=true&sort=asc&limit=50000&apiKey=NahcgY5iZpJiLbXPYqZcgV6RatP09HUV\n",
      "https://api.polygon.io/v2/aggs/ticker/GS/range/15/minute/2023-10-01/2024-01-01?adjusted=true&sort=asc&limit=50000&apiKey=NahcgY5iZpJiLbXPYqZcgV6RatP09HUV\n",
      "https://api.polygon.io/v2/aggs/ticker/HAL/range/15/minute/2023-01-01/2023-04-01?adjusted=true&sort=asc&limit=50000&apiKey=NahcgY5iZpJiLbXPYqZcgV6RatP09HUV\n",
      "https://api.polygon.io/v2/aggs/ticker/HAL/range/15/minute/2023-04-01/2023-07-01?adjusted=true&sort=asc&limit=50000&apiKey=NahcgY5iZpJiLbXPYqZcgV6RatP09HUV\n",
      "https://api.polygon.io/v2/aggs/ticker/HAL/range/15/minute/2023-07-01/2023-10-01?adjusted=true&sort=asc&limit=50000&apiKey=NahcgY5iZpJiLbXPYqZcgV6RatP09HUV\n"
     ]
    },
    {
     "name": "stdout",
     "output_type": "stream",
     "text": [
      "https://api.polygon.io/v2/aggs/ticker/HAL/range/15/minute/2023-10-01/2024-01-01?adjusted=true&sort=asc&limit=50000&apiKey=NahcgY5iZpJiLbXPYqZcgV6RatP09HUV\n",
      "https://api.polygon.io/v2/aggs/ticker/HIG/range/15/minute/2023-01-01/2023-04-01?adjusted=true&sort=asc&limit=50000&apiKey=NahcgY5iZpJiLbXPYqZcgV6RatP09HUV\n",
      "https://api.polygon.io/v2/aggs/ticker/HIG/range/15/minute/2023-04-01/2023-07-01?adjusted=true&sort=asc&limit=50000&apiKey=NahcgY5iZpJiLbXPYqZcgV6RatP09HUV\n",
      "https://api.polygon.io/v2/aggs/ticker/HIG/range/15/minute/2023-07-01/2023-10-01?adjusted=true&sort=asc&limit=50000&apiKey=NahcgY5iZpJiLbXPYqZcgV6RatP09HUV\n",
      "https://api.polygon.io/v2/aggs/ticker/HIG/range/15/minute/2023-10-01/2024-01-01?adjusted=true&sort=asc&limit=50000&apiKey=NahcgY5iZpJiLbXPYqZcgV6RatP09HUV\n",
      "https://api.polygon.io/v2/aggs/ticker/HAS/range/15/minute/2023-01-01/2023-04-01?adjusted=true&sort=asc&limit=50000&apiKey=NahcgY5iZpJiLbXPYqZcgV6RatP09HUV\n",
      "https://api.polygon.io/v2/aggs/ticker/HAS/range/15/minute/2023-04-01/2023-07-01?adjusted=true&sort=asc&limit=50000&apiKey=NahcgY5iZpJiLbXPYqZcgV6RatP09HUV\n",
      "https://api.polygon.io/v2/aggs/ticker/HAS/range/15/minute/2023-07-01/2023-10-01?adjusted=true&sort=asc&limit=50000&apiKey=NahcgY5iZpJiLbXPYqZcgV6RatP09HUV\n",
      "https://api.polygon.io/v2/aggs/ticker/HAS/range/15/minute/2023-10-01/2024-01-01?adjusted=true&sort=asc&limit=50000&apiKey=NahcgY5iZpJiLbXPYqZcgV6RatP09HUV\n",
      "https://api.polygon.io/v2/aggs/ticker/HCA/range/15/minute/2023-01-01/2023-04-01?adjusted=true&sort=asc&limit=50000&apiKey=NahcgY5iZpJiLbXPYqZcgV6RatP09HUV\n",
      "https://api.polygon.io/v2/aggs/ticker/HCA/range/15/minute/2023-04-01/2023-07-01?adjusted=true&sort=asc&limit=50000&apiKey=NahcgY5iZpJiLbXPYqZcgV6RatP09HUV\n",
      "https://api.polygon.io/v2/aggs/ticker/HCA/range/15/minute/2023-07-01/2023-10-01?adjusted=true&sort=asc&limit=50000&apiKey=NahcgY5iZpJiLbXPYqZcgV6RatP09HUV\n",
      "https://api.polygon.io/v2/aggs/ticker/HCA/range/15/minute/2023-10-01/2024-01-01?adjusted=true&sort=asc&limit=50000&apiKey=NahcgY5iZpJiLbXPYqZcgV6RatP09HUV\n",
      "https://api.polygon.io/v2/aggs/ticker/DOC/range/15/minute/2023-01-01/2023-04-01?adjusted=true&sort=asc&limit=50000&apiKey=NahcgY5iZpJiLbXPYqZcgV6RatP09HUV\n",
      "https://api.polygon.io/v2/aggs/ticker/DOC/range/15/minute/2023-04-01/2023-07-01?adjusted=true&sort=asc&limit=50000&apiKey=NahcgY5iZpJiLbXPYqZcgV6RatP09HUV\n",
      "https://api.polygon.io/v2/aggs/ticker/DOC/range/15/minute/2023-07-01/2023-10-01?adjusted=true&sort=asc&limit=50000&apiKey=NahcgY5iZpJiLbXPYqZcgV6RatP09HUV\n",
      "https://api.polygon.io/v2/aggs/ticker/DOC/range/15/minute/2023-10-01/2024-01-01?adjusted=true&sort=asc&limit=50000&apiKey=NahcgY5iZpJiLbXPYqZcgV6RatP09HUV\n",
      "https://api.polygon.io/v2/aggs/ticker/HSIC/range/15/minute/2023-01-01/2023-04-01?adjusted=true&sort=asc&limit=50000&apiKey=NahcgY5iZpJiLbXPYqZcgV6RatP09HUV\n",
      "https://api.polygon.io/v2/aggs/ticker/HSIC/range/15/minute/2023-04-01/2023-07-01?adjusted=true&sort=asc&limit=50000&apiKey=NahcgY5iZpJiLbXPYqZcgV6RatP09HUV\n",
      "https://api.polygon.io/v2/aggs/ticker/HSIC/range/15/minute/2023-07-01/2023-10-01?adjusted=true&sort=asc&limit=50000&apiKey=NahcgY5iZpJiLbXPYqZcgV6RatP09HUV\n",
      "https://api.polygon.io/v2/aggs/ticker/HSIC/range/15/minute/2023-10-01/2024-01-01?adjusted=true&sort=asc&limit=50000&apiKey=NahcgY5iZpJiLbXPYqZcgV6RatP09HUV\n",
      "https://api.polygon.io/v2/aggs/ticker/HSY/range/15/minute/2023-01-01/2023-04-01?adjusted=true&sort=asc&limit=50000&apiKey=NahcgY5iZpJiLbXPYqZcgV6RatP09HUV\n",
      "https://api.polygon.io/v2/aggs/ticker/HSY/range/15/minute/2023-04-01/2023-07-01?adjusted=true&sort=asc&limit=50000&apiKey=NahcgY5iZpJiLbXPYqZcgV6RatP09HUV\n",
      "https://api.polygon.io/v2/aggs/ticker/HSY/range/15/minute/2023-07-01/2023-10-01?adjusted=true&sort=asc&limit=50000&apiKey=NahcgY5iZpJiLbXPYqZcgV6RatP09HUV\n",
      "https://api.polygon.io/v2/aggs/ticker/HSY/range/15/minute/2023-10-01/2024-01-01?adjusted=true&sort=asc&limit=50000&apiKey=NahcgY5iZpJiLbXPYqZcgV6RatP09HUV\n",
      "https://api.polygon.io/v2/aggs/ticker/HES/range/15/minute/2023-01-01/2023-04-01?adjusted=true&sort=asc&limit=50000&apiKey=NahcgY5iZpJiLbXPYqZcgV6RatP09HUV\n",
      "https://api.polygon.io/v2/aggs/ticker/HES/range/15/minute/2023-04-01/2023-07-01?adjusted=true&sort=asc&limit=50000&apiKey=NahcgY5iZpJiLbXPYqZcgV6RatP09HUV\n",
      "https://api.polygon.io/v2/aggs/ticker/HES/range/15/minute/2023-07-01/2023-10-01?adjusted=true&sort=asc&limit=50000&apiKey=NahcgY5iZpJiLbXPYqZcgV6RatP09HUV\n",
      "https://api.polygon.io/v2/aggs/ticker/HES/range/15/minute/2023-10-01/2024-01-01?adjusted=true&sort=asc&limit=50000&apiKey=NahcgY5iZpJiLbXPYqZcgV6RatP09HUV\n",
      "https://api.polygon.io/v2/aggs/ticker/HPE/range/15/minute/2023-01-01/2023-04-01?adjusted=true&sort=asc&limit=50000&apiKey=NahcgY5iZpJiLbXPYqZcgV6RatP09HUV\n",
      "https://api.polygon.io/v2/aggs/ticker/HPE/range/15/minute/2023-04-01/2023-07-01?adjusted=true&sort=asc&limit=50000&apiKey=NahcgY5iZpJiLbXPYqZcgV6RatP09HUV\n",
      "https://api.polygon.io/v2/aggs/ticker/HPE/range/15/minute/2023-07-01/2023-10-01?adjusted=true&sort=asc&limit=50000&apiKey=NahcgY5iZpJiLbXPYqZcgV6RatP09HUV\n",
      "https://api.polygon.io/v2/aggs/ticker/HPE/range/15/minute/2023-10-01/2024-01-01?adjusted=true&sort=asc&limit=50000&apiKey=NahcgY5iZpJiLbXPYqZcgV6RatP09HUV\n",
      "https://api.polygon.io/v2/aggs/ticker/HLT/range/15/minute/2023-01-01/2023-04-01?adjusted=true&sort=asc&limit=50000&apiKey=NahcgY5iZpJiLbXPYqZcgV6RatP09HUV\n",
      "https://api.polygon.io/v2/aggs/ticker/HLT/range/15/minute/2023-04-01/2023-07-01?adjusted=true&sort=asc&limit=50000&apiKey=NahcgY5iZpJiLbXPYqZcgV6RatP09HUV\n",
      "https://api.polygon.io/v2/aggs/ticker/HLT/range/15/minute/2023-07-01/2023-10-01?adjusted=true&sort=asc&limit=50000&apiKey=NahcgY5iZpJiLbXPYqZcgV6RatP09HUV\n",
      "https://api.polygon.io/v2/aggs/ticker/HLT/range/15/minute/2023-10-01/2024-01-01?adjusted=true&sort=asc&limit=50000&apiKey=NahcgY5iZpJiLbXPYqZcgV6RatP09HUV\n",
      "https://api.polygon.io/v2/aggs/ticker/HOLX/range/15/minute/2023-01-01/2023-04-01?adjusted=true&sort=asc&limit=50000&apiKey=NahcgY5iZpJiLbXPYqZcgV6RatP09HUV\n",
      "https://api.polygon.io/v2/aggs/ticker/HOLX/range/15/minute/2023-04-01/2023-07-01?adjusted=true&sort=asc&limit=50000&apiKey=NahcgY5iZpJiLbXPYqZcgV6RatP09HUV\n",
      "https://api.polygon.io/v2/aggs/ticker/HOLX/range/15/minute/2023-07-01/2023-10-01?adjusted=true&sort=asc&limit=50000&apiKey=NahcgY5iZpJiLbXPYqZcgV6RatP09HUV\n",
      "https://api.polygon.io/v2/aggs/ticker/HOLX/range/15/minute/2023-10-01/2024-01-01?adjusted=true&sort=asc&limit=50000&apiKey=NahcgY5iZpJiLbXPYqZcgV6RatP09HUV\n",
      "https://api.polygon.io/v2/aggs/ticker/HD/range/15/minute/2023-01-01/2023-04-01?adjusted=true&sort=asc&limit=50000&apiKey=NahcgY5iZpJiLbXPYqZcgV6RatP09HUV\n",
      "https://api.polygon.io/v2/aggs/ticker/HD/range/15/minute/2023-04-01/2023-07-01?adjusted=true&sort=asc&limit=50000&apiKey=NahcgY5iZpJiLbXPYqZcgV6RatP09HUV\n",
      "https://api.polygon.io/v2/aggs/ticker/HD/range/15/minute/2023-07-01/2023-10-01?adjusted=true&sort=asc&limit=50000&apiKey=NahcgY5iZpJiLbXPYqZcgV6RatP09HUV\n",
      "https://api.polygon.io/v2/aggs/ticker/HD/range/15/minute/2023-10-01/2024-01-01?adjusted=true&sort=asc&limit=50000&apiKey=NahcgY5iZpJiLbXPYqZcgV6RatP09HUV\n",
      "https://api.polygon.io/v2/aggs/ticker/HON/range/15/minute/2023-01-01/2023-04-01?adjusted=true&sort=asc&limit=50000&apiKey=NahcgY5iZpJiLbXPYqZcgV6RatP09HUV\n",
      "https://api.polygon.io/v2/aggs/ticker/HON/range/15/minute/2023-04-01/2023-07-01?adjusted=true&sort=asc&limit=50000&apiKey=NahcgY5iZpJiLbXPYqZcgV6RatP09HUV\n",
      "https://api.polygon.io/v2/aggs/ticker/HON/range/15/minute/2023-07-01/2023-10-01?adjusted=true&sort=asc&limit=50000&apiKey=NahcgY5iZpJiLbXPYqZcgV6RatP09HUV\n",
      "https://api.polygon.io/v2/aggs/ticker/HON/range/15/minute/2023-10-01/2024-01-01?adjusted=true&sort=asc&limit=50000&apiKey=NahcgY5iZpJiLbXPYqZcgV6RatP09HUV\n",
      "https://api.polygon.io/v2/aggs/ticker/HRL/range/15/minute/2023-01-01/2023-04-01?adjusted=true&sort=asc&limit=50000&apiKey=NahcgY5iZpJiLbXPYqZcgV6RatP09HUV\n",
      "https://api.polygon.io/v2/aggs/ticker/HRL/range/15/minute/2023-04-01/2023-07-01?adjusted=true&sort=asc&limit=50000&apiKey=NahcgY5iZpJiLbXPYqZcgV6RatP09HUV\n",
      "https://api.polygon.io/v2/aggs/ticker/HRL/range/15/minute/2023-07-01/2023-10-01?adjusted=true&sort=asc&limit=50000&apiKey=NahcgY5iZpJiLbXPYqZcgV6RatP09HUV\n",
      "https://api.polygon.io/v2/aggs/ticker/HRL/range/15/minute/2023-10-01/2024-01-01?adjusted=true&sort=asc&limit=50000&apiKey=NahcgY5iZpJiLbXPYqZcgV6RatP09HUV\n"
     ]
    },
    {
     "name": "stdout",
     "output_type": "stream",
     "text": [
      "https://api.polygon.io/v2/aggs/ticker/HST/range/15/minute/2023-01-01/2023-04-01?adjusted=true&sort=asc&limit=50000&apiKey=NahcgY5iZpJiLbXPYqZcgV6RatP09HUV\n",
      "https://api.polygon.io/v2/aggs/ticker/HST/range/15/minute/2023-04-01/2023-07-01?adjusted=true&sort=asc&limit=50000&apiKey=NahcgY5iZpJiLbXPYqZcgV6RatP09HUV\n",
      "https://api.polygon.io/v2/aggs/ticker/HST/range/15/minute/2023-07-01/2023-10-01?adjusted=true&sort=asc&limit=50000&apiKey=NahcgY5iZpJiLbXPYqZcgV6RatP09HUV\n",
      "https://api.polygon.io/v2/aggs/ticker/HST/range/15/minute/2023-10-01/2024-01-01?adjusted=true&sort=asc&limit=50000&apiKey=NahcgY5iZpJiLbXPYqZcgV6RatP09HUV\n",
      "https://api.polygon.io/v2/aggs/ticker/HWM/range/15/minute/2023-01-01/2023-04-01?adjusted=true&sort=asc&limit=50000&apiKey=NahcgY5iZpJiLbXPYqZcgV6RatP09HUV\n",
      "https://api.polygon.io/v2/aggs/ticker/HWM/range/15/minute/2023-04-01/2023-07-01?adjusted=true&sort=asc&limit=50000&apiKey=NahcgY5iZpJiLbXPYqZcgV6RatP09HUV\n",
      "https://api.polygon.io/v2/aggs/ticker/HWM/range/15/minute/2023-07-01/2023-10-01?adjusted=true&sort=asc&limit=50000&apiKey=NahcgY5iZpJiLbXPYqZcgV6RatP09HUV\n",
      "https://api.polygon.io/v2/aggs/ticker/HWM/range/15/minute/2023-10-01/2024-01-01?adjusted=true&sort=asc&limit=50000&apiKey=NahcgY5iZpJiLbXPYqZcgV6RatP09HUV\n",
      "https://api.polygon.io/v2/aggs/ticker/HPQ/range/15/minute/2023-01-01/2023-04-01?adjusted=true&sort=asc&limit=50000&apiKey=NahcgY5iZpJiLbXPYqZcgV6RatP09HUV\n",
      "https://api.polygon.io/v2/aggs/ticker/HPQ/range/15/minute/2023-04-01/2023-07-01?adjusted=true&sort=asc&limit=50000&apiKey=NahcgY5iZpJiLbXPYqZcgV6RatP09HUV\n",
      "https://api.polygon.io/v2/aggs/ticker/HPQ/range/15/minute/2023-07-01/2023-10-01?adjusted=true&sort=asc&limit=50000&apiKey=NahcgY5iZpJiLbXPYqZcgV6RatP09HUV\n",
      "https://api.polygon.io/v2/aggs/ticker/HPQ/range/15/minute/2023-10-01/2024-01-01?adjusted=true&sort=asc&limit=50000&apiKey=NahcgY5iZpJiLbXPYqZcgV6RatP09HUV\n",
      "https://api.polygon.io/v2/aggs/ticker/HUBB/range/15/minute/2023-01-01/2023-04-01?adjusted=true&sort=asc&limit=50000&apiKey=NahcgY5iZpJiLbXPYqZcgV6RatP09HUV\n",
      "https://api.polygon.io/v2/aggs/ticker/HUBB/range/15/minute/2023-04-01/2023-07-01?adjusted=true&sort=asc&limit=50000&apiKey=NahcgY5iZpJiLbXPYqZcgV6RatP09HUV\n",
      "https://api.polygon.io/v2/aggs/ticker/HUBB/range/15/minute/2023-07-01/2023-10-01?adjusted=true&sort=asc&limit=50000&apiKey=NahcgY5iZpJiLbXPYqZcgV6RatP09HUV\n",
      "https://api.polygon.io/v2/aggs/ticker/HUBB/range/15/minute/2023-10-01/2024-01-01?adjusted=true&sort=asc&limit=50000&apiKey=NahcgY5iZpJiLbXPYqZcgV6RatP09HUV\n",
      "https://api.polygon.io/v2/aggs/ticker/HUM/range/15/minute/2023-01-01/2023-04-01?adjusted=true&sort=asc&limit=50000&apiKey=NahcgY5iZpJiLbXPYqZcgV6RatP09HUV\n",
      "https://api.polygon.io/v2/aggs/ticker/HUM/range/15/minute/2023-04-01/2023-07-01?adjusted=true&sort=asc&limit=50000&apiKey=NahcgY5iZpJiLbXPYqZcgV6RatP09HUV\n",
      "https://api.polygon.io/v2/aggs/ticker/HUM/range/15/minute/2023-07-01/2023-10-01?adjusted=true&sort=asc&limit=50000&apiKey=NahcgY5iZpJiLbXPYqZcgV6RatP09HUV\n",
      "https://api.polygon.io/v2/aggs/ticker/HUM/range/15/minute/2023-10-01/2024-01-01?adjusted=true&sort=asc&limit=50000&apiKey=NahcgY5iZpJiLbXPYqZcgV6RatP09HUV\n",
      "https://api.polygon.io/v2/aggs/ticker/HBAN/range/15/minute/2023-01-01/2023-04-01?adjusted=true&sort=asc&limit=50000&apiKey=NahcgY5iZpJiLbXPYqZcgV6RatP09HUV\n",
      "https://api.polygon.io/v2/aggs/ticker/HBAN/range/15/minute/2023-04-01/2023-07-01?adjusted=true&sort=asc&limit=50000&apiKey=NahcgY5iZpJiLbXPYqZcgV6RatP09HUV\n",
      "https://api.polygon.io/v2/aggs/ticker/HBAN/range/15/minute/2023-07-01/2023-10-01?adjusted=true&sort=asc&limit=50000&apiKey=NahcgY5iZpJiLbXPYqZcgV6RatP09HUV\n",
      "https://api.polygon.io/v2/aggs/ticker/HBAN/range/15/minute/2023-10-01/2024-01-01?adjusted=true&sort=asc&limit=50000&apiKey=NahcgY5iZpJiLbXPYqZcgV6RatP09HUV\n",
      "https://api.polygon.io/v2/aggs/ticker/HII/range/15/minute/2023-01-01/2023-04-01?adjusted=true&sort=asc&limit=50000&apiKey=NahcgY5iZpJiLbXPYqZcgV6RatP09HUV\n",
      "https://api.polygon.io/v2/aggs/ticker/HII/range/15/minute/2023-04-01/2023-07-01?adjusted=true&sort=asc&limit=50000&apiKey=NahcgY5iZpJiLbXPYqZcgV6RatP09HUV\n",
      "https://api.polygon.io/v2/aggs/ticker/HII/range/15/minute/2023-07-01/2023-10-01?adjusted=true&sort=asc&limit=50000&apiKey=NahcgY5iZpJiLbXPYqZcgV6RatP09HUV\n",
      "https://api.polygon.io/v2/aggs/ticker/HII/range/15/minute/2023-10-01/2024-01-01?adjusted=true&sort=asc&limit=50000&apiKey=NahcgY5iZpJiLbXPYqZcgV6RatP09HUV\n",
      "https://api.polygon.io/v2/aggs/ticker/IBM/range/15/minute/2023-01-01/2023-04-01?adjusted=true&sort=asc&limit=50000&apiKey=NahcgY5iZpJiLbXPYqZcgV6RatP09HUV\n",
      "https://api.polygon.io/v2/aggs/ticker/IBM/range/15/minute/2023-04-01/2023-07-01?adjusted=true&sort=asc&limit=50000&apiKey=NahcgY5iZpJiLbXPYqZcgV6RatP09HUV\n",
      "https://api.polygon.io/v2/aggs/ticker/IBM/range/15/minute/2023-07-01/2023-10-01?adjusted=true&sort=asc&limit=50000&apiKey=NahcgY5iZpJiLbXPYqZcgV6RatP09HUV\n",
      "https://api.polygon.io/v2/aggs/ticker/IBM/range/15/minute/2023-10-01/2024-01-01?adjusted=true&sort=asc&limit=50000&apiKey=NahcgY5iZpJiLbXPYqZcgV6RatP09HUV\n",
      "https://api.polygon.io/v2/aggs/ticker/IEX/range/15/minute/2023-01-01/2023-04-01?adjusted=true&sort=asc&limit=50000&apiKey=NahcgY5iZpJiLbXPYqZcgV6RatP09HUV\n",
      "https://api.polygon.io/v2/aggs/ticker/IEX/range/15/minute/2023-04-01/2023-07-01?adjusted=true&sort=asc&limit=50000&apiKey=NahcgY5iZpJiLbXPYqZcgV6RatP09HUV\n",
      "https://api.polygon.io/v2/aggs/ticker/IEX/range/15/minute/2023-07-01/2023-10-01?adjusted=true&sort=asc&limit=50000&apiKey=NahcgY5iZpJiLbXPYqZcgV6RatP09HUV\n",
      "https://api.polygon.io/v2/aggs/ticker/IEX/range/15/minute/2023-10-01/2024-01-01?adjusted=true&sort=asc&limit=50000&apiKey=NahcgY5iZpJiLbXPYqZcgV6RatP09HUV\n",
      "https://api.polygon.io/v2/aggs/ticker/IDXX/range/15/minute/2023-01-01/2023-04-01?adjusted=true&sort=asc&limit=50000&apiKey=NahcgY5iZpJiLbXPYqZcgV6RatP09HUV\n",
      "https://api.polygon.io/v2/aggs/ticker/IDXX/range/15/minute/2023-04-01/2023-07-01?adjusted=true&sort=asc&limit=50000&apiKey=NahcgY5iZpJiLbXPYqZcgV6RatP09HUV\n",
      "https://api.polygon.io/v2/aggs/ticker/IDXX/range/15/minute/2023-07-01/2023-10-01?adjusted=true&sort=asc&limit=50000&apiKey=NahcgY5iZpJiLbXPYqZcgV6RatP09HUV\n",
      "https://api.polygon.io/v2/aggs/ticker/IDXX/range/15/minute/2023-10-01/2024-01-01?adjusted=true&sort=asc&limit=50000&apiKey=NahcgY5iZpJiLbXPYqZcgV6RatP09HUV\n",
      "https://api.polygon.io/v2/aggs/ticker/ITW/range/15/minute/2023-01-01/2023-04-01?adjusted=true&sort=asc&limit=50000&apiKey=NahcgY5iZpJiLbXPYqZcgV6RatP09HUV\n",
      "https://api.polygon.io/v2/aggs/ticker/ITW/range/15/minute/2023-04-01/2023-07-01?adjusted=true&sort=asc&limit=50000&apiKey=NahcgY5iZpJiLbXPYqZcgV6RatP09HUV\n",
      "https://api.polygon.io/v2/aggs/ticker/ITW/range/15/minute/2023-07-01/2023-10-01?adjusted=true&sort=asc&limit=50000&apiKey=NahcgY5iZpJiLbXPYqZcgV6RatP09HUV\n",
      "https://api.polygon.io/v2/aggs/ticker/ITW/range/15/minute/2023-10-01/2024-01-01?adjusted=true&sort=asc&limit=50000&apiKey=NahcgY5iZpJiLbXPYqZcgV6RatP09HUV\n",
      "https://api.polygon.io/v2/aggs/ticker/ILMN/range/15/minute/2023-01-01/2023-04-01?adjusted=true&sort=asc&limit=50000&apiKey=NahcgY5iZpJiLbXPYqZcgV6RatP09HUV\n",
      "https://api.polygon.io/v2/aggs/ticker/ILMN/range/15/minute/2023-04-01/2023-07-01?adjusted=true&sort=asc&limit=50000&apiKey=NahcgY5iZpJiLbXPYqZcgV6RatP09HUV\n",
      "https://api.polygon.io/v2/aggs/ticker/ILMN/range/15/minute/2023-07-01/2023-10-01?adjusted=true&sort=asc&limit=50000&apiKey=NahcgY5iZpJiLbXPYqZcgV6RatP09HUV\n",
      "https://api.polygon.io/v2/aggs/ticker/ILMN/range/15/minute/2023-10-01/2024-01-01?adjusted=true&sort=asc&limit=50000&apiKey=NahcgY5iZpJiLbXPYqZcgV6RatP09HUV\n",
      "https://api.polygon.io/v2/aggs/ticker/INCY/range/15/minute/2023-01-01/2023-04-01?adjusted=true&sort=asc&limit=50000&apiKey=NahcgY5iZpJiLbXPYqZcgV6RatP09HUV\n",
      "https://api.polygon.io/v2/aggs/ticker/INCY/range/15/minute/2023-04-01/2023-07-01?adjusted=true&sort=asc&limit=50000&apiKey=NahcgY5iZpJiLbXPYqZcgV6RatP09HUV\n",
      "https://api.polygon.io/v2/aggs/ticker/INCY/range/15/minute/2023-07-01/2023-10-01?adjusted=true&sort=asc&limit=50000&apiKey=NahcgY5iZpJiLbXPYqZcgV6RatP09HUV\n",
      "https://api.polygon.io/v2/aggs/ticker/INCY/range/15/minute/2023-10-01/2024-01-01?adjusted=true&sort=asc&limit=50000&apiKey=NahcgY5iZpJiLbXPYqZcgV6RatP09HUV\n",
      "https://api.polygon.io/v2/aggs/ticker/IR/range/15/minute/2023-01-01/2023-04-01?adjusted=true&sort=asc&limit=50000&apiKey=NahcgY5iZpJiLbXPYqZcgV6RatP09HUV\n"
     ]
    },
    {
     "name": "stdout",
     "output_type": "stream",
     "text": [
      "https://api.polygon.io/v2/aggs/ticker/IR/range/15/minute/2023-04-01/2023-07-01?adjusted=true&sort=asc&limit=50000&apiKey=NahcgY5iZpJiLbXPYqZcgV6RatP09HUV\n",
      "https://api.polygon.io/v2/aggs/ticker/IR/range/15/minute/2023-07-01/2023-10-01?adjusted=true&sort=asc&limit=50000&apiKey=NahcgY5iZpJiLbXPYqZcgV6RatP09HUV\n",
      "https://api.polygon.io/v2/aggs/ticker/IR/range/15/minute/2023-10-01/2024-01-01?adjusted=true&sort=asc&limit=50000&apiKey=NahcgY5iZpJiLbXPYqZcgV6RatP09HUV\n",
      "https://api.polygon.io/v2/aggs/ticker/PODD/range/15/minute/2023-01-01/2023-04-01?adjusted=true&sort=asc&limit=50000&apiKey=NahcgY5iZpJiLbXPYqZcgV6RatP09HUV\n",
      "https://api.polygon.io/v2/aggs/ticker/PODD/range/15/minute/2023-04-01/2023-07-01?adjusted=true&sort=asc&limit=50000&apiKey=NahcgY5iZpJiLbXPYqZcgV6RatP09HUV\n",
      "https://api.polygon.io/v2/aggs/ticker/PODD/range/15/minute/2023-07-01/2023-10-01?adjusted=true&sort=asc&limit=50000&apiKey=NahcgY5iZpJiLbXPYqZcgV6RatP09HUV\n",
      "https://api.polygon.io/v2/aggs/ticker/PODD/range/15/minute/2023-10-01/2024-01-01?adjusted=true&sort=asc&limit=50000&apiKey=NahcgY5iZpJiLbXPYqZcgV6RatP09HUV\n",
      "https://api.polygon.io/v2/aggs/ticker/INTC/range/15/minute/2023-01-01/2023-04-01?adjusted=true&sort=asc&limit=50000&apiKey=NahcgY5iZpJiLbXPYqZcgV6RatP09HUV\n",
      "https://api.polygon.io/v2/aggs/ticker/INTC/range/15/minute/2023-04-01/2023-07-01?adjusted=true&sort=asc&limit=50000&apiKey=NahcgY5iZpJiLbXPYqZcgV6RatP09HUV\n",
      "https://api.polygon.io/v2/aggs/ticker/INTC/range/15/minute/2023-07-01/2023-10-01?adjusted=true&sort=asc&limit=50000&apiKey=NahcgY5iZpJiLbXPYqZcgV6RatP09HUV\n",
      "https://api.polygon.io/v2/aggs/ticker/INTC/range/15/minute/2023-10-01/2024-01-01?adjusted=true&sort=asc&limit=50000&apiKey=NahcgY5iZpJiLbXPYqZcgV6RatP09HUV\n",
      "https://api.polygon.io/v2/aggs/ticker/ICE/range/15/minute/2023-01-01/2023-04-01?adjusted=true&sort=asc&limit=50000&apiKey=NahcgY5iZpJiLbXPYqZcgV6RatP09HUV\n",
      "https://api.polygon.io/v2/aggs/ticker/ICE/range/15/minute/2023-04-01/2023-07-01?adjusted=true&sort=asc&limit=50000&apiKey=NahcgY5iZpJiLbXPYqZcgV6RatP09HUV\n",
      "https://api.polygon.io/v2/aggs/ticker/ICE/range/15/minute/2023-07-01/2023-10-01?adjusted=true&sort=asc&limit=50000&apiKey=NahcgY5iZpJiLbXPYqZcgV6RatP09HUV\n",
      "https://api.polygon.io/v2/aggs/ticker/ICE/range/15/minute/2023-10-01/2024-01-01?adjusted=true&sort=asc&limit=50000&apiKey=NahcgY5iZpJiLbXPYqZcgV6RatP09HUV\n",
      "https://api.polygon.io/v2/aggs/ticker/IFF/range/15/minute/2023-01-01/2023-04-01?adjusted=true&sort=asc&limit=50000&apiKey=NahcgY5iZpJiLbXPYqZcgV6RatP09HUV\n",
      "https://api.polygon.io/v2/aggs/ticker/IFF/range/15/minute/2023-04-01/2023-07-01?adjusted=true&sort=asc&limit=50000&apiKey=NahcgY5iZpJiLbXPYqZcgV6RatP09HUV\n",
      "https://api.polygon.io/v2/aggs/ticker/IFF/range/15/minute/2023-07-01/2023-10-01?adjusted=true&sort=asc&limit=50000&apiKey=NahcgY5iZpJiLbXPYqZcgV6RatP09HUV\n",
      "https://api.polygon.io/v2/aggs/ticker/IFF/range/15/minute/2023-10-01/2024-01-01?adjusted=true&sort=asc&limit=50000&apiKey=NahcgY5iZpJiLbXPYqZcgV6RatP09HUV\n",
      "https://api.polygon.io/v2/aggs/ticker/IP/range/15/minute/2023-01-01/2023-04-01?adjusted=true&sort=asc&limit=50000&apiKey=NahcgY5iZpJiLbXPYqZcgV6RatP09HUV\n",
      "https://api.polygon.io/v2/aggs/ticker/IP/range/15/minute/2023-04-01/2023-07-01?adjusted=true&sort=asc&limit=50000&apiKey=NahcgY5iZpJiLbXPYqZcgV6RatP09HUV\n",
      "https://api.polygon.io/v2/aggs/ticker/IP/range/15/minute/2023-07-01/2023-10-01?adjusted=true&sort=asc&limit=50000&apiKey=NahcgY5iZpJiLbXPYqZcgV6RatP09HUV\n",
      "https://api.polygon.io/v2/aggs/ticker/IP/range/15/minute/2023-10-01/2024-01-01?adjusted=true&sort=asc&limit=50000&apiKey=NahcgY5iZpJiLbXPYqZcgV6RatP09HUV\n",
      "https://api.polygon.io/v2/aggs/ticker/IPG/range/15/minute/2023-01-01/2023-04-01?adjusted=true&sort=asc&limit=50000&apiKey=NahcgY5iZpJiLbXPYqZcgV6RatP09HUV\n",
      "https://api.polygon.io/v2/aggs/ticker/IPG/range/15/minute/2023-04-01/2023-07-01?adjusted=true&sort=asc&limit=50000&apiKey=NahcgY5iZpJiLbXPYqZcgV6RatP09HUV\n",
      "https://api.polygon.io/v2/aggs/ticker/IPG/range/15/minute/2023-07-01/2023-10-01?adjusted=true&sort=asc&limit=50000&apiKey=NahcgY5iZpJiLbXPYqZcgV6RatP09HUV\n",
      "https://api.polygon.io/v2/aggs/ticker/IPG/range/15/minute/2023-10-01/2024-01-01?adjusted=true&sort=asc&limit=50000&apiKey=NahcgY5iZpJiLbXPYqZcgV6RatP09HUV\n",
      "https://api.polygon.io/v2/aggs/ticker/INTU/range/15/minute/2023-01-01/2023-04-01?adjusted=true&sort=asc&limit=50000&apiKey=NahcgY5iZpJiLbXPYqZcgV6RatP09HUV\n",
      "https://api.polygon.io/v2/aggs/ticker/INTU/range/15/minute/2023-04-01/2023-07-01?adjusted=true&sort=asc&limit=50000&apiKey=NahcgY5iZpJiLbXPYqZcgV6RatP09HUV\n",
      "https://api.polygon.io/v2/aggs/ticker/INTU/range/15/minute/2023-07-01/2023-10-01?adjusted=true&sort=asc&limit=50000&apiKey=NahcgY5iZpJiLbXPYqZcgV6RatP09HUV\n",
      "https://api.polygon.io/v2/aggs/ticker/INTU/range/15/minute/2023-10-01/2024-01-01?adjusted=true&sort=asc&limit=50000&apiKey=NahcgY5iZpJiLbXPYqZcgV6RatP09HUV\n",
      "https://api.polygon.io/v2/aggs/ticker/ISRG/range/15/minute/2023-01-01/2023-04-01?adjusted=true&sort=asc&limit=50000&apiKey=NahcgY5iZpJiLbXPYqZcgV6RatP09HUV\n",
      "https://api.polygon.io/v2/aggs/ticker/ISRG/range/15/minute/2023-04-01/2023-07-01?adjusted=true&sort=asc&limit=50000&apiKey=NahcgY5iZpJiLbXPYqZcgV6RatP09HUV\n",
      "https://api.polygon.io/v2/aggs/ticker/ISRG/range/15/minute/2023-07-01/2023-10-01?adjusted=true&sort=asc&limit=50000&apiKey=NahcgY5iZpJiLbXPYqZcgV6RatP09HUV\n",
      "https://api.polygon.io/v2/aggs/ticker/ISRG/range/15/minute/2023-10-01/2024-01-01?adjusted=true&sort=asc&limit=50000&apiKey=NahcgY5iZpJiLbXPYqZcgV6RatP09HUV\n",
      "https://api.polygon.io/v2/aggs/ticker/IVZ/range/15/minute/2023-01-01/2023-04-01?adjusted=true&sort=asc&limit=50000&apiKey=NahcgY5iZpJiLbXPYqZcgV6RatP09HUV\n",
      "https://api.polygon.io/v2/aggs/ticker/IVZ/range/15/minute/2023-04-01/2023-07-01?adjusted=true&sort=asc&limit=50000&apiKey=NahcgY5iZpJiLbXPYqZcgV6RatP09HUV\n",
      "https://api.polygon.io/v2/aggs/ticker/IVZ/range/15/minute/2023-07-01/2023-10-01?adjusted=true&sort=asc&limit=50000&apiKey=NahcgY5iZpJiLbXPYqZcgV6RatP09HUV\n",
      "https://api.polygon.io/v2/aggs/ticker/IVZ/range/15/minute/2023-10-01/2024-01-01?adjusted=true&sort=asc&limit=50000&apiKey=NahcgY5iZpJiLbXPYqZcgV6RatP09HUV\n",
      "https://api.polygon.io/v2/aggs/ticker/INVH/range/15/minute/2023-01-01/2023-04-01?adjusted=true&sort=asc&limit=50000&apiKey=NahcgY5iZpJiLbXPYqZcgV6RatP09HUV\n",
      "https://api.polygon.io/v2/aggs/ticker/INVH/range/15/minute/2023-04-01/2023-07-01?adjusted=true&sort=asc&limit=50000&apiKey=NahcgY5iZpJiLbXPYqZcgV6RatP09HUV\n",
      "https://api.polygon.io/v2/aggs/ticker/INVH/range/15/minute/2023-07-01/2023-10-01?adjusted=true&sort=asc&limit=50000&apiKey=NahcgY5iZpJiLbXPYqZcgV6RatP09HUV\n",
      "https://api.polygon.io/v2/aggs/ticker/INVH/range/15/minute/2023-10-01/2024-01-01?adjusted=true&sort=asc&limit=50000&apiKey=NahcgY5iZpJiLbXPYqZcgV6RatP09HUV\n",
      "https://api.polygon.io/v2/aggs/ticker/IQV/range/15/minute/2023-01-01/2023-04-01?adjusted=true&sort=asc&limit=50000&apiKey=NahcgY5iZpJiLbXPYqZcgV6RatP09HUV\n",
      "https://api.polygon.io/v2/aggs/ticker/IQV/range/15/minute/2023-04-01/2023-07-01?adjusted=true&sort=asc&limit=50000&apiKey=NahcgY5iZpJiLbXPYqZcgV6RatP09HUV\n",
      "https://api.polygon.io/v2/aggs/ticker/IQV/range/15/minute/2023-07-01/2023-10-01?adjusted=true&sort=asc&limit=50000&apiKey=NahcgY5iZpJiLbXPYqZcgV6RatP09HUV\n",
      "https://api.polygon.io/v2/aggs/ticker/IQV/range/15/minute/2023-10-01/2024-01-01?adjusted=true&sort=asc&limit=50000&apiKey=NahcgY5iZpJiLbXPYqZcgV6RatP09HUV\n",
      "https://api.polygon.io/v2/aggs/ticker/IRM/range/15/minute/2023-01-01/2023-04-01?adjusted=true&sort=asc&limit=50000&apiKey=NahcgY5iZpJiLbXPYqZcgV6RatP09HUV\n",
      "https://api.polygon.io/v2/aggs/ticker/IRM/range/15/minute/2023-04-01/2023-07-01?adjusted=true&sort=asc&limit=50000&apiKey=NahcgY5iZpJiLbXPYqZcgV6RatP09HUV\n",
      "https://api.polygon.io/v2/aggs/ticker/IRM/range/15/minute/2023-07-01/2023-10-01?adjusted=true&sort=asc&limit=50000&apiKey=NahcgY5iZpJiLbXPYqZcgV6RatP09HUV\n",
      "https://api.polygon.io/v2/aggs/ticker/IRM/range/15/minute/2023-10-01/2024-01-01?adjusted=true&sort=asc&limit=50000&apiKey=NahcgY5iZpJiLbXPYqZcgV6RatP09HUV\n",
      "https://api.polygon.io/v2/aggs/ticker/JBHT/range/15/minute/2023-01-01/2023-04-01?adjusted=true&sort=asc&limit=50000&apiKey=NahcgY5iZpJiLbXPYqZcgV6RatP09HUV\n",
      "https://api.polygon.io/v2/aggs/ticker/JBHT/range/15/minute/2023-04-01/2023-07-01?adjusted=true&sort=asc&limit=50000&apiKey=NahcgY5iZpJiLbXPYqZcgV6RatP09HUV\n"
     ]
    },
    {
     "name": "stdout",
     "output_type": "stream",
     "text": [
      "https://api.polygon.io/v2/aggs/ticker/JBHT/range/15/minute/2023-07-01/2023-10-01?adjusted=true&sort=asc&limit=50000&apiKey=NahcgY5iZpJiLbXPYqZcgV6RatP09HUV\n",
      "https://api.polygon.io/v2/aggs/ticker/JBHT/range/15/minute/2023-10-01/2024-01-01?adjusted=true&sort=asc&limit=50000&apiKey=NahcgY5iZpJiLbXPYqZcgV6RatP09HUV\n",
      "https://api.polygon.io/v2/aggs/ticker/JBL/range/15/minute/2023-01-01/2023-04-01?adjusted=true&sort=asc&limit=50000&apiKey=NahcgY5iZpJiLbXPYqZcgV6RatP09HUV\n",
      "https://api.polygon.io/v2/aggs/ticker/JBL/range/15/minute/2023-04-01/2023-07-01?adjusted=true&sort=asc&limit=50000&apiKey=NahcgY5iZpJiLbXPYqZcgV6RatP09HUV\n",
      "https://api.polygon.io/v2/aggs/ticker/JBL/range/15/minute/2023-07-01/2023-10-01?adjusted=true&sort=asc&limit=50000&apiKey=NahcgY5iZpJiLbXPYqZcgV6RatP09HUV\n",
      "https://api.polygon.io/v2/aggs/ticker/JBL/range/15/minute/2023-10-01/2024-01-01?adjusted=true&sort=asc&limit=50000&apiKey=NahcgY5iZpJiLbXPYqZcgV6RatP09HUV\n",
      "https://api.polygon.io/v2/aggs/ticker/JKHY/range/15/minute/2023-01-01/2023-04-01?adjusted=true&sort=asc&limit=50000&apiKey=NahcgY5iZpJiLbXPYqZcgV6RatP09HUV\n",
      "https://api.polygon.io/v2/aggs/ticker/JKHY/range/15/minute/2023-04-01/2023-07-01?adjusted=true&sort=asc&limit=50000&apiKey=NahcgY5iZpJiLbXPYqZcgV6RatP09HUV\n",
      "https://api.polygon.io/v2/aggs/ticker/JKHY/range/15/minute/2023-07-01/2023-10-01?adjusted=true&sort=asc&limit=50000&apiKey=NahcgY5iZpJiLbXPYqZcgV6RatP09HUV\n",
      "https://api.polygon.io/v2/aggs/ticker/JKHY/range/15/minute/2023-10-01/2024-01-01?adjusted=true&sort=asc&limit=50000&apiKey=NahcgY5iZpJiLbXPYqZcgV6RatP09HUV\n",
      "https://api.polygon.io/v2/aggs/ticker/J/range/15/minute/2023-01-01/2023-04-01?adjusted=true&sort=asc&limit=50000&apiKey=NahcgY5iZpJiLbXPYqZcgV6RatP09HUV\n",
      "https://api.polygon.io/v2/aggs/ticker/J/range/15/minute/2023-04-01/2023-07-01?adjusted=true&sort=asc&limit=50000&apiKey=NahcgY5iZpJiLbXPYqZcgV6RatP09HUV\n",
      "https://api.polygon.io/v2/aggs/ticker/J/range/15/minute/2023-07-01/2023-10-01?adjusted=true&sort=asc&limit=50000&apiKey=NahcgY5iZpJiLbXPYqZcgV6RatP09HUV\n",
      "https://api.polygon.io/v2/aggs/ticker/J/range/15/minute/2023-10-01/2024-01-01?adjusted=true&sort=asc&limit=50000&apiKey=NahcgY5iZpJiLbXPYqZcgV6RatP09HUV\n",
      "https://api.polygon.io/v2/aggs/ticker/JNJ/range/15/minute/2023-01-01/2023-04-01?adjusted=true&sort=asc&limit=50000&apiKey=NahcgY5iZpJiLbXPYqZcgV6RatP09HUV\n",
      "https://api.polygon.io/v2/aggs/ticker/JNJ/range/15/minute/2023-04-01/2023-07-01?adjusted=true&sort=asc&limit=50000&apiKey=NahcgY5iZpJiLbXPYqZcgV6RatP09HUV\n",
      "https://api.polygon.io/v2/aggs/ticker/JNJ/range/15/minute/2023-07-01/2023-10-01?adjusted=true&sort=asc&limit=50000&apiKey=NahcgY5iZpJiLbXPYqZcgV6RatP09HUV\n",
      "https://api.polygon.io/v2/aggs/ticker/JNJ/range/15/minute/2023-10-01/2024-01-01?adjusted=true&sort=asc&limit=50000&apiKey=NahcgY5iZpJiLbXPYqZcgV6RatP09HUV\n",
      "https://api.polygon.io/v2/aggs/ticker/JCI/range/15/minute/2023-01-01/2023-04-01?adjusted=true&sort=asc&limit=50000&apiKey=NahcgY5iZpJiLbXPYqZcgV6RatP09HUV\n",
      "https://api.polygon.io/v2/aggs/ticker/JCI/range/15/minute/2023-04-01/2023-07-01?adjusted=true&sort=asc&limit=50000&apiKey=NahcgY5iZpJiLbXPYqZcgV6RatP09HUV\n",
      "https://api.polygon.io/v2/aggs/ticker/JCI/range/15/minute/2023-07-01/2023-10-01?adjusted=true&sort=asc&limit=50000&apiKey=NahcgY5iZpJiLbXPYqZcgV6RatP09HUV\n",
      "https://api.polygon.io/v2/aggs/ticker/JCI/range/15/minute/2023-10-01/2024-01-01?adjusted=true&sort=asc&limit=50000&apiKey=NahcgY5iZpJiLbXPYqZcgV6RatP09HUV\n",
      "https://api.polygon.io/v2/aggs/ticker/JPM/range/15/minute/2023-01-01/2023-04-01?adjusted=true&sort=asc&limit=50000&apiKey=NahcgY5iZpJiLbXPYqZcgV6RatP09HUV\n",
      "https://api.polygon.io/v2/aggs/ticker/JPM/range/15/minute/2023-04-01/2023-07-01?adjusted=true&sort=asc&limit=50000&apiKey=NahcgY5iZpJiLbXPYqZcgV6RatP09HUV\n",
      "https://api.polygon.io/v2/aggs/ticker/JPM/range/15/minute/2023-07-01/2023-10-01?adjusted=true&sort=asc&limit=50000&apiKey=NahcgY5iZpJiLbXPYqZcgV6RatP09HUV\n",
      "https://api.polygon.io/v2/aggs/ticker/JPM/range/15/minute/2023-10-01/2024-01-01?adjusted=true&sort=asc&limit=50000&apiKey=NahcgY5iZpJiLbXPYqZcgV6RatP09HUV\n",
      "https://api.polygon.io/v2/aggs/ticker/JNPR/range/15/minute/2023-01-01/2023-04-01?adjusted=true&sort=asc&limit=50000&apiKey=NahcgY5iZpJiLbXPYqZcgV6RatP09HUV\n",
      "https://api.polygon.io/v2/aggs/ticker/JNPR/range/15/minute/2023-04-01/2023-07-01?adjusted=true&sort=asc&limit=50000&apiKey=NahcgY5iZpJiLbXPYqZcgV6RatP09HUV\n",
      "https://api.polygon.io/v2/aggs/ticker/JNPR/range/15/minute/2023-07-01/2023-10-01?adjusted=true&sort=asc&limit=50000&apiKey=NahcgY5iZpJiLbXPYqZcgV6RatP09HUV\n",
      "https://api.polygon.io/v2/aggs/ticker/JNPR/range/15/minute/2023-10-01/2024-01-01?adjusted=true&sort=asc&limit=50000&apiKey=NahcgY5iZpJiLbXPYqZcgV6RatP09HUV\n",
      "https://api.polygon.io/v2/aggs/ticker/K/range/15/minute/2023-01-01/2023-04-01?adjusted=true&sort=asc&limit=50000&apiKey=NahcgY5iZpJiLbXPYqZcgV6RatP09HUV\n",
      "https://api.polygon.io/v2/aggs/ticker/K/range/15/minute/2023-04-01/2023-07-01?adjusted=true&sort=asc&limit=50000&apiKey=NahcgY5iZpJiLbXPYqZcgV6RatP09HUV\n",
      "https://api.polygon.io/v2/aggs/ticker/K/range/15/minute/2023-07-01/2023-10-01?adjusted=true&sort=asc&limit=50000&apiKey=NahcgY5iZpJiLbXPYqZcgV6RatP09HUV\n",
      "https://api.polygon.io/v2/aggs/ticker/K/range/15/minute/2023-10-01/2024-01-01?adjusted=true&sort=asc&limit=50000&apiKey=NahcgY5iZpJiLbXPYqZcgV6RatP09HUV\n",
      "https://api.polygon.io/v2/aggs/ticker/KVUE/range/15/minute/2023-01-01/2023-04-01?adjusted=true&sort=asc&limit=50000&apiKey=NahcgY5iZpJiLbXPYqZcgV6RatP09HUV\n",
      "{'ticker': 'KVUE', 'queryCount': 0, 'resultsCount': 0, 'adjusted': True, 'status': 'OK', 'request_id': 'a091bc359672b3c112831cb7a1ebcbfa'}\n",
      "https://api.polygon.io/v2/aggs/ticker/KVUE/range/15/minute/2023-04-01/2023-07-01?adjusted=true&sort=asc&limit=50000&apiKey=NahcgY5iZpJiLbXPYqZcgV6RatP09HUV\n",
      "https://api.polygon.io/v2/aggs/ticker/KVUE/range/15/minute/2023-07-01/2023-10-01?adjusted=true&sort=asc&limit=50000&apiKey=NahcgY5iZpJiLbXPYqZcgV6RatP09HUV\n",
      "https://api.polygon.io/v2/aggs/ticker/KVUE/range/15/minute/2023-10-01/2024-01-01?adjusted=true&sort=asc&limit=50000&apiKey=NahcgY5iZpJiLbXPYqZcgV6RatP09HUV\n",
      "https://api.polygon.io/v2/aggs/ticker/KDP/range/15/minute/2023-01-01/2023-04-01?adjusted=true&sort=asc&limit=50000&apiKey=NahcgY5iZpJiLbXPYqZcgV6RatP09HUV\n",
      "https://api.polygon.io/v2/aggs/ticker/KDP/range/15/minute/2023-04-01/2023-07-01?adjusted=true&sort=asc&limit=50000&apiKey=NahcgY5iZpJiLbXPYqZcgV6RatP09HUV\n",
      "https://api.polygon.io/v2/aggs/ticker/KDP/range/15/minute/2023-07-01/2023-10-01?adjusted=true&sort=asc&limit=50000&apiKey=NahcgY5iZpJiLbXPYqZcgV6RatP09HUV\n",
      "https://api.polygon.io/v2/aggs/ticker/KDP/range/15/minute/2023-10-01/2024-01-01?adjusted=true&sort=asc&limit=50000&apiKey=NahcgY5iZpJiLbXPYqZcgV6RatP09HUV\n",
      "https://api.polygon.io/v2/aggs/ticker/KEY/range/15/minute/2023-01-01/2023-04-01?adjusted=true&sort=asc&limit=50000&apiKey=NahcgY5iZpJiLbXPYqZcgV6RatP09HUV\n",
      "https://api.polygon.io/v2/aggs/ticker/KEY/range/15/minute/2023-04-01/2023-07-01?adjusted=true&sort=asc&limit=50000&apiKey=NahcgY5iZpJiLbXPYqZcgV6RatP09HUV\n",
      "https://api.polygon.io/v2/aggs/ticker/KEY/range/15/minute/2023-07-01/2023-10-01?adjusted=true&sort=asc&limit=50000&apiKey=NahcgY5iZpJiLbXPYqZcgV6RatP09HUV\n",
      "https://api.polygon.io/v2/aggs/ticker/KEY/range/15/minute/2023-10-01/2024-01-01?adjusted=true&sort=asc&limit=50000&apiKey=NahcgY5iZpJiLbXPYqZcgV6RatP09HUV\n",
      "https://api.polygon.io/v2/aggs/ticker/KEYS/range/15/minute/2023-01-01/2023-04-01?adjusted=true&sort=asc&limit=50000&apiKey=NahcgY5iZpJiLbXPYqZcgV6RatP09HUV\n",
      "https://api.polygon.io/v2/aggs/ticker/KEYS/range/15/minute/2023-04-01/2023-07-01?adjusted=true&sort=asc&limit=50000&apiKey=NahcgY5iZpJiLbXPYqZcgV6RatP09HUV\n",
      "https://api.polygon.io/v2/aggs/ticker/KEYS/range/15/minute/2023-07-01/2023-10-01?adjusted=true&sort=asc&limit=50000&apiKey=NahcgY5iZpJiLbXPYqZcgV6RatP09HUV\n",
      "https://api.polygon.io/v2/aggs/ticker/KEYS/range/15/minute/2023-10-01/2024-01-01?adjusted=true&sort=asc&limit=50000&apiKey=NahcgY5iZpJiLbXPYqZcgV6RatP09HUV\n",
      "https://api.polygon.io/v2/aggs/ticker/KMB/range/15/minute/2023-01-01/2023-04-01?adjusted=true&sort=asc&limit=50000&apiKey=NahcgY5iZpJiLbXPYqZcgV6RatP09HUV\n",
      "https://api.polygon.io/v2/aggs/ticker/KMB/range/15/minute/2023-04-01/2023-07-01?adjusted=true&sort=asc&limit=50000&apiKey=NahcgY5iZpJiLbXPYqZcgV6RatP09HUV\n"
     ]
    },
    {
     "name": "stdout",
     "output_type": "stream",
     "text": [
      "https://api.polygon.io/v2/aggs/ticker/KMB/range/15/minute/2023-07-01/2023-10-01?adjusted=true&sort=asc&limit=50000&apiKey=NahcgY5iZpJiLbXPYqZcgV6RatP09HUV\n",
      "https://api.polygon.io/v2/aggs/ticker/KMB/range/15/minute/2023-10-01/2024-01-01?adjusted=true&sort=asc&limit=50000&apiKey=NahcgY5iZpJiLbXPYqZcgV6RatP09HUV\n",
      "https://api.polygon.io/v2/aggs/ticker/KIM/range/15/minute/2023-01-01/2023-04-01?adjusted=true&sort=asc&limit=50000&apiKey=NahcgY5iZpJiLbXPYqZcgV6RatP09HUV\n",
      "https://api.polygon.io/v2/aggs/ticker/KIM/range/15/minute/2023-04-01/2023-07-01?adjusted=true&sort=asc&limit=50000&apiKey=NahcgY5iZpJiLbXPYqZcgV6RatP09HUV\n",
      "https://api.polygon.io/v2/aggs/ticker/KIM/range/15/minute/2023-07-01/2023-10-01?adjusted=true&sort=asc&limit=50000&apiKey=NahcgY5iZpJiLbXPYqZcgV6RatP09HUV\n",
      "https://api.polygon.io/v2/aggs/ticker/KIM/range/15/minute/2023-10-01/2024-01-01?adjusted=true&sort=asc&limit=50000&apiKey=NahcgY5iZpJiLbXPYqZcgV6RatP09HUV\n",
      "https://api.polygon.io/v2/aggs/ticker/KMI/range/15/minute/2023-01-01/2023-04-01?adjusted=true&sort=asc&limit=50000&apiKey=NahcgY5iZpJiLbXPYqZcgV6RatP09HUV\n",
      "https://api.polygon.io/v2/aggs/ticker/KMI/range/15/minute/2023-04-01/2023-07-01?adjusted=true&sort=asc&limit=50000&apiKey=NahcgY5iZpJiLbXPYqZcgV6RatP09HUV\n",
      "https://api.polygon.io/v2/aggs/ticker/KMI/range/15/minute/2023-07-01/2023-10-01?adjusted=true&sort=asc&limit=50000&apiKey=NahcgY5iZpJiLbXPYqZcgV6RatP09HUV\n",
      "https://api.polygon.io/v2/aggs/ticker/KMI/range/15/minute/2023-10-01/2024-01-01?adjusted=true&sort=asc&limit=50000&apiKey=NahcgY5iZpJiLbXPYqZcgV6RatP09HUV\n",
      "https://api.polygon.io/v2/aggs/ticker/KLAC/range/15/minute/2023-01-01/2023-04-01?adjusted=true&sort=asc&limit=50000&apiKey=NahcgY5iZpJiLbXPYqZcgV6RatP09HUV\n",
      "https://api.polygon.io/v2/aggs/ticker/KLAC/range/15/minute/2023-04-01/2023-07-01?adjusted=true&sort=asc&limit=50000&apiKey=NahcgY5iZpJiLbXPYqZcgV6RatP09HUV\n",
      "https://api.polygon.io/v2/aggs/ticker/KLAC/range/15/minute/2023-07-01/2023-10-01?adjusted=true&sort=asc&limit=50000&apiKey=NahcgY5iZpJiLbXPYqZcgV6RatP09HUV\n",
      "https://api.polygon.io/v2/aggs/ticker/KLAC/range/15/minute/2023-10-01/2024-01-01?adjusted=true&sort=asc&limit=50000&apiKey=NahcgY5iZpJiLbXPYqZcgV6RatP09HUV\n",
      "https://api.polygon.io/v2/aggs/ticker/KHC/range/15/minute/2023-01-01/2023-04-01?adjusted=true&sort=asc&limit=50000&apiKey=NahcgY5iZpJiLbXPYqZcgV6RatP09HUV\n",
      "https://api.polygon.io/v2/aggs/ticker/KHC/range/15/minute/2023-04-01/2023-07-01?adjusted=true&sort=asc&limit=50000&apiKey=NahcgY5iZpJiLbXPYqZcgV6RatP09HUV\n",
      "https://api.polygon.io/v2/aggs/ticker/KHC/range/15/minute/2023-07-01/2023-10-01?adjusted=true&sort=asc&limit=50000&apiKey=NahcgY5iZpJiLbXPYqZcgV6RatP09HUV\n",
      "https://api.polygon.io/v2/aggs/ticker/KHC/range/15/minute/2023-10-01/2024-01-01?adjusted=true&sort=asc&limit=50000&apiKey=NahcgY5iZpJiLbXPYqZcgV6RatP09HUV\n",
      "https://api.polygon.io/v2/aggs/ticker/KR/range/15/minute/2023-01-01/2023-04-01?adjusted=true&sort=asc&limit=50000&apiKey=NahcgY5iZpJiLbXPYqZcgV6RatP09HUV\n",
      "https://api.polygon.io/v2/aggs/ticker/KR/range/15/minute/2023-04-01/2023-07-01?adjusted=true&sort=asc&limit=50000&apiKey=NahcgY5iZpJiLbXPYqZcgV6RatP09HUV\n",
      "https://api.polygon.io/v2/aggs/ticker/KR/range/15/minute/2023-07-01/2023-10-01?adjusted=true&sort=asc&limit=50000&apiKey=NahcgY5iZpJiLbXPYqZcgV6RatP09HUV\n",
      "https://api.polygon.io/v2/aggs/ticker/KR/range/15/minute/2023-10-01/2024-01-01?adjusted=true&sort=asc&limit=50000&apiKey=NahcgY5iZpJiLbXPYqZcgV6RatP09HUV\n",
      "https://api.polygon.io/v2/aggs/ticker/LHX/range/15/minute/2023-01-01/2023-04-01?adjusted=true&sort=asc&limit=50000&apiKey=NahcgY5iZpJiLbXPYqZcgV6RatP09HUV\n",
      "https://api.polygon.io/v2/aggs/ticker/LHX/range/15/minute/2023-04-01/2023-07-01?adjusted=true&sort=asc&limit=50000&apiKey=NahcgY5iZpJiLbXPYqZcgV6RatP09HUV\n",
      "https://api.polygon.io/v2/aggs/ticker/LHX/range/15/minute/2023-07-01/2023-10-01?adjusted=true&sort=asc&limit=50000&apiKey=NahcgY5iZpJiLbXPYqZcgV6RatP09HUV\n",
      "https://api.polygon.io/v2/aggs/ticker/LHX/range/15/minute/2023-10-01/2024-01-01?adjusted=true&sort=asc&limit=50000&apiKey=NahcgY5iZpJiLbXPYqZcgV6RatP09HUV\n",
      "https://api.polygon.io/v2/aggs/ticker/LH/range/15/minute/2023-01-01/2023-04-01?adjusted=true&sort=asc&limit=50000&apiKey=NahcgY5iZpJiLbXPYqZcgV6RatP09HUV\n",
      "https://api.polygon.io/v2/aggs/ticker/LH/range/15/minute/2023-04-01/2023-07-01?adjusted=true&sort=asc&limit=50000&apiKey=NahcgY5iZpJiLbXPYqZcgV6RatP09HUV\n",
      "https://api.polygon.io/v2/aggs/ticker/LH/range/15/minute/2023-07-01/2023-10-01?adjusted=true&sort=asc&limit=50000&apiKey=NahcgY5iZpJiLbXPYqZcgV6RatP09HUV\n",
      "https://api.polygon.io/v2/aggs/ticker/LH/range/15/minute/2023-10-01/2024-01-01?adjusted=true&sort=asc&limit=50000&apiKey=NahcgY5iZpJiLbXPYqZcgV6RatP09HUV\n",
      "https://api.polygon.io/v2/aggs/ticker/LRCX/range/15/minute/2023-01-01/2023-04-01?adjusted=true&sort=asc&limit=50000&apiKey=NahcgY5iZpJiLbXPYqZcgV6RatP09HUV\n",
      "https://api.polygon.io/v2/aggs/ticker/LRCX/range/15/minute/2023-04-01/2023-07-01?adjusted=true&sort=asc&limit=50000&apiKey=NahcgY5iZpJiLbXPYqZcgV6RatP09HUV\n",
      "https://api.polygon.io/v2/aggs/ticker/LRCX/range/15/minute/2023-07-01/2023-10-01?adjusted=true&sort=asc&limit=50000&apiKey=NahcgY5iZpJiLbXPYqZcgV6RatP09HUV\n",
      "https://api.polygon.io/v2/aggs/ticker/LRCX/range/15/minute/2023-10-01/2024-01-01?adjusted=true&sort=asc&limit=50000&apiKey=NahcgY5iZpJiLbXPYqZcgV6RatP09HUV\n",
      "https://api.polygon.io/v2/aggs/ticker/LW/range/15/minute/2023-01-01/2023-04-01?adjusted=true&sort=asc&limit=50000&apiKey=NahcgY5iZpJiLbXPYqZcgV6RatP09HUV\n",
      "https://api.polygon.io/v2/aggs/ticker/LW/range/15/minute/2023-04-01/2023-07-01?adjusted=true&sort=asc&limit=50000&apiKey=NahcgY5iZpJiLbXPYqZcgV6RatP09HUV\n",
      "https://api.polygon.io/v2/aggs/ticker/LW/range/15/minute/2023-07-01/2023-10-01?adjusted=true&sort=asc&limit=50000&apiKey=NahcgY5iZpJiLbXPYqZcgV6RatP09HUV\n",
      "https://api.polygon.io/v2/aggs/ticker/LW/range/15/minute/2023-10-01/2024-01-01?adjusted=true&sort=asc&limit=50000&apiKey=NahcgY5iZpJiLbXPYqZcgV6RatP09HUV\n",
      "https://api.polygon.io/v2/aggs/ticker/LVS/range/15/minute/2023-01-01/2023-04-01?adjusted=true&sort=asc&limit=50000&apiKey=NahcgY5iZpJiLbXPYqZcgV6RatP09HUV\n",
      "https://api.polygon.io/v2/aggs/ticker/LVS/range/15/minute/2023-04-01/2023-07-01?adjusted=true&sort=asc&limit=50000&apiKey=NahcgY5iZpJiLbXPYqZcgV6RatP09HUV\n",
      "https://api.polygon.io/v2/aggs/ticker/LVS/range/15/minute/2023-07-01/2023-10-01?adjusted=true&sort=asc&limit=50000&apiKey=NahcgY5iZpJiLbXPYqZcgV6RatP09HUV\n",
      "https://api.polygon.io/v2/aggs/ticker/LVS/range/15/minute/2023-10-01/2024-01-01?adjusted=true&sort=asc&limit=50000&apiKey=NahcgY5iZpJiLbXPYqZcgV6RatP09HUV\n",
      "https://api.polygon.io/v2/aggs/ticker/LDOS/range/15/minute/2023-01-01/2023-04-01?adjusted=true&sort=asc&limit=50000&apiKey=NahcgY5iZpJiLbXPYqZcgV6RatP09HUV\n",
      "https://api.polygon.io/v2/aggs/ticker/LDOS/range/15/minute/2023-04-01/2023-07-01?adjusted=true&sort=asc&limit=50000&apiKey=NahcgY5iZpJiLbXPYqZcgV6RatP09HUV\n",
      "https://api.polygon.io/v2/aggs/ticker/LDOS/range/15/minute/2023-07-01/2023-10-01?adjusted=true&sort=asc&limit=50000&apiKey=NahcgY5iZpJiLbXPYqZcgV6RatP09HUV\n",
      "https://api.polygon.io/v2/aggs/ticker/LDOS/range/15/minute/2023-10-01/2024-01-01?adjusted=true&sort=asc&limit=50000&apiKey=NahcgY5iZpJiLbXPYqZcgV6RatP09HUV\n",
      "https://api.polygon.io/v2/aggs/ticker/LEN/range/15/minute/2023-01-01/2023-04-01?adjusted=true&sort=asc&limit=50000&apiKey=NahcgY5iZpJiLbXPYqZcgV6RatP09HUV\n",
      "https://api.polygon.io/v2/aggs/ticker/LEN/range/15/minute/2023-04-01/2023-07-01?adjusted=true&sort=asc&limit=50000&apiKey=NahcgY5iZpJiLbXPYqZcgV6RatP09HUV\n",
      "https://api.polygon.io/v2/aggs/ticker/LEN/range/15/minute/2023-07-01/2023-10-01?adjusted=true&sort=asc&limit=50000&apiKey=NahcgY5iZpJiLbXPYqZcgV6RatP09HUV\n",
      "https://api.polygon.io/v2/aggs/ticker/LEN/range/15/minute/2023-10-01/2024-01-01?adjusted=true&sort=asc&limit=50000&apiKey=NahcgY5iZpJiLbXPYqZcgV6RatP09HUV\n",
      "https://api.polygon.io/v2/aggs/ticker/LIN/range/15/minute/2023-01-01/2023-04-01?adjusted=true&sort=asc&limit=50000&apiKey=NahcgY5iZpJiLbXPYqZcgV6RatP09HUV\n",
      "https://api.polygon.io/v2/aggs/ticker/LIN/range/15/minute/2023-04-01/2023-07-01?adjusted=true&sort=asc&limit=50000&apiKey=NahcgY5iZpJiLbXPYqZcgV6RatP09HUV\n",
      "https://api.polygon.io/v2/aggs/ticker/LIN/range/15/minute/2023-07-01/2023-10-01?adjusted=true&sort=asc&limit=50000&apiKey=NahcgY5iZpJiLbXPYqZcgV6RatP09HUV\n"
     ]
    },
    {
     "name": "stdout",
     "output_type": "stream",
     "text": [
      "https://api.polygon.io/v2/aggs/ticker/LIN/range/15/minute/2023-10-01/2024-01-01?adjusted=true&sort=asc&limit=50000&apiKey=NahcgY5iZpJiLbXPYqZcgV6RatP09HUV\n",
      "https://api.polygon.io/v2/aggs/ticker/LYV/range/15/minute/2023-01-01/2023-04-01?adjusted=true&sort=asc&limit=50000&apiKey=NahcgY5iZpJiLbXPYqZcgV6RatP09HUV\n",
      "https://api.polygon.io/v2/aggs/ticker/LYV/range/15/minute/2023-04-01/2023-07-01?adjusted=true&sort=asc&limit=50000&apiKey=NahcgY5iZpJiLbXPYqZcgV6RatP09HUV\n",
      "https://api.polygon.io/v2/aggs/ticker/LYV/range/15/minute/2023-07-01/2023-10-01?adjusted=true&sort=asc&limit=50000&apiKey=NahcgY5iZpJiLbXPYqZcgV6RatP09HUV\n",
      "https://api.polygon.io/v2/aggs/ticker/LYV/range/15/minute/2023-10-01/2024-01-01?adjusted=true&sort=asc&limit=50000&apiKey=NahcgY5iZpJiLbXPYqZcgV6RatP09HUV\n",
      "https://api.polygon.io/v2/aggs/ticker/LKQ/range/15/minute/2023-01-01/2023-04-01?adjusted=true&sort=asc&limit=50000&apiKey=NahcgY5iZpJiLbXPYqZcgV6RatP09HUV\n",
      "https://api.polygon.io/v2/aggs/ticker/LKQ/range/15/minute/2023-04-01/2023-07-01?adjusted=true&sort=asc&limit=50000&apiKey=NahcgY5iZpJiLbXPYqZcgV6RatP09HUV\n",
      "https://api.polygon.io/v2/aggs/ticker/LKQ/range/15/minute/2023-07-01/2023-10-01?adjusted=true&sort=asc&limit=50000&apiKey=NahcgY5iZpJiLbXPYqZcgV6RatP09HUV\n",
      "https://api.polygon.io/v2/aggs/ticker/LKQ/range/15/minute/2023-10-01/2024-01-01?adjusted=true&sort=asc&limit=50000&apiKey=NahcgY5iZpJiLbXPYqZcgV6RatP09HUV\n",
      "https://api.polygon.io/v2/aggs/ticker/LMT/range/15/minute/2023-01-01/2023-04-01?adjusted=true&sort=asc&limit=50000&apiKey=NahcgY5iZpJiLbXPYqZcgV6RatP09HUV\n",
      "https://api.polygon.io/v2/aggs/ticker/LMT/range/15/minute/2023-04-01/2023-07-01?adjusted=true&sort=asc&limit=50000&apiKey=NahcgY5iZpJiLbXPYqZcgV6RatP09HUV\n",
      "https://api.polygon.io/v2/aggs/ticker/LMT/range/15/minute/2023-07-01/2023-10-01?adjusted=true&sort=asc&limit=50000&apiKey=NahcgY5iZpJiLbXPYqZcgV6RatP09HUV\n",
      "https://api.polygon.io/v2/aggs/ticker/LMT/range/15/minute/2023-10-01/2024-01-01?adjusted=true&sort=asc&limit=50000&apiKey=NahcgY5iZpJiLbXPYqZcgV6RatP09HUV\n",
      "https://api.polygon.io/v2/aggs/ticker/L/range/15/minute/2023-01-01/2023-04-01?adjusted=true&sort=asc&limit=50000&apiKey=NahcgY5iZpJiLbXPYqZcgV6RatP09HUV\n",
      "https://api.polygon.io/v2/aggs/ticker/L/range/15/minute/2023-04-01/2023-07-01?adjusted=true&sort=asc&limit=50000&apiKey=NahcgY5iZpJiLbXPYqZcgV6RatP09HUV\n",
      "https://api.polygon.io/v2/aggs/ticker/L/range/15/minute/2023-07-01/2023-10-01?adjusted=true&sort=asc&limit=50000&apiKey=NahcgY5iZpJiLbXPYqZcgV6RatP09HUV\n",
      "https://api.polygon.io/v2/aggs/ticker/L/range/15/minute/2023-10-01/2024-01-01?adjusted=true&sort=asc&limit=50000&apiKey=NahcgY5iZpJiLbXPYqZcgV6RatP09HUV\n",
      "https://api.polygon.io/v2/aggs/ticker/LOW/range/15/minute/2023-01-01/2023-04-01?adjusted=true&sort=asc&limit=50000&apiKey=NahcgY5iZpJiLbXPYqZcgV6RatP09HUV\n",
      "https://api.polygon.io/v2/aggs/ticker/LOW/range/15/minute/2023-04-01/2023-07-01?adjusted=true&sort=asc&limit=50000&apiKey=NahcgY5iZpJiLbXPYqZcgV6RatP09HUV\n",
      "https://api.polygon.io/v2/aggs/ticker/LOW/range/15/minute/2023-07-01/2023-10-01?adjusted=true&sort=asc&limit=50000&apiKey=NahcgY5iZpJiLbXPYqZcgV6RatP09HUV\n",
      "https://api.polygon.io/v2/aggs/ticker/LOW/range/15/minute/2023-10-01/2024-01-01?adjusted=true&sort=asc&limit=50000&apiKey=NahcgY5iZpJiLbXPYqZcgV6RatP09HUV\n",
      "https://api.polygon.io/v2/aggs/ticker/LULU/range/15/minute/2023-01-01/2023-04-01?adjusted=true&sort=asc&limit=50000&apiKey=NahcgY5iZpJiLbXPYqZcgV6RatP09HUV\n",
      "https://api.polygon.io/v2/aggs/ticker/LULU/range/15/minute/2023-04-01/2023-07-01?adjusted=true&sort=asc&limit=50000&apiKey=NahcgY5iZpJiLbXPYqZcgV6RatP09HUV\n",
      "https://api.polygon.io/v2/aggs/ticker/LULU/range/15/minute/2023-07-01/2023-10-01?adjusted=true&sort=asc&limit=50000&apiKey=NahcgY5iZpJiLbXPYqZcgV6RatP09HUV\n",
      "https://api.polygon.io/v2/aggs/ticker/LULU/range/15/minute/2023-10-01/2024-01-01?adjusted=true&sort=asc&limit=50000&apiKey=NahcgY5iZpJiLbXPYqZcgV6RatP09HUV\n",
      "https://api.polygon.io/v2/aggs/ticker/LYB/range/15/minute/2023-01-01/2023-04-01?adjusted=true&sort=asc&limit=50000&apiKey=NahcgY5iZpJiLbXPYqZcgV6RatP09HUV\n",
      "https://api.polygon.io/v2/aggs/ticker/LYB/range/15/minute/2023-04-01/2023-07-01?adjusted=true&sort=asc&limit=50000&apiKey=NahcgY5iZpJiLbXPYqZcgV6RatP09HUV\n",
      "https://api.polygon.io/v2/aggs/ticker/LYB/range/15/minute/2023-07-01/2023-10-01?adjusted=true&sort=asc&limit=50000&apiKey=NahcgY5iZpJiLbXPYqZcgV6RatP09HUV\n",
      "https://api.polygon.io/v2/aggs/ticker/LYB/range/15/minute/2023-10-01/2024-01-01?adjusted=true&sort=asc&limit=50000&apiKey=NahcgY5iZpJiLbXPYqZcgV6RatP09HUV\n",
      "https://api.polygon.io/v2/aggs/ticker/MTB/range/15/minute/2023-01-01/2023-04-01?adjusted=true&sort=asc&limit=50000&apiKey=NahcgY5iZpJiLbXPYqZcgV6RatP09HUV\n",
      "https://api.polygon.io/v2/aggs/ticker/MTB/range/15/minute/2023-04-01/2023-07-01?adjusted=true&sort=asc&limit=50000&apiKey=NahcgY5iZpJiLbXPYqZcgV6RatP09HUV\n",
      "https://api.polygon.io/v2/aggs/ticker/MTB/range/15/minute/2023-07-01/2023-10-01?adjusted=true&sort=asc&limit=50000&apiKey=NahcgY5iZpJiLbXPYqZcgV6RatP09HUV\n",
      "https://api.polygon.io/v2/aggs/ticker/MTB/range/15/minute/2023-10-01/2024-01-01?adjusted=true&sort=asc&limit=50000&apiKey=NahcgY5iZpJiLbXPYqZcgV6RatP09HUV\n",
      "https://api.polygon.io/v2/aggs/ticker/MRO/range/15/minute/2023-01-01/2023-04-01?adjusted=true&sort=asc&limit=50000&apiKey=NahcgY5iZpJiLbXPYqZcgV6RatP09HUV\n",
      "https://api.polygon.io/v2/aggs/ticker/MRO/range/15/minute/2023-04-01/2023-07-01?adjusted=true&sort=asc&limit=50000&apiKey=NahcgY5iZpJiLbXPYqZcgV6RatP09HUV\n",
      "https://api.polygon.io/v2/aggs/ticker/MRO/range/15/minute/2023-07-01/2023-10-01?adjusted=true&sort=asc&limit=50000&apiKey=NahcgY5iZpJiLbXPYqZcgV6RatP09HUV\n",
      "https://api.polygon.io/v2/aggs/ticker/MRO/range/15/minute/2023-10-01/2024-01-01?adjusted=true&sort=asc&limit=50000&apiKey=NahcgY5iZpJiLbXPYqZcgV6RatP09HUV\n",
      "https://api.polygon.io/v2/aggs/ticker/MPC/range/15/minute/2023-01-01/2023-04-01?adjusted=true&sort=asc&limit=50000&apiKey=NahcgY5iZpJiLbXPYqZcgV6RatP09HUV\n",
      "https://api.polygon.io/v2/aggs/ticker/MPC/range/15/minute/2023-04-01/2023-07-01?adjusted=true&sort=asc&limit=50000&apiKey=NahcgY5iZpJiLbXPYqZcgV6RatP09HUV\n",
      "https://api.polygon.io/v2/aggs/ticker/MPC/range/15/minute/2023-07-01/2023-10-01?adjusted=true&sort=asc&limit=50000&apiKey=NahcgY5iZpJiLbXPYqZcgV6RatP09HUV\n",
      "https://api.polygon.io/v2/aggs/ticker/MPC/range/15/minute/2023-10-01/2024-01-01?adjusted=true&sort=asc&limit=50000&apiKey=NahcgY5iZpJiLbXPYqZcgV6RatP09HUV\n",
      "https://api.polygon.io/v2/aggs/ticker/MKTX/range/15/minute/2023-01-01/2023-04-01?adjusted=true&sort=asc&limit=50000&apiKey=NahcgY5iZpJiLbXPYqZcgV6RatP09HUV\n",
      "https://api.polygon.io/v2/aggs/ticker/MKTX/range/15/minute/2023-04-01/2023-07-01?adjusted=true&sort=asc&limit=50000&apiKey=NahcgY5iZpJiLbXPYqZcgV6RatP09HUV\n",
      "https://api.polygon.io/v2/aggs/ticker/MKTX/range/15/minute/2023-07-01/2023-10-01?adjusted=true&sort=asc&limit=50000&apiKey=NahcgY5iZpJiLbXPYqZcgV6RatP09HUV\n",
      "https://api.polygon.io/v2/aggs/ticker/MKTX/range/15/minute/2023-10-01/2024-01-01?adjusted=true&sort=asc&limit=50000&apiKey=NahcgY5iZpJiLbXPYqZcgV6RatP09HUV\n",
      "https://api.polygon.io/v2/aggs/ticker/MAR/range/15/minute/2023-01-01/2023-04-01?adjusted=true&sort=asc&limit=50000&apiKey=NahcgY5iZpJiLbXPYqZcgV6RatP09HUV\n",
      "https://api.polygon.io/v2/aggs/ticker/MAR/range/15/minute/2023-04-01/2023-07-01?adjusted=true&sort=asc&limit=50000&apiKey=NahcgY5iZpJiLbXPYqZcgV6RatP09HUV\n",
      "https://api.polygon.io/v2/aggs/ticker/MAR/range/15/minute/2023-07-01/2023-10-01?adjusted=true&sort=asc&limit=50000&apiKey=NahcgY5iZpJiLbXPYqZcgV6RatP09HUV\n",
      "https://api.polygon.io/v2/aggs/ticker/MAR/range/15/minute/2023-10-01/2024-01-01?adjusted=true&sort=asc&limit=50000&apiKey=NahcgY5iZpJiLbXPYqZcgV6RatP09HUV\n",
      "https://api.polygon.io/v2/aggs/ticker/MMC/range/15/minute/2023-01-01/2023-04-01?adjusted=true&sort=asc&limit=50000&apiKey=NahcgY5iZpJiLbXPYqZcgV6RatP09HUV\n",
      "https://api.polygon.io/v2/aggs/ticker/MMC/range/15/minute/2023-04-01/2023-07-01?adjusted=true&sort=asc&limit=50000&apiKey=NahcgY5iZpJiLbXPYqZcgV6RatP09HUV\n",
      "https://api.polygon.io/v2/aggs/ticker/MMC/range/15/minute/2023-07-01/2023-10-01?adjusted=true&sort=asc&limit=50000&apiKey=NahcgY5iZpJiLbXPYqZcgV6RatP09HUV\n",
      "https://api.polygon.io/v2/aggs/ticker/MMC/range/15/minute/2023-10-01/2024-01-01?adjusted=true&sort=asc&limit=50000&apiKey=NahcgY5iZpJiLbXPYqZcgV6RatP09HUV\n"
     ]
    },
    {
     "name": "stdout",
     "output_type": "stream",
     "text": [
      "https://api.polygon.io/v2/aggs/ticker/MLM/range/15/minute/2023-01-01/2023-04-01?adjusted=true&sort=asc&limit=50000&apiKey=NahcgY5iZpJiLbXPYqZcgV6RatP09HUV\n",
      "https://api.polygon.io/v2/aggs/ticker/MLM/range/15/minute/2023-04-01/2023-07-01?adjusted=true&sort=asc&limit=50000&apiKey=NahcgY5iZpJiLbXPYqZcgV6RatP09HUV\n",
      "https://api.polygon.io/v2/aggs/ticker/MLM/range/15/minute/2023-07-01/2023-10-01?adjusted=true&sort=asc&limit=50000&apiKey=NahcgY5iZpJiLbXPYqZcgV6RatP09HUV\n",
      "https://api.polygon.io/v2/aggs/ticker/MLM/range/15/minute/2023-10-01/2024-01-01?adjusted=true&sort=asc&limit=50000&apiKey=NahcgY5iZpJiLbXPYqZcgV6RatP09HUV\n",
      "https://api.polygon.io/v2/aggs/ticker/MAS/range/15/minute/2023-01-01/2023-04-01?adjusted=true&sort=asc&limit=50000&apiKey=NahcgY5iZpJiLbXPYqZcgV6RatP09HUV\n",
      "https://api.polygon.io/v2/aggs/ticker/MAS/range/15/minute/2023-04-01/2023-07-01?adjusted=true&sort=asc&limit=50000&apiKey=NahcgY5iZpJiLbXPYqZcgV6RatP09HUV\n",
      "https://api.polygon.io/v2/aggs/ticker/MAS/range/15/minute/2023-07-01/2023-10-01?adjusted=true&sort=asc&limit=50000&apiKey=NahcgY5iZpJiLbXPYqZcgV6RatP09HUV\n",
      "https://api.polygon.io/v2/aggs/ticker/MAS/range/15/minute/2023-10-01/2024-01-01?adjusted=true&sort=asc&limit=50000&apiKey=NahcgY5iZpJiLbXPYqZcgV6RatP09HUV\n",
      "https://api.polygon.io/v2/aggs/ticker/MA/range/15/minute/2023-01-01/2023-04-01?adjusted=true&sort=asc&limit=50000&apiKey=NahcgY5iZpJiLbXPYqZcgV6RatP09HUV\n",
      "https://api.polygon.io/v2/aggs/ticker/MA/range/15/minute/2023-04-01/2023-07-01?adjusted=true&sort=asc&limit=50000&apiKey=NahcgY5iZpJiLbXPYqZcgV6RatP09HUV\n",
      "https://api.polygon.io/v2/aggs/ticker/MA/range/15/minute/2023-07-01/2023-10-01?adjusted=true&sort=asc&limit=50000&apiKey=NahcgY5iZpJiLbXPYqZcgV6RatP09HUV\n",
      "https://api.polygon.io/v2/aggs/ticker/MA/range/15/minute/2023-10-01/2024-01-01?adjusted=true&sort=asc&limit=50000&apiKey=NahcgY5iZpJiLbXPYqZcgV6RatP09HUV\n",
      "https://api.polygon.io/v2/aggs/ticker/MTCH/range/15/minute/2023-01-01/2023-04-01?adjusted=true&sort=asc&limit=50000&apiKey=NahcgY5iZpJiLbXPYqZcgV6RatP09HUV\n",
      "https://api.polygon.io/v2/aggs/ticker/MTCH/range/15/minute/2023-04-01/2023-07-01?adjusted=true&sort=asc&limit=50000&apiKey=NahcgY5iZpJiLbXPYqZcgV6RatP09HUV\n",
      "https://api.polygon.io/v2/aggs/ticker/MTCH/range/15/minute/2023-07-01/2023-10-01?adjusted=true&sort=asc&limit=50000&apiKey=NahcgY5iZpJiLbXPYqZcgV6RatP09HUV\n",
      "https://api.polygon.io/v2/aggs/ticker/MTCH/range/15/minute/2023-10-01/2024-01-01?adjusted=true&sort=asc&limit=50000&apiKey=NahcgY5iZpJiLbXPYqZcgV6RatP09HUV\n",
      "https://api.polygon.io/v2/aggs/ticker/MKC/range/15/minute/2023-01-01/2023-04-01?adjusted=true&sort=asc&limit=50000&apiKey=NahcgY5iZpJiLbXPYqZcgV6RatP09HUV\n",
      "https://api.polygon.io/v2/aggs/ticker/MKC/range/15/minute/2023-04-01/2023-07-01?adjusted=true&sort=asc&limit=50000&apiKey=NahcgY5iZpJiLbXPYqZcgV6RatP09HUV\n",
      "https://api.polygon.io/v2/aggs/ticker/MKC/range/15/minute/2023-07-01/2023-10-01?adjusted=true&sort=asc&limit=50000&apiKey=NahcgY5iZpJiLbXPYqZcgV6RatP09HUV\n",
      "https://api.polygon.io/v2/aggs/ticker/MKC/range/15/minute/2023-10-01/2024-01-01?adjusted=true&sort=asc&limit=50000&apiKey=NahcgY5iZpJiLbXPYqZcgV6RatP09HUV\n",
      "https://api.polygon.io/v2/aggs/ticker/MCD/range/15/minute/2023-01-01/2023-04-01?adjusted=true&sort=asc&limit=50000&apiKey=NahcgY5iZpJiLbXPYqZcgV6RatP09HUV\n",
      "https://api.polygon.io/v2/aggs/ticker/MCD/range/15/minute/2023-04-01/2023-07-01?adjusted=true&sort=asc&limit=50000&apiKey=NahcgY5iZpJiLbXPYqZcgV6RatP09HUV\n",
      "https://api.polygon.io/v2/aggs/ticker/MCD/range/15/minute/2023-07-01/2023-10-01?adjusted=true&sort=asc&limit=50000&apiKey=NahcgY5iZpJiLbXPYqZcgV6RatP09HUV\n",
      "https://api.polygon.io/v2/aggs/ticker/MCD/range/15/minute/2023-10-01/2024-01-01?adjusted=true&sort=asc&limit=50000&apiKey=NahcgY5iZpJiLbXPYqZcgV6RatP09HUV\n",
      "https://api.polygon.io/v2/aggs/ticker/MCK/range/15/minute/2023-01-01/2023-04-01?adjusted=true&sort=asc&limit=50000&apiKey=NahcgY5iZpJiLbXPYqZcgV6RatP09HUV\n",
      "https://api.polygon.io/v2/aggs/ticker/MCK/range/15/minute/2023-04-01/2023-07-01?adjusted=true&sort=asc&limit=50000&apiKey=NahcgY5iZpJiLbXPYqZcgV6RatP09HUV\n",
      "https://api.polygon.io/v2/aggs/ticker/MCK/range/15/minute/2023-07-01/2023-10-01?adjusted=true&sort=asc&limit=50000&apiKey=NahcgY5iZpJiLbXPYqZcgV6RatP09HUV\n",
      "https://api.polygon.io/v2/aggs/ticker/MCK/range/15/minute/2023-10-01/2024-01-01?adjusted=true&sort=asc&limit=50000&apiKey=NahcgY5iZpJiLbXPYqZcgV6RatP09HUV\n",
      "https://api.polygon.io/v2/aggs/ticker/MDT/range/15/minute/2023-01-01/2023-04-01?adjusted=true&sort=asc&limit=50000&apiKey=NahcgY5iZpJiLbXPYqZcgV6RatP09HUV\n",
      "https://api.polygon.io/v2/aggs/ticker/MDT/range/15/minute/2023-04-01/2023-07-01?adjusted=true&sort=asc&limit=50000&apiKey=NahcgY5iZpJiLbXPYqZcgV6RatP09HUV\n",
      "https://api.polygon.io/v2/aggs/ticker/MDT/range/15/minute/2023-07-01/2023-10-01?adjusted=true&sort=asc&limit=50000&apiKey=NahcgY5iZpJiLbXPYqZcgV6RatP09HUV\n",
      "https://api.polygon.io/v2/aggs/ticker/MDT/range/15/minute/2023-10-01/2024-01-01?adjusted=true&sort=asc&limit=50000&apiKey=NahcgY5iZpJiLbXPYqZcgV6RatP09HUV\n",
      "https://api.polygon.io/v2/aggs/ticker/MRK/range/15/minute/2023-01-01/2023-04-01?adjusted=true&sort=asc&limit=50000&apiKey=NahcgY5iZpJiLbXPYqZcgV6RatP09HUV\n",
      "https://api.polygon.io/v2/aggs/ticker/MRK/range/15/minute/2023-04-01/2023-07-01?adjusted=true&sort=asc&limit=50000&apiKey=NahcgY5iZpJiLbXPYqZcgV6RatP09HUV\n",
      "https://api.polygon.io/v2/aggs/ticker/MRK/range/15/minute/2023-07-01/2023-10-01?adjusted=true&sort=asc&limit=50000&apiKey=NahcgY5iZpJiLbXPYqZcgV6RatP09HUV\n",
      "https://api.polygon.io/v2/aggs/ticker/MRK/range/15/minute/2023-10-01/2024-01-01?adjusted=true&sort=asc&limit=50000&apiKey=NahcgY5iZpJiLbXPYqZcgV6RatP09HUV\n",
      "https://api.polygon.io/v2/aggs/ticker/META/range/15/minute/2023-01-01/2023-04-01?adjusted=true&sort=asc&limit=50000&apiKey=NahcgY5iZpJiLbXPYqZcgV6RatP09HUV\n",
      "https://api.polygon.io/v2/aggs/ticker/META/range/15/minute/2023-04-01/2023-07-01?adjusted=true&sort=asc&limit=50000&apiKey=NahcgY5iZpJiLbXPYqZcgV6RatP09HUV\n",
      "https://api.polygon.io/v2/aggs/ticker/META/range/15/minute/2023-07-01/2023-10-01?adjusted=true&sort=asc&limit=50000&apiKey=NahcgY5iZpJiLbXPYqZcgV6RatP09HUV\n",
      "https://api.polygon.io/v2/aggs/ticker/META/range/15/minute/2023-10-01/2024-01-01?adjusted=true&sort=asc&limit=50000&apiKey=NahcgY5iZpJiLbXPYqZcgV6RatP09HUV\n",
      "https://api.polygon.io/v2/aggs/ticker/MET/range/15/minute/2023-01-01/2023-04-01?adjusted=true&sort=asc&limit=50000&apiKey=NahcgY5iZpJiLbXPYqZcgV6RatP09HUV\n",
      "https://api.polygon.io/v2/aggs/ticker/MET/range/15/minute/2023-04-01/2023-07-01?adjusted=true&sort=asc&limit=50000&apiKey=NahcgY5iZpJiLbXPYqZcgV6RatP09HUV\n",
      "https://api.polygon.io/v2/aggs/ticker/MET/range/15/minute/2023-07-01/2023-10-01?adjusted=true&sort=asc&limit=50000&apiKey=NahcgY5iZpJiLbXPYqZcgV6RatP09HUV\n",
      "https://api.polygon.io/v2/aggs/ticker/MET/range/15/minute/2023-10-01/2024-01-01?adjusted=true&sort=asc&limit=50000&apiKey=NahcgY5iZpJiLbXPYqZcgV6RatP09HUV\n",
      "https://api.polygon.io/v2/aggs/ticker/MTD/range/15/minute/2023-01-01/2023-04-01?adjusted=true&sort=asc&limit=50000&apiKey=NahcgY5iZpJiLbXPYqZcgV6RatP09HUV\n",
      "https://api.polygon.io/v2/aggs/ticker/MTD/range/15/minute/2023-04-01/2023-07-01?adjusted=true&sort=asc&limit=50000&apiKey=NahcgY5iZpJiLbXPYqZcgV6RatP09HUV\n",
      "https://api.polygon.io/v2/aggs/ticker/MTD/range/15/minute/2023-07-01/2023-10-01?adjusted=true&sort=asc&limit=50000&apiKey=NahcgY5iZpJiLbXPYqZcgV6RatP09HUV\n",
      "https://api.polygon.io/v2/aggs/ticker/MTD/range/15/minute/2023-10-01/2024-01-01?adjusted=true&sort=asc&limit=50000&apiKey=NahcgY5iZpJiLbXPYqZcgV6RatP09HUV\n",
      "https://api.polygon.io/v2/aggs/ticker/MGM/range/15/minute/2023-01-01/2023-04-01?adjusted=true&sort=asc&limit=50000&apiKey=NahcgY5iZpJiLbXPYqZcgV6RatP09HUV\n",
      "https://api.polygon.io/v2/aggs/ticker/MGM/range/15/minute/2023-04-01/2023-07-01?adjusted=true&sort=asc&limit=50000&apiKey=NahcgY5iZpJiLbXPYqZcgV6RatP09HUV\n",
      "https://api.polygon.io/v2/aggs/ticker/MGM/range/15/minute/2023-07-01/2023-10-01?adjusted=true&sort=asc&limit=50000&apiKey=NahcgY5iZpJiLbXPYqZcgV6RatP09HUV\n",
      "https://api.polygon.io/v2/aggs/ticker/MGM/range/15/minute/2023-10-01/2024-01-01?adjusted=true&sort=asc&limit=50000&apiKey=NahcgY5iZpJiLbXPYqZcgV6RatP09HUV\n",
      "https://api.polygon.io/v2/aggs/ticker/MCHP/range/15/minute/2023-01-01/2023-04-01?adjusted=true&sort=asc&limit=50000&apiKey=NahcgY5iZpJiLbXPYqZcgV6RatP09HUV\n"
     ]
    },
    {
     "name": "stdout",
     "output_type": "stream",
     "text": [
      "https://api.polygon.io/v2/aggs/ticker/MCHP/range/15/minute/2023-04-01/2023-07-01?adjusted=true&sort=asc&limit=50000&apiKey=NahcgY5iZpJiLbXPYqZcgV6RatP09HUV\n",
      "https://api.polygon.io/v2/aggs/ticker/MCHP/range/15/minute/2023-07-01/2023-10-01?adjusted=true&sort=asc&limit=50000&apiKey=NahcgY5iZpJiLbXPYqZcgV6RatP09HUV\n",
      "https://api.polygon.io/v2/aggs/ticker/MCHP/range/15/minute/2023-10-01/2024-01-01?adjusted=true&sort=asc&limit=50000&apiKey=NahcgY5iZpJiLbXPYqZcgV6RatP09HUV\n",
      "https://api.polygon.io/v2/aggs/ticker/MU/range/15/minute/2023-01-01/2023-04-01?adjusted=true&sort=asc&limit=50000&apiKey=NahcgY5iZpJiLbXPYqZcgV6RatP09HUV\n",
      "https://api.polygon.io/v2/aggs/ticker/MU/range/15/minute/2023-04-01/2023-07-01?adjusted=true&sort=asc&limit=50000&apiKey=NahcgY5iZpJiLbXPYqZcgV6RatP09HUV\n",
      "https://api.polygon.io/v2/aggs/ticker/MU/range/15/minute/2023-07-01/2023-10-01?adjusted=true&sort=asc&limit=50000&apiKey=NahcgY5iZpJiLbXPYqZcgV6RatP09HUV\n",
      "https://api.polygon.io/v2/aggs/ticker/MU/range/15/minute/2023-10-01/2024-01-01?adjusted=true&sort=asc&limit=50000&apiKey=NahcgY5iZpJiLbXPYqZcgV6RatP09HUV\n",
      "https://api.polygon.io/v2/aggs/ticker/MSFT/range/15/minute/2023-01-01/2023-04-01?adjusted=true&sort=asc&limit=50000&apiKey=NahcgY5iZpJiLbXPYqZcgV6RatP09HUV\n",
      "https://api.polygon.io/v2/aggs/ticker/MSFT/range/15/minute/2023-04-01/2023-07-01?adjusted=true&sort=asc&limit=50000&apiKey=NahcgY5iZpJiLbXPYqZcgV6RatP09HUV\n",
      "https://api.polygon.io/v2/aggs/ticker/MSFT/range/15/minute/2023-07-01/2023-10-01?adjusted=true&sort=asc&limit=50000&apiKey=NahcgY5iZpJiLbXPYqZcgV6RatP09HUV\n",
      "https://api.polygon.io/v2/aggs/ticker/MSFT/range/15/minute/2023-10-01/2024-01-01?adjusted=true&sort=asc&limit=50000&apiKey=NahcgY5iZpJiLbXPYqZcgV6RatP09HUV\n",
      "https://api.polygon.io/v2/aggs/ticker/MAA/range/15/minute/2023-01-01/2023-04-01?adjusted=true&sort=asc&limit=50000&apiKey=NahcgY5iZpJiLbXPYqZcgV6RatP09HUV\n",
      "https://api.polygon.io/v2/aggs/ticker/MAA/range/15/minute/2023-04-01/2023-07-01?adjusted=true&sort=asc&limit=50000&apiKey=NahcgY5iZpJiLbXPYqZcgV6RatP09HUV\n",
      "https://api.polygon.io/v2/aggs/ticker/MAA/range/15/minute/2023-07-01/2023-10-01?adjusted=true&sort=asc&limit=50000&apiKey=NahcgY5iZpJiLbXPYqZcgV6RatP09HUV\n",
      "https://api.polygon.io/v2/aggs/ticker/MAA/range/15/minute/2023-10-01/2024-01-01?adjusted=true&sort=asc&limit=50000&apiKey=NahcgY5iZpJiLbXPYqZcgV6RatP09HUV\n",
      "https://api.polygon.io/v2/aggs/ticker/MRNA/range/15/minute/2023-01-01/2023-04-01?adjusted=true&sort=asc&limit=50000&apiKey=NahcgY5iZpJiLbXPYqZcgV6RatP09HUV\n",
      "https://api.polygon.io/v2/aggs/ticker/MRNA/range/15/minute/2023-04-01/2023-07-01?adjusted=true&sort=asc&limit=50000&apiKey=NahcgY5iZpJiLbXPYqZcgV6RatP09HUV\n",
      "https://api.polygon.io/v2/aggs/ticker/MRNA/range/15/minute/2023-07-01/2023-10-01?adjusted=true&sort=asc&limit=50000&apiKey=NahcgY5iZpJiLbXPYqZcgV6RatP09HUV\n",
      "https://api.polygon.io/v2/aggs/ticker/MRNA/range/15/minute/2023-10-01/2024-01-01?adjusted=true&sort=asc&limit=50000&apiKey=NahcgY5iZpJiLbXPYqZcgV6RatP09HUV\n",
      "https://api.polygon.io/v2/aggs/ticker/MHK/range/15/minute/2023-01-01/2023-04-01?adjusted=true&sort=asc&limit=50000&apiKey=NahcgY5iZpJiLbXPYqZcgV6RatP09HUV\n",
      "https://api.polygon.io/v2/aggs/ticker/MHK/range/15/minute/2023-04-01/2023-07-01?adjusted=true&sort=asc&limit=50000&apiKey=NahcgY5iZpJiLbXPYqZcgV6RatP09HUV\n",
      "https://api.polygon.io/v2/aggs/ticker/MHK/range/15/minute/2023-07-01/2023-10-01?adjusted=true&sort=asc&limit=50000&apiKey=NahcgY5iZpJiLbXPYqZcgV6RatP09HUV\n",
      "https://api.polygon.io/v2/aggs/ticker/MHK/range/15/minute/2023-10-01/2024-01-01?adjusted=true&sort=asc&limit=50000&apiKey=NahcgY5iZpJiLbXPYqZcgV6RatP09HUV\n",
      "https://api.polygon.io/v2/aggs/ticker/MOH/range/15/minute/2023-01-01/2023-04-01?adjusted=true&sort=asc&limit=50000&apiKey=NahcgY5iZpJiLbXPYqZcgV6RatP09HUV\n",
      "https://api.polygon.io/v2/aggs/ticker/MOH/range/15/minute/2023-04-01/2023-07-01?adjusted=true&sort=asc&limit=50000&apiKey=NahcgY5iZpJiLbXPYqZcgV6RatP09HUV\n",
      "https://api.polygon.io/v2/aggs/ticker/MOH/range/15/minute/2023-07-01/2023-10-01?adjusted=true&sort=asc&limit=50000&apiKey=NahcgY5iZpJiLbXPYqZcgV6RatP09HUV\n",
      "https://api.polygon.io/v2/aggs/ticker/MOH/range/15/minute/2023-10-01/2024-01-01?adjusted=true&sort=asc&limit=50000&apiKey=NahcgY5iZpJiLbXPYqZcgV6RatP09HUV\n",
      "https://api.polygon.io/v2/aggs/ticker/TAP/range/15/minute/2023-01-01/2023-04-01?adjusted=true&sort=asc&limit=50000&apiKey=NahcgY5iZpJiLbXPYqZcgV6RatP09HUV\n",
      "https://api.polygon.io/v2/aggs/ticker/TAP/range/15/minute/2023-04-01/2023-07-01?adjusted=true&sort=asc&limit=50000&apiKey=NahcgY5iZpJiLbXPYqZcgV6RatP09HUV\n",
      "https://api.polygon.io/v2/aggs/ticker/TAP/range/15/minute/2023-07-01/2023-10-01?adjusted=true&sort=asc&limit=50000&apiKey=NahcgY5iZpJiLbXPYqZcgV6RatP09HUV\n",
      "https://api.polygon.io/v2/aggs/ticker/TAP/range/15/minute/2023-10-01/2024-01-01?adjusted=true&sort=asc&limit=50000&apiKey=NahcgY5iZpJiLbXPYqZcgV6RatP09HUV\n",
      "https://api.polygon.io/v2/aggs/ticker/MDLZ/range/15/minute/2023-01-01/2023-04-01?adjusted=true&sort=asc&limit=50000&apiKey=NahcgY5iZpJiLbXPYqZcgV6RatP09HUV\n",
      "https://api.polygon.io/v2/aggs/ticker/MDLZ/range/15/minute/2023-04-01/2023-07-01?adjusted=true&sort=asc&limit=50000&apiKey=NahcgY5iZpJiLbXPYqZcgV6RatP09HUV\n",
      "https://api.polygon.io/v2/aggs/ticker/MDLZ/range/15/minute/2023-07-01/2023-10-01?adjusted=true&sort=asc&limit=50000&apiKey=NahcgY5iZpJiLbXPYqZcgV6RatP09HUV\n",
      "https://api.polygon.io/v2/aggs/ticker/MDLZ/range/15/minute/2023-10-01/2024-01-01?adjusted=true&sort=asc&limit=50000&apiKey=NahcgY5iZpJiLbXPYqZcgV6RatP09HUV\n",
      "https://api.polygon.io/v2/aggs/ticker/MPWR/range/15/minute/2023-01-01/2023-04-01?adjusted=true&sort=asc&limit=50000&apiKey=NahcgY5iZpJiLbXPYqZcgV6RatP09HUV\n",
      "https://api.polygon.io/v2/aggs/ticker/MPWR/range/15/minute/2023-04-01/2023-07-01?adjusted=true&sort=asc&limit=50000&apiKey=NahcgY5iZpJiLbXPYqZcgV6RatP09HUV\n",
      "https://api.polygon.io/v2/aggs/ticker/MPWR/range/15/minute/2023-07-01/2023-10-01?adjusted=true&sort=asc&limit=50000&apiKey=NahcgY5iZpJiLbXPYqZcgV6RatP09HUV\n",
      "https://api.polygon.io/v2/aggs/ticker/MPWR/range/15/minute/2023-10-01/2024-01-01?adjusted=true&sort=asc&limit=50000&apiKey=NahcgY5iZpJiLbXPYqZcgV6RatP09HUV\n",
      "https://api.polygon.io/v2/aggs/ticker/MNST/range/15/minute/2023-01-01/2023-04-01?adjusted=true&sort=asc&limit=50000&apiKey=NahcgY5iZpJiLbXPYqZcgV6RatP09HUV\n",
      "https://api.polygon.io/v2/aggs/ticker/MNST/range/15/minute/2023-04-01/2023-07-01?adjusted=true&sort=asc&limit=50000&apiKey=NahcgY5iZpJiLbXPYqZcgV6RatP09HUV\n",
      "https://api.polygon.io/v2/aggs/ticker/MNST/range/15/minute/2023-07-01/2023-10-01?adjusted=true&sort=asc&limit=50000&apiKey=NahcgY5iZpJiLbXPYqZcgV6RatP09HUV\n",
      "https://api.polygon.io/v2/aggs/ticker/MNST/range/15/minute/2023-10-01/2024-01-01?adjusted=true&sort=asc&limit=50000&apiKey=NahcgY5iZpJiLbXPYqZcgV6RatP09HUV\n",
      "https://api.polygon.io/v2/aggs/ticker/MCO/range/15/minute/2023-01-01/2023-04-01?adjusted=true&sort=asc&limit=50000&apiKey=NahcgY5iZpJiLbXPYqZcgV6RatP09HUV\n",
      "https://api.polygon.io/v2/aggs/ticker/MCO/range/15/minute/2023-04-01/2023-07-01?adjusted=true&sort=asc&limit=50000&apiKey=NahcgY5iZpJiLbXPYqZcgV6RatP09HUV\n",
      "https://api.polygon.io/v2/aggs/ticker/MCO/range/15/minute/2023-07-01/2023-10-01?adjusted=true&sort=asc&limit=50000&apiKey=NahcgY5iZpJiLbXPYqZcgV6RatP09HUV\n",
      "https://api.polygon.io/v2/aggs/ticker/MCO/range/15/minute/2023-10-01/2024-01-01?adjusted=true&sort=asc&limit=50000&apiKey=NahcgY5iZpJiLbXPYqZcgV6RatP09HUV\n",
      "https://api.polygon.io/v2/aggs/ticker/MS/range/15/minute/2023-01-01/2023-04-01?adjusted=true&sort=asc&limit=50000&apiKey=NahcgY5iZpJiLbXPYqZcgV6RatP09HUV\n",
      "https://api.polygon.io/v2/aggs/ticker/MS/range/15/minute/2023-04-01/2023-07-01?adjusted=true&sort=asc&limit=50000&apiKey=NahcgY5iZpJiLbXPYqZcgV6RatP09HUV\n",
      "https://api.polygon.io/v2/aggs/ticker/MS/range/15/minute/2023-07-01/2023-10-01?adjusted=true&sort=asc&limit=50000&apiKey=NahcgY5iZpJiLbXPYqZcgV6RatP09HUV\n",
      "https://api.polygon.io/v2/aggs/ticker/MS/range/15/minute/2023-10-01/2024-01-01?adjusted=true&sort=asc&limit=50000&apiKey=NahcgY5iZpJiLbXPYqZcgV6RatP09HUV\n",
      "https://api.polygon.io/v2/aggs/ticker/MOS/range/15/minute/2023-01-01/2023-04-01?adjusted=true&sort=asc&limit=50000&apiKey=NahcgY5iZpJiLbXPYqZcgV6RatP09HUV\n",
      "https://api.polygon.io/v2/aggs/ticker/MOS/range/15/minute/2023-04-01/2023-07-01?adjusted=true&sort=asc&limit=50000&apiKey=NahcgY5iZpJiLbXPYqZcgV6RatP09HUV\n"
     ]
    },
    {
     "name": "stdout",
     "output_type": "stream",
     "text": [
      "https://api.polygon.io/v2/aggs/ticker/MOS/range/15/minute/2023-07-01/2023-10-01?adjusted=true&sort=asc&limit=50000&apiKey=NahcgY5iZpJiLbXPYqZcgV6RatP09HUV\n",
      "https://api.polygon.io/v2/aggs/ticker/MOS/range/15/minute/2023-10-01/2024-01-01?adjusted=true&sort=asc&limit=50000&apiKey=NahcgY5iZpJiLbXPYqZcgV6RatP09HUV\n",
      "https://api.polygon.io/v2/aggs/ticker/MSI/range/15/minute/2023-01-01/2023-04-01?adjusted=true&sort=asc&limit=50000&apiKey=NahcgY5iZpJiLbXPYqZcgV6RatP09HUV\n",
      "https://api.polygon.io/v2/aggs/ticker/MSI/range/15/minute/2023-04-01/2023-07-01?adjusted=true&sort=asc&limit=50000&apiKey=NahcgY5iZpJiLbXPYqZcgV6RatP09HUV\n",
      "https://api.polygon.io/v2/aggs/ticker/MSI/range/15/minute/2023-07-01/2023-10-01?adjusted=true&sort=asc&limit=50000&apiKey=NahcgY5iZpJiLbXPYqZcgV6RatP09HUV\n",
      "https://api.polygon.io/v2/aggs/ticker/MSI/range/15/minute/2023-10-01/2024-01-01?adjusted=true&sort=asc&limit=50000&apiKey=NahcgY5iZpJiLbXPYqZcgV6RatP09HUV\n",
      "https://api.polygon.io/v2/aggs/ticker/MSCI/range/15/minute/2023-01-01/2023-04-01?adjusted=true&sort=asc&limit=50000&apiKey=NahcgY5iZpJiLbXPYqZcgV6RatP09HUV\n",
      "https://api.polygon.io/v2/aggs/ticker/MSCI/range/15/minute/2023-04-01/2023-07-01?adjusted=true&sort=asc&limit=50000&apiKey=NahcgY5iZpJiLbXPYqZcgV6RatP09HUV\n",
      "https://api.polygon.io/v2/aggs/ticker/MSCI/range/15/minute/2023-07-01/2023-10-01?adjusted=true&sort=asc&limit=50000&apiKey=NahcgY5iZpJiLbXPYqZcgV6RatP09HUV\n",
      "https://api.polygon.io/v2/aggs/ticker/MSCI/range/15/minute/2023-10-01/2024-01-01?adjusted=true&sort=asc&limit=50000&apiKey=NahcgY5iZpJiLbXPYqZcgV6RatP09HUV\n",
      "https://api.polygon.io/v2/aggs/ticker/NDAQ/range/15/minute/2023-01-01/2023-04-01?adjusted=true&sort=asc&limit=50000&apiKey=NahcgY5iZpJiLbXPYqZcgV6RatP09HUV\n",
      "https://api.polygon.io/v2/aggs/ticker/NDAQ/range/15/minute/2023-04-01/2023-07-01?adjusted=true&sort=asc&limit=50000&apiKey=NahcgY5iZpJiLbXPYqZcgV6RatP09HUV\n",
      "https://api.polygon.io/v2/aggs/ticker/NDAQ/range/15/minute/2023-07-01/2023-10-01?adjusted=true&sort=asc&limit=50000&apiKey=NahcgY5iZpJiLbXPYqZcgV6RatP09HUV\n",
      "https://api.polygon.io/v2/aggs/ticker/NDAQ/range/15/minute/2023-10-01/2024-01-01?adjusted=true&sort=asc&limit=50000&apiKey=NahcgY5iZpJiLbXPYqZcgV6RatP09HUV\n",
      "https://api.polygon.io/v2/aggs/ticker/NTAP/range/15/minute/2023-01-01/2023-04-01?adjusted=true&sort=asc&limit=50000&apiKey=NahcgY5iZpJiLbXPYqZcgV6RatP09HUV\n",
      "https://api.polygon.io/v2/aggs/ticker/NTAP/range/15/minute/2023-04-01/2023-07-01?adjusted=true&sort=asc&limit=50000&apiKey=NahcgY5iZpJiLbXPYqZcgV6RatP09HUV\n",
      "https://api.polygon.io/v2/aggs/ticker/NTAP/range/15/minute/2023-07-01/2023-10-01?adjusted=true&sort=asc&limit=50000&apiKey=NahcgY5iZpJiLbXPYqZcgV6RatP09HUV\n",
      "https://api.polygon.io/v2/aggs/ticker/NTAP/range/15/minute/2023-10-01/2024-01-01?adjusted=true&sort=asc&limit=50000&apiKey=NahcgY5iZpJiLbXPYqZcgV6RatP09HUV\n",
      "https://api.polygon.io/v2/aggs/ticker/NFLX/range/15/minute/2023-01-01/2023-04-01?adjusted=true&sort=asc&limit=50000&apiKey=NahcgY5iZpJiLbXPYqZcgV6RatP09HUV\n",
      "https://api.polygon.io/v2/aggs/ticker/NFLX/range/15/minute/2023-04-01/2023-07-01?adjusted=true&sort=asc&limit=50000&apiKey=NahcgY5iZpJiLbXPYqZcgV6RatP09HUV\n",
      "https://api.polygon.io/v2/aggs/ticker/NFLX/range/15/minute/2023-07-01/2023-10-01?adjusted=true&sort=asc&limit=50000&apiKey=NahcgY5iZpJiLbXPYqZcgV6RatP09HUV\n",
      "https://api.polygon.io/v2/aggs/ticker/NFLX/range/15/minute/2023-10-01/2024-01-01?adjusted=true&sort=asc&limit=50000&apiKey=NahcgY5iZpJiLbXPYqZcgV6RatP09HUV\n",
      "https://api.polygon.io/v2/aggs/ticker/NEM/range/15/minute/2023-01-01/2023-04-01?adjusted=true&sort=asc&limit=50000&apiKey=NahcgY5iZpJiLbXPYqZcgV6RatP09HUV\n",
      "https://api.polygon.io/v2/aggs/ticker/NEM/range/15/minute/2023-04-01/2023-07-01?adjusted=true&sort=asc&limit=50000&apiKey=NahcgY5iZpJiLbXPYqZcgV6RatP09HUV\n",
      "https://api.polygon.io/v2/aggs/ticker/NEM/range/15/minute/2023-07-01/2023-10-01?adjusted=true&sort=asc&limit=50000&apiKey=NahcgY5iZpJiLbXPYqZcgV6RatP09HUV\n",
      "https://api.polygon.io/v2/aggs/ticker/NEM/range/15/minute/2023-10-01/2024-01-01?adjusted=true&sort=asc&limit=50000&apiKey=NahcgY5iZpJiLbXPYqZcgV6RatP09HUV\n",
      "https://api.polygon.io/v2/aggs/ticker/NWSA/range/15/minute/2023-01-01/2023-04-01?adjusted=true&sort=asc&limit=50000&apiKey=NahcgY5iZpJiLbXPYqZcgV6RatP09HUV\n",
      "https://api.polygon.io/v2/aggs/ticker/NWSA/range/15/minute/2023-04-01/2023-07-01?adjusted=true&sort=asc&limit=50000&apiKey=NahcgY5iZpJiLbXPYqZcgV6RatP09HUV\n",
      "https://api.polygon.io/v2/aggs/ticker/NWSA/range/15/minute/2023-07-01/2023-10-01?adjusted=true&sort=asc&limit=50000&apiKey=NahcgY5iZpJiLbXPYqZcgV6RatP09HUV\n",
      "https://api.polygon.io/v2/aggs/ticker/NWSA/range/15/minute/2023-10-01/2024-01-01?adjusted=true&sort=asc&limit=50000&apiKey=NahcgY5iZpJiLbXPYqZcgV6RatP09HUV\n",
      "https://api.polygon.io/v2/aggs/ticker/NWS/range/15/minute/2023-01-01/2023-04-01?adjusted=true&sort=asc&limit=50000&apiKey=NahcgY5iZpJiLbXPYqZcgV6RatP09HUV\n",
      "https://api.polygon.io/v2/aggs/ticker/NWS/range/15/minute/2023-04-01/2023-07-01?adjusted=true&sort=asc&limit=50000&apiKey=NahcgY5iZpJiLbXPYqZcgV6RatP09HUV\n",
      "https://api.polygon.io/v2/aggs/ticker/NWS/range/15/minute/2023-07-01/2023-10-01?adjusted=true&sort=asc&limit=50000&apiKey=NahcgY5iZpJiLbXPYqZcgV6RatP09HUV\n",
      "https://api.polygon.io/v2/aggs/ticker/NWS/range/15/minute/2023-10-01/2024-01-01?adjusted=true&sort=asc&limit=50000&apiKey=NahcgY5iZpJiLbXPYqZcgV6RatP09HUV\n",
      "https://api.polygon.io/v2/aggs/ticker/NEE/range/15/minute/2023-01-01/2023-04-01?adjusted=true&sort=asc&limit=50000&apiKey=NahcgY5iZpJiLbXPYqZcgV6RatP09HUV\n",
      "https://api.polygon.io/v2/aggs/ticker/NEE/range/15/minute/2023-04-01/2023-07-01?adjusted=true&sort=asc&limit=50000&apiKey=NahcgY5iZpJiLbXPYqZcgV6RatP09HUV\n",
      "https://api.polygon.io/v2/aggs/ticker/NEE/range/15/minute/2023-07-01/2023-10-01?adjusted=true&sort=asc&limit=50000&apiKey=NahcgY5iZpJiLbXPYqZcgV6RatP09HUV\n",
      "https://api.polygon.io/v2/aggs/ticker/NEE/range/15/minute/2023-10-01/2024-01-01?adjusted=true&sort=asc&limit=50000&apiKey=NahcgY5iZpJiLbXPYqZcgV6RatP09HUV\n",
      "https://api.polygon.io/v2/aggs/ticker/NKE/range/15/minute/2023-01-01/2023-04-01?adjusted=true&sort=asc&limit=50000&apiKey=NahcgY5iZpJiLbXPYqZcgV6RatP09HUV\n",
      "https://api.polygon.io/v2/aggs/ticker/NKE/range/15/minute/2023-04-01/2023-07-01?adjusted=true&sort=asc&limit=50000&apiKey=NahcgY5iZpJiLbXPYqZcgV6RatP09HUV\n",
      "https://api.polygon.io/v2/aggs/ticker/NKE/range/15/minute/2023-07-01/2023-10-01?adjusted=true&sort=asc&limit=50000&apiKey=NahcgY5iZpJiLbXPYqZcgV6RatP09HUV\n",
      "https://api.polygon.io/v2/aggs/ticker/NKE/range/15/minute/2023-10-01/2024-01-01?adjusted=true&sort=asc&limit=50000&apiKey=NahcgY5iZpJiLbXPYqZcgV6RatP09HUV\n",
      "https://api.polygon.io/v2/aggs/ticker/NI/range/15/minute/2023-01-01/2023-04-01?adjusted=true&sort=asc&limit=50000&apiKey=NahcgY5iZpJiLbXPYqZcgV6RatP09HUV\n",
      "https://api.polygon.io/v2/aggs/ticker/NI/range/15/minute/2023-04-01/2023-07-01?adjusted=true&sort=asc&limit=50000&apiKey=NahcgY5iZpJiLbXPYqZcgV6RatP09HUV\n",
      "https://api.polygon.io/v2/aggs/ticker/NI/range/15/minute/2023-07-01/2023-10-01?adjusted=true&sort=asc&limit=50000&apiKey=NahcgY5iZpJiLbXPYqZcgV6RatP09HUV\n",
      "https://api.polygon.io/v2/aggs/ticker/NI/range/15/minute/2023-10-01/2024-01-01?adjusted=true&sort=asc&limit=50000&apiKey=NahcgY5iZpJiLbXPYqZcgV6RatP09HUV\n",
      "https://api.polygon.io/v2/aggs/ticker/NDSN/range/15/minute/2023-01-01/2023-04-01?adjusted=true&sort=asc&limit=50000&apiKey=NahcgY5iZpJiLbXPYqZcgV6RatP09HUV\n",
      "https://api.polygon.io/v2/aggs/ticker/NDSN/range/15/minute/2023-04-01/2023-07-01?adjusted=true&sort=asc&limit=50000&apiKey=NahcgY5iZpJiLbXPYqZcgV6RatP09HUV\n",
      "https://api.polygon.io/v2/aggs/ticker/NDSN/range/15/minute/2023-07-01/2023-10-01?adjusted=true&sort=asc&limit=50000&apiKey=NahcgY5iZpJiLbXPYqZcgV6RatP09HUV\n",
      "https://api.polygon.io/v2/aggs/ticker/NDSN/range/15/minute/2023-10-01/2024-01-01?adjusted=true&sort=asc&limit=50000&apiKey=NahcgY5iZpJiLbXPYqZcgV6RatP09HUV\n",
      "https://api.polygon.io/v2/aggs/ticker/NSC/range/15/minute/2023-01-01/2023-04-01?adjusted=true&sort=asc&limit=50000&apiKey=NahcgY5iZpJiLbXPYqZcgV6RatP09HUV\n",
      "https://api.polygon.io/v2/aggs/ticker/NSC/range/15/minute/2023-04-01/2023-07-01?adjusted=true&sort=asc&limit=50000&apiKey=NahcgY5iZpJiLbXPYqZcgV6RatP09HUV\n",
      "https://api.polygon.io/v2/aggs/ticker/NSC/range/15/minute/2023-07-01/2023-10-01?adjusted=true&sort=asc&limit=50000&apiKey=NahcgY5iZpJiLbXPYqZcgV6RatP09HUV\n"
     ]
    },
    {
     "name": "stdout",
     "output_type": "stream",
     "text": [
      "https://api.polygon.io/v2/aggs/ticker/NSC/range/15/minute/2023-10-01/2024-01-01?adjusted=true&sort=asc&limit=50000&apiKey=NahcgY5iZpJiLbXPYqZcgV6RatP09HUV\n",
      "https://api.polygon.io/v2/aggs/ticker/NTRS/range/15/minute/2023-01-01/2023-04-01?adjusted=true&sort=asc&limit=50000&apiKey=NahcgY5iZpJiLbXPYqZcgV6RatP09HUV\n",
      "https://api.polygon.io/v2/aggs/ticker/NTRS/range/15/minute/2023-04-01/2023-07-01?adjusted=true&sort=asc&limit=50000&apiKey=NahcgY5iZpJiLbXPYqZcgV6RatP09HUV\n",
      "https://api.polygon.io/v2/aggs/ticker/NTRS/range/15/minute/2023-07-01/2023-10-01?adjusted=true&sort=asc&limit=50000&apiKey=NahcgY5iZpJiLbXPYqZcgV6RatP09HUV\n",
      "https://api.polygon.io/v2/aggs/ticker/NTRS/range/15/minute/2023-10-01/2024-01-01?adjusted=true&sort=asc&limit=50000&apiKey=NahcgY5iZpJiLbXPYqZcgV6RatP09HUV\n",
      "https://api.polygon.io/v2/aggs/ticker/NOC/range/15/minute/2023-01-01/2023-04-01?adjusted=true&sort=asc&limit=50000&apiKey=NahcgY5iZpJiLbXPYqZcgV6RatP09HUV\n",
      "https://api.polygon.io/v2/aggs/ticker/NOC/range/15/minute/2023-04-01/2023-07-01?adjusted=true&sort=asc&limit=50000&apiKey=NahcgY5iZpJiLbXPYqZcgV6RatP09HUV\n",
      "https://api.polygon.io/v2/aggs/ticker/NOC/range/15/minute/2023-07-01/2023-10-01?adjusted=true&sort=asc&limit=50000&apiKey=NahcgY5iZpJiLbXPYqZcgV6RatP09HUV\n",
      "https://api.polygon.io/v2/aggs/ticker/NOC/range/15/minute/2023-10-01/2024-01-01?adjusted=true&sort=asc&limit=50000&apiKey=NahcgY5iZpJiLbXPYqZcgV6RatP09HUV\n",
      "https://api.polygon.io/v2/aggs/ticker/NCLH/range/15/minute/2023-01-01/2023-04-01?adjusted=true&sort=asc&limit=50000&apiKey=NahcgY5iZpJiLbXPYqZcgV6RatP09HUV\n",
      "https://api.polygon.io/v2/aggs/ticker/NCLH/range/15/minute/2023-04-01/2023-07-01?adjusted=true&sort=asc&limit=50000&apiKey=NahcgY5iZpJiLbXPYqZcgV6RatP09HUV\n",
      "https://api.polygon.io/v2/aggs/ticker/NCLH/range/15/minute/2023-07-01/2023-10-01?adjusted=true&sort=asc&limit=50000&apiKey=NahcgY5iZpJiLbXPYqZcgV6RatP09HUV\n",
      "https://api.polygon.io/v2/aggs/ticker/NCLH/range/15/minute/2023-10-01/2024-01-01?adjusted=true&sort=asc&limit=50000&apiKey=NahcgY5iZpJiLbXPYqZcgV6RatP09HUV\n",
      "https://api.polygon.io/v2/aggs/ticker/NRG/range/15/minute/2023-01-01/2023-04-01?adjusted=true&sort=asc&limit=50000&apiKey=NahcgY5iZpJiLbXPYqZcgV6RatP09HUV\n",
      "https://api.polygon.io/v2/aggs/ticker/NRG/range/15/minute/2023-04-01/2023-07-01?adjusted=true&sort=asc&limit=50000&apiKey=NahcgY5iZpJiLbXPYqZcgV6RatP09HUV\n",
      "https://api.polygon.io/v2/aggs/ticker/NRG/range/15/minute/2023-07-01/2023-10-01?adjusted=true&sort=asc&limit=50000&apiKey=NahcgY5iZpJiLbXPYqZcgV6RatP09HUV\n",
      "https://api.polygon.io/v2/aggs/ticker/NRG/range/15/minute/2023-10-01/2024-01-01?adjusted=true&sort=asc&limit=50000&apiKey=NahcgY5iZpJiLbXPYqZcgV6RatP09HUV\n",
      "https://api.polygon.io/v2/aggs/ticker/NUE/range/15/minute/2023-01-01/2023-04-01?adjusted=true&sort=asc&limit=50000&apiKey=NahcgY5iZpJiLbXPYqZcgV6RatP09HUV\n",
      "https://api.polygon.io/v2/aggs/ticker/NUE/range/15/minute/2023-04-01/2023-07-01?adjusted=true&sort=asc&limit=50000&apiKey=NahcgY5iZpJiLbXPYqZcgV6RatP09HUV\n",
      "https://api.polygon.io/v2/aggs/ticker/NUE/range/15/minute/2023-07-01/2023-10-01?adjusted=true&sort=asc&limit=50000&apiKey=NahcgY5iZpJiLbXPYqZcgV6RatP09HUV\n",
      "https://api.polygon.io/v2/aggs/ticker/NUE/range/15/minute/2023-10-01/2024-01-01?adjusted=true&sort=asc&limit=50000&apiKey=NahcgY5iZpJiLbXPYqZcgV6RatP09HUV\n",
      "https://api.polygon.io/v2/aggs/ticker/NVDA/range/15/minute/2023-01-01/2023-04-01?adjusted=true&sort=asc&limit=50000&apiKey=NahcgY5iZpJiLbXPYqZcgV6RatP09HUV\n",
      "https://api.polygon.io/v2/aggs/ticker/NVDA/range/15/minute/2023-04-01/2023-07-01?adjusted=true&sort=asc&limit=50000&apiKey=NahcgY5iZpJiLbXPYqZcgV6RatP09HUV\n",
      "https://api.polygon.io/v2/aggs/ticker/NVDA/range/15/minute/2023-07-01/2023-10-01?adjusted=true&sort=asc&limit=50000&apiKey=NahcgY5iZpJiLbXPYqZcgV6RatP09HUV\n",
      "https://api.polygon.io/v2/aggs/ticker/NVDA/range/15/minute/2023-10-01/2024-01-01?adjusted=true&sort=asc&limit=50000&apiKey=NahcgY5iZpJiLbXPYqZcgV6RatP09HUV\n",
      "https://api.polygon.io/v2/aggs/ticker/NVR/range/15/minute/2023-01-01/2023-04-01?adjusted=true&sort=asc&limit=50000&apiKey=NahcgY5iZpJiLbXPYqZcgV6RatP09HUV\n",
      "https://api.polygon.io/v2/aggs/ticker/NVR/range/15/minute/2023-04-01/2023-07-01?adjusted=true&sort=asc&limit=50000&apiKey=NahcgY5iZpJiLbXPYqZcgV6RatP09HUV\n",
      "https://api.polygon.io/v2/aggs/ticker/NVR/range/15/minute/2023-07-01/2023-10-01?adjusted=true&sort=asc&limit=50000&apiKey=NahcgY5iZpJiLbXPYqZcgV6RatP09HUV\n",
      "https://api.polygon.io/v2/aggs/ticker/NVR/range/15/minute/2023-10-01/2024-01-01?adjusted=true&sort=asc&limit=50000&apiKey=NahcgY5iZpJiLbXPYqZcgV6RatP09HUV\n",
      "https://api.polygon.io/v2/aggs/ticker/NXPI/range/15/minute/2023-01-01/2023-04-01?adjusted=true&sort=asc&limit=50000&apiKey=NahcgY5iZpJiLbXPYqZcgV6RatP09HUV\n",
      "https://api.polygon.io/v2/aggs/ticker/NXPI/range/15/minute/2023-04-01/2023-07-01?adjusted=true&sort=asc&limit=50000&apiKey=NahcgY5iZpJiLbXPYqZcgV6RatP09HUV\n",
      "https://api.polygon.io/v2/aggs/ticker/NXPI/range/15/minute/2023-07-01/2023-10-01?adjusted=true&sort=asc&limit=50000&apiKey=NahcgY5iZpJiLbXPYqZcgV6RatP09HUV\n",
      "https://api.polygon.io/v2/aggs/ticker/NXPI/range/15/minute/2023-10-01/2024-01-01?adjusted=true&sort=asc&limit=50000&apiKey=NahcgY5iZpJiLbXPYqZcgV6RatP09HUV\n",
      "https://api.polygon.io/v2/aggs/ticker/ORLY/range/15/minute/2023-01-01/2023-04-01?adjusted=true&sort=asc&limit=50000&apiKey=NahcgY5iZpJiLbXPYqZcgV6RatP09HUV\n",
      "https://api.polygon.io/v2/aggs/ticker/ORLY/range/15/minute/2023-04-01/2023-07-01?adjusted=true&sort=asc&limit=50000&apiKey=NahcgY5iZpJiLbXPYqZcgV6RatP09HUV\n",
      "https://api.polygon.io/v2/aggs/ticker/ORLY/range/15/minute/2023-07-01/2023-10-01?adjusted=true&sort=asc&limit=50000&apiKey=NahcgY5iZpJiLbXPYqZcgV6RatP09HUV\n",
      "https://api.polygon.io/v2/aggs/ticker/ORLY/range/15/minute/2023-10-01/2024-01-01?adjusted=true&sort=asc&limit=50000&apiKey=NahcgY5iZpJiLbXPYqZcgV6RatP09HUV\n",
      "https://api.polygon.io/v2/aggs/ticker/OXY/range/15/minute/2023-01-01/2023-04-01?adjusted=true&sort=asc&limit=50000&apiKey=NahcgY5iZpJiLbXPYqZcgV6RatP09HUV\n",
      "https://api.polygon.io/v2/aggs/ticker/OXY/range/15/minute/2023-04-01/2023-07-01?adjusted=true&sort=asc&limit=50000&apiKey=NahcgY5iZpJiLbXPYqZcgV6RatP09HUV\n",
      "https://api.polygon.io/v2/aggs/ticker/OXY/range/15/minute/2023-07-01/2023-10-01?adjusted=true&sort=asc&limit=50000&apiKey=NahcgY5iZpJiLbXPYqZcgV6RatP09HUV\n",
      "https://api.polygon.io/v2/aggs/ticker/OXY/range/15/minute/2023-10-01/2024-01-01?adjusted=true&sort=asc&limit=50000&apiKey=NahcgY5iZpJiLbXPYqZcgV6RatP09HUV\n",
      "https://api.polygon.io/v2/aggs/ticker/ODFL/range/15/minute/2023-01-01/2023-04-01?adjusted=true&sort=asc&limit=50000&apiKey=NahcgY5iZpJiLbXPYqZcgV6RatP09HUV\n",
      "https://api.polygon.io/v2/aggs/ticker/ODFL/range/15/minute/2023-04-01/2023-07-01?adjusted=true&sort=asc&limit=50000&apiKey=NahcgY5iZpJiLbXPYqZcgV6RatP09HUV\n",
      "https://api.polygon.io/v2/aggs/ticker/ODFL/range/15/minute/2023-07-01/2023-10-01?adjusted=true&sort=asc&limit=50000&apiKey=NahcgY5iZpJiLbXPYqZcgV6RatP09HUV\n",
      "https://api.polygon.io/v2/aggs/ticker/ODFL/range/15/minute/2023-10-01/2024-01-01?adjusted=true&sort=asc&limit=50000&apiKey=NahcgY5iZpJiLbXPYqZcgV6RatP09HUV\n",
      "https://api.polygon.io/v2/aggs/ticker/OMC/range/15/minute/2023-01-01/2023-04-01?adjusted=true&sort=asc&limit=50000&apiKey=NahcgY5iZpJiLbXPYqZcgV6RatP09HUV\n",
      "https://api.polygon.io/v2/aggs/ticker/OMC/range/15/minute/2023-04-01/2023-07-01?adjusted=true&sort=asc&limit=50000&apiKey=NahcgY5iZpJiLbXPYqZcgV6RatP09HUV\n",
      "https://api.polygon.io/v2/aggs/ticker/OMC/range/15/minute/2023-07-01/2023-10-01?adjusted=true&sort=asc&limit=50000&apiKey=NahcgY5iZpJiLbXPYqZcgV6RatP09HUV\n",
      "https://api.polygon.io/v2/aggs/ticker/OMC/range/15/minute/2023-10-01/2024-01-01?adjusted=true&sort=asc&limit=50000&apiKey=NahcgY5iZpJiLbXPYqZcgV6RatP09HUV\n",
      "https://api.polygon.io/v2/aggs/ticker/ON/range/15/minute/2023-01-01/2023-04-01?adjusted=true&sort=asc&limit=50000&apiKey=NahcgY5iZpJiLbXPYqZcgV6RatP09HUV\n",
      "https://api.polygon.io/v2/aggs/ticker/ON/range/15/minute/2023-04-01/2023-07-01?adjusted=true&sort=asc&limit=50000&apiKey=NahcgY5iZpJiLbXPYqZcgV6RatP09HUV\n",
      "https://api.polygon.io/v2/aggs/ticker/ON/range/15/minute/2023-07-01/2023-10-01?adjusted=true&sort=asc&limit=50000&apiKey=NahcgY5iZpJiLbXPYqZcgV6RatP09HUV\n",
      "https://api.polygon.io/v2/aggs/ticker/ON/range/15/minute/2023-10-01/2024-01-01?adjusted=true&sort=asc&limit=50000&apiKey=NahcgY5iZpJiLbXPYqZcgV6RatP09HUV\n"
     ]
    },
    {
     "name": "stdout",
     "output_type": "stream",
     "text": [
      "https://api.polygon.io/v2/aggs/ticker/OKE/range/15/minute/2023-01-01/2023-04-01?adjusted=true&sort=asc&limit=50000&apiKey=NahcgY5iZpJiLbXPYqZcgV6RatP09HUV\n",
      "https://api.polygon.io/v2/aggs/ticker/OKE/range/15/minute/2023-04-01/2023-07-01?adjusted=true&sort=asc&limit=50000&apiKey=NahcgY5iZpJiLbXPYqZcgV6RatP09HUV\n",
      "https://api.polygon.io/v2/aggs/ticker/OKE/range/15/minute/2023-07-01/2023-10-01?adjusted=true&sort=asc&limit=50000&apiKey=NahcgY5iZpJiLbXPYqZcgV6RatP09HUV\n",
      "https://api.polygon.io/v2/aggs/ticker/OKE/range/15/minute/2023-10-01/2024-01-01?adjusted=true&sort=asc&limit=50000&apiKey=NahcgY5iZpJiLbXPYqZcgV6RatP09HUV\n",
      "https://api.polygon.io/v2/aggs/ticker/ORCL/range/15/minute/2023-01-01/2023-04-01?adjusted=true&sort=asc&limit=50000&apiKey=NahcgY5iZpJiLbXPYqZcgV6RatP09HUV\n",
      "https://api.polygon.io/v2/aggs/ticker/ORCL/range/15/minute/2023-04-01/2023-07-01?adjusted=true&sort=asc&limit=50000&apiKey=NahcgY5iZpJiLbXPYqZcgV6RatP09HUV\n",
      "https://api.polygon.io/v2/aggs/ticker/ORCL/range/15/minute/2023-07-01/2023-10-01?adjusted=true&sort=asc&limit=50000&apiKey=NahcgY5iZpJiLbXPYqZcgV6RatP09HUV\n",
      "https://api.polygon.io/v2/aggs/ticker/ORCL/range/15/minute/2023-10-01/2024-01-01?adjusted=true&sort=asc&limit=50000&apiKey=NahcgY5iZpJiLbXPYqZcgV6RatP09HUV\n",
      "https://api.polygon.io/v2/aggs/ticker/OTIS/range/15/minute/2023-01-01/2023-04-01?adjusted=true&sort=asc&limit=50000&apiKey=NahcgY5iZpJiLbXPYqZcgV6RatP09HUV\n",
      "https://api.polygon.io/v2/aggs/ticker/OTIS/range/15/minute/2023-04-01/2023-07-01?adjusted=true&sort=asc&limit=50000&apiKey=NahcgY5iZpJiLbXPYqZcgV6RatP09HUV\n",
      "https://api.polygon.io/v2/aggs/ticker/OTIS/range/15/minute/2023-07-01/2023-10-01?adjusted=true&sort=asc&limit=50000&apiKey=NahcgY5iZpJiLbXPYqZcgV6RatP09HUV\n",
      "https://api.polygon.io/v2/aggs/ticker/OTIS/range/15/minute/2023-10-01/2024-01-01?adjusted=true&sort=asc&limit=50000&apiKey=NahcgY5iZpJiLbXPYqZcgV6RatP09HUV\n",
      "https://api.polygon.io/v2/aggs/ticker/PCAR/range/15/minute/2023-01-01/2023-04-01?adjusted=true&sort=asc&limit=50000&apiKey=NahcgY5iZpJiLbXPYqZcgV6RatP09HUV\n",
      "https://api.polygon.io/v2/aggs/ticker/PCAR/range/15/minute/2023-04-01/2023-07-01?adjusted=true&sort=asc&limit=50000&apiKey=NahcgY5iZpJiLbXPYqZcgV6RatP09HUV\n",
      "https://api.polygon.io/v2/aggs/ticker/PCAR/range/15/minute/2023-07-01/2023-10-01?adjusted=true&sort=asc&limit=50000&apiKey=NahcgY5iZpJiLbXPYqZcgV6RatP09HUV\n",
      "https://api.polygon.io/v2/aggs/ticker/PCAR/range/15/minute/2023-10-01/2024-01-01?adjusted=true&sort=asc&limit=50000&apiKey=NahcgY5iZpJiLbXPYqZcgV6RatP09HUV\n",
      "https://api.polygon.io/v2/aggs/ticker/PKG/range/15/minute/2023-01-01/2023-04-01?adjusted=true&sort=asc&limit=50000&apiKey=NahcgY5iZpJiLbXPYqZcgV6RatP09HUV\n",
      "https://api.polygon.io/v2/aggs/ticker/PKG/range/15/minute/2023-04-01/2023-07-01?adjusted=true&sort=asc&limit=50000&apiKey=NahcgY5iZpJiLbXPYqZcgV6RatP09HUV\n",
      "https://api.polygon.io/v2/aggs/ticker/PKG/range/15/minute/2023-07-01/2023-10-01?adjusted=true&sort=asc&limit=50000&apiKey=NahcgY5iZpJiLbXPYqZcgV6RatP09HUV\n",
      "https://api.polygon.io/v2/aggs/ticker/PKG/range/15/minute/2023-10-01/2024-01-01?adjusted=true&sort=asc&limit=50000&apiKey=NahcgY5iZpJiLbXPYqZcgV6RatP09HUV\n",
      "https://api.polygon.io/v2/aggs/ticker/PANW/range/15/minute/2023-01-01/2023-04-01?adjusted=true&sort=asc&limit=50000&apiKey=NahcgY5iZpJiLbXPYqZcgV6RatP09HUV\n",
      "https://api.polygon.io/v2/aggs/ticker/PANW/range/15/minute/2023-04-01/2023-07-01?adjusted=true&sort=asc&limit=50000&apiKey=NahcgY5iZpJiLbXPYqZcgV6RatP09HUV\n",
      "https://api.polygon.io/v2/aggs/ticker/PANW/range/15/minute/2023-07-01/2023-10-01?adjusted=true&sort=asc&limit=50000&apiKey=NahcgY5iZpJiLbXPYqZcgV6RatP09HUV\n",
      "https://api.polygon.io/v2/aggs/ticker/PANW/range/15/minute/2023-10-01/2024-01-01?adjusted=true&sort=asc&limit=50000&apiKey=NahcgY5iZpJiLbXPYqZcgV6RatP09HUV\n",
      "https://api.polygon.io/v2/aggs/ticker/PARA/range/15/minute/2023-01-01/2023-04-01?adjusted=true&sort=asc&limit=50000&apiKey=NahcgY5iZpJiLbXPYqZcgV6RatP09HUV\n",
      "https://api.polygon.io/v2/aggs/ticker/PARA/range/15/minute/2023-04-01/2023-07-01?adjusted=true&sort=asc&limit=50000&apiKey=NahcgY5iZpJiLbXPYqZcgV6RatP09HUV\n",
      "https://api.polygon.io/v2/aggs/ticker/PARA/range/15/minute/2023-07-01/2023-10-01?adjusted=true&sort=asc&limit=50000&apiKey=NahcgY5iZpJiLbXPYqZcgV6RatP09HUV\n",
      "https://api.polygon.io/v2/aggs/ticker/PARA/range/15/minute/2023-10-01/2024-01-01?adjusted=true&sort=asc&limit=50000&apiKey=NahcgY5iZpJiLbXPYqZcgV6RatP09HUV\n",
      "https://api.polygon.io/v2/aggs/ticker/PH/range/15/minute/2023-01-01/2023-04-01?adjusted=true&sort=asc&limit=50000&apiKey=NahcgY5iZpJiLbXPYqZcgV6RatP09HUV\n",
      "https://api.polygon.io/v2/aggs/ticker/PH/range/15/minute/2023-04-01/2023-07-01?adjusted=true&sort=asc&limit=50000&apiKey=NahcgY5iZpJiLbXPYqZcgV6RatP09HUV\n",
      "https://api.polygon.io/v2/aggs/ticker/PH/range/15/minute/2023-07-01/2023-10-01?adjusted=true&sort=asc&limit=50000&apiKey=NahcgY5iZpJiLbXPYqZcgV6RatP09HUV\n",
      "https://api.polygon.io/v2/aggs/ticker/PH/range/15/minute/2023-10-01/2024-01-01?adjusted=true&sort=asc&limit=50000&apiKey=NahcgY5iZpJiLbXPYqZcgV6RatP09HUV\n",
      "https://api.polygon.io/v2/aggs/ticker/PAYX/range/15/minute/2023-01-01/2023-04-01?adjusted=true&sort=asc&limit=50000&apiKey=NahcgY5iZpJiLbXPYqZcgV6RatP09HUV\n",
      "https://api.polygon.io/v2/aggs/ticker/PAYX/range/15/minute/2023-04-01/2023-07-01?adjusted=true&sort=asc&limit=50000&apiKey=NahcgY5iZpJiLbXPYqZcgV6RatP09HUV\n",
      "https://api.polygon.io/v2/aggs/ticker/PAYX/range/15/minute/2023-07-01/2023-10-01?adjusted=true&sort=asc&limit=50000&apiKey=NahcgY5iZpJiLbXPYqZcgV6RatP09HUV\n",
      "https://api.polygon.io/v2/aggs/ticker/PAYX/range/15/minute/2023-10-01/2024-01-01?adjusted=true&sort=asc&limit=50000&apiKey=NahcgY5iZpJiLbXPYqZcgV6RatP09HUV\n",
      "https://api.polygon.io/v2/aggs/ticker/PAYC/range/15/minute/2023-01-01/2023-04-01?adjusted=true&sort=asc&limit=50000&apiKey=NahcgY5iZpJiLbXPYqZcgV6RatP09HUV\n",
      "https://api.polygon.io/v2/aggs/ticker/PAYC/range/15/minute/2023-04-01/2023-07-01?adjusted=true&sort=asc&limit=50000&apiKey=NahcgY5iZpJiLbXPYqZcgV6RatP09HUV\n",
      "https://api.polygon.io/v2/aggs/ticker/PAYC/range/15/minute/2023-07-01/2023-10-01?adjusted=true&sort=asc&limit=50000&apiKey=NahcgY5iZpJiLbXPYqZcgV6RatP09HUV\n",
      "https://api.polygon.io/v2/aggs/ticker/PAYC/range/15/minute/2023-10-01/2024-01-01?adjusted=true&sort=asc&limit=50000&apiKey=NahcgY5iZpJiLbXPYqZcgV6RatP09HUV\n",
      "https://api.polygon.io/v2/aggs/ticker/PYPL/range/15/minute/2023-01-01/2023-04-01?adjusted=true&sort=asc&limit=50000&apiKey=NahcgY5iZpJiLbXPYqZcgV6RatP09HUV\n",
      "https://api.polygon.io/v2/aggs/ticker/PYPL/range/15/minute/2023-04-01/2023-07-01?adjusted=true&sort=asc&limit=50000&apiKey=NahcgY5iZpJiLbXPYqZcgV6RatP09HUV\n",
      "https://api.polygon.io/v2/aggs/ticker/PYPL/range/15/minute/2023-07-01/2023-10-01?adjusted=true&sort=asc&limit=50000&apiKey=NahcgY5iZpJiLbXPYqZcgV6RatP09HUV\n",
      "https://api.polygon.io/v2/aggs/ticker/PYPL/range/15/minute/2023-10-01/2024-01-01?adjusted=true&sort=asc&limit=50000&apiKey=NahcgY5iZpJiLbXPYqZcgV6RatP09HUV\n",
      "https://api.polygon.io/v2/aggs/ticker/PNR/range/15/minute/2023-01-01/2023-04-01?adjusted=true&sort=asc&limit=50000&apiKey=NahcgY5iZpJiLbXPYqZcgV6RatP09HUV\n",
      "https://api.polygon.io/v2/aggs/ticker/PNR/range/15/minute/2023-04-01/2023-07-01?adjusted=true&sort=asc&limit=50000&apiKey=NahcgY5iZpJiLbXPYqZcgV6RatP09HUV\n",
      "https://api.polygon.io/v2/aggs/ticker/PNR/range/15/minute/2023-07-01/2023-10-01?adjusted=true&sort=asc&limit=50000&apiKey=NahcgY5iZpJiLbXPYqZcgV6RatP09HUV\n",
      "https://api.polygon.io/v2/aggs/ticker/PNR/range/15/minute/2023-10-01/2024-01-01?adjusted=true&sort=asc&limit=50000&apiKey=NahcgY5iZpJiLbXPYqZcgV6RatP09HUV\n",
      "https://api.polygon.io/v2/aggs/ticker/PEP/range/15/minute/2023-01-01/2023-04-01?adjusted=true&sort=asc&limit=50000&apiKey=NahcgY5iZpJiLbXPYqZcgV6RatP09HUV\n",
      "https://api.polygon.io/v2/aggs/ticker/PEP/range/15/minute/2023-04-01/2023-07-01?adjusted=true&sort=asc&limit=50000&apiKey=NahcgY5iZpJiLbXPYqZcgV6RatP09HUV\n",
      "https://api.polygon.io/v2/aggs/ticker/PEP/range/15/minute/2023-07-01/2023-10-01?adjusted=true&sort=asc&limit=50000&apiKey=NahcgY5iZpJiLbXPYqZcgV6RatP09HUV\n",
      "https://api.polygon.io/v2/aggs/ticker/PEP/range/15/minute/2023-10-01/2024-01-01?adjusted=true&sort=asc&limit=50000&apiKey=NahcgY5iZpJiLbXPYqZcgV6RatP09HUV\n",
      "https://api.polygon.io/v2/aggs/ticker/PFE/range/15/minute/2023-01-01/2023-04-01?adjusted=true&sort=asc&limit=50000&apiKey=NahcgY5iZpJiLbXPYqZcgV6RatP09HUV\n"
     ]
    },
    {
     "name": "stdout",
     "output_type": "stream",
     "text": [
      "https://api.polygon.io/v2/aggs/ticker/PFE/range/15/minute/2023-04-01/2023-07-01?adjusted=true&sort=asc&limit=50000&apiKey=NahcgY5iZpJiLbXPYqZcgV6RatP09HUV\n",
      "https://api.polygon.io/v2/aggs/ticker/PFE/range/15/minute/2023-07-01/2023-10-01?adjusted=true&sort=asc&limit=50000&apiKey=NahcgY5iZpJiLbXPYqZcgV6RatP09HUV\n",
      "https://api.polygon.io/v2/aggs/ticker/PFE/range/15/minute/2023-10-01/2024-01-01?adjusted=true&sort=asc&limit=50000&apiKey=NahcgY5iZpJiLbXPYqZcgV6RatP09HUV\n",
      "https://api.polygon.io/v2/aggs/ticker/PCG/range/15/minute/2023-01-01/2023-04-01?adjusted=true&sort=asc&limit=50000&apiKey=NahcgY5iZpJiLbXPYqZcgV6RatP09HUV\n",
      "https://api.polygon.io/v2/aggs/ticker/PCG/range/15/minute/2023-04-01/2023-07-01?adjusted=true&sort=asc&limit=50000&apiKey=NahcgY5iZpJiLbXPYqZcgV6RatP09HUV\n",
      "https://api.polygon.io/v2/aggs/ticker/PCG/range/15/minute/2023-07-01/2023-10-01?adjusted=true&sort=asc&limit=50000&apiKey=NahcgY5iZpJiLbXPYqZcgV6RatP09HUV\n",
      "https://api.polygon.io/v2/aggs/ticker/PCG/range/15/minute/2023-10-01/2024-01-01?adjusted=true&sort=asc&limit=50000&apiKey=NahcgY5iZpJiLbXPYqZcgV6RatP09HUV\n",
      "https://api.polygon.io/v2/aggs/ticker/PM/range/15/minute/2023-01-01/2023-04-01?adjusted=true&sort=asc&limit=50000&apiKey=NahcgY5iZpJiLbXPYqZcgV6RatP09HUV\n",
      "https://api.polygon.io/v2/aggs/ticker/PM/range/15/minute/2023-04-01/2023-07-01?adjusted=true&sort=asc&limit=50000&apiKey=NahcgY5iZpJiLbXPYqZcgV6RatP09HUV\n",
      "https://api.polygon.io/v2/aggs/ticker/PM/range/15/minute/2023-07-01/2023-10-01?adjusted=true&sort=asc&limit=50000&apiKey=NahcgY5iZpJiLbXPYqZcgV6RatP09HUV\n",
      "https://api.polygon.io/v2/aggs/ticker/PM/range/15/minute/2023-10-01/2024-01-01?adjusted=true&sort=asc&limit=50000&apiKey=NahcgY5iZpJiLbXPYqZcgV6RatP09HUV\n",
      "https://api.polygon.io/v2/aggs/ticker/PSX/range/15/minute/2023-01-01/2023-04-01?adjusted=true&sort=asc&limit=50000&apiKey=NahcgY5iZpJiLbXPYqZcgV6RatP09HUV\n",
      "https://api.polygon.io/v2/aggs/ticker/PSX/range/15/minute/2023-04-01/2023-07-01?adjusted=true&sort=asc&limit=50000&apiKey=NahcgY5iZpJiLbXPYqZcgV6RatP09HUV\n",
      "https://api.polygon.io/v2/aggs/ticker/PSX/range/15/minute/2023-07-01/2023-10-01?adjusted=true&sort=asc&limit=50000&apiKey=NahcgY5iZpJiLbXPYqZcgV6RatP09HUV\n",
      "https://api.polygon.io/v2/aggs/ticker/PSX/range/15/minute/2023-10-01/2024-01-01?adjusted=true&sort=asc&limit=50000&apiKey=NahcgY5iZpJiLbXPYqZcgV6RatP09HUV\n",
      "https://api.polygon.io/v2/aggs/ticker/PNW/range/15/minute/2023-01-01/2023-04-01?adjusted=true&sort=asc&limit=50000&apiKey=NahcgY5iZpJiLbXPYqZcgV6RatP09HUV\n",
      "https://api.polygon.io/v2/aggs/ticker/PNW/range/15/minute/2023-04-01/2023-07-01?adjusted=true&sort=asc&limit=50000&apiKey=NahcgY5iZpJiLbXPYqZcgV6RatP09HUV\n",
      "https://api.polygon.io/v2/aggs/ticker/PNW/range/15/minute/2023-07-01/2023-10-01?adjusted=true&sort=asc&limit=50000&apiKey=NahcgY5iZpJiLbXPYqZcgV6RatP09HUV\n",
      "https://api.polygon.io/v2/aggs/ticker/PNW/range/15/minute/2023-10-01/2024-01-01?adjusted=true&sort=asc&limit=50000&apiKey=NahcgY5iZpJiLbXPYqZcgV6RatP09HUV\n",
      "https://api.polygon.io/v2/aggs/ticker/PXD/range/15/minute/2023-01-01/2023-04-01?adjusted=true&sort=asc&limit=50000&apiKey=NahcgY5iZpJiLbXPYqZcgV6RatP09HUV\n",
      "https://api.polygon.io/v2/aggs/ticker/PXD/range/15/minute/2023-04-01/2023-07-01?adjusted=true&sort=asc&limit=50000&apiKey=NahcgY5iZpJiLbXPYqZcgV6RatP09HUV\n",
      "https://api.polygon.io/v2/aggs/ticker/PXD/range/15/minute/2023-07-01/2023-10-01?adjusted=true&sort=asc&limit=50000&apiKey=NahcgY5iZpJiLbXPYqZcgV6RatP09HUV\n",
      "https://api.polygon.io/v2/aggs/ticker/PXD/range/15/minute/2023-10-01/2024-01-01?adjusted=true&sort=asc&limit=50000&apiKey=NahcgY5iZpJiLbXPYqZcgV6RatP09HUV\n",
      "https://api.polygon.io/v2/aggs/ticker/PNC/range/15/minute/2023-01-01/2023-04-01?adjusted=true&sort=asc&limit=50000&apiKey=NahcgY5iZpJiLbXPYqZcgV6RatP09HUV\n",
      "https://api.polygon.io/v2/aggs/ticker/PNC/range/15/minute/2023-04-01/2023-07-01?adjusted=true&sort=asc&limit=50000&apiKey=NahcgY5iZpJiLbXPYqZcgV6RatP09HUV\n",
      "https://api.polygon.io/v2/aggs/ticker/PNC/range/15/minute/2023-07-01/2023-10-01?adjusted=true&sort=asc&limit=50000&apiKey=NahcgY5iZpJiLbXPYqZcgV6RatP09HUV\n",
      "https://api.polygon.io/v2/aggs/ticker/PNC/range/15/minute/2023-10-01/2024-01-01?adjusted=true&sort=asc&limit=50000&apiKey=NahcgY5iZpJiLbXPYqZcgV6RatP09HUV\n",
      "https://api.polygon.io/v2/aggs/ticker/POOL/range/15/minute/2023-01-01/2023-04-01?adjusted=true&sort=asc&limit=50000&apiKey=NahcgY5iZpJiLbXPYqZcgV6RatP09HUV\n",
      "https://api.polygon.io/v2/aggs/ticker/POOL/range/15/minute/2023-04-01/2023-07-01?adjusted=true&sort=asc&limit=50000&apiKey=NahcgY5iZpJiLbXPYqZcgV6RatP09HUV\n",
      "https://api.polygon.io/v2/aggs/ticker/POOL/range/15/minute/2023-07-01/2023-10-01?adjusted=true&sort=asc&limit=50000&apiKey=NahcgY5iZpJiLbXPYqZcgV6RatP09HUV\n",
      "https://api.polygon.io/v2/aggs/ticker/POOL/range/15/minute/2023-10-01/2024-01-01?adjusted=true&sort=asc&limit=50000&apiKey=NahcgY5iZpJiLbXPYqZcgV6RatP09HUV\n",
      "https://api.polygon.io/v2/aggs/ticker/PPG/range/15/minute/2023-01-01/2023-04-01?adjusted=true&sort=asc&limit=50000&apiKey=NahcgY5iZpJiLbXPYqZcgV6RatP09HUV\n",
      "https://api.polygon.io/v2/aggs/ticker/PPG/range/15/minute/2023-04-01/2023-07-01?adjusted=true&sort=asc&limit=50000&apiKey=NahcgY5iZpJiLbXPYqZcgV6RatP09HUV\n",
      "https://api.polygon.io/v2/aggs/ticker/PPG/range/15/minute/2023-07-01/2023-10-01?adjusted=true&sort=asc&limit=50000&apiKey=NahcgY5iZpJiLbXPYqZcgV6RatP09HUV\n",
      "https://api.polygon.io/v2/aggs/ticker/PPG/range/15/minute/2023-10-01/2024-01-01?adjusted=true&sort=asc&limit=50000&apiKey=NahcgY5iZpJiLbXPYqZcgV6RatP09HUV\n",
      "https://api.polygon.io/v2/aggs/ticker/PPL/range/15/minute/2023-01-01/2023-04-01?adjusted=true&sort=asc&limit=50000&apiKey=NahcgY5iZpJiLbXPYqZcgV6RatP09HUV\n",
      "https://api.polygon.io/v2/aggs/ticker/PPL/range/15/minute/2023-04-01/2023-07-01?adjusted=true&sort=asc&limit=50000&apiKey=NahcgY5iZpJiLbXPYqZcgV6RatP09HUV\n",
      "https://api.polygon.io/v2/aggs/ticker/PPL/range/15/minute/2023-07-01/2023-10-01?adjusted=true&sort=asc&limit=50000&apiKey=NahcgY5iZpJiLbXPYqZcgV6RatP09HUV\n",
      "https://api.polygon.io/v2/aggs/ticker/PPL/range/15/minute/2023-10-01/2024-01-01?adjusted=true&sort=asc&limit=50000&apiKey=NahcgY5iZpJiLbXPYqZcgV6RatP09HUV\n",
      "https://api.polygon.io/v2/aggs/ticker/PFG/range/15/minute/2023-01-01/2023-04-01?adjusted=true&sort=asc&limit=50000&apiKey=NahcgY5iZpJiLbXPYqZcgV6RatP09HUV\n",
      "https://api.polygon.io/v2/aggs/ticker/PFG/range/15/minute/2023-04-01/2023-07-01?adjusted=true&sort=asc&limit=50000&apiKey=NahcgY5iZpJiLbXPYqZcgV6RatP09HUV\n",
      "https://api.polygon.io/v2/aggs/ticker/PFG/range/15/minute/2023-07-01/2023-10-01?adjusted=true&sort=asc&limit=50000&apiKey=NahcgY5iZpJiLbXPYqZcgV6RatP09HUV\n",
      "https://api.polygon.io/v2/aggs/ticker/PFG/range/15/minute/2023-10-01/2024-01-01?adjusted=true&sort=asc&limit=50000&apiKey=NahcgY5iZpJiLbXPYqZcgV6RatP09HUV\n",
      "https://api.polygon.io/v2/aggs/ticker/PG/range/15/minute/2023-01-01/2023-04-01?adjusted=true&sort=asc&limit=50000&apiKey=NahcgY5iZpJiLbXPYqZcgV6RatP09HUV\n",
      "https://api.polygon.io/v2/aggs/ticker/PG/range/15/minute/2023-04-01/2023-07-01?adjusted=true&sort=asc&limit=50000&apiKey=NahcgY5iZpJiLbXPYqZcgV6RatP09HUV\n",
      "https://api.polygon.io/v2/aggs/ticker/PG/range/15/minute/2023-07-01/2023-10-01?adjusted=true&sort=asc&limit=50000&apiKey=NahcgY5iZpJiLbXPYqZcgV6RatP09HUV\n",
      "https://api.polygon.io/v2/aggs/ticker/PG/range/15/minute/2023-10-01/2024-01-01?adjusted=true&sort=asc&limit=50000&apiKey=NahcgY5iZpJiLbXPYqZcgV6RatP09HUV\n",
      "https://api.polygon.io/v2/aggs/ticker/PGR/range/15/minute/2023-01-01/2023-04-01?adjusted=true&sort=asc&limit=50000&apiKey=NahcgY5iZpJiLbXPYqZcgV6RatP09HUV\n",
      "https://api.polygon.io/v2/aggs/ticker/PGR/range/15/minute/2023-04-01/2023-07-01?adjusted=true&sort=asc&limit=50000&apiKey=NahcgY5iZpJiLbXPYqZcgV6RatP09HUV\n",
      "https://api.polygon.io/v2/aggs/ticker/PGR/range/15/minute/2023-07-01/2023-10-01?adjusted=true&sort=asc&limit=50000&apiKey=NahcgY5iZpJiLbXPYqZcgV6RatP09HUV\n",
      "https://api.polygon.io/v2/aggs/ticker/PGR/range/15/minute/2023-10-01/2024-01-01?adjusted=true&sort=asc&limit=50000&apiKey=NahcgY5iZpJiLbXPYqZcgV6RatP09HUV\n",
      "https://api.polygon.io/v2/aggs/ticker/PLD/range/15/minute/2023-01-01/2023-04-01?adjusted=true&sort=asc&limit=50000&apiKey=NahcgY5iZpJiLbXPYqZcgV6RatP09HUV\n",
      "https://api.polygon.io/v2/aggs/ticker/PLD/range/15/minute/2023-04-01/2023-07-01?adjusted=true&sort=asc&limit=50000&apiKey=NahcgY5iZpJiLbXPYqZcgV6RatP09HUV\n"
     ]
    },
    {
     "name": "stdout",
     "output_type": "stream",
     "text": [
      "https://api.polygon.io/v2/aggs/ticker/PLD/range/15/minute/2023-07-01/2023-10-01?adjusted=true&sort=asc&limit=50000&apiKey=NahcgY5iZpJiLbXPYqZcgV6RatP09HUV\n",
      "https://api.polygon.io/v2/aggs/ticker/PLD/range/15/minute/2023-10-01/2024-01-01?adjusted=true&sort=asc&limit=50000&apiKey=NahcgY5iZpJiLbXPYqZcgV6RatP09HUV\n",
      "https://api.polygon.io/v2/aggs/ticker/PRU/range/15/minute/2023-01-01/2023-04-01?adjusted=true&sort=asc&limit=50000&apiKey=NahcgY5iZpJiLbXPYqZcgV6RatP09HUV\n",
      "https://api.polygon.io/v2/aggs/ticker/PRU/range/15/minute/2023-04-01/2023-07-01?adjusted=true&sort=asc&limit=50000&apiKey=NahcgY5iZpJiLbXPYqZcgV6RatP09HUV\n",
      "https://api.polygon.io/v2/aggs/ticker/PRU/range/15/minute/2023-07-01/2023-10-01?adjusted=true&sort=asc&limit=50000&apiKey=NahcgY5iZpJiLbXPYqZcgV6RatP09HUV\n",
      "https://api.polygon.io/v2/aggs/ticker/PRU/range/15/minute/2023-10-01/2024-01-01?adjusted=true&sort=asc&limit=50000&apiKey=NahcgY5iZpJiLbXPYqZcgV6RatP09HUV\n",
      "https://api.polygon.io/v2/aggs/ticker/PEG/range/15/minute/2023-01-01/2023-04-01?adjusted=true&sort=asc&limit=50000&apiKey=NahcgY5iZpJiLbXPYqZcgV6RatP09HUV\n",
      "https://api.polygon.io/v2/aggs/ticker/PEG/range/15/minute/2023-04-01/2023-07-01?adjusted=true&sort=asc&limit=50000&apiKey=NahcgY5iZpJiLbXPYqZcgV6RatP09HUV\n",
      "https://api.polygon.io/v2/aggs/ticker/PEG/range/15/minute/2023-07-01/2023-10-01?adjusted=true&sort=asc&limit=50000&apiKey=NahcgY5iZpJiLbXPYqZcgV6RatP09HUV\n",
      "https://api.polygon.io/v2/aggs/ticker/PEG/range/15/minute/2023-10-01/2024-01-01?adjusted=true&sort=asc&limit=50000&apiKey=NahcgY5iZpJiLbXPYqZcgV6RatP09HUV\n",
      "https://api.polygon.io/v2/aggs/ticker/PTC/range/15/minute/2023-01-01/2023-04-01?adjusted=true&sort=asc&limit=50000&apiKey=NahcgY5iZpJiLbXPYqZcgV6RatP09HUV\n",
      "https://api.polygon.io/v2/aggs/ticker/PTC/range/15/minute/2023-04-01/2023-07-01?adjusted=true&sort=asc&limit=50000&apiKey=NahcgY5iZpJiLbXPYqZcgV6RatP09HUV\n",
      "https://api.polygon.io/v2/aggs/ticker/PTC/range/15/minute/2023-07-01/2023-10-01?adjusted=true&sort=asc&limit=50000&apiKey=NahcgY5iZpJiLbXPYqZcgV6RatP09HUV\n",
      "https://api.polygon.io/v2/aggs/ticker/PTC/range/15/minute/2023-10-01/2024-01-01?adjusted=true&sort=asc&limit=50000&apiKey=NahcgY5iZpJiLbXPYqZcgV6RatP09HUV\n",
      "https://api.polygon.io/v2/aggs/ticker/PSA/range/15/minute/2023-01-01/2023-04-01?adjusted=true&sort=asc&limit=50000&apiKey=NahcgY5iZpJiLbXPYqZcgV6RatP09HUV\n",
      "https://api.polygon.io/v2/aggs/ticker/PSA/range/15/minute/2023-04-01/2023-07-01?adjusted=true&sort=asc&limit=50000&apiKey=NahcgY5iZpJiLbXPYqZcgV6RatP09HUV\n",
      "https://api.polygon.io/v2/aggs/ticker/PSA/range/15/minute/2023-07-01/2023-10-01?adjusted=true&sort=asc&limit=50000&apiKey=NahcgY5iZpJiLbXPYqZcgV6RatP09HUV\n",
      "https://api.polygon.io/v2/aggs/ticker/PSA/range/15/minute/2023-10-01/2024-01-01?adjusted=true&sort=asc&limit=50000&apiKey=NahcgY5iZpJiLbXPYqZcgV6RatP09HUV\n",
      "https://api.polygon.io/v2/aggs/ticker/PHM/range/15/minute/2023-01-01/2023-04-01?adjusted=true&sort=asc&limit=50000&apiKey=NahcgY5iZpJiLbXPYqZcgV6RatP09HUV\n",
      "https://api.polygon.io/v2/aggs/ticker/PHM/range/15/minute/2023-04-01/2023-07-01?adjusted=true&sort=asc&limit=50000&apiKey=NahcgY5iZpJiLbXPYqZcgV6RatP09HUV\n",
      "https://api.polygon.io/v2/aggs/ticker/PHM/range/15/minute/2023-07-01/2023-10-01?adjusted=true&sort=asc&limit=50000&apiKey=NahcgY5iZpJiLbXPYqZcgV6RatP09HUV\n",
      "https://api.polygon.io/v2/aggs/ticker/PHM/range/15/minute/2023-10-01/2024-01-01?adjusted=true&sort=asc&limit=50000&apiKey=NahcgY5iZpJiLbXPYqZcgV6RatP09HUV\n",
      "https://api.polygon.io/v2/aggs/ticker/QRVO/range/15/minute/2023-01-01/2023-04-01?adjusted=true&sort=asc&limit=50000&apiKey=NahcgY5iZpJiLbXPYqZcgV6RatP09HUV\n",
      "https://api.polygon.io/v2/aggs/ticker/QRVO/range/15/minute/2023-04-01/2023-07-01?adjusted=true&sort=asc&limit=50000&apiKey=NahcgY5iZpJiLbXPYqZcgV6RatP09HUV\n",
      "https://api.polygon.io/v2/aggs/ticker/QRVO/range/15/minute/2023-07-01/2023-10-01?adjusted=true&sort=asc&limit=50000&apiKey=NahcgY5iZpJiLbXPYqZcgV6RatP09HUV\n",
      "https://api.polygon.io/v2/aggs/ticker/QRVO/range/15/minute/2023-10-01/2024-01-01?adjusted=true&sort=asc&limit=50000&apiKey=NahcgY5iZpJiLbXPYqZcgV6RatP09HUV\n",
      "https://api.polygon.io/v2/aggs/ticker/PWR/range/15/minute/2023-01-01/2023-04-01?adjusted=true&sort=asc&limit=50000&apiKey=NahcgY5iZpJiLbXPYqZcgV6RatP09HUV\n",
      "https://api.polygon.io/v2/aggs/ticker/PWR/range/15/minute/2023-04-01/2023-07-01?adjusted=true&sort=asc&limit=50000&apiKey=NahcgY5iZpJiLbXPYqZcgV6RatP09HUV\n",
      "https://api.polygon.io/v2/aggs/ticker/PWR/range/15/minute/2023-07-01/2023-10-01?adjusted=true&sort=asc&limit=50000&apiKey=NahcgY5iZpJiLbXPYqZcgV6RatP09HUV\n",
      "https://api.polygon.io/v2/aggs/ticker/PWR/range/15/minute/2023-10-01/2024-01-01?adjusted=true&sort=asc&limit=50000&apiKey=NahcgY5iZpJiLbXPYqZcgV6RatP09HUV\n",
      "https://api.polygon.io/v2/aggs/ticker/QCOM/range/15/minute/2023-01-01/2023-04-01?adjusted=true&sort=asc&limit=50000&apiKey=NahcgY5iZpJiLbXPYqZcgV6RatP09HUV\n",
      "https://api.polygon.io/v2/aggs/ticker/QCOM/range/15/minute/2023-04-01/2023-07-01?adjusted=true&sort=asc&limit=50000&apiKey=NahcgY5iZpJiLbXPYqZcgV6RatP09HUV\n",
      "https://api.polygon.io/v2/aggs/ticker/QCOM/range/15/minute/2023-07-01/2023-10-01?adjusted=true&sort=asc&limit=50000&apiKey=NahcgY5iZpJiLbXPYqZcgV6RatP09HUV\n",
      "https://api.polygon.io/v2/aggs/ticker/QCOM/range/15/minute/2023-10-01/2024-01-01?adjusted=true&sort=asc&limit=50000&apiKey=NahcgY5iZpJiLbXPYqZcgV6RatP09HUV\n",
      "https://api.polygon.io/v2/aggs/ticker/DGX/range/15/minute/2023-01-01/2023-04-01?adjusted=true&sort=asc&limit=50000&apiKey=NahcgY5iZpJiLbXPYqZcgV6RatP09HUV\n",
      "https://api.polygon.io/v2/aggs/ticker/DGX/range/15/minute/2023-04-01/2023-07-01?adjusted=true&sort=asc&limit=50000&apiKey=NahcgY5iZpJiLbXPYqZcgV6RatP09HUV\n",
      "https://api.polygon.io/v2/aggs/ticker/DGX/range/15/minute/2023-07-01/2023-10-01?adjusted=true&sort=asc&limit=50000&apiKey=NahcgY5iZpJiLbXPYqZcgV6RatP09HUV\n",
      "https://api.polygon.io/v2/aggs/ticker/DGX/range/15/minute/2023-10-01/2024-01-01?adjusted=true&sort=asc&limit=50000&apiKey=NahcgY5iZpJiLbXPYqZcgV6RatP09HUV\n",
      "https://api.polygon.io/v2/aggs/ticker/RL/range/15/minute/2023-01-01/2023-04-01?adjusted=true&sort=asc&limit=50000&apiKey=NahcgY5iZpJiLbXPYqZcgV6RatP09HUV\n",
      "https://api.polygon.io/v2/aggs/ticker/RL/range/15/minute/2023-04-01/2023-07-01?adjusted=true&sort=asc&limit=50000&apiKey=NahcgY5iZpJiLbXPYqZcgV6RatP09HUV\n",
      "https://api.polygon.io/v2/aggs/ticker/RL/range/15/minute/2023-07-01/2023-10-01?adjusted=true&sort=asc&limit=50000&apiKey=NahcgY5iZpJiLbXPYqZcgV6RatP09HUV\n",
      "https://api.polygon.io/v2/aggs/ticker/RL/range/15/minute/2023-10-01/2024-01-01?adjusted=true&sort=asc&limit=50000&apiKey=NahcgY5iZpJiLbXPYqZcgV6RatP09HUV\n",
      "https://api.polygon.io/v2/aggs/ticker/RJF/range/15/minute/2023-01-01/2023-04-01?adjusted=true&sort=asc&limit=50000&apiKey=NahcgY5iZpJiLbXPYqZcgV6RatP09HUV\n",
      "https://api.polygon.io/v2/aggs/ticker/RJF/range/15/minute/2023-04-01/2023-07-01?adjusted=true&sort=asc&limit=50000&apiKey=NahcgY5iZpJiLbXPYqZcgV6RatP09HUV\n",
      "https://api.polygon.io/v2/aggs/ticker/RJF/range/15/minute/2023-07-01/2023-10-01?adjusted=true&sort=asc&limit=50000&apiKey=NahcgY5iZpJiLbXPYqZcgV6RatP09HUV\n",
      "https://api.polygon.io/v2/aggs/ticker/RJF/range/15/minute/2023-10-01/2024-01-01?adjusted=true&sort=asc&limit=50000&apiKey=NahcgY5iZpJiLbXPYqZcgV6RatP09HUV\n",
      "https://api.polygon.io/v2/aggs/ticker/RTX/range/15/minute/2023-01-01/2023-04-01?adjusted=true&sort=asc&limit=50000&apiKey=NahcgY5iZpJiLbXPYqZcgV6RatP09HUV\n",
      "https://api.polygon.io/v2/aggs/ticker/RTX/range/15/minute/2023-04-01/2023-07-01?adjusted=true&sort=asc&limit=50000&apiKey=NahcgY5iZpJiLbXPYqZcgV6RatP09HUV\n",
      "https://api.polygon.io/v2/aggs/ticker/RTX/range/15/minute/2023-07-01/2023-10-01?adjusted=true&sort=asc&limit=50000&apiKey=NahcgY5iZpJiLbXPYqZcgV6RatP09HUV\n",
      "https://api.polygon.io/v2/aggs/ticker/RTX/range/15/minute/2023-10-01/2024-01-01?adjusted=true&sort=asc&limit=50000&apiKey=NahcgY5iZpJiLbXPYqZcgV6RatP09HUV\n",
      "https://api.polygon.io/v2/aggs/ticker/O/range/15/minute/2023-01-01/2023-04-01?adjusted=true&sort=asc&limit=50000&apiKey=NahcgY5iZpJiLbXPYqZcgV6RatP09HUV\n",
      "https://api.polygon.io/v2/aggs/ticker/O/range/15/minute/2023-04-01/2023-07-01?adjusted=true&sort=asc&limit=50000&apiKey=NahcgY5iZpJiLbXPYqZcgV6RatP09HUV\n",
      "https://api.polygon.io/v2/aggs/ticker/O/range/15/minute/2023-07-01/2023-10-01?adjusted=true&sort=asc&limit=50000&apiKey=NahcgY5iZpJiLbXPYqZcgV6RatP09HUV\n"
     ]
    },
    {
     "name": "stdout",
     "output_type": "stream",
     "text": [
      "https://api.polygon.io/v2/aggs/ticker/O/range/15/minute/2023-10-01/2024-01-01?adjusted=true&sort=asc&limit=50000&apiKey=NahcgY5iZpJiLbXPYqZcgV6RatP09HUV\n",
      "https://api.polygon.io/v2/aggs/ticker/REG/range/15/minute/2023-01-01/2023-04-01?adjusted=true&sort=asc&limit=50000&apiKey=NahcgY5iZpJiLbXPYqZcgV6RatP09HUV\n",
      "https://api.polygon.io/v2/aggs/ticker/REG/range/15/minute/2023-04-01/2023-07-01?adjusted=true&sort=asc&limit=50000&apiKey=NahcgY5iZpJiLbXPYqZcgV6RatP09HUV\n",
      "https://api.polygon.io/v2/aggs/ticker/REG/range/15/minute/2023-07-01/2023-10-01?adjusted=true&sort=asc&limit=50000&apiKey=NahcgY5iZpJiLbXPYqZcgV6RatP09HUV\n",
      "https://api.polygon.io/v2/aggs/ticker/REG/range/15/minute/2023-10-01/2024-01-01?adjusted=true&sort=asc&limit=50000&apiKey=NahcgY5iZpJiLbXPYqZcgV6RatP09HUV\n",
      "https://api.polygon.io/v2/aggs/ticker/REGN/range/15/minute/2023-01-01/2023-04-01?adjusted=true&sort=asc&limit=50000&apiKey=NahcgY5iZpJiLbXPYqZcgV6RatP09HUV\n",
      "https://api.polygon.io/v2/aggs/ticker/REGN/range/15/minute/2023-04-01/2023-07-01?adjusted=true&sort=asc&limit=50000&apiKey=NahcgY5iZpJiLbXPYqZcgV6RatP09HUV\n",
      "https://api.polygon.io/v2/aggs/ticker/REGN/range/15/minute/2023-07-01/2023-10-01?adjusted=true&sort=asc&limit=50000&apiKey=NahcgY5iZpJiLbXPYqZcgV6RatP09HUV\n",
      "https://api.polygon.io/v2/aggs/ticker/REGN/range/15/minute/2023-10-01/2024-01-01?adjusted=true&sort=asc&limit=50000&apiKey=NahcgY5iZpJiLbXPYqZcgV6RatP09HUV\n",
      "https://api.polygon.io/v2/aggs/ticker/RF/range/15/minute/2023-01-01/2023-04-01?adjusted=true&sort=asc&limit=50000&apiKey=NahcgY5iZpJiLbXPYqZcgV6RatP09HUV\n",
      "https://api.polygon.io/v2/aggs/ticker/RF/range/15/minute/2023-04-01/2023-07-01?adjusted=true&sort=asc&limit=50000&apiKey=NahcgY5iZpJiLbXPYqZcgV6RatP09HUV\n",
      "https://api.polygon.io/v2/aggs/ticker/RF/range/15/minute/2023-07-01/2023-10-01?adjusted=true&sort=asc&limit=50000&apiKey=NahcgY5iZpJiLbXPYqZcgV6RatP09HUV\n",
      "https://api.polygon.io/v2/aggs/ticker/RF/range/15/minute/2023-10-01/2024-01-01?adjusted=true&sort=asc&limit=50000&apiKey=NahcgY5iZpJiLbXPYqZcgV6RatP09HUV\n",
      "https://api.polygon.io/v2/aggs/ticker/RSG/range/15/minute/2023-01-01/2023-04-01?adjusted=true&sort=asc&limit=50000&apiKey=NahcgY5iZpJiLbXPYqZcgV6RatP09HUV\n",
      "https://api.polygon.io/v2/aggs/ticker/RSG/range/15/minute/2023-04-01/2023-07-01?adjusted=true&sort=asc&limit=50000&apiKey=NahcgY5iZpJiLbXPYqZcgV6RatP09HUV\n",
      "https://api.polygon.io/v2/aggs/ticker/RSG/range/15/minute/2023-07-01/2023-10-01?adjusted=true&sort=asc&limit=50000&apiKey=NahcgY5iZpJiLbXPYqZcgV6RatP09HUV\n",
      "https://api.polygon.io/v2/aggs/ticker/RSG/range/15/minute/2023-10-01/2024-01-01?adjusted=true&sort=asc&limit=50000&apiKey=NahcgY5iZpJiLbXPYqZcgV6RatP09HUV\n",
      "https://api.polygon.io/v2/aggs/ticker/RMD/range/15/minute/2023-01-01/2023-04-01?adjusted=true&sort=asc&limit=50000&apiKey=NahcgY5iZpJiLbXPYqZcgV6RatP09HUV\n",
      "https://api.polygon.io/v2/aggs/ticker/RMD/range/15/minute/2023-04-01/2023-07-01?adjusted=true&sort=asc&limit=50000&apiKey=NahcgY5iZpJiLbXPYqZcgV6RatP09HUV\n",
      "https://api.polygon.io/v2/aggs/ticker/RMD/range/15/minute/2023-07-01/2023-10-01?adjusted=true&sort=asc&limit=50000&apiKey=NahcgY5iZpJiLbXPYqZcgV6RatP09HUV\n",
      "https://api.polygon.io/v2/aggs/ticker/RMD/range/15/minute/2023-10-01/2024-01-01?adjusted=true&sort=asc&limit=50000&apiKey=NahcgY5iZpJiLbXPYqZcgV6RatP09HUV\n",
      "https://api.polygon.io/v2/aggs/ticker/RVTY/range/15/minute/2023-01-01/2023-04-01?adjusted=true&sort=asc&limit=50000&apiKey=NahcgY5iZpJiLbXPYqZcgV6RatP09HUV\n",
      "{'ticker': 'RVTY', 'queryCount': 0, 'resultsCount': 0, 'adjusted': True, 'status': 'OK', 'request_id': 'b0a4dd32969c4242bd3064c8ce950e83'}\n",
      "https://api.polygon.io/v2/aggs/ticker/RVTY/range/15/minute/2023-04-01/2023-07-01?adjusted=true&sort=asc&limit=50000&apiKey=NahcgY5iZpJiLbXPYqZcgV6RatP09HUV\n",
      "https://api.polygon.io/v2/aggs/ticker/RVTY/range/15/minute/2023-07-01/2023-10-01?adjusted=true&sort=asc&limit=50000&apiKey=NahcgY5iZpJiLbXPYqZcgV6RatP09HUV\n",
      "https://api.polygon.io/v2/aggs/ticker/RVTY/range/15/minute/2023-10-01/2024-01-01?adjusted=true&sort=asc&limit=50000&apiKey=NahcgY5iZpJiLbXPYqZcgV6RatP09HUV\n",
      "https://api.polygon.io/v2/aggs/ticker/RHI/range/15/minute/2023-01-01/2023-04-01?adjusted=true&sort=asc&limit=50000&apiKey=NahcgY5iZpJiLbXPYqZcgV6RatP09HUV\n",
      "https://api.polygon.io/v2/aggs/ticker/RHI/range/15/minute/2023-04-01/2023-07-01?adjusted=true&sort=asc&limit=50000&apiKey=NahcgY5iZpJiLbXPYqZcgV6RatP09HUV\n",
      "https://api.polygon.io/v2/aggs/ticker/RHI/range/15/minute/2023-07-01/2023-10-01?adjusted=true&sort=asc&limit=50000&apiKey=NahcgY5iZpJiLbXPYqZcgV6RatP09HUV\n",
      "https://api.polygon.io/v2/aggs/ticker/RHI/range/15/minute/2023-10-01/2024-01-01?adjusted=true&sort=asc&limit=50000&apiKey=NahcgY5iZpJiLbXPYqZcgV6RatP09HUV\n",
      "https://api.polygon.io/v2/aggs/ticker/ROK/range/15/minute/2023-01-01/2023-04-01?adjusted=true&sort=asc&limit=50000&apiKey=NahcgY5iZpJiLbXPYqZcgV6RatP09HUV\n",
      "https://api.polygon.io/v2/aggs/ticker/ROK/range/15/minute/2023-04-01/2023-07-01?adjusted=true&sort=asc&limit=50000&apiKey=NahcgY5iZpJiLbXPYqZcgV6RatP09HUV\n",
      "https://api.polygon.io/v2/aggs/ticker/ROK/range/15/minute/2023-07-01/2023-10-01?adjusted=true&sort=asc&limit=50000&apiKey=NahcgY5iZpJiLbXPYqZcgV6RatP09HUV\n",
      "https://api.polygon.io/v2/aggs/ticker/ROK/range/15/minute/2023-10-01/2024-01-01?adjusted=true&sort=asc&limit=50000&apiKey=NahcgY5iZpJiLbXPYqZcgV6RatP09HUV\n",
      "https://api.polygon.io/v2/aggs/ticker/ROL/range/15/minute/2023-01-01/2023-04-01?adjusted=true&sort=asc&limit=50000&apiKey=NahcgY5iZpJiLbXPYqZcgV6RatP09HUV\n",
      "https://api.polygon.io/v2/aggs/ticker/ROL/range/15/minute/2023-04-01/2023-07-01?adjusted=true&sort=asc&limit=50000&apiKey=NahcgY5iZpJiLbXPYqZcgV6RatP09HUV\n",
      "https://api.polygon.io/v2/aggs/ticker/ROL/range/15/minute/2023-07-01/2023-10-01?adjusted=true&sort=asc&limit=50000&apiKey=NahcgY5iZpJiLbXPYqZcgV6RatP09HUV\n",
      "https://api.polygon.io/v2/aggs/ticker/ROL/range/15/minute/2023-10-01/2024-01-01?adjusted=true&sort=asc&limit=50000&apiKey=NahcgY5iZpJiLbXPYqZcgV6RatP09HUV\n",
      "https://api.polygon.io/v2/aggs/ticker/ROP/range/15/minute/2023-01-01/2023-04-01?adjusted=true&sort=asc&limit=50000&apiKey=NahcgY5iZpJiLbXPYqZcgV6RatP09HUV\n",
      "https://api.polygon.io/v2/aggs/ticker/ROP/range/15/minute/2023-04-01/2023-07-01?adjusted=true&sort=asc&limit=50000&apiKey=NahcgY5iZpJiLbXPYqZcgV6RatP09HUV\n",
      "https://api.polygon.io/v2/aggs/ticker/ROP/range/15/minute/2023-07-01/2023-10-01?adjusted=true&sort=asc&limit=50000&apiKey=NahcgY5iZpJiLbXPYqZcgV6RatP09HUV\n",
      "https://api.polygon.io/v2/aggs/ticker/ROP/range/15/minute/2023-10-01/2024-01-01?adjusted=true&sort=asc&limit=50000&apiKey=NahcgY5iZpJiLbXPYqZcgV6RatP09HUV\n",
      "https://api.polygon.io/v2/aggs/ticker/ROST/range/15/minute/2023-01-01/2023-04-01?adjusted=true&sort=asc&limit=50000&apiKey=NahcgY5iZpJiLbXPYqZcgV6RatP09HUV\n",
      "https://api.polygon.io/v2/aggs/ticker/ROST/range/15/minute/2023-04-01/2023-07-01?adjusted=true&sort=asc&limit=50000&apiKey=NahcgY5iZpJiLbXPYqZcgV6RatP09HUV\n",
      "https://api.polygon.io/v2/aggs/ticker/ROST/range/15/minute/2023-07-01/2023-10-01?adjusted=true&sort=asc&limit=50000&apiKey=NahcgY5iZpJiLbXPYqZcgV6RatP09HUV\n",
      "https://api.polygon.io/v2/aggs/ticker/ROST/range/15/minute/2023-10-01/2024-01-01?adjusted=true&sort=asc&limit=50000&apiKey=NahcgY5iZpJiLbXPYqZcgV6RatP09HUV\n",
      "https://api.polygon.io/v2/aggs/ticker/RCL/range/15/minute/2023-01-01/2023-04-01?adjusted=true&sort=asc&limit=50000&apiKey=NahcgY5iZpJiLbXPYqZcgV6RatP09HUV\n",
      "https://api.polygon.io/v2/aggs/ticker/RCL/range/15/minute/2023-04-01/2023-07-01?adjusted=true&sort=asc&limit=50000&apiKey=NahcgY5iZpJiLbXPYqZcgV6RatP09HUV\n",
      "https://api.polygon.io/v2/aggs/ticker/RCL/range/15/minute/2023-07-01/2023-10-01?adjusted=true&sort=asc&limit=50000&apiKey=NahcgY5iZpJiLbXPYqZcgV6RatP09HUV\n",
      "https://api.polygon.io/v2/aggs/ticker/RCL/range/15/minute/2023-10-01/2024-01-01?adjusted=true&sort=asc&limit=50000&apiKey=NahcgY5iZpJiLbXPYqZcgV6RatP09HUV\n",
      "https://api.polygon.io/v2/aggs/ticker/SPGI/range/15/minute/2023-01-01/2023-04-01?adjusted=true&sort=asc&limit=50000&apiKey=NahcgY5iZpJiLbXPYqZcgV6RatP09HUV\n",
      "https://api.polygon.io/v2/aggs/ticker/SPGI/range/15/minute/2023-04-01/2023-07-01?adjusted=true&sort=asc&limit=50000&apiKey=NahcgY5iZpJiLbXPYqZcgV6RatP09HUV\n",
      "https://api.polygon.io/v2/aggs/ticker/SPGI/range/15/minute/2023-07-01/2023-10-01?adjusted=true&sort=asc&limit=50000&apiKey=NahcgY5iZpJiLbXPYqZcgV6RatP09HUV\n"
     ]
    },
    {
     "name": "stdout",
     "output_type": "stream",
     "text": [
      "https://api.polygon.io/v2/aggs/ticker/SPGI/range/15/minute/2023-10-01/2024-01-01?adjusted=true&sort=asc&limit=50000&apiKey=NahcgY5iZpJiLbXPYqZcgV6RatP09HUV\n",
      "https://api.polygon.io/v2/aggs/ticker/CRM/range/15/minute/2023-01-01/2023-04-01?adjusted=true&sort=asc&limit=50000&apiKey=NahcgY5iZpJiLbXPYqZcgV6RatP09HUV\n",
      "https://api.polygon.io/v2/aggs/ticker/CRM/range/15/minute/2023-04-01/2023-07-01?adjusted=true&sort=asc&limit=50000&apiKey=NahcgY5iZpJiLbXPYqZcgV6RatP09HUV\n",
      "https://api.polygon.io/v2/aggs/ticker/CRM/range/15/minute/2023-07-01/2023-10-01?adjusted=true&sort=asc&limit=50000&apiKey=NahcgY5iZpJiLbXPYqZcgV6RatP09HUV\n",
      "https://api.polygon.io/v2/aggs/ticker/CRM/range/15/minute/2023-10-01/2024-01-01?adjusted=true&sort=asc&limit=50000&apiKey=NahcgY5iZpJiLbXPYqZcgV6RatP09HUV\n",
      "https://api.polygon.io/v2/aggs/ticker/SBAC/range/15/minute/2023-01-01/2023-04-01?adjusted=true&sort=asc&limit=50000&apiKey=NahcgY5iZpJiLbXPYqZcgV6RatP09HUV\n",
      "https://api.polygon.io/v2/aggs/ticker/SBAC/range/15/minute/2023-04-01/2023-07-01?adjusted=true&sort=asc&limit=50000&apiKey=NahcgY5iZpJiLbXPYqZcgV6RatP09HUV\n",
      "https://api.polygon.io/v2/aggs/ticker/SBAC/range/15/minute/2023-07-01/2023-10-01?adjusted=true&sort=asc&limit=50000&apiKey=NahcgY5iZpJiLbXPYqZcgV6RatP09HUV\n",
      "https://api.polygon.io/v2/aggs/ticker/SBAC/range/15/minute/2023-10-01/2024-01-01?adjusted=true&sort=asc&limit=50000&apiKey=NahcgY5iZpJiLbXPYqZcgV6RatP09HUV\n",
      "https://api.polygon.io/v2/aggs/ticker/SLB/range/15/minute/2023-01-01/2023-04-01?adjusted=true&sort=asc&limit=50000&apiKey=NahcgY5iZpJiLbXPYqZcgV6RatP09HUV\n",
      "https://api.polygon.io/v2/aggs/ticker/SLB/range/15/minute/2023-04-01/2023-07-01?adjusted=true&sort=asc&limit=50000&apiKey=NahcgY5iZpJiLbXPYqZcgV6RatP09HUV\n",
      "https://api.polygon.io/v2/aggs/ticker/SLB/range/15/minute/2023-07-01/2023-10-01?adjusted=true&sort=asc&limit=50000&apiKey=NahcgY5iZpJiLbXPYqZcgV6RatP09HUV\n",
      "https://api.polygon.io/v2/aggs/ticker/SLB/range/15/minute/2023-10-01/2024-01-01?adjusted=true&sort=asc&limit=50000&apiKey=NahcgY5iZpJiLbXPYqZcgV6RatP09HUV\n",
      "https://api.polygon.io/v2/aggs/ticker/STX/range/15/minute/2023-01-01/2023-04-01?adjusted=true&sort=asc&limit=50000&apiKey=NahcgY5iZpJiLbXPYqZcgV6RatP09HUV\n",
      "https://api.polygon.io/v2/aggs/ticker/STX/range/15/minute/2023-04-01/2023-07-01?adjusted=true&sort=asc&limit=50000&apiKey=NahcgY5iZpJiLbXPYqZcgV6RatP09HUV\n",
      "https://api.polygon.io/v2/aggs/ticker/STX/range/15/minute/2023-07-01/2023-10-01?adjusted=true&sort=asc&limit=50000&apiKey=NahcgY5iZpJiLbXPYqZcgV6RatP09HUV\n",
      "https://api.polygon.io/v2/aggs/ticker/STX/range/15/minute/2023-10-01/2024-01-01?adjusted=true&sort=asc&limit=50000&apiKey=NahcgY5iZpJiLbXPYqZcgV6RatP09HUV\n",
      "https://api.polygon.io/v2/aggs/ticker/SRE/range/15/minute/2023-01-01/2023-04-01?adjusted=true&sort=asc&limit=50000&apiKey=NahcgY5iZpJiLbXPYqZcgV6RatP09HUV\n",
      "https://api.polygon.io/v2/aggs/ticker/SRE/range/15/minute/2023-04-01/2023-07-01?adjusted=true&sort=asc&limit=50000&apiKey=NahcgY5iZpJiLbXPYqZcgV6RatP09HUV\n",
      "https://api.polygon.io/v2/aggs/ticker/SRE/range/15/minute/2023-07-01/2023-10-01?adjusted=true&sort=asc&limit=50000&apiKey=NahcgY5iZpJiLbXPYqZcgV6RatP09HUV\n",
      "https://api.polygon.io/v2/aggs/ticker/SRE/range/15/minute/2023-10-01/2024-01-01?adjusted=true&sort=asc&limit=50000&apiKey=NahcgY5iZpJiLbXPYqZcgV6RatP09HUV\n",
      "https://api.polygon.io/v2/aggs/ticker/NOW/range/15/minute/2023-01-01/2023-04-01?adjusted=true&sort=asc&limit=50000&apiKey=NahcgY5iZpJiLbXPYqZcgV6RatP09HUV\n",
      "https://api.polygon.io/v2/aggs/ticker/NOW/range/15/minute/2023-04-01/2023-07-01?adjusted=true&sort=asc&limit=50000&apiKey=NahcgY5iZpJiLbXPYqZcgV6RatP09HUV\n",
      "https://api.polygon.io/v2/aggs/ticker/NOW/range/15/minute/2023-07-01/2023-10-01?adjusted=true&sort=asc&limit=50000&apiKey=NahcgY5iZpJiLbXPYqZcgV6RatP09HUV\n",
      "https://api.polygon.io/v2/aggs/ticker/NOW/range/15/minute/2023-10-01/2024-01-01?adjusted=true&sort=asc&limit=50000&apiKey=NahcgY5iZpJiLbXPYqZcgV6RatP09HUV\n",
      "https://api.polygon.io/v2/aggs/ticker/SHW/range/15/minute/2023-01-01/2023-04-01?adjusted=true&sort=asc&limit=50000&apiKey=NahcgY5iZpJiLbXPYqZcgV6RatP09HUV\n",
      "https://api.polygon.io/v2/aggs/ticker/SHW/range/15/minute/2023-04-01/2023-07-01?adjusted=true&sort=asc&limit=50000&apiKey=NahcgY5iZpJiLbXPYqZcgV6RatP09HUV\n",
      "https://api.polygon.io/v2/aggs/ticker/SHW/range/15/minute/2023-07-01/2023-10-01?adjusted=true&sort=asc&limit=50000&apiKey=NahcgY5iZpJiLbXPYqZcgV6RatP09HUV\n",
      "https://api.polygon.io/v2/aggs/ticker/SHW/range/15/minute/2023-10-01/2024-01-01?adjusted=true&sort=asc&limit=50000&apiKey=NahcgY5iZpJiLbXPYqZcgV6RatP09HUV\n",
      "https://api.polygon.io/v2/aggs/ticker/SPG/range/15/minute/2023-01-01/2023-04-01?adjusted=true&sort=asc&limit=50000&apiKey=NahcgY5iZpJiLbXPYqZcgV6RatP09HUV\n",
      "https://api.polygon.io/v2/aggs/ticker/SPG/range/15/minute/2023-04-01/2023-07-01?adjusted=true&sort=asc&limit=50000&apiKey=NahcgY5iZpJiLbXPYqZcgV6RatP09HUV\n",
      "https://api.polygon.io/v2/aggs/ticker/SPG/range/15/minute/2023-07-01/2023-10-01?adjusted=true&sort=asc&limit=50000&apiKey=NahcgY5iZpJiLbXPYqZcgV6RatP09HUV\n",
      "https://api.polygon.io/v2/aggs/ticker/SPG/range/15/minute/2023-10-01/2024-01-01?adjusted=true&sort=asc&limit=50000&apiKey=NahcgY5iZpJiLbXPYqZcgV6RatP09HUV\n",
      "https://api.polygon.io/v2/aggs/ticker/SWKS/range/15/minute/2023-01-01/2023-04-01?adjusted=true&sort=asc&limit=50000&apiKey=NahcgY5iZpJiLbXPYqZcgV6RatP09HUV\n",
      "https://api.polygon.io/v2/aggs/ticker/SWKS/range/15/minute/2023-04-01/2023-07-01?adjusted=true&sort=asc&limit=50000&apiKey=NahcgY5iZpJiLbXPYqZcgV6RatP09HUV\n",
      "https://api.polygon.io/v2/aggs/ticker/SWKS/range/15/minute/2023-07-01/2023-10-01?adjusted=true&sort=asc&limit=50000&apiKey=NahcgY5iZpJiLbXPYqZcgV6RatP09HUV\n",
      "https://api.polygon.io/v2/aggs/ticker/SWKS/range/15/minute/2023-10-01/2024-01-01?adjusted=true&sort=asc&limit=50000&apiKey=NahcgY5iZpJiLbXPYqZcgV6RatP09HUV\n",
      "https://api.polygon.io/v2/aggs/ticker/SJM/range/15/minute/2023-01-01/2023-04-01?adjusted=true&sort=asc&limit=50000&apiKey=NahcgY5iZpJiLbXPYqZcgV6RatP09HUV\n",
      "https://api.polygon.io/v2/aggs/ticker/SJM/range/15/minute/2023-04-01/2023-07-01?adjusted=true&sort=asc&limit=50000&apiKey=NahcgY5iZpJiLbXPYqZcgV6RatP09HUV\n",
      "https://api.polygon.io/v2/aggs/ticker/SJM/range/15/minute/2023-07-01/2023-10-01?adjusted=true&sort=asc&limit=50000&apiKey=NahcgY5iZpJiLbXPYqZcgV6RatP09HUV\n",
      "https://api.polygon.io/v2/aggs/ticker/SJM/range/15/minute/2023-10-01/2024-01-01?adjusted=true&sort=asc&limit=50000&apiKey=NahcgY5iZpJiLbXPYqZcgV6RatP09HUV\n",
      "https://api.polygon.io/v2/aggs/ticker/SNA/range/15/minute/2023-01-01/2023-04-01?adjusted=true&sort=asc&limit=50000&apiKey=NahcgY5iZpJiLbXPYqZcgV6RatP09HUV\n",
      "https://api.polygon.io/v2/aggs/ticker/SNA/range/15/minute/2023-04-01/2023-07-01?adjusted=true&sort=asc&limit=50000&apiKey=NahcgY5iZpJiLbXPYqZcgV6RatP09HUV\n",
      "https://api.polygon.io/v2/aggs/ticker/SNA/range/15/minute/2023-07-01/2023-10-01?adjusted=true&sort=asc&limit=50000&apiKey=NahcgY5iZpJiLbXPYqZcgV6RatP09HUV\n",
      "https://api.polygon.io/v2/aggs/ticker/SNA/range/15/minute/2023-10-01/2024-01-01?adjusted=true&sort=asc&limit=50000&apiKey=NahcgY5iZpJiLbXPYqZcgV6RatP09HUV\n",
      "https://api.polygon.io/v2/aggs/ticker/SO/range/15/minute/2023-01-01/2023-04-01?adjusted=true&sort=asc&limit=50000&apiKey=NahcgY5iZpJiLbXPYqZcgV6RatP09HUV\n",
      "https://api.polygon.io/v2/aggs/ticker/SO/range/15/minute/2023-04-01/2023-07-01?adjusted=true&sort=asc&limit=50000&apiKey=NahcgY5iZpJiLbXPYqZcgV6RatP09HUV\n",
      "https://api.polygon.io/v2/aggs/ticker/SO/range/15/minute/2023-07-01/2023-10-01?adjusted=true&sort=asc&limit=50000&apiKey=NahcgY5iZpJiLbXPYqZcgV6RatP09HUV\n",
      "https://api.polygon.io/v2/aggs/ticker/SO/range/15/minute/2023-10-01/2024-01-01?adjusted=true&sort=asc&limit=50000&apiKey=NahcgY5iZpJiLbXPYqZcgV6RatP09HUV\n",
      "https://api.polygon.io/v2/aggs/ticker/LUV/range/15/minute/2023-01-01/2023-04-01?adjusted=true&sort=asc&limit=50000&apiKey=NahcgY5iZpJiLbXPYqZcgV6RatP09HUV\n",
      "https://api.polygon.io/v2/aggs/ticker/LUV/range/15/minute/2023-04-01/2023-07-01?adjusted=true&sort=asc&limit=50000&apiKey=NahcgY5iZpJiLbXPYqZcgV6RatP09HUV\n",
      "https://api.polygon.io/v2/aggs/ticker/LUV/range/15/minute/2023-07-01/2023-10-01?adjusted=true&sort=asc&limit=50000&apiKey=NahcgY5iZpJiLbXPYqZcgV6RatP09HUV\n",
      "https://api.polygon.io/v2/aggs/ticker/LUV/range/15/minute/2023-10-01/2024-01-01?adjusted=true&sort=asc&limit=50000&apiKey=NahcgY5iZpJiLbXPYqZcgV6RatP09HUV\n"
     ]
    },
    {
     "name": "stdout",
     "output_type": "stream",
     "text": [
      "https://api.polygon.io/v2/aggs/ticker/SWK/range/15/minute/2023-01-01/2023-04-01?adjusted=true&sort=asc&limit=50000&apiKey=NahcgY5iZpJiLbXPYqZcgV6RatP09HUV\n",
      "https://api.polygon.io/v2/aggs/ticker/SWK/range/15/minute/2023-04-01/2023-07-01?adjusted=true&sort=asc&limit=50000&apiKey=NahcgY5iZpJiLbXPYqZcgV6RatP09HUV\n",
      "https://api.polygon.io/v2/aggs/ticker/SWK/range/15/minute/2023-07-01/2023-10-01?adjusted=true&sort=asc&limit=50000&apiKey=NahcgY5iZpJiLbXPYqZcgV6RatP09HUV\n",
      "https://api.polygon.io/v2/aggs/ticker/SWK/range/15/minute/2023-10-01/2024-01-01?adjusted=true&sort=asc&limit=50000&apiKey=NahcgY5iZpJiLbXPYqZcgV6RatP09HUV\n",
      "https://api.polygon.io/v2/aggs/ticker/SBUX/range/15/minute/2023-01-01/2023-04-01?adjusted=true&sort=asc&limit=50000&apiKey=NahcgY5iZpJiLbXPYqZcgV6RatP09HUV\n",
      "https://api.polygon.io/v2/aggs/ticker/SBUX/range/15/minute/2023-04-01/2023-07-01?adjusted=true&sort=asc&limit=50000&apiKey=NahcgY5iZpJiLbXPYqZcgV6RatP09HUV\n",
      "https://api.polygon.io/v2/aggs/ticker/SBUX/range/15/minute/2023-07-01/2023-10-01?adjusted=true&sort=asc&limit=50000&apiKey=NahcgY5iZpJiLbXPYqZcgV6RatP09HUV\n",
      "https://api.polygon.io/v2/aggs/ticker/SBUX/range/15/minute/2023-10-01/2024-01-01?adjusted=true&sort=asc&limit=50000&apiKey=NahcgY5iZpJiLbXPYqZcgV6RatP09HUV\n",
      "https://api.polygon.io/v2/aggs/ticker/STT/range/15/minute/2023-01-01/2023-04-01?adjusted=true&sort=asc&limit=50000&apiKey=NahcgY5iZpJiLbXPYqZcgV6RatP09HUV\n",
      "https://api.polygon.io/v2/aggs/ticker/STT/range/15/minute/2023-04-01/2023-07-01?adjusted=true&sort=asc&limit=50000&apiKey=NahcgY5iZpJiLbXPYqZcgV6RatP09HUV\n",
      "https://api.polygon.io/v2/aggs/ticker/STT/range/15/minute/2023-07-01/2023-10-01?adjusted=true&sort=asc&limit=50000&apiKey=NahcgY5iZpJiLbXPYqZcgV6RatP09HUV\n",
      "https://api.polygon.io/v2/aggs/ticker/STT/range/15/minute/2023-10-01/2024-01-01?adjusted=true&sort=asc&limit=50000&apiKey=NahcgY5iZpJiLbXPYqZcgV6RatP09HUV\n",
      "https://api.polygon.io/v2/aggs/ticker/STLD/range/15/minute/2023-01-01/2023-04-01?adjusted=true&sort=asc&limit=50000&apiKey=NahcgY5iZpJiLbXPYqZcgV6RatP09HUV\n",
      "https://api.polygon.io/v2/aggs/ticker/STLD/range/15/minute/2023-04-01/2023-07-01?adjusted=true&sort=asc&limit=50000&apiKey=NahcgY5iZpJiLbXPYqZcgV6RatP09HUV\n",
      "https://api.polygon.io/v2/aggs/ticker/STLD/range/15/minute/2023-07-01/2023-10-01?adjusted=true&sort=asc&limit=50000&apiKey=NahcgY5iZpJiLbXPYqZcgV6RatP09HUV\n",
      "https://api.polygon.io/v2/aggs/ticker/STLD/range/15/minute/2023-10-01/2024-01-01?adjusted=true&sort=asc&limit=50000&apiKey=NahcgY5iZpJiLbXPYqZcgV6RatP09HUV\n",
      "https://api.polygon.io/v2/aggs/ticker/STE/range/15/minute/2023-01-01/2023-04-01?adjusted=true&sort=asc&limit=50000&apiKey=NahcgY5iZpJiLbXPYqZcgV6RatP09HUV\n",
      "https://api.polygon.io/v2/aggs/ticker/STE/range/15/minute/2023-04-01/2023-07-01?adjusted=true&sort=asc&limit=50000&apiKey=NahcgY5iZpJiLbXPYqZcgV6RatP09HUV\n",
      "https://api.polygon.io/v2/aggs/ticker/STE/range/15/minute/2023-07-01/2023-10-01?adjusted=true&sort=asc&limit=50000&apiKey=NahcgY5iZpJiLbXPYqZcgV6RatP09HUV\n",
      "https://api.polygon.io/v2/aggs/ticker/STE/range/15/minute/2023-10-01/2024-01-01?adjusted=true&sort=asc&limit=50000&apiKey=NahcgY5iZpJiLbXPYqZcgV6RatP09HUV\n",
      "https://api.polygon.io/v2/aggs/ticker/SYK/range/15/minute/2023-01-01/2023-04-01?adjusted=true&sort=asc&limit=50000&apiKey=NahcgY5iZpJiLbXPYqZcgV6RatP09HUV\n",
      "https://api.polygon.io/v2/aggs/ticker/SYK/range/15/minute/2023-04-01/2023-07-01?adjusted=true&sort=asc&limit=50000&apiKey=NahcgY5iZpJiLbXPYqZcgV6RatP09HUV\n",
      "https://api.polygon.io/v2/aggs/ticker/SYK/range/15/minute/2023-07-01/2023-10-01?adjusted=true&sort=asc&limit=50000&apiKey=NahcgY5iZpJiLbXPYqZcgV6RatP09HUV\n",
      "https://api.polygon.io/v2/aggs/ticker/SYK/range/15/minute/2023-10-01/2024-01-01?adjusted=true&sort=asc&limit=50000&apiKey=NahcgY5iZpJiLbXPYqZcgV6RatP09HUV\n",
      "https://api.polygon.io/v2/aggs/ticker/SYF/range/15/minute/2023-01-01/2023-04-01?adjusted=true&sort=asc&limit=50000&apiKey=NahcgY5iZpJiLbXPYqZcgV6RatP09HUV\n",
      "https://api.polygon.io/v2/aggs/ticker/SYF/range/15/minute/2023-04-01/2023-07-01?adjusted=true&sort=asc&limit=50000&apiKey=NahcgY5iZpJiLbXPYqZcgV6RatP09HUV\n",
      "https://api.polygon.io/v2/aggs/ticker/SYF/range/15/minute/2023-07-01/2023-10-01?adjusted=true&sort=asc&limit=50000&apiKey=NahcgY5iZpJiLbXPYqZcgV6RatP09HUV\n",
      "https://api.polygon.io/v2/aggs/ticker/SYF/range/15/minute/2023-10-01/2024-01-01?adjusted=true&sort=asc&limit=50000&apiKey=NahcgY5iZpJiLbXPYqZcgV6RatP09HUV\n",
      "https://api.polygon.io/v2/aggs/ticker/SNPS/range/15/minute/2023-01-01/2023-04-01?adjusted=true&sort=asc&limit=50000&apiKey=NahcgY5iZpJiLbXPYqZcgV6RatP09HUV\n",
      "https://api.polygon.io/v2/aggs/ticker/SNPS/range/15/minute/2023-04-01/2023-07-01?adjusted=true&sort=asc&limit=50000&apiKey=NahcgY5iZpJiLbXPYqZcgV6RatP09HUV\n",
      "https://api.polygon.io/v2/aggs/ticker/SNPS/range/15/minute/2023-07-01/2023-10-01?adjusted=true&sort=asc&limit=50000&apiKey=NahcgY5iZpJiLbXPYqZcgV6RatP09HUV\n",
      "https://api.polygon.io/v2/aggs/ticker/SNPS/range/15/minute/2023-10-01/2024-01-01?adjusted=true&sort=asc&limit=50000&apiKey=NahcgY5iZpJiLbXPYqZcgV6RatP09HUV\n",
      "https://api.polygon.io/v2/aggs/ticker/SYY/range/15/minute/2023-01-01/2023-04-01?adjusted=true&sort=asc&limit=50000&apiKey=NahcgY5iZpJiLbXPYqZcgV6RatP09HUV\n",
      "https://api.polygon.io/v2/aggs/ticker/SYY/range/15/minute/2023-04-01/2023-07-01?adjusted=true&sort=asc&limit=50000&apiKey=NahcgY5iZpJiLbXPYqZcgV6RatP09HUV\n",
      "https://api.polygon.io/v2/aggs/ticker/SYY/range/15/minute/2023-07-01/2023-10-01?adjusted=true&sort=asc&limit=50000&apiKey=NahcgY5iZpJiLbXPYqZcgV6RatP09HUV\n",
      "https://api.polygon.io/v2/aggs/ticker/SYY/range/15/minute/2023-10-01/2024-01-01?adjusted=true&sort=asc&limit=50000&apiKey=NahcgY5iZpJiLbXPYqZcgV6RatP09HUV\n",
      "https://api.polygon.io/v2/aggs/ticker/TMUS/range/15/minute/2023-01-01/2023-04-01?adjusted=true&sort=asc&limit=50000&apiKey=NahcgY5iZpJiLbXPYqZcgV6RatP09HUV\n",
      "https://api.polygon.io/v2/aggs/ticker/TMUS/range/15/minute/2023-04-01/2023-07-01?adjusted=true&sort=asc&limit=50000&apiKey=NahcgY5iZpJiLbXPYqZcgV6RatP09HUV\n",
      "https://api.polygon.io/v2/aggs/ticker/TMUS/range/15/minute/2023-07-01/2023-10-01?adjusted=true&sort=asc&limit=50000&apiKey=NahcgY5iZpJiLbXPYqZcgV6RatP09HUV\n",
      "https://api.polygon.io/v2/aggs/ticker/TMUS/range/15/minute/2023-10-01/2024-01-01?adjusted=true&sort=asc&limit=50000&apiKey=NahcgY5iZpJiLbXPYqZcgV6RatP09HUV\n",
      "https://api.polygon.io/v2/aggs/ticker/TROW/range/15/minute/2023-01-01/2023-04-01?adjusted=true&sort=asc&limit=50000&apiKey=NahcgY5iZpJiLbXPYqZcgV6RatP09HUV\n",
      "https://api.polygon.io/v2/aggs/ticker/TROW/range/15/minute/2023-04-01/2023-07-01?adjusted=true&sort=asc&limit=50000&apiKey=NahcgY5iZpJiLbXPYqZcgV6RatP09HUV\n",
      "https://api.polygon.io/v2/aggs/ticker/TROW/range/15/minute/2023-07-01/2023-10-01?adjusted=true&sort=asc&limit=50000&apiKey=NahcgY5iZpJiLbXPYqZcgV6RatP09HUV\n",
      "https://api.polygon.io/v2/aggs/ticker/TROW/range/15/minute/2023-10-01/2024-01-01?adjusted=true&sort=asc&limit=50000&apiKey=NahcgY5iZpJiLbXPYqZcgV6RatP09HUV\n",
      "https://api.polygon.io/v2/aggs/ticker/TTWO/range/15/minute/2023-01-01/2023-04-01?adjusted=true&sort=asc&limit=50000&apiKey=NahcgY5iZpJiLbXPYqZcgV6RatP09HUV\n",
      "https://api.polygon.io/v2/aggs/ticker/TTWO/range/15/minute/2023-04-01/2023-07-01?adjusted=true&sort=asc&limit=50000&apiKey=NahcgY5iZpJiLbXPYqZcgV6RatP09HUV\n",
      "https://api.polygon.io/v2/aggs/ticker/TTWO/range/15/minute/2023-07-01/2023-10-01?adjusted=true&sort=asc&limit=50000&apiKey=NahcgY5iZpJiLbXPYqZcgV6RatP09HUV\n",
      "https://api.polygon.io/v2/aggs/ticker/TTWO/range/15/minute/2023-10-01/2024-01-01?adjusted=true&sort=asc&limit=50000&apiKey=NahcgY5iZpJiLbXPYqZcgV6RatP09HUV\n",
      "https://api.polygon.io/v2/aggs/ticker/TPR/range/15/minute/2023-01-01/2023-04-01?adjusted=true&sort=asc&limit=50000&apiKey=NahcgY5iZpJiLbXPYqZcgV6RatP09HUV\n",
      "https://api.polygon.io/v2/aggs/ticker/TPR/range/15/minute/2023-04-01/2023-07-01?adjusted=true&sort=asc&limit=50000&apiKey=NahcgY5iZpJiLbXPYqZcgV6RatP09HUV\n",
      "https://api.polygon.io/v2/aggs/ticker/TPR/range/15/minute/2023-07-01/2023-10-01?adjusted=true&sort=asc&limit=50000&apiKey=NahcgY5iZpJiLbXPYqZcgV6RatP09HUV\n",
      "https://api.polygon.io/v2/aggs/ticker/TPR/range/15/minute/2023-10-01/2024-01-01?adjusted=true&sort=asc&limit=50000&apiKey=NahcgY5iZpJiLbXPYqZcgV6RatP09HUV\n",
      "https://api.polygon.io/v2/aggs/ticker/TRGP/range/15/minute/2023-01-01/2023-04-01?adjusted=true&sort=asc&limit=50000&apiKey=NahcgY5iZpJiLbXPYqZcgV6RatP09HUV\n"
     ]
    },
    {
     "name": "stdout",
     "output_type": "stream",
     "text": [
      "https://api.polygon.io/v2/aggs/ticker/TRGP/range/15/minute/2023-04-01/2023-07-01?adjusted=true&sort=asc&limit=50000&apiKey=NahcgY5iZpJiLbXPYqZcgV6RatP09HUV\n",
      "https://api.polygon.io/v2/aggs/ticker/TRGP/range/15/minute/2023-07-01/2023-10-01?adjusted=true&sort=asc&limit=50000&apiKey=NahcgY5iZpJiLbXPYqZcgV6RatP09HUV\n",
      "https://api.polygon.io/v2/aggs/ticker/TRGP/range/15/minute/2023-10-01/2024-01-01?adjusted=true&sort=asc&limit=50000&apiKey=NahcgY5iZpJiLbXPYqZcgV6RatP09HUV\n",
      "https://api.polygon.io/v2/aggs/ticker/TGT/range/15/minute/2023-01-01/2023-04-01?adjusted=true&sort=asc&limit=50000&apiKey=NahcgY5iZpJiLbXPYqZcgV6RatP09HUV\n",
      "https://api.polygon.io/v2/aggs/ticker/TGT/range/15/minute/2023-04-01/2023-07-01?adjusted=true&sort=asc&limit=50000&apiKey=NahcgY5iZpJiLbXPYqZcgV6RatP09HUV\n",
      "https://api.polygon.io/v2/aggs/ticker/TGT/range/15/minute/2023-07-01/2023-10-01?adjusted=true&sort=asc&limit=50000&apiKey=NahcgY5iZpJiLbXPYqZcgV6RatP09HUV\n",
      "https://api.polygon.io/v2/aggs/ticker/TGT/range/15/minute/2023-10-01/2024-01-01?adjusted=true&sort=asc&limit=50000&apiKey=NahcgY5iZpJiLbXPYqZcgV6RatP09HUV\n",
      "https://api.polygon.io/v2/aggs/ticker/TEL/range/15/minute/2023-01-01/2023-04-01?adjusted=true&sort=asc&limit=50000&apiKey=NahcgY5iZpJiLbXPYqZcgV6RatP09HUV\n",
      "https://api.polygon.io/v2/aggs/ticker/TEL/range/15/minute/2023-04-01/2023-07-01?adjusted=true&sort=asc&limit=50000&apiKey=NahcgY5iZpJiLbXPYqZcgV6RatP09HUV\n",
      "https://api.polygon.io/v2/aggs/ticker/TEL/range/15/minute/2023-07-01/2023-10-01?adjusted=true&sort=asc&limit=50000&apiKey=NahcgY5iZpJiLbXPYqZcgV6RatP09HUV\n",
      "https://api.polygon.io/v2/aggs/ticker/TEL/range/15/minute/2023-10-01/2024-01-01?adjusted=true&sort=asc&limit=50000&apiKey=NahcgY5iZpJiLbXPYqZcgV6RatP09HUV\n",
      "https://api.polygon.io/v2/aggs/ticker/TDY/range/15/minute/2023-01-01/2023-04-01?adjusted=true&sort=asc&limit=50000&apiKey=NahcgY5iZpJiLbXPYqZcgV6RatP09HUV\n",
      "https://api.polygon.io/v2/aggs/ticker/TDY/range/15/minute/2023-04-01/2023-07-01?adjusted=true&sort=asc&limit=50000&apiKey=NahcgY5iZpJiLbXPYqZcgV6RatP09HUV\n",
      "https://api.polygon.io/v2/aggs/ticker/TDY/range/15/minute/2023-07-01/2023-10-01?adjusted=true&sort=asc&limit=50000&apiKey=NahcgY5iZpJiLbXPYqZcgV6RatP09HUV\n",
      "https://api.polygon.io/v2/aggs/ticker/TDY/range/15/minute/2023-10-01/2024-01-01?adjusted=true&sort=asc&limit=50000&apiKey=NahcgY5iZpJiLbXPYqZcgV6RatP09HUV\n",
      "https://api.polygon.io/v2/aggs/ticker/TFX/range/15/minute/2023-01-01/2023-04-01?adjusted=true&sort=asc&limit=50000&apiKey=NahcgY5iZpJiLbXPYqZcgV6RatP09HUV\n",
      "https://api.polygon.io/v2/aggs/ticker/TFX/range/15/minute/2023-04-01/2023-07-01?adjusted=true&sort=asc&limit=50000&apiKey=NahcgY5iZpJiLbXPYqZcgV6RatP09HUV\n",
      "https://api.polygon.io/v2/aggs/ticker/TFX/range/15/minute/2023-07-01/2023-10-01?adjusted=true&sort=asc&limit=50000&apiKey=NahcgY5iZpJiLbXPYqZcgV6RatP09HUV\n",
      "https://api.polygon.io/v2/aggs/ticker/TFX/range/15/minute/2023-10-01/2024-01-01?adjusted=true&sort=asc&limit=50000&apiKey=NahcgY5iZpJiLbXPYqZcgV6RatP09HUV\n",
      "https://api.polygon.io/v2/aggs/ticker/TER/range/15/minute/2023-01-01/2023-04-01?adjusted=true&sort=asc&limit=50000&apiKey=NahcgY5iZpJiLbXPYqZcgV6RatP09HUV\n",
      "https://api.polygon.io/v2/aggs/ticker/TER/range/15/minute/2023-04-01/2023-07-01?adjusted=true&sort=asc&limit=50000&apiKey=NahcgY5iZpJiLbXPYqZcgV6RatP09HUV\n",
      "https://api.polygon.io/v2/aggs/ticker/TER/range/15/minute/2023-07-01/2023-10-01?adjusted=true&sort=asc&limit=50000&apiKey=NahcgY5iZpJiLbXPYqZcgV6RatP09HUV\n",
      "https://api.polygon.io/v2/aggs/ticker/TER/range/15/minute/2023-10-01/2024-01-01?adjusted=true&sort=asc&limit=50000&apiKey=NahcgY5iZpJiLbXPYqZcgV6RatP09HUV\n",
      "https://api.polygon.io/v2/aggs/ticker/TSLA/range/15/minute/2023-01-01/2023-04-01?adjusted=true&sort=asc&limit=50000&apiKey=NahcgY5iZpJiLbXPYqZcgV6RatP09HUV\n",
      "https://api.polygon.io/v2/aggs/ticker/TSLA/range/15/minute/2023-04-01/2023-07-01?adjusted=true&sort=asc&limit=50000&apiKey=NahcgY5iZpJiLbXPYqZcgV6RatP09HUV\n",
      "https://api.polygon.io/v2/aggs/ticker/TSLA/range/15/minute/2023-07-01/2023-10-01?adjusted=true&sort=asc&limit=50000&apiKey=NahcgY5iZpJiLbXPYqZcgV6RatP09HUV\n",
      "https://api.polygon.io/v2/aggs/ticker/TSLA/range/15/minute/2023-10-01/2024-01-01?adjusted=true&sort=asc&limit=50000&apiKey=NahcgY5iZpJiLbXPYqZcgV6RatP09HUV\n",
      "https://api.polygon.io/v2/aggs/ticker/TXN/range/15/minute/2023-01-01/2023-04-01?adjusted=true&sort=asc&limit=50000&apiKey=NahcgY5iZpJiLbXPYqZcgV6RatP09HUV\n",
      "https://api.polygon.io/v2/aggs/ticker/TXN/range/15/minute/2023-04-01/2023-07-01?adjusted=true&sort=asc&limit=50000&apiKey=NahcgY5iZpJiLbXPYqZcgV6RatP09HUV\n",
      "https://api.polygon.io/v2/aggs/ticker/TXN/range/15/minute/2023-07-01/2023-10-01?adjusted=true&sort=asc&limit=50000&apiKey=NahcgY5iZpJiLbXPYqZcgV6RatP09HUV\n",
      "https://api.polygon.io/v2/aggs/ticker/TXN/range/15/minute/2023-10-01/2024-01-01?adjusted=true&sort=asc&limit=50000&apiKey=NahcgY5iZpJiLbXPYqZcgV6RatP09HUV\n",
      "https://api.polygon.io/v2/aggs/ticker/TXT/range/15/minute/2023-01-01/2023-04-01?adjusted=true&sort=asc&limit=50000&apiKey=NahcgY5iZpJiLbXPYqZcgV6RatP09HUV\n",
      "https://api.polygon.io/v2/aggs/ticker/TXT/range/15/minute/2023-04-01/2023-07-01?adjusted=true&sort=asc&limit=50000&apiKey=NahcgY5iZpJiLbXPYqZcgV6RatP09HUV\n",
      "https://api.polygon.io/v2/aggs/ticker/TXT/range/15/minute/2023-07-01/2023-10-01?adjusted=true&sort=asc&limit=50000&apiKey=NahcgY5iZpJiLbXPYqZcgV6RatP09HUV\n",
      "https://api.polygon.io/v2/aggs/ticker/TXT/range/15/minute/2023-10-01/2024-01-01?adjusted=true&sort=asc&limit=50000&apiKey=NahcgY5iZpJiLbXPYqZcgV6RatP09HUV\n",
      "https://api.polygon.io/v2/aggs/ticker/TMO/range/15/minute/2023-01-01/2023-04-01?adjusted=true&sort=asc&limit=50000&apiKey=NahcgY5iZpJiLbXPYqZcgV6RatP09HUV\n",
      "https://api.polygon.io/v2/aggs/ticker/TMO/range/15/minute/2023-04-01/2023-07-01?adjusted=true&sort=asc&limit=50000&apiKey=NahcgY5iZpJiLbXPYqZcgV6RatP09HUV\n",
      "https://api.polygon.io/v2/aggs/ticker/TMO/range/15/minute/2023-07-01/2023-10-01?adjusted=true&sort=asc&limit=50000&apiKey=NahcgY5iZpJiLbXPYqZcgV6RatP09HUV\n",
      "https://api.polygon.io/v2/aggs/ticker/TMO/range/15/minute/2023-10-01/2024-01-01?adjusted=true&sort=asc&limit=50000&apiKey=NahcgY5iZpJiLbXPYqZcgV6RatP09HUV\n",
      "https://api.polygon.io/v2/aggs/ticker/TJX/range/15/minute/2023-01-01/2023-04-01?adjusted=true&sort=asc&limit=50000&apiKey=NahcgY5iZpJiLbXPYqZcgV6RatP09HUV\n",
      "https://api.polygon.io/v2/aggs/ticker/TJX/range/15/minute/2023-04-01/2023-07-01?adjusted=true&sort=asc&limit=50000&apiKey=NahcgY5iZpJiLbXPYqZcgV6RatP09HUV\n",
      "https://api.polygon.io/v2/aggs/ticker/TJX/range/15/minute/2023-07-01/2023-10-01?adjusted=true&sort=asc&limit=50000&apiKey=NahcgY5iZpJiLbXPYqZcgV6RatP09HUV\n",
      "https://api.polygon.io/v2/aggs/ticker/TJX/range/15/minute/2023-10-01/2024-01-01?adjusted=true&sort=asc&limit=50000&apiKey=NahcgY5iZpJiLbXPYqZcgV6RatP09HUV\n",
      "https://api.polygon.io/v2/aggs/ticker/TSCO/range/15/minute/2023-01-01/2023-04-01?adjusted=true&sort=asc&limit=50000&apiKey=NahcgY5iZpJiLbXPYqZcgV6RatP09HUV\n",
      "https://api.polygon.io/v2/aggs/ticker/TSCO/range/15/minute/2023-04-01/2023-07-01?adjusted=true&sort=asc&limit=50000&apiKey=NahcgY5iZpJiLbXPYqZcgV6RatP09HUV\n",
      "https://api.polygon.io/v2/aggs/ticker/TSCO/range/15/minute/2023-07-01/2023-10-01?adjusted=true&sort=asc&limit=50000&apiKey=NahcgY5iZpJiLbXPYqZcgV6RatP09HUV\n",
      "https://api.polygon.io/v2/aggs/ticker/TSCO/range/15/minute/2023-10-01/2024-01-01?adjusted=true&sort=asc&limit=50000&apiKey=NahcgY5iZpJiLbXPYqZcgV6RatP09HUV\n",
      "https://api.polygon.io/v2/aggs/ticker/TT/range/15/minute/2023-01-01/2023-04-01?adjusted=true&sort=asc&limit=50000&apiKey=NahcgY5iZpJiLbXPYqZcgV6RatP09HUV\n",
      "https://api.polygon.io/v2/aggs/ticker/TT/range/15/minute/2023-04-01/2023-07-01?adjusted=true&sort=asc&limit=50000&apiKey=NahcgY5iZpJiLbXPYqZcgV6RatP09HUV\n",
      "https://api.polygon.io/v2/aggs/ticker/TT/range/15/minute/2023-07-01/2023-10-01?adjusted=true&sort=asc&limit=50000&apiKey=NahcgY5iZpJiLbXPYqZcgV6RatP09HUV\n",
      "https://api.polygon.io/v2/aggs/ticker/TT/range/15/minute/2023-10-01/2024-01-01?adjusted=true&sort=asc&limit=50000&apiKey=NahcgY5iZpJiLbXPYqZcgV6RatP09HUV\n",
      "https://api.polygon.io/v2/aggs/ticker/TDG/range/15/minute/2023-01-01/2023-04-01?adjusted=true&sort=asc&limit=50000&apiKey=NahcgY5iZpJiLbXPYqZcgV6RatP09HUV\n",
      "https://api.polygon.io/v2/aggs/ticker/TDG/range/15/minute/2023-04-01/2023-07-01?adjusted=true&sort=asc&limit=50000&apiKey=NahcgY5iZpJiLbXPYqZcgV6RatP09HUV\n"
     ]
    },
    {
     "name": "stdout",
     "output_type": "stream",
     "text": [
      "https://api.polygon.io/v2/aggs/ticker/TDG/range/15/minute/2023-07-01/2023-10-01?adjusted=true&sort=asc&limit=50000&apiKey=NahcgY5iZpJiLbXPYqZcgV6RatP09HUV\n",
      "https://api.polygon.io/v2/aggs/ticker/TDG/range/15/minute/2023-10-01/2024-01-01?adjusted=true&sort=asc&limit=50000&apiKey=NahcgY5iZpJiLbXPYqZcgV6RatP09HUV\n",
      "https://api.polygon.io/v2/aggs/ticker/TRV/range/15/minute/2023-01-01/2023-04-01?adjusted=true&sort=asc&limit=50000&apiKey=NahcgY5iZpJiLbXPYqZcgV6RatP09HUV\n",
      "https://api.polygon.io/v2/aggs/ticker/TRV/range/15/minute/2023-04-01/2023-07-01?adjusted=true&sort=asc&limit=50000&apiKey=NahcgY5iZpJiLbXPYqZcgV6RatP09HUV\n",
      "https://api.polygon.io/v2/aggs/ticker/TRV/range/15/minute/2023-07-01/2023-10-01?adjusted=true&sort=asc&limit=50000&apiKey=NahcgY5iZpJiLbXPYqZcgV6RatP09HUV\n",
      "https://api.polygon.io/v2/aggs/ticker/TRV/range/15/minute/2023-10-01/2024-01-01?adjusted=true&sort=asc&limit=50000&apiKey=NahcgY5iZpJiLbXPYqZcgV6RatP09HUV\n",
      "https://api.polygon.io/v2/aggs/ticker/TRMB/range/15/minute/2023-01-01/2023-04-01?adjusted=true&sort=asc&limit=50000&apiKey=NahcgY5iZpJiLbXPYqZcgV6RatP09HUV\n",
      "https://api.polygon.io/v2/aggs/ticker/TRMB/range/15/minute/2023-04-01/2023-07-01?adjusted=true&sort=asc&limit=50000&apiKey=NahcgY5iZpJiLbXPYqZcgV6RatP09HUV\n",
      "https://api.polygon.io/v2/aggs/ticker/TRMB/range/15/minute/2023-07-01/2023-10-01?adjusted=true&sort=asc&limit=50000&apiKey=NahcgY5iZpJiLbXPYqZcgV6RatP09HUV\n",
      "https://api.polygon.io/v2/aggs/ticker/TRMB/range/15/minute/2023-10-01/2024-01-01?adjusted=true&sort=asc&limit=50000&apiKey=NahcgY5iZpJiLbXPYqZcgV6RatP09HUV\n",
      "https://api.polygon.io/v2/aggs/ticker/TFC/range/15/minute/2023-01-01/2023-04-01?adjusted=true&sort=asc&limit=50000&apiKey=NahcgY5iZpJiLbXPYqZcgV6RatP09HUV\n",
      "https://api.polygon.io/v2/aggs/ticker/TFC/range/15/minute/2023-04-01/2023-07-01?adjusted=true&sort=asc&limit=50000&apiKey=NahcgY5iZpJiLbXPYqZcgV6RatP09HUV\n",
      "https://api.polygon.io/v2/aggs/ticker/TFC/range/15/minute/2023-07-01/2023-10-01?adjusted=true&sort=asc&limit=50000&apiKey=NahcgY5iZpJiLbXPYqZcgV6RatP09HUV\n",
      "https://api.polygon.io/v2/aggs/ticker/TFC/range/15/minute/2023-10-01/2024-01-01?adjusted=true&sort=asc&limit=50000&apiKey=NahcgY5iZpJiLbXPYqZcgV6RatP09HUV\n",
      "https://api.polygon.io/v2/aggs/ticker/TYL/range/15/minute/2023-01-01/2023-04-01?adjusted=true&sort=asc&limit=50000&apiKey=NahcgY5iZpJiLbXPYqZcgV6RatP09HUV\n",
      "https://api.polygon.io/v2/aggs/ticker/TYL/range/15/minute/2023-04-01/2023-07-01?adjusted=true&sort=asc&limit=50000&apiKey=NahcgY5iZpJiLbXPYqZcgV6RatP09HUV\n",
      "https://api.polygon.io/v2/aggs/ticker/TYL/range/15/minute/2023-07-01/2023-10-01?adjusted=true&sort=asc&limit=50000&apiKey=NahcgY5iZpJiLbXPYqZcgV6RatP09HUV\n",
      "https://api.polygon.io/v2/aggs/ticker/TYL/range/15/minute/2023-10-01/2024-01-01?adjusted=true&sort=asc&limit=50000&apiKey=NahcgY5iZpJiLbXPYqZcgV6RatP09HUV\n",
      "https://api.polygon.io/v2/aggs/ticker/TSN/range/15/minute/2023-01-01/2023-04-01?adjusted=true&sort=asc&limit=50000&apiKey=NahcgY5iZpJiLbXPYqZcgV6RatP09HUV\n",
      "https://api.polygon.io/v2/aggs/ticker/TSN/range/15/minute/2023-04-01/2023-07-01?adjusted=true&sort=asc&limit=50000&apiKey=NahcgY5iZpJiLbXPYqZcgV6RatP09HUV\n",
      "https://api.polygon.io/v2/aggs/ticker/TSN/range/15/minute/2023-07-01/2023-10-01?adjusted=true&sort=asc&limit=50000&apiKey=NahcgY5iZpJiLbXPYqZcgV6RatP09HUV\n",
      "https://api.polygon.io/v2/aggs/ticker/TSN/range/15/minute/2023-10-01/2024-01-01?adjusted=true&sort=asc&limit=50000&apiKey=NahcgY5iZpJiLbXPYqZcgV6RatP09HUV\n",
      "https://api.polygon.io/v2/aggs/ticker/USB/range/15/minute/2023-01-01/2023-04-01?adjusted=true&sort=asc&limit=50000&apiKey=NahcgY5iZpJiLbXPYqZcgV6RatP09HUV\n",
      "https://api.polygon.io/v2/aggs/ticker/USB/range/15/minute/2023-04-01/2023-07-01?adjusted=true&sort=asc&limit=50000&apiKey=NahcgY5iZpJiLbXPYqZcgV6RatP09HUV\n",
      "https://api.polygon.io/v2/aggs/ticker/USB/range/15/minute/2023-07-01/2023-10-01?adjusted=true&sort=asc&limit=50000&apiKey=NahcgY5iZpJiLbXPYqZcgV6RatP09HUV\n",
      "https://api.polygon.io/v2/aggs/ticker/USB/range/15/minute/2023-10-01/2024-01-01?adjusted=true&sort=asc&limit=50000&apiKey=NahcgY5iZpJiLbXPYqZcgV6RatP09HUV\n",
      "https://api.polygon.io/v2/aggs/ticker/UBER/range/15/minute/2023-01-01/2023-04-01?adjusted=true&sort=asc&limit=50000&apiKey=NahcgY5iZpJiLbXPYqZcgV6RatP09HUV\n",
      "https://api.polygon.io/v2/aggs/ticker/UBER/range/15/minute/2023-04-01/2023-07-01?adjusted=true&sort=asc&limit=50000&apiKey=NahcgY5iZpJiLbXPYqZcgV6RatP09HUV\n",
      "https://api.polygon.io/v2/aggs/ticker/UBER/range/15/minute/2023-07-01/2023-10-01?adjusted=true&sort=asc&limit=50000&apiKey=NahcgY5iZpJiLbXPYqZcgV6RatP09HUV\n",
      "https://api.polygon.io/v2/aggs/ticker/UBER/range/15/minute/2023-10-01/2024-01-01?adjusted=true&sort=asc&limit=50000&apiKey=NahcgY5iZpJiLbXPYqZcgV6RatP09HUV\n",
      "https://api.polygon.io/v2/aggs/ticker/UDR/range/15/minute/2023-01-01/2023-04-01?adjusted=true&sort=asc&limit=50000&apiKey=NahcgY5iZpJiLbXPYqZcgV6RatP09HUV\n",
      "https://api.polygon.io/v2/aggs/ticker/UDR/range/15/minute/2023-04-01/2023-07-01?adjusted=true&sort=asc&limit=50000&apiKey=NahcgY5iZpJiLbXPYqZcgV6RatP09HUV\n",
      "https://api.polygon.io/v2/aggs/ticker/UDR/range/15/minute/2023-07-01/2023-10-01?adjusted=true&sort=asc&limit=50000&apiKey=NahcgY5iZpJiLbXPYqZcgV6RatP09HUV\n",
      "https://api.polygon.io/v2/aggs/ticker/UDR/range/15/minute/2023-10-01/2024-01-01?adjusted=true&sort=asc&limit=50000&apiKey=NahcgY5iZpJiLbXPYqZcgV6RatP09HUV\n",
      "https://api.polygon.io/v2/aggs/ticker/ULTA/range/15/minute/2023-01-01/2023-04-01?adjusted=true&sort=asc&limit=50000&apiKey=NahcgY5iZpJiLbXPYqZcgV6RatP09HUV\n",
      "https://api.polygon.io/v2/aggs/ticker/ULTA/range/15/minute/2023-04-01/2023-07-01?adjusted=true&sort=asc&limit=50000&apiKey=NahcgY5iZpJiLbXPYqZcgV6RatP09HUV\n",
      "https://api.polygon.io/v2/aggs/ticker/ULTA/range/15/minute/2023-07-01/2023-10-01?adjusted=true&sort=asc&limit=50000&apiKey=NahcgY5iZpJiLbXPYqZcgV6RatP09HUV\n",
      "https://api.polygon.io/v2/aggs/ticker/ULTA/range/15/minute/2023-10-01/2024-01-01?adjusted=true&sort=asc&limit=50000&apiKey=NahcgY5iZpJiLbXPYqZcgV6RatP09HUV\n",
      "https://api.polygon.io/v2/aggs/ticker/UNP/range/15/minute/2023-01-01/2023-04-01?adjusted=true&sort=asc&limit=50000&apiKey=NahcgY5iZpJiLbXPYqZcgV6RatP09HUV\n",
      "https://api.polygon.io/v2/aggs/ticker/UNP/range/15/minute/2023-04-01/2023-07-01?adjusted=true&sort=asc&limit=50000&apiKey=NahcgY5iZpJiLbXPYqZcgV6RatP09HUV\n",
      "https://api.polygon.io/v2/aggs/ticker/UNP/range/15/minute/2023-07-01/2023-10-01?adjusted=true&sort=asc&limit=50000&apiKey=NahcgY5iZpJiLbXPYqZcgV6RatP09HUV\n",
      "https://api.polygon.io/v2/aggs/ticker/UNP/range/15/minute/2023-10-01/2024-01-01?adjusted=true&sort=asc&limit=50000&apiKey=NahcgY5iZpJiLbXPYqZcgV6RatP09HUV\n",
      "https://api.polygon.io/v2/aggs/ticker/UAL/range/15/minute/2023-01-01/2023-04-01?adjusted=true&sort=asc&limit=50000&apiKey=NahcgY5iZpJiLbXPYqZcgV6RatP09HUV\n",
      "https://api.polygon.io/v2/aggs/ticker/UAL/range/15/minute/2023-04-01/2023-07-01?adjusted=true&sort=asc&limit=50000&apiKey=NahcgY5iZpJiLbXPYqZcgV6RatP09HUV\n",
      "https://api.polygon.io/v2/aggs/ticker/UAL/range/15/minute/2023-07-01/2023-10-01?adjusted=true&sort=asc&limit=50000&apiKey=NahcgY5iZpJiLbXPYqZcgV6RatP09HUV\n",
      "https://api.polygon.io/v2/aggs/ticker/UAL/range/15/minute/2023-10-01/2024-01-01?adjusted=true&sort=asc&limit=50000&apiKey=NahcgY5iZpJiLbXPYqZcgV6RatP09HUV\n",
      "https://api.polygon.io/v2/aggs/ticker/UPS/range/15/minute/2023-01-01/2023-04-01?adjusted=true&sort=asc&limit=50000&apiKey=NahcgY5iZpJiLbXPYqZcgV6RatP09HUV\n",
      "https://api.polygon.io/v2/aggs/ticker/UPS/range/15/minute/2023-04-01/2023-07-01?adjusted=true&sort=asc&limit=50000&apiKey=NahcgY5iZpJiLbXPYqZcgV6RatP09HUV\n",
      "https://api.polygon.io/v2/aggs/ticker/UPS/range/15/minute/2023-07-01/2023-10-01?adjusted=true&sort=asc&limit=50000&apiKey=NahcgY5iZpJiLbXPYqZcgV6RatP09HUV\n",
      "https://api.polygon.io/v2/aggs/ticker/UPS/range/15/minute/2023-10-01/2024-01-01?adjusted=true&sort=asc&limit=50000&apiKey=NahcgY5iZpJiLbXPYqZcgV6RatP09HUV\n",
      "https://api.polygon.io/v2/aggs/ticker/URI/range/15/minute/2023-01-01/2023-04-01?adjusted=true&sort=asc&limit=50000&apiKey=NahcgY5iZpJiLbXPYqZcgV6RatP09HUV\n",
      "https://api.polygon.io/v2/aggs/ticker/URI/range/15/minute/2023-04-01/2023-07-01?adjusted=true&sort=asc&limit=50000&apiKey=NahcgY5iZpJiLbXPYqZcgV6RatP09HUV\n",
      "https://api.polygon.io/v2/aggs/ticker/URI/range/15/minute/2023-07-01/2023-10-01?adjusted=true&sort=asc&limit=50000&apiKey=NahcgY5iZpJiLbXPYqZcgV6RatP09HUV\n"
     ]
    },
    {
     "name": "stdout",
     "output_type": "stream",
     "text": [
      "https://api.polygon.io/v2/aggs/ticker/URI/range/15/minute/2023-10-01/2024-01-01?adjusted=true&sort=asc&limit=50000&apiKey=NahcgY5iZpJiLbXPYqZcgV6RatP09HUV\n",
      "https://api.polygon.io/v2/aggs/ticker/UNH/range/15/minute/2023-01-01/2023-04-01?adjusted=true&sort=asc&limit=50000&apiKey=NahcgY5iZpJiLbXPYqZcgV6RatP09HUV\n",
      "https://api.polygon.io/v2/aggs/ticker/UNH/range/15/minute/2023-04-01/2023-07-01?adjusted=true&sort=asc&limit=50000&apiKey=NahcgY5iZpJiLbXPYqZcgV6RatP09HUV\n",
      "https://api.polygon.io/v2/aggs/ticker/UNH/range/15/minute/2023-07-01/2023-10-01?adjusted=true&sort=asc&limit=50000&apiKey=NahcgY5iZpJiLbXPYqZcgV6RatP09HUV\n",
      "https://api.polygon.io/v2/aggs/ticker/UNH/range/15/minute/2023-10-01/2024-01-01?adjusted=true&sort=asc&limit=50000&apiKey=NahcgY5iZpJiLbXPYqZcgV6RatP09HUV\n",
      "https://api.polygon.io/v2/aggs/ticker/UHS/range/15/minute/2023-01-01/2023-04-01?adjusted=true&sort=asc&limit=50000&apiKey=NahcgY5iZpJiLbXPYqZcgV6RatP09HUV\n",
      "https://api.polygon.io/v2/aggs/ticker/UHS/range/15/minute/2023-04-01/2023-07-01?adjusted=true&sort=asc&limit=50000&apiKey=NahcgY5iZpJiLbXPYqZcgV6RatP09HUV\n",
      "https://api.polygon.io/v2/aggs/ticker/UHS/range/15/minute/2023-07-01/2023-10-01?adjusted=true&sort=asc&limit=50000&apiKey=NahcgY5iZpJiLbXPYqZcgV6RatP09HUV\n",
      "https://api.polygon.io/v2/aggs/ticker/UHS/range/15/minute/2023-10-01/2024-01-01?adjusted=true&sort=asc&limit=50000&apiKey=NahcgY5iZpJiLbXPYqZcgV6RatP09HUV\n",
      "https://api.polygon.io/v2/aggs/ticker/VLO/range/15/minute/2023-01-01/2023-04-01?adjusted=true&sort=asc&limit=50000&apiKey=NahcgY5iZpJiLbXPYqZcgV6RatP09HUV\n",
      "https://api.polygon.io/v2/aggs/ticker/VLO/range/15/minute/2023-04-01/2023-07-01?adjusted=true&sort=asc&limit=50000&apiKey=NahcgY5iZpJiLbXPYqZcgV6RatP09HUV\n",
      "https://api.polygon.io/v2/aggs/ticker/VLO/range/15/minute/2023-07-01/2023-10-01?adjusted=true&sort=asc&limit=50000&apiKey=NahcgY5iZpJiLbXPYqZcgV6RatP09HUV\n",
      "https://api.polygon.io/v2/aggs/ticker/VLO/range/15/minute/2023-10-01/2024-01-01?adjusted=true&sort=asc&limit=50000&apiKey=NahcgY5iZpJiLbXPYqZcgV6RatP09HUV\n",
      "https://api.polygon.io/v2/aggs/ticker/VTR/range/15/minute/2023-01-01/2023-04-01?adjusted=true&sort=asc&limit=50000&apiKey=NahcgY5iZpJiLbXPYqZcgV6RatP09HUV\n",
      "https://api.polygon.io/v2/aggs/ticker/VTR/range/15/minute/2023-04-01/2023-07-01?adjusted=true&sort=asc&limit=50000&apiKey=NahcgY5iZpJiLbXPYqZcgV6RatP09HUV\n",
      "https://api.polygon.io/v2/aggs/ticker/VTR/range/15/minute/2023-07-01/2023-10-01?adjusted=true&sort=asc&limit=50000&apiKey=NahcgY5iZpJiLbXPYqZcgV6RatP09HUV\n",
      "https://api.polygon.io/v2/aggs/ticker/VTR/range/15/minute/2023-10-01/2024-01-01?adjusted=true&sort=asc&limit=50000&apiKey=NahcgY5iZpJiLbXPYqZcgV6RatP09HUV\n",
      "https://api.polygon.io/v2/aggs/ticker/VLTO/range/15/minute/2023-01-01/2023-04-01?adjusted=true&sort=asc&limit=50000&apiKey=NahcgY5iZpJiLbXPYqZcgV6RatP09HUV\n",
      "{'ticker': 'VLTO', 'queryCount': 0, 'resultsCount': 0, 'adjusted': True, 'status': 'OK', 'request_id': '13180b4a96f3c5bb9f33181274c8c730'}\n",
      "https://api.polygon.io/v2/aggs/ticker/VLTO/range/15/minute/2023-04-01/2023-07-01?adjusted=true&sort=asc&limit=50000&apiKey=NahcgY5iZpJiLbXPYqZcgV6RatP09HUV\n",
      "{'ticker': 'VLTO', 'queryCount': 0, 'resultsCount': 0, 'adjusted': True, 'status': 'OK', 'request_id': '8a6af31ef6635e4a2f5180ef7bc21d20'}\n",
      "https://api.polygon.io/v2/aggs/ticker/VLTO/range/15/minute/2023-07-01/2023-10-01?adjusted=true&sort=asc&limit=50000&apiKey=NahcgY5iZpJiLbXPYqZcgV6RatP09HUV\n",
      "{'ticker': 'VLTO', 'queryCount': 0, 'resultsCount': 0, 'adjusted': True, 'status': 'OK', 'request_id': 'c50e9e6134f0ae6dfe11c81475e2de11'}\n",
      "https://api.polygon.io/v2/aggs/ticker/VLTO/range/15/minute/2023-10-01/2024-01-01?adjusted=true&sort=asc&limit=50000&apiKey=NahcgY5iZpJiLbXPYqZcgV6RatP09HUV\n",
      "https://api.polygon.io/v2/aggs/ticker/VRSN/range/15/minute/2023-01-01/2023-04-01?adjusted=true&sort=asc&limit=50000&apiKey=NahcgY5iZpJiLbXPYqZcgV6RatP09HUV\n",
      "https://api.polygon.io/v2/aggs/ticker/VRSN/range/15/minute/2023-04-01/2023-07-01?adjusted=true&sort=asc&limit=50000&apiKey=NahcgY5iZpJiLbXPYqZcgV6RatP09HUV\n",
      "https://api.polygon.io/v2/aggs/ticker/VRSN/range/15/minute/2023-07-01/2023-10-01?adjusted=true&sort=asc&limit=50000&apiKey=NahcgY5iZpJiLbXPYqZcgV6RatP09HUV\n",
      "https://api.polygon.io/v2/aggs/ticker/VRSN/range/15/minute/2023-10-01/2024-01-01?adjusted=true&sort=asc&limit=50000&apiKey=NahcgY5iZpJiLbXPYqZcgV6RatP09HUV\n",
      "https://api.polygon.io/v2/aggs/ticker/VRSK/range/15/minute/2023-01-01/2023-04-01?adjusted=true&sort=asc&limit=50000&apiKey=NahcgY5iZpJiLbXPYqZcgV6RatP09HUV\n",
      "https://api.polygon.io/v2/aggs/ticker/VRSK/range/15/minute/2023-04-01/2023-07-01?adjusted=true&sort=asc&limit=50000&apiKey=NahcgY5iZpJiLbXPYqZcgV6RatP09HUV\n",
      "https://api.polygon.io/v2/aggs/ticker/VRSK/range/15/minute/2023-07-01/2023-10-01?adjusted=true&sort=asc&limit=50000&apiKey=NahcgY5iZpJiLbXPYqZcgV6RatP09HUV\n",
      "https://api.polygon.io/v2/aggs/ticker/VRSK/range/15/minute/2023-10-01/2024-01-01?adjusted=true&sort=asc&limit=50000&apiKey=NahcgY5iZpJiLbXPYqZcgV6RatP09HUV\n",
      "https://api.polygon.io/v2/aggs/ticker/VZ/range/15/minute/2023-01-01/2023-04-01?adjusted=true&sort=asc&limit=50000&apiKey=NahcgY5iZpJiLbXPYqZcgV6RatP09HUV\n",
      "https://api.polygon.io/v2/aggs/ticker/VZ/range/15/minute/2023-04-01/2023-07-01?adjusted=true&sort=asc&limit=50000&apiKey=NahcgY5iZpJiLbXPYqZcgV6RatP09HUV\n",
      "https://api.polygon.io/v2/aggs/ticker/VZ/range/15/minute/2023-07-01/2023-10-01?adjusted=true&sort=asc&limit=50000&apiKey=NahcgY5iZpJiLbXPYqZcgV6RatP09HUV\n",
      "https://api.polygon.io/v2/aggs/ticker/VZ/range/15/minute/2023-10-01/2024-01-01?adjusted=true&sort=asc&limit=50000&apiKey=NahcgY5iZpJiLbXPYqZcgV6RatP09HUV\n",
      "https://api.polygon.io/v2/aggs/ticker/VRTX/range/15/minute/2023-01-01/2023-04-01?adjusted=true&sort=asc&limit=50000&apiKey=NahcgY5iZpJiLbXPYqZcgV6RatP09HUV\n",
      "https://api.polygon.io/v2/aggs/ticker/VRTX/range/15/minute/2023-04-01/2023-07-01?adjusted=true&sort=asc&limit=50000&apiKey=NahcgY5iZpJiLbXPYqZcgV6RatP09HUV\n",
      "https://api.polygon.io/v2/aggs/ticker/VRTX/range/15/minute/2023-07-01/2023-10-01?adjusted=true&sort=asc&limit=50000&apiKey=NahcgY5iZpJiLbXPYqZcgV6RatP09HUV\n",
      "https://api.polygon.io/v2/aggs/ticker/VRTX/range/15/minute/2023-10-01/2024-01-01?adjusted=true&sort=asc&limit=50000&apiKey=NahcgY5iZpJiLbXPYqZcgV6RatP09HUV\n",
      "https://api.polygon.io/v2/aggs/ticker/VFC/range/15/minute/2023-01-01/2023-04-01?adjusted=true&sort=asc&limit=50000&apiKey=NahcgY5iZpJiLbXPYqZcgV6RatP09HUV\n",
      "https://api.polygon.io/v2/aggs/ticker/VFC/range/15/minute/2023-04-01/2023-07-01?adjusted=true&sort=asc&limit=50000&apiKey=NahcgY5iZpJiLbXPYqZcgV6RatP09HUV\n",
      "https://api.polygon.io/v2/aggs/ticker/VFC/range/15/minute/2023-07-01/2023-10-01?adjusted=true&sort=asc&limit=50000&apiKey=NahcgY5iZpJiLbXPYqZcgV6RatP09HUV\n",
      "https://api.polygon.io/v2/aggs/ticker/VFC/range/15/minute/2023-10-01/2024-01-01?adjusted=true&sort=asc&limit=50000&apiKey=NahcgY5iZpJiLbXPYqZcgV6RatP09HUV\n",
      "https://api.polygon.io/v2/aggs/ticker/VTRS/range/15/minute/2023-01-01/2023-04-01?adjusted=true&sort=asc&limit=50000&apiKey=NahcgY5iZpJiLbXPYqZcgV6RatP09HUV\n",
      "https://api.polygon.io/v2/aggs/ticker/VTRS/range/15/minute/2023-04-01/2023-07-01?adjusted=true&sort=asc&limit=50000&apiKey=NahcgY5iZpJiLbXPYqZcgV6RatP09HUV\n",
      "https://api.polygon.io/v2/aggs/ticker/VTRS/range/15/minute/2023-07-01/2023-10-01?adjusted=true&sort=asc&limit=50000&apiKey=NahcgY5iZpJiLbXPYqZcgV6RatP09HUV\n",
      "https://api.polygon.io/v2/aggs/ticker/VTRS/range/15/minute/2023-10-01/2024-01-01?adjusted=true&sort=asc&limit=50000&apiKey=NahcgY5iZpJiLbXPYqZcgV6RatP09HUV\n",
      "https://api.polygon.io/v2/aggs/ticker/VICI/range/15/minute/2023-01-01/2023-04-01?adjusted=true&sort=asc&limit=50000&apiKey=NahcgY5iZpJiLbXPYqZcgV6RatP09HUV\n",
      "https://api.polygon.io/v2/aggs/ticker/VICI/range/15/minute/2023-04-01/2023-07-01?adjusted=true&sort=asc&limit=50000&apiKey=NahcgY5iZpJiLbXPYqZcgV6RatP09HUV\n",
      "https://api.polygon.io/v2/aggs/ticker/VICI/range/15/minute/2023-07-01/2023-10-01?adjusted=true&sort=asc&limit=50000&apiKey=NahcgY5iZpJiLbXPYqZcgV6RatP09HUV\n",
      "https://api.polygon.io/v2/aggs/ticker/VICI/range/15/minute/2023-10-01/2024-01-01?adjusted=true&sort=asc&limit=50000&apiKey=NahcgY5iZpJiLbXPYqZcgV6RatP09HUV\n",
      "https://api.polygon.io/v2/aggs/ticker/V/range/15/minute/2023-01-01/2023-04-01?adjusted=true&sort=asc&limit=50000&apiKey=NahcgY5iZpJiLbXPYqZcgV6RatP09HUV\n",
      "https://api.polygon.io/v2/aggs/ticker/V/range/15/minute/2023-04-01/2023-07-01?adjusted=true&sort=asc&limit=50000&apiKey=NahcgY5iZpJiLbXPYqZcgV6RatP09HUV\n"
     ]
    },
    {
     "name": "stdout",
     "output_type": "stream",
     "text": [
      "https://api.polygon.io/v2/aggs/ticker/V/range/15/minute/2023-07-01/2023-10-01?adjusted=true&sort=asc&limit=50000&apiKey=NahcgY5iZpJiLbXPYqZcgV6RatP09HUV\n",
      "https://api.polygon.io/v2/aggs/ticker/V/range/15/minute/2023-10-01/2024-01-01?adjusted=true&sort=asc&limit=50000&apiKey=NahcgY5iZpJiLbXPYqZcgV6RatP09HUV\n",
      "https://api.polygon.io/v2/aggs/ticker/VMC/range/15/minute/2023-01-01/2023-04-01?adjusted=true&sort=asc&limit=50000&apiKey=NahcgY5iZpJiLbXPYqZcgV6RatP09HUV\n",
      "https://api.polygon.io/v2/aggs/ticker/VMC/range/15/minute/2023-04-01/2023-07-01?adjusted=true&sort=asc&limit=50000&apiKey=NahcgY5iZpJiLbXPYqZcgV6RatP09HUV\n",
      "https://api.polygon.io/v2/aggs/ticker/VMC/range/15/minute/2023-07-01/2023-10-01?adjusted=true&sort=asc&limit=50000&apiKey=NahcgY5iZpJiLbXPYqZcgV6RatP09HUV\n",
      "https://api.polygon.io/v2/aggs/ticker/VMC/range/15/minute/2023-10-01/2024-01-01?adjusted=true&sort=asc&limit=50000&apiKey=NahcgY5iZpJiLbXPYqZcgV6RatP09HUV\n",
      "https://api.polygon.io/v2/aggs/ticker/WRB/range/15/minute/2023-01-01/2023-04-01?adjusted=true&sort=asc&limit=50000&apiKey=NahcgY5iZpJiLbXPYqZcgV6RatP09HUV\n",
      "https://api.polygon.io/v2/aggs/ticker/WRB/range/15/minute/2023-04-01/2023-07-01?adjusted=true&sort=asc&limit=50000&apiKey=NahcgY5iZpJiLbXPYqZcgV6RatP09HUV\n",
      "https://api.polygon.io/v2/aggs/ticker/WRB/range/15/minute/2023-07-01/2023-10-01?adjusted=true&sort=asc&limit=50000&apiKey=NahcgY5iZpJiLbXPYqZcgV6RatP09HUV\n",
      "https://api.polygon.io/v2/aggs/ticker/WRB/range/15/minute/2023-10-01/2024-01-01?adjusted=true&sort=asc&limit=50000&apiKey=NahcgY5iZpJiLbXPYqZcgV6RatP09HUV\n",
      "https://api.polygon.io/v2/aggs/ticker/WAB/range/15/minute/2023-01-01/2023-04-01?adjusted=true&sort=asc&limit=50000&apiKey=NahcgY5iZpJiLbXPYqZcgV6RatP09HUV\n",
      "https://api.polygon.io/v2/aggs/ticker/WAB/range/15/minute/2023-04-01/2023-07-01?adjusted=true&sort=asc&limit=50000&apiKey=NahcgY5iZpJiLbXPYqZcgV6RatP09HUV\n",
      "https://api.polygon.io/v2/aggs/ticker/WAB/range/15/minute/2023-07-01/2023-10-01?adjusted=true&sort=asc&limit=50000&apiKey=NahcgY5iZpJiLbXPYqZcgV6RatP09HUV\n",
      "https://api.polygon.io/v2/aggs/ticker/WAB/range/15/minute/2023-10-01/2024-01-01?adjusted=true&sort=asc&limit=50000&apiKey=NahcgY5iZpJiLbXPYqZcgV6RatP09HUV\n",
      "https://api.polygon.io/v2/aggs/ticker/WBA/range/15/minute/2023-01-01/2023-04-01?adjusted=true&sort=asc&limit=50000&apiKey=NahcgY5iZpJiLbXPYqZcgV6RatP09HUV\n",
      "https://api.polygon.io/v2/aggs/ticker/WBA/range/15/minute/2023-04-01/2023-07-01?adjusted=true&sort=asc&limit=50000&apiKey=NahcgY5iZpJiLbXPYqZcgV6RatP09HUV\n",
      "https://api.polygon.io/v2/aggs/ticker/WBA/range/15/minute/2023-07-01/2023-10-01?adjusted=true&sort=asc&limit=50000&apiKey=NahcgY5iZpJiLbXPYqZcgV6RatP09HUV\n",
      "https://api.polygon.io/v2/aggs/ticker/WBA/range/15/minute/2023-10-01/2024-01-01?adjusted=true&sort=asc&limit=50000&apiKey=NahcgY5iZpJiLbXPYqZcgV6RatP09HUV\n",
      "https://api.polygon.io/v2/aggs/ticker/WMT/range/15/minute/2023-01-01/2023-04-01?adjusted=true&sort=asc&limit=50000&apiKey=NahcgY5iZpJiLbXPYqZcgV6RatP09HUV\n",
      "https://api.polygon.io/v2/aggs/ticker/WMT/range/15/minute/2023-04-01/2023-07-01?adjusted=true&sort=asc&limit=50000&apiKey=NahcgY5iZpJiLbXPYqZcgV6RatP09HUV\n",
      "https://api.polygon.io/v2/aggs/ticker/WMT/range/15/minute/2023-07-01/2023-10-01?adjusted=true&sort=asc&limit=50000&apiKey=NahcgY5iZpJiLbXPYqZcgV6RatP09HUV\n",
      "https://api.polygon.io/v2/aggs/ticker/WMT/range/15/minute/2023-10-01/2024-01-01?adjusted=true&sort=asc&limit=50000&apiKey=NahcgY5iZpJiLbXPYqZcgV6RatP09HUV\n",
      "https://api.polygon.io/v2/aggs/ticker/DIS/range/15/minute/2023-01-01/2023-04-01?adjusted=true&sort=asc&limit=50000&apiKey=NahcgY5iZpJiLbXPYqZcgV6RatP09HUV\n",
      "https://api.polygon.io/v2/aggs/ticker/DIS/range/15/minute/2023-04-01/2023-07-01?adjusted=true&sort=asc&limit=50000&apiKey=NahcgY5iZpJiLbXPYqZcgV6RatP09HUV\n",
      "https://api.polygon.io/v2/aggs/ticker/DIS/range/15/minute/2023-07-01/2023-10-01?adjusted=true&sort=asc&limit=50000&apiKey=NahcgY5iZpJiLbXPYqZcgV6RatP09HUV\n",
      "https://api.polygon.io/v2/aggs/ticker/DIS/range/15/minute/2023-10-01/2024-01-01?adjusted=true&sort=asc&limit=50000&apiKey=NahcgY5iZpJiLbXPYqZcgV6RatP09HUV\n",
      "https://api.polygon.io/v2/aggs/ticker/WBD/range/15/minute/2023-01-01/2023-04-01?adjusted=true&sort=asc&limit=50000&apiKey=NahcgY5iZpJiLbXPYqZcgV6RatP09HUV\n",
      "https://api.polygon.io/v2/aggs/ticker/WBD/range/15/minute/2023-04-01/2023-07-01?adjusted=true&sort=asc&limit=50000&apiKey=NahcgY5iZpJiLbXPYqZcgV6RatP09HUV\n",
      "https://api.polygon.io/v2/aggs/ticker/WBD/range/15/minute/2023-07-01/2023-10-01?adjusted=true&sort=asc&limit=50000&apiKey=NahcgY5iZpJiLbXPYqZcgV6RatP09HUV\n",
      "https://api.polygon.io/v2/aggs/ticker/WBD/range/15/minute/2023-10-01/2024-01-01?adjusted=true&sort=asc&limit=50000&apiKey=NahcgY5iZpJiLbXPYqZcgV6RatP09HUV\n",
      "https://api.polygon.io/v2/aggs/ticker/WM/range/15/minute/2023-01-01/2023-04-01?adjusted=true&sort=asc&limit=50000&apiKey=NahcgY5iZpJiLbXPYqZcgV6RatP09HUV\n",
      "https://api.polygon.io/v2/aggs/ticker/WM/range/15/minute/2023-04-01/2023-07-01?adjusted=true&sort=asc&limit=50000&apiKey=NahcgY5iZpJiLbXPYqZcgV6RatP09HUV\n",
      "https://api.polygon.io/v2/aggs/ticker/WM/range/15/minute/2023-07-01/2023-10-01?adjusted=true&sort=asc&limit=50000&apiKey=NahcgY5iZpJiLbXPYqZcgV6RatP09HUV\n",
      "https://api.polygon.io/v2/aggs/ticker/WM/range/15/minute/2023-10-01/2024-01-01?adjusted=true&sort=asc&limit=50000&apiKey=NahcgY5iZpJiLbXPYqZcgV6RatP09HUV\n",
      "https://api.polygon.io/v2/aggs/ticker/WAT/range/15/minute/2023-01-01/2023-04-01?adjusted=true&sort=asc&limit=50000&apiKey=NahcgY5iZpJiLbXPYqZcgV6RatP09HUV\n",
      "https://api.polygon.io/v2/aggs/ticker/WAT/range/15/minute/2023-04-01/2023-07-01?adjusted=true&sort=asc&limit=50000&apiKey=NahcgY5iZpJiLbXPYqZcgV6RatP09HUV\n",
      "https://api.polygon.io/v2/aggs/ticker/WAT/range/15/minute/2023-07-01/2023-10-01?adjusted=true&sort=asc&limit=50000&apiKey=NahcgY5iZpJiLbXPYqZcgV6RatP09HUV\n",
      "https://api.polygon.io/v2/aggs/ticker/WAT/range/15/minute/2023-10-01/2024-01-01?adjusted=true&sort=asc&limit=50000&apiKey=NahcgY5iZpJiLbXPYqZcgV6RatP09HUV\n",
      "https://api.polygon.io/v2/aggs/ticker/WEC/range/15/minute/2023-01-01/2023-04-01?adjusted=true&sort=asc&limit=50000&apiKey=NahcgY5iZpJiLbXPYqZcgV6RatP09HUV\n",
      "https://api.polygon.io/v2/aggs/ticker/WEC/range/15/minute/2023-04-01/2023-07-01?adjusted=true&sort=asc&limit=50000&apiKey=NahcgY5iZpJiLbXPYqZcgV6RatP09HUV\n",
      "https://api.polygon.io/v2/aggs/ticker/WEC/range/15/minute/2023-07-01/2023-10-01?adjusted=true&sort=asc&limit=50000&apiKey=NahcgY5iZpJiLbXPYqZcgV6RatP09HUV\n",
      "https://api.polygon.io/v2/aggs/ticker/WEC/range/15/minute/2023-10-01/2024-01-01?adjusted=true&sort=asc&limit=50000&apiKey=NahcgY5iZpJiLbXPYqZcgV6RatP09HUV\n",
      "https://api.polygon.io/v2/aggs/ticker/WFC/range/15/minute/2023-01-01/2023-04-01?adjusted=true&sort=asc&limit=50000&apiKey=NahcgY5iZpJiLbXPYqZcgV6RatP09HUV\n",
      "https://api.polygon.io/v2/aggs/ticker/WFC/range/15/minute/2023-04-01/2023-07-01?adjusted=true&sort=asc&limit=50000&apiKey=NahcgY5iZpJiLbXPYqZcgV6RatP09HUV\n",
      "https://api.polygon.io/v2/aggs/ticker/WFC/range/15/minute/2023-07-01/2023-10-01?adjusted=true&sort=asc&limit=50000&apiKey=NahcgY5iZpJiLbXPYqZcgV6RatP09HUV\n",
      "https://api.polygon.io/v2/aggs/ticker/WFC/range/15/minute/2023-10-01/2024-01-01?adjusted=true&sort=asc&limit=50000&apiKey=NahcgY5iZpJiLbXPYqZcgV6RatP09HUV\n",
      "https://api.polygon.io/v2/aggs/ticker/WELL/range/15/minute/2023-01-01/2023-04-01?adjusted=true&sort=asc&limit=50000&apiKey=NahcgY5iZpJiLbXPYqZcgV6RatP09HUV\n",
      "https://api.polygon.io/v2/aggs/ticker/WELL/range/15/minute/2023-04-01/2023-07-01?adjusted=true&sort=asc&limit=50000&apiKey=NahcgY5iZpJiLbXPYqZcgV6RatP09HUV\n",
      "https://api.polygon.io/v2/aggs/ticker/WELL/range/15/minute/2023-07-01/2023-10-01?adjusted=true&sort=asc&limit=50000&apiKey=NahcgY5iZpJiLbXPYqZcgV6RatP09HUV\n",
      "https://api.polygon.io/v2/aggs/ticker/WELL/range/15/minute/2023-10-01/2024-01-01?adjusted=true&sort=asc&limit=50000&apiKey=NahcgY5iZpJiLbXPYqZcgV6RatP09HUV\n",
      "https://api.polygon.io/v2/aggs/ticker/WST/range/15/minute/2023-01-01/2023-04-01?adjusted=true&sort=asc&limit=50000&apiKey=NahcgY5iZpJiLbXPYqZcgV6RatP09HUV\n",
      "https://api.polygon.io/v2/aggs/ticker/WST/range/15/minute/2023-04-01/2023-07-01?adjusted=true&sort=asc&limit=50000&apiKey=NahcgY5iZpJiLbXPYqZcgV6RatP09HUV\n",
      "https://api.polygon.io/v2/aggs/ticker/WST/range/15/minute/2023-07-01/2023-10-01?adjusted=true&sort=asc&limit=50000&apiKey=NahcgY5iZpJiLbXPYqZcgV6RatP09HUV\n"
     ]
    },
    {
     "name": "stdout",
     "output_type": "stream",
     "text": [
      "https://api.polygon.io/v2/aggs/ticker/WST/range/15/minute/2023-10-01/2024-01-01?adjusted=true&sort=asc&limit=50000&apiKey=NahcgY5iZpJiLbXPYqZcgV6RatP09HUV\n",
      "https://api.polygon.io/v2/aggs/ticker/WDC/range/15/minute/2023-01-01/2023-04-01?adjusted=true&sort=asc&limit=50000&apiKey=NahcgY5iZpJiLbXPYqZcgV6RatP09HUV\n",
      "https://api.polygon.io/v2/aggs/ticker/WDC/range/15/minute/2023-04-01/2023-07-01?adjusted=true&sort=asc&limit=50000&apiKey=NahcgY5iZpJiLbXPYqZcgV6RatP09HUV\n",
      "https://api.polygon.io/v2/aggs/ticker/WDC/range/15/minute/2023-07-01/2023-10-01?adjusted=true&sort=asc&limit=50000&apiKey=NahcgY5iZpJiLbXPYqZcgV6RatP09HUV\n",
      "https://api.polygon.io/v2/aggs/ticker/WDC/range/15/minute/2023-10-01/2024-01-01?adjusted=true&sort=asc&limit=50000&apiKey=NahcgY5iZpJiLbXPYqZcgV6RatP09HUV\n",
      "https://api.polygon.io/v2/aggs/ticker/WRK/range/15/minute/2023-01-01/2023-04-01?adjusted=true&sort=asc&limit=50000&apiKey=NahcgY5iZpJiLbXPYqZcgV6RatP09HUV\n",
      "https://api.polygon.io/v2/aggs/ticker/WRK/range/15/minute/2023-04-01/2023-07-01?adjusted=true&sort=asc&limit=50000&apiKey=NahcgY5iZpJiLbXPYqZcgV6RatP09HUV\n",
      "https://api.polygon.io/v2/aggs/ticker/WRK/range/15/minute/2023-07-01/2023-10-01?adjusted=true&sort=asc&limit=50000&apiKey=NahcgY5iZpJiLbXPYqZcgV6RatP09HUV\n",
      "https://api.polygon.io/v2/aggs/ticker/WRK/range/15/minute/2023-10-01/2024-01-01?adjusted=true&sort=asc&limit=50000&apiKey=NahcgY5iZpJiLbXPYqZcgV6RatP09HUV\n",
      "https://api.polygon.io/v2/aggs/ticker/WY/range/15/minute/2023-01-01/2023-04-01?adjusted=true&sort=asc&limit=50000&apiKey=NahcgY5iZpJiLbXPYqZcgV6RatP09HUV\n",
      "https://api.polygon.io/v2/aggs/ticker/WY/range/15/minute/2023-04-01/2023-07-01?adjusted=true&sort=asc&limit=50000&apiKey=NahcgY5iZpJiLbXPYqZcgV6RatP09HUV\n",
      "https://api.polygon.io/v2/aggs/ticker/WY/range/15/minute/2023-07-01/2023-10-01?adjusted=true&sort=asc&limit=50000&apiKey=NahcgY5iZpJiLbXPYqZcgV6RatP09HUV\n",
      "https://api.polygon.io/v2/aggs/ticker/WY/range/15/minute/2023-10-01/2024-01-01?adjusted=true&sort=asc&limit=50000&apiKey=NahcgY5iZpJiLbXPYqZcgV6RatP09HUV\n",
      "https://api.polygon.io/v2/aggs/ticker/WHR/range/15/minute/2023-01-01/2023-04-01?adjusted=true&sort=asc&limit=50000&apiKey=NahcgY5iZpJiLbXPYqZcgV6RatP09HUV\n",
      "https://api.polygon.io/v2/aggs/ticker/WHR/range/15/minute/2023-04-01/2023-07-01?adjusted=true&sort=asc&limit=50000&apiKey=NahcgY5iZpJiLbXPYqZcgV6RatP09HUV\n",
      "https://api.polygon.io/v2/aggs/ticker/WHR/range/15/minute/2023-07-01/2023-10-01?adjusted=true&sort=asc&limit=50000&apiKey=NahcgY5iZpJiLbXPYqZcgV6RatP09HUV\n",
      "https://api.polygon.io/v2/aggs/ticker/WHR/range/15/minute/2023-10-01/2024-01-01?adjusted=true&sort=asc&limit=50000&apiKey=NahcgY5iZpJiLbXPYqZcgV6RatP09HUV\n",
      "https://api.polygon.io/v2/aggs/ticker/WMB/range/15/minute/2023-01-01/2023-04-01?adjusted=true&sort=asc&limit=50000&apiKey=NahcgY5iZpJiLbXPYqZcgV6RatP09HUV\n",
      "https://api.polygon.io/v2/aggs/ticker/WMB/range/15/minute/2023-04-01/2023-07-01?adjusted=true&sort=asc&limit=50000&apiKey=NahcgY5iZpJiLbXPYqZcgV6RatP09HUV\n",
      "https://api.polygon.io/v2/aggs/ticker/WMB/range/15/minute/2023-07-01/2023-10-01?adjusted=true&sort=asc&limit=50000&apiKey=NahcgY5iZpJiLbXPYqZcgV6RatP09HUV\n",
      "https://api.polygon.io/v2/aggs/ticker/WMB/range/15/minute/2023-10-01/2024-01-01?adjusted=true&sort=asc&limit=50000&apiKey=NahcgY5iZpJiLbXPYqZcgV6RatP09HUV\n",
      "https://api.polygon.io/v2/aggs/ticker/WTW/range/15/minute/2023-01-01/2023-04-01?adjusted=true&sort=asc&limit=50000&apiKey=NahcgY5iZpJiLbXPYqZcgV6RatP09HUV\n",
      "https://api.polygon.io/v2/aggs/ticker/WTW/range/15/minute/2023-04-01/2023-07-01?adjusted=true&sort=asc&limit=50000&apiKey=NahcgY5iZpJiLbXPYqZcgV6RatP09HUV\n",
      "https://api.polygon.io/v2/aggs/ticker/WTW/range/15/minute/2023-07-01/2023-10-01?adjusted=true&sort=asc&limit=50000&apiKey=NahcgY5iZpJiLbXPYqZcgV6RatP09HUV\n",
      "https://api.polygon.io/v2/aggs/ticker/WTW/range/15/minute/2023-10-01/2024-01-01?adjusted=true&sort=asc&limit=50000&apiKey=NahcgY5iZpJiLbXPYqZcgV6RatP09HUV\n",
      "https://api.polygon.io/v2/aggs/ticker/GWW/range/15/minute/2023-01-01/2023-04-01?adjusted=true&sort=asc&limit=50000&apiKey=NahcgY5iZpJiLbXPYqZcgV6RatP09HUV\n",
      "https://api.polygon.io/v2/aggs/ticker/GWW/range/15/minute/2023-04-01/2023-07-01?adjusted=true&sort=asc&limit=50000&apiKey=NahcgY5iZpJiLbXPYqZcgV6RatP09HUV\n",
      "https://api.polygon.io/v2/aggs/ticker/GWW/range/15/minute/2023-07-01/2023-10-01?adjusted=true&sort=asc&limit=50000&apiKey=NahcgY5iZpJiLbXPYqZcgV6RatP09HUV\n",
      "https://api.polygon.io/v2/aggs/ticker/GWW/range/15/minute/2023-10-01/2024-01-01?adjusted=true&sort=asc&limit=50000&apiKey=NahcgY5iZpJiLbXPYqZcgV6RatP09HUV\n",
      "https://api.polygon.io/v2/aggs/ticker/WYNN/range/15/minute/2023-01-01/2023-04-01?adjusted=true&sort=asc&limit=50000&apiKey=NahcgY5iZpJiLbXPYqZcgV6RatP09HUV\n",
      "https://api.polygon.io/v2/aggs/ticker/WYNN/range/15/minute/2023-04-01/2023-07-01?adjusted=true&sort=asc&limit=50000&apiKey=NahcgY5iZpJiLbXPYqZcgV6RatP09HUV\n",
      "https://api.polygon.io/v2/aggs/ticker/WYNN/range/15/minute/2023-07-01/2023-10-01?adjusted=true&sort=asc&limit=50000&apiKey=NahcgY5iZpJiLbXPYqZcgV6RatP09HUV\n",
      "https://api.polygon.io/v2/aggs/ticker/WYNN/range/15/minute/2023-10-01/2024-01-01?adjusted=true&sort=asc&limit=50000&apiKey=NahcgY5iZpJiLbXPYqZcgV6RatP09HUV\n",
      "https://api.polygon.io/v2/aggs/ticker/XEL/range/15/minute/2023-01-01/2023-04-01?adjusted=true&sort=asc&limit=50000&apiKey=NahcgY5iZpJiLbXPYqZcgV6RatP09HUV\n",
      "https://api.polygon.io/v2/aggs/ticker/XEL/range/15/minute/2023-04-01/2023-07-01?adjusted=true&sort=asc&limit=50000&apiKey=NahcgY5iZpJiLbXPYqZcgV6RatP09HUV\n",
      "https://api.polygon.io/v2/aggs/ticker/XEL/range/15/minute/2023-07-01/2023-10-01?adjusted=true&sort=asc&limit=50000&apiKey=NahcgY5iZpJiLbXPYqZcgV6RatP09HUV\n",
      "https://api.polygon.io/v2/aggs/ticker/XEL/range/15/minute/2023-10-01/2024-01-01?adjusted=true&sort=asc&limit=50000&apiKey=NahcgY5iZpJiLbXPYqZcgV6RatP09HUV\n",
      "https://api.polygon.io/v2/aggs/ticker/XYL/range/15/minute/2023-01-01/2023-04-01?adjusted=true&sort=asc&limit=50000&apiKey=NahcgY5iZpJiLbXPYqZcgV6RatP09HUV\n",
      "https://api.polygon.io/v2/aggs/ticker/XYL/range/15/minute/2023-04-01/2023-07-01?adjusted=true&sort=asc&limit=50000&apiKey=NahcgY5iZpJiLbXPYqZcgV6RatP09HUV\n",
      "https://api.polygon.io/v2/aggs/ticker/XYL/range/15/minute/2023-07-01/2023-10-01?adjusted=true&sort=asc&limit=50000&apiKey=NahcgY5iZpJiLbXPYqZcgV6RatP09HUV\n",
      "https://api.polygon.io/v2/aggs/ticker/XYL/range/15/minute/2023-10-01/2024-01-01?adjusted=true&sort=asc&limit=50000&apiKey=NahcgY5iZpJiLbXPYqZcgV6RatP09HUV\n",
      "https://api.polygon.io/v2/aggs/ticker/YUM/range/15/minute/2023-01-01/2023-04-01?adjusted=true&sort=asc&limit=50000&apiKey=NahcgY5iZpJiLbXPYqZcgV6RatP09HUV\n",
      "https://api.polygon.io/v2/aggs/ticker/YUM/range/15/minute/2023-04-01/2023-07-01?adjusted=true&sort=asc&limit=50000&apiKey=NahcgY5iZpJiLbXPYqZcgV6RatP09HUV\n",
      "https://api.polygon.io/v2/aggs/ticker/YUM/range/15/minute/2023-07-01/2023-10-01?adjusted=true&sort=asc&limit=50000&apiKey=NahcgY5iZpJiLbXPYqZcgV6RatP09HUV\n",
      "https://api.polygon.io/v2/aggs/ticker/YUM/range/15/minute/2023-10-01/2024-01-01?adjusted=true&sort=asc&limit=50000&apiKey=NahcgY5iZpJiLbXPYqZcgV6RatP09HUV\n",
      "https://api.polygon.io/v2/aggs/ticker/ZBRA/range/15/minute/2023-01-01/2023-04-01?adjusted=true&sort=asc&limit=50000&apiKey=NahcgY5iZpJiLbXPYqZcgV6RatP09HUV\n",
      "https://api.polygon.io/v2/aggs/ticker/ZBRA/range/15/minute/2023-04-01/2023-07-01?adjusted=true&sort=asc&limit=50000&apiKey=NahcgY5iZpJiLbXPYqZcgV6RatP09HUV\n",
      "https://api.polygon.io/v2/aggs/ticker/ZBRA/range/15/minute/2023-07-01/2023-10-01?adjusted=true&sort=asc&limit=50000&apiKey=NahcgY5iZpJiLbXPYqZcgV6RatP09HUV\n",
      "https://api.polygon.io/v2/aggs/ticker/ZBRA/range/15/minute/2023-10-01/2024-01-01?adjusted=true&sort=asc&limit=50000&apiKey=NahcgY5iZpJiLbXPYqZcgV6RatP09HUV\n",
      "https://api.polygon.io/v2/aggs/ticker/ZBH/range/15/minute/2023-01-01/2023-04-01?adjusted=true&sort=asc&limit=50000&apiKey=NahcgY5iZpJiLbXPYqZcgV6RatP09HUV\n",
      "https://api.polygon.io/v2/aggs/ticker/ZBH/range/15/minute/2023-04-01/2023-07-01?adjusted=true&sort=asc&limit=50000&apiKey=NahcgY5iZpJiLbXPYqZcgV6RatP09HUV\n",
      "https://api.polygon.io/v2/aggs/ticker/ZBH/range/15/minute/2023-07-01/2023-10-01?adjusted=true&sort=asc&limit=50000&apiKey=NahcgY5iZpJiLbXPYqZcgV6RatP09HUV\n",
      "https://api.polygon.io/v2/aggs/ticker/ZBH/range/15/minute/2023-10-01/2024-01-01?adjusted=true&sort=asc&limit=50000&apiKey=NahcgY5iZpJiLbXPYqZcgV6RatP09HUV\n"
     ]
    },
    {
     "name": "stdout",
     "output_type": "stream",
     "text": [
      "https://api.polygon.io/v2/aggs/ticker/ZION/range/15/minute/2023-01-01/2023-04-01?adjusted=true&sort=asc&limit=50000&apiKey=NahcgY5iZpJiLbXPYqZcgV6RatP09HUV\n",
      "https://api.polygon.io/v2/aggs/ticker/ZION/range/15/minute/2023-04-01/2023-07-01?adjusted=true&sort=asc&limit=50000&apiKey=NahcgY5iZpJiLbXPYqZcgV6RatP09HUV\n",
      "https://api.polygon.io/v2/aggs/ticker/ZION/range/15/minute/2023-07-01/2023-10-01?adjusted=true&sort=asc&limit=50000&apiKey=NahcgY5iZpJiLbXPYqZcgV6RatP09HUV\n",
      "https://api.polygon.io/v2/aggs/ticker/ZION/range/15/minute/2023-10-01/2024-01-01?adjusted=true&sort=asc&limit=50000&apiKey=NahcgY5iZpJiLbXPYqZcgV6RatP09HUV\n",
      "https://api.polygon.io/v2/aggs/ticker/ZTS/range/15/minute/2023-01-01/2023-04-01?adjusted=true&sort=asc&limit=50000&apiKey=NahcgY5iZpJiLbXPYqZcgV6RatP09HUV\n",
      "https://api.polygon.io/v2/aggs/ticker/ZTS/range/15/minute/2023-04-01/2023-07-01?adjusted=true&sort=asc&limit=50000&apiKey=NahcgY5iZpJiLbXPYqZcgV6RatP09HUV\n",
      "https://api.polygon.io/v2/aggs/ticker/ZTS/range/15/minute/2023-07-01/2023-10-01?adjusted=true&sort=asc&limit=50000&apiKey=NahcgY5iZpJiLbXPYqZcgV6RatP09HUV\n",
      "https://api.polygon.io/v2/aggs/ticker/ZTS/range/15/minute/2023-10-01/2024-01-01?adjusted=true&sort=asc&limit=50000&apiKey=NahcgY5iZpJiLbXPYqZcgV6RatP09HUV\n"
     ]
    }
   ],
   "source": [
    "df_dict = {}\n",
    "for t in tqdm(tickers):\n",
    "    df_dict[t] = get_df_by_year(t, 2023)"
   ]
  },
  {
   "cell_type": "code",
   "execution_count": 23,
   "id": "a9b9c681",
   "metadata": {},
   "outputs": [
    {
     "data": {
      "application/vnd.jupyter.widget-view+json": {
       "model_id": "d3426fe7903a4d4e807a02ef87786bde",
       "version_major": 2,
       "version_minor": 0
      },
      "text/plain": [
       "  0%|          | 0/503 [00:00<?, ?it/s]"
      ]
     },
     "metadata": {},
     "output_type": "display_data"
    }
   ],
   "source": [
    "corr_dict = {}\n",
    "for k in tqdm(df_dict):\n",
    "    try:\n",
    "        res_df = df_dict[k]\n",
    "        res_df['datetime'] = res_df['t'].apply(lambda x: datetime.datetime.fromtimestamp(x / 1000, timezone('US/Eastern')).strftime('%Y-%m-%d-%H:%M:%S'))\n",
    "        res_df['date'] = res_df['datetime'].apply(lambda x:'-'.join(x.split('-')[:3]))\n",
    "        res_df['time'] = res_df['datetime'].apply(lambda x:'-'.join(x.split('-')[3:]))\n",
    "        shift_size = len(res_df) // len(res_df.date.unique())\n",
    "        res_df['v_previous_day'] = res_df['v'].shift(periods=shift_size)\n",
    "        res_df['v_percentage_change'] = ((res_df['v'] - res_df['v_previous_day']) / res_df['v'].mean())\n",
    "        res_df['ret60min'] = res_df['c'].pct_change(periods=4)\n",
    "        res_df['ret45min'] = res_df['c'].pct_change(periods=3)\n",
    "        res_df['ret30min'] = res_df['c'].pct_change(periods=2)\n",
    "        res_df['ret15min'] = res_df['c'].pct_change(periods=1)\n",
    "        res_df['Log_Ret'] = np.log(res_df['c'] / res_df['c'].shift(1))\n",
    "        res_df['Volatility'] = res_df['Log_Ret'].rolling(window=5).std() * np.sqrt(5)\n",
    "        res_df['Volatility60'] = res_df['Volatility'].shift(-4)\n",
    "        res_df['Volatility45'] = res_df['Volatility'].shift(-3)\n",
    "        res_df['Volatility30'] = res_df['Volatility'].shift(-2)\n",
    "        res_df['Volatility15'] = res_df['Volatility'].shift(-1)\n",
    "        corr_dict[k] = res_df[['Volatility60','Volatility45','Volatility30','Volatility15','Volatility','ret15min','ret30min','ret45min','ret60min','v_percentage_change']].corr()\n",
    "    except:\n",
    "        continue"
   ]
  },
  {
   "cell_type": "code",
   "execution_count": 80,
   "id": "fb73e190",
   "metadata": {},
   "outputs": [
    {
     "data": {
      "text/html": [
       "<div>\n",
       "<style scoped>\n",
       "    .dataframe tbody tr th:only-of-type {\n",
       "        vertical-align: middle;\n",
       "    }\n",
       "\n",
       "    .dataframe tbody tr th {\n",
       "        vertical-align: top;\n",
       "    }\n",
       "\n",
       "    .dataframe thead th {\n",
       "        text-align: right;\n",
       "    }\n",
       "</style>\n",
       "<table border=\"1\" class=\"dataframe\">\n",
       "  <thead>\n",
       "    <tr style=\"text-align: right;\">\n",
       "      <th></th>\n",
       "      <th>v</th>\n",
       "      <th>vw</th>\n",
       "      <th>o</th>\n",
       "      <th>c</th>\n",
       "      <th>h</th>\n",
       "      <th>l</th>\n",
       "      <th>t</th>\n",
       "      <th>n</th>\n",
       "      <th>datetime</th>\n",
       "      <th>date</th>\n",
       "      <th>time</th>\n",
       "    </tr>\n",
       "  </thead>\n",
       "  <tbody>\n",
       "    <tr>\n",
       "      <th>0</th>\n",
       "      <td>325</td>\n",
       "      <td>92.4880</td>\n",
       "      <td>92.4000</td>\n",
       "      <td>92.5700</td>\n",
       "      <td>92.5700</td>\n",
       "      <td>92.4000</td>\n",
       "      <td>1708952400000</td>\n",
       "      <td>5</td>\n",
       "      <td>2024-02-26-08:00:00</td>\n",
       "      <td>2024-02-26</td>\n",
       "      <td>08:00:00</td>\n",
       "    </tr>\n",
       "    <tr>\n",
       "      <th>1</th>\n",
       "      <td>2174</td>\n",
       "      <td>92.4168</td>\n",
       "      <td>92.6900</td>\n",
       "      <td>92.2300</td>\n",
       "      <td>92.6900</td>\n",
       "      <td>92.2000</td>\n",
       "      <td>1708956000000</td>\n",
       "      <td>89</td>\n",
       "      <td>2024-02-26-09:00:00</td>\n",
       "      <td>2024-02-26</td>\n",
       "      <td>09:00:00</td>\n",
       "    </tr>\n",
       "    <tr>\n",
       "      <th>2</th>\n",
       "      <td>281905</td>\n",
       "      <td>92.1460</td>\n",
       "      <td>92.1800</td>\n",
       "      <td>92.4600</td>\n",
       "      <td>92.5000</td>\n",
       "      <td>91.5400</td>\n",
       "      <td>1708957800000</td>\n",
       "      <td>5995</td>\n",
       "      <td>2024-02-26-09:30:00</td>\n",
       "      <td>2024-02-26</td>\n",
       "      <td>09:30:00</td>\n",
       "    </tr>\n",
       "    <tr>\n",
       "      <th>3</th>\n",
       "      <td>191658</td>\n",
       "      <td>92.0143</td>\n",
       "      <td>92.5000</td>\n",
       "      <td>91.9300</td>\n",
       "      <td>92.5000</td>\n",
       "      <td>91.6900</td>\n",
       "      <td>1708959600000</td>\n",
       "      <td>5038</td>\n",
       "      <td>2024-02-26-10:00:00</td>\n",
       "      <td>2024-02-26</td>\n",
       "      <td>10:00:00</td>\n",
       "    </tr>\n",
       "    <tr>\n",
       "      <th>4</th>\n",
       "      <td>167084</td>\n",
       "      <td>91.7019</td>\n",
       "      <td>91.9100</td>\n",
       "      <td>91.5900</td>\n",
       "      <td>91.9600</td>\n",
       "      <td>91.5497</td>\n",
       "      <td>1708961400000</td>\n",
       "      <td>3740</td>\n",
       "      <td>2024-02-26-10:30:00</td>\n",
       "      <td>2024-02-26</td>\n",
       "      <td>10:30:00</td>\n",
       "    </tr>\n",
       "    <tr>\n",
       "      <th>...</th>\n",
       "      <td>...</td>\n",
       "      <td>...</td>\n",
       "      <td>...</td>\n",
       "      <td>...</td>\n",
       "      <td>...</td>\n",
       "      <td>...</td>\n",
       "      <td>...</td>\n",
       "      <td>...</td>\n",
       "      <td>...</td>\n",
       "      <td>...</td>\n",
       "      <td>...</td>\n",
       "    </tr>\n",
       "    <tr>\n",
       "      <th>136</th>\n",
       "      <td>344</td>\n",
       "      <td>91.4149</td>\n",
       "      <td>91.4000</td>\n",
       "      <td>91.4200</td>\n",
       "      <td>91.4200</td>\n",
       "      <td>91.4000</td>\n",
       "      <td>1709587800000</td>\n",
       "      <td>5</td>\n",
       "      <td>2024-03-04-16:30:00</td>\n",
       "      <td>2024-03-04</td>\n",
       "      <td>16:30:00</td>\n",
       "    </tr>\n",
       "    <tr>\n",
       "      <th>137</th>\n",
       "      <td>294</td>\n",
       "      <td>91.1949</td>\n",
       "      <td>91.1944</td>\n",
       "      <td>91.1926</td>\n",
       "      <td>91.1944</td>\n",
       "      <td>91.1926</td>\n",
       "      <td>1709589600000</td>\n",
       "      <td>3</td>\n",
       "      <td>2024-03-04-17:00:00</td>\n",
       "      <td>2024-03-04</td>\n",
       "      <td>17:00:00</td>\n",
       "    </tr>\n",
       "    <tr>\n",
       "      <th>138</th>\n",
       "      <td>348</td>\n",
       "      <td>91.2200</td>\n",
       "      <td>91.2200</td>\n",
       "      <td>91.2200</td>\n",
       "      <td>91.2200</td>\n",
       "      <td>91.2200</td>\n",
       "      <td>1709595000000</td>\n",
       "      <td>2</td>\n",
       "      <td>2024-03-04-18:30:00</td>\n",
       "      <td>2024-03-04</td>\n",
       "      <td>18:30:00</td>\n",
       "    </tr>\n",
       "    <tr>\n",
       "      <th>139</th>\n",
       "      <td>602</td>\n",
       "      <td>91.4202</td>\n",
       "      <td>91.4200</td>\n",
       "      <td>91.4200</td>\n",
       "      <td>91.4200</td>\n",
       "      <td>91.4200</td>\n",
       "      <td>1709596800000</td>\n",
       "      <td>2</td>\n",
       "      <td>2024-03-04-19:00:00</td>\n",
       "      <td>2024-03-04</td>\n",
       "      <td>19:00:00</td>\n",
       "    </tr>\n",
       "    <tr>\n",
       "      <th>140</th>\n",
       "      <td>1457</td>\n",
       "      <td>91.4214</td>\n",
       "      <td>91.4200</td>\n",
       "      <td>91.4300</td>\n",
       "      <td>91.4300</td>\n",
       "      <td>91.4200</td>\n",
       "      <td>1709598600000</td>\n",
       "      <td>3</td>\n",
       "      <td>2024-03-04-19:30:00</td>\n",
       "      <td>2024-03-04</td>\n",
       "      <td>19:30:00</td>\n",
       "    </tr>\n",
       "  </tbody>\n",
       "</table>\n",
       "<p>141 rows × 11 columns</p>\n",
       "</div>"
      ],
      "text/plain": [
       "          v       vw        o        c        h        l              t     n  \\\n",
       "0       325  92.4880  92.4000  92.5700  92.5700  92.4000  1708952400000     5   \n",
       "1      2174  92.4168  92.6900  92.2300  92.6900  92.2000  1708956000000    89   \n",
       "2    281905  92.1460  92.1800  92.4600  92.5000  91.5400  1708957800000  5995   \n",
       "3    191658  92.0143  92.5000  91.9300  92.5000  91.6900  1708959600000  5038   \n",
       "4    167084  91.7019  91.9100  91.5900  91.9600  91.5497  1708961400000  3740   \n",
       "..      ...      ...      ...      ...      ...      ...            ...   ...   \n",
       "136     344  91.4149  91.4000  91.4200  91.4200  91.4000  1709587800000     5   \n",
       "137     294  91.1949  91.1944  91.1926  91.1944  91.1926  1709589600000     3   \n",
       "138     348  91.2200  91.2200  91.2200  91.2200  91.2200  1709595000000     2   \n",
       "139     602  91.4202  91.4200  91.4200  91.4200  91.4200  1709596800000     2   \n",
       "140    1457  91.4214  91.4200  91.4300  91.4300  91.4200  1709598600000     3   \n",
       "\n",
       "                datetime        date      time  \n",
       "0    2024-02-26-08:00:00  2024-02-26  08:00:00  \n",
       "1    2024-02-26-09:00:00  2024-02-26  09:00:00  \n",
       "2    2024-02-26-09:30:00  2024-02-26  09:30:00  \n",
       "3    2024-02-26-10:00:00  2024-02-26  10:00:00  \n",
       "4    2024-02-26-10:30:00  2024-02-26  10:30:00  \n",
       "..                   ...         ...       ...  \n",
       "136  2024-03-04-16:30:00  2024-03-04  16:30:00  \n",
       "137  2024-03-04-17:00:00  2024-03-04  17:00:00  \n",
       "138  2024-03-04-18:30:00  2024-03-04  18:30:00  \n",
       "139  2024-03-04-19:00:00  2024-03-04  19:00:00  \n",
       "140  2024-03-04-19:30:00  2024-03-04  19:30:00  \n",
       "\n",
       "[141 rows x 11 columns]"
      ]
     },
     "execution_count": 80,
     "metadata": {},
     "output_type": "execute_result"
    }
   ],
   "source": [
    "res_dict['MMM']"
   ]
  },
  {
   "cell_type": "code",
   "execution_count": 83,
   "id": "b025cfe8",
   "metadata": {},
   "outputs": [],
   "source": [
    "t=\"MMM\"\n",
    "from_date, to_date = get_today(), get_today()\n",
    "query_string = f\"https://api.polygon.io/v2/aggs/ticker/{t}/range/30/minute/{from_date}/{to_date}?adjusted=true&sort=asc&limit={5000}&apiKey={api_key}\"\n",
    "res_df = pd.DataFrame().from_records(requests.get(query_string).json()['results'])\n",
    "\n",
    "\n"
   ]
  },
  {
   "cell_type": "code",
   "execution_count": 98,
   "id": "c646894a",
   "metadata": {},
   "outputs": [],
   "source": [
    "for k in res_dict:\n",
    "    res_dict[k][\"retPct\"]=res_dict[k].apply(lambda x:(x['c'] - x['o']) / x['o'], axis = 1)"
   ]
  },
  {
   "cell_type": "code",
   "execution_count": 106,
   "id": "fcd8e7c7",
   "metadata": {},
   "outputs": [],
   "source": [
    "avg_ret_pct = []\n",
    "for k in res_dict:\n",
    "    avg_ret_pct += list(res_dict[k].retPct.values)\n"
   ]
  },
  {
   "cell_type": "code",
   "execution_count": 115,
   "id": "6e9ccc8a",
   "metadata": {},
   "outputs": [
    {
     "data": {
      "text/plain": [
       "0.005153142691246973"
      ]
     },
     "execution_count": 115,
     "metadata": {},
     "output_type": "execute_result"
    }
   ],
   "source": [
    "np.percentile(avg_ret_pct,95)"
   ]
  },
  {
   "cell_type": "code",
   "execution_count": 116,
   "id": "d65fd89c",
   "metadata": {},
   "outputs": [
    {
     "data": {
      "text/plain": [
       "-0.004911913026393346"
      ]
     },
     "execution_count": 116,
     "metadata": {},
     "output_type": "execute_result"
    }
   ],
   "source": [
    "np.percentile(avg_ret_pct,5)"
   ]
  },
  {
   "cell_type": "code",
   "execution_count": 96,
   "id": "457e73b0",
   "metadata": {
    "scrolled": true
   },
   "outputs": [],
   "source": [
    "res_df[\"retPct\"]=res_df.apply(lambda x:(x['c'] - x['o']) / x['o'], axis = 1)"
   ]
  },
  {
   "cell_type": "code",
   "execution_count": 97,
   "id": "2b772b76",
   "metadata": {},
   "outputs": [
    {
     "data": {
      "text/html": [
       "<div>\n",
       "<style scoped>\n",
       "    .dataframe tbody tr th:only-of-type {\n",
       "        vertical-align: middle;\n",
       "    }\n",
       "\n",
       "    .dataframe tbody tr th {\n",
       "        vertical-align: top;\n",
       "    }\n",
       "\n",
       "    .dataframe thead th {\n",
       "        text-align: right;\n",
       "    }\n",
       "</style>\n",
       "<table border=\"1\" class=\"dataframe\">\n",
       "  <thead>\n",
       "    <tr style=\"text-align: right;\">\n",
       "      <th></th>\n",
       "      <th>v</th>\n",
       "      <th>vw</th>\n",
       "      <th>o</th>\n",
       "      <th>c</th>\n",
       "      <th>h</th>\n",
       "      <th>l</th>\n",
       "      <th>t</th>\n",
       "      <th>n</th>\n",
       "      <th>retPct</th>\n",
       "    </tr>\n",
       "  </thead>\n",
       "  <tbody>\n",
       "    <tr>\n",
       "      <th>0</th>\n",
       "      <td>461</td>\n",
       "      <td>91.1737</td>\n",
       "      <td>91.1500</td>\n",
       "      <td>91.1500</td>\n",
       "      <td>91.1500</td>\n",
       "      <td>91.1500</td>\n",
       "      <td>1709629200000</td>\n",
       "      <td>23</td>\n",
       "      <td>0.000000</td>\n",
       "    </tr>\n",
       "    <tr>\n",
       "      <th>1</th>\n",
       "      <td>428</td>\n",
       "      <td>91.1277</td>\n",
       "      <td>91.1200</td>\n",
       "      <td>91.1200</td>\n",
       "      <td>91.1200</td>\n",
       "      <td>91.1200</td>\n",
       "      <td>1709643600000</td>\n",
       "      <td>10</td>\n",
       "      <td>0.000000</td>\n",
       "    </tr>\n",
       "    <tr>\n",
       "      <th>2</th>\n",
       "      <td>4276</td>\n",
       "      <td>91.6746</td>\n",
       "      <td>91.2500</td>\n",
       "      <td>91.9300</td>\n",
       "      <td>91.9300</td>\n",
       "      <td>91.1600</td>\n",
       "      <td>1709647200000</td>\n",
       "      <td>103</td>\n",
       "      <td>0.007452</td>\n",
       "    </tr>\n",
       "    <tr>\n",
       "      <th>3</th>\n",
       "      <td>493314</td>\n",
       "      <td>92.0939</td>\n",
       "      <td>91.6700</td>\n",
       "      <td>92.2700</td>\n",
       "      <td>92.4200</td>\n",
       "      <td>91.5700</td>\n",
       "      <td>1709649000000</td>\n",
       "      <td>7452</td>\n",
       "      <td>0.006545</td>\n",
       "    </tr>\n",
       "    <tr>\n",
       "      <th>4</th>\n",
       "      <td>464594</td>\n",
       "      <td>92.8101</td>\n",
       "      <td>92.2600</td>\n",
       "      <td>93.1950</td>\n",
       "      <td>93.2150</td>\n",
       "      <td>92.2600</td>\n",
       "      <td>1709650800000</td>\n",
       "      <td>8233</td>\n",
       "      <td>0.010134</td>\n",
       "    </tr>\n",
       "    <tr>\n",
       "      <th>5</th>\n",
       "      <td>335993</td>\n",
       "      <td>93.0662</td>\n",
       "      <td>93.2000</td>\n",
       "      <td>93.0600</td>\n",
       "      <td>93.3800</td>\n",
       "      <td>92.8500</td>\n",
       "      <td>1709652600000</td>\n",
       "      <td>5852</td>\n",
       "      <td>-0.001502</td>\n",
       "    </tr>\n",
       "    <tr>\n",
       "      <th>6</th>\n",
       "      <td>229347</td>\n",
       "      <td>92.9712</td>\n",
       "      <td>93.0600</td>\n",
       "      <td>92.7800</td>\n",
       "      <td>93.2500</td>\n",
       "      <td>92.6990</td>\n",
       "      <td>1709654400000</td>\n",
       "      <td>4551</td>\n",
       "      <td>-0.003009</td>\n",
       "    </tr>\n",
       "    <tr>\n",
       "      <th>7</th>\n",
       "      <td>210363</td>\n",
       "      <td>92.9439</td>\n",
       "      <td>92.7900</td>\n",
       "      <td>93.1600</td>\n",
       "      <td>93.1600</td>\n",
       "      <td>92.7500</td>\n",
       "      <td>1709656200000</td>\n",
       "      <td>4251</td>\n",
       "      <td>0.003987</td>\n",
       "    </tr>\n",
       "    <tr>\n",
       "      <th>8</th>\n",
       "      <td>172608</td>\n",
       "      <td>93.0676</td>\n",
       "      <td>93.1500</td>\n",
       "      <td>93.0500</td>\n",
       "      <td>93.1700</td>\n",
       "      <td>92.9650</td>\n",
       "      <td>1709658000000</td>\n",
       "      <td>3569</td>\n",
       "      <td>-0.001074</td>\n",
       "    </tr>\n",
       "    <tr>\n",
       "      <th>9</th>\n",
       "      <td>145851</td>\n",
       "      <td>93.1075</td>\n",
       "      <td>93.0450</td>\n",
       "      <td>93.0400</td>\n",
       "      <td>93.1850</td>\n",
       "      <td>93.0300</td>\n",
       "      <td>1709659800000</td>\n",
       "      <td>3376</td>\n",
       "      <td>-0.000054</td>\n",
       "    </tr>\n",
       "    <tr>\n",
       "      <th>10</th>\n",
       "      <td>157002</td>\n",
       "      <td>93.1184</td>\n",
       "      <td>93.0311</td>\n",
       "      <td>93.2100</td>\n",
       "      <td>93.2303</td>\n",
       "      <td>92.9600</td>\n",
       "      <td>1709661600000</td>\n",
       "      <td>3724</td>\n",
       "      <td>0.001923</td>\n",
       "    </tr>\n",
       "    <tr>\n",
       "      <th>11</th>\n",
       "      <td>213012</td>\n",
       "      <td>93.2234</td>\n",
       "      <td>93.2100</td>\n",
       "      <td>93.0992</td>\n",
       "      <td>93.3900</td>\n",
       "      <td>93.0700</td>\n",
       "      <td>1709663400000</td>\n",
       "      <td>4233</td>\n",
       "      <td>-0.001189</td>\n",
       "    </tr>\n",
       "    <tr>\n",
       "      <th>12</th>\n",
       "      <td>185270</td>\n",
       "      <td>93.0419</td>\n",
       "      <td>93.0800</td>\n",
       "      <td>92.9900</td>\n",
       "      <td>93.1600</td>\n",
       "      <td>92.9400</td>\n",
       "      <td>1709665200000</td>\n",
       "      <td>3772</td>\n",
       "      <td>-0.000967</td>\n",
       "    </tr>\n",
       "    <tr>\n",
       "      <th>13</th>\n",
       "      <td>226110</td>\n",
       "      <td>92.6710</td>\n",
       "      <td>93.0000</td>\n",
       "      <td>92.4400</td>\n",
       "      <td>93.0050</td>\n",
       "      <td>92.3600</td>\n",
       "      <td>1709667000000</td>\n",
       "      <td>4261</td>\n",
       "      <td>-0.006022</td>\n",
       "    </tr>\n",
       "    <tr>\n",
       "      <th>14</th>\n",
       "      <td>275022</td>\n",
       "      <td>92.5162</td>\n",
       "      <td>92.4500</td>\n",
       "      <td>92.3700</td>\n",
       "      <td>92.6500</td>\n",
       "      <td>92.3600</td>\n",
       "      <td>1709668800000</td>\n",
       "      <td>5169</td>\n",
       "      <td>-0.000865</td>\n",
       "    </tr>\n",
       "    <tr>\n",
       "      <th>15</th>\n",
       "      <td>717661</td>\n",
       "      <td>92.5632</td>\n",
       "      <td>92.3700</td>\n",
       "      <td>92.7000</td>\n",
       "      <td>92.7950</td>\n",
       "      <td>92.3000</td>\n",
       "      <td>1709670600000</td>\n",
       "      <td>12162</td>\n",
       "      <td>0.003573</td>\n",
       "    </tr>\n",
       "    <tr>\n",
       "      <th>16</th>\n",
       "      <td>72882</td>\n",
       "      <td>92.7008</td>\n",
       "      <td>92.6900</td>\n",
       "      <td>92.7500</td>\n",
       "      <td>93.0000</td>\n",
       "      <td>92.6900</td>\n",
       "      <td>1709672400000</td>\n",
       "      <td>85</td>\n",
       "      <td>0.000647</td>\n",
       "    </tr>\n",
       "    <tr>\n",
       "      <th>17</th>\n",
       "      <td>100</td>\n",
       "      <td>93.0000</td>\n",
       "      <td>93.0000</td>\n",
       "      <td>93.0000</td>\n",
       "      <td>93.0000</td>\n",
       "      <td>93.0000</td>\n",
       "      <td>1709674200000</td>\n",
       "      <td>1</td>\n",
       "      <td>0.000000</td>\n",
       "    </tr>\n",
       "    <tr>\n",
       "      <th>18</th>\n",
       "      <td>100</td>\n",
       "      <td>92.7515</td>\n",
       "      <td>92.7515</td>\n",
       "      <td>92.7515</td>\n",
       "      <td>92.7515</td>\n",
       "      <td>92.7515</td>\n",
       "      <td>1709676000000</td>\n",
       "      <td>1</td>\n",
       "      <td>0.000000</td>\n",
       "    </tr>\n",
       "    <tr>\n",
       "      <th>19</th>\n",
       "      <td>700</td>\n",
       "      <td>93.0000</td>\n",
       "      <td>93.0000</td>\n",
       "      <td>93.0000</td>\n",
       "      <td>93.0000</td>\n",
       "      <td>93.0000</td>\n",
       "      <td>1709679600000</td>\n",
       "      <td>1</td>\n",
       "      <td>0.000000</td>\n",
       "    </tr>\n",
       "    <tr>\n",
       "      <th>20</th>\n",
       "      <td>500</td>\n",
       "      <td>92.8461</td>\n",
       "      <td>92.7501</td>\n",
       "      <td>92.9900</td>\n",
       "      <td>92.9900</td>\n",
       "      <td>92.7501</td>\n",
       "      <td>1709683200000</td>\n",
       "      <td>2</td>\n",
       "      <td>0.002587</td>\n",
       "    </tr>\n",
       "  </tbody>\n",
       "</table>\n",
       "</div>"
      ],
      "text/plain": [
       "         v       vw        o        c        h        l              t      n  \\\n",
       "0      461  91.1737  91.1500  91.1500  91.1500  91.1500  1709629200000     23   \n",
       "1      428  91.1277  91.1200  91.1200  91.1200  91.1200  1709643600000     10   \n",
       "2     4276  91.6746  91.2500  91.9300  91.9300  91.1600  1709647200000    103   \n",
       "3   493314  92.0939  91.6700  92.2700  92.4200  91.5700  1709649000000   7452   \n",
       "4   464594  92.8101  92.2600  93.1950  93.2150  92.2600  1709650800000   8233   \n",
       "5   335993  93.0662  93.2000  93.0600  93.3800  92.8500  1709652600000   5852   \n",
       "6   229347  92.9712  93.0600  92.7800  93.2500  92.6990  1709654400000   4551   \n",
       "7   210363  92.9439  92.7900  93.1600  93.1600  92.7500  1709656200000   4251   \n",
       "8   172608  93.0676  93.1500  93.0500  93.1700  92.9650  1709658000000   3569   \n",
       "9   145851  93.1075  93.0450  93.0400  93.1850  93.0300  1709659800000   3376   \n",
       "10  157002  93.1184  93.0311  93.2100  93.2303  92.9600  1709661600000   3724   \n",
       "11  213012  93.2234  93.2100  93.0992  93.3900  93.0700  1709663400000   4233   \n",
       "12  185270  93.0419  93.0800  92.9900  93.1600  92.9400  1709665200000   3772   \n",
       "13  226110  92.6710  93.0000  92.4400  93.0050  92.3600  1709667000000   4261   \n",
       "14  275022  92.5162  92.4500  92.3700  92.6500  92.3600  1709668800000   5169   \n",
       "15  717661  92.5632  92.3700  92.7000  92.7950  92.3000  1709670600000  12162   \n",
       "16   72882  92.7008  92.6900  92.7500  93.0000  92.6900  1709672400000     85   \n",
       "17     100  93.0000  93.0000  93.0000  93.0000  93.0000  1709674200000      1   \n",
       "18     100  92.7515  92.7515  92.7515  92.7515  92.7515  1709676000000      1   \n",
       "19     700  93.0000  93.0000  93.0000  93.0000  93.0000  1709679600000      1   \n",
       "20     500  92.8461  92.7501  92.9900  92.9900  92.7501  1709683200000      2   \n",
       "\n",
       "      retPct  \n",
       "0   0.000000  \n",
       "1   0.000000  \n",
       "2   0.007452  \n",
       "3   0.006545  \n",
       "4   0.010134  \n",
       "5  -0.001502  \n",
       "6  -0.003009  \n",
       "7   0.003987  \n",
       "8  -0.001074  \n",
       "9  -0.000054  \n",
       "10  0.001923  \n",
       "11 -0.001189  \n",
       "12 -0.000967  \n",
       "13 -0.006022  \n",
       "14 -0.000865  \n",
       "15  0.003573  \n",
       "16  0.000647  \n",
       "17  0.000000  \n",
       "18  0.000000  \n",
       "19  0.000000  \n",
       "20  0.002587  "
      ]
     },
     "execution_count": 97,
     "metadata": {},
     "output_type": "execute_result"
    }
   ],
   "source": [
    "res_df"
   ]
  },
  {
   "cell_type": "code",
   "execution_count": null,
   "id": "d96f236f",
   "metadata": {},
   "outputs": [],
   "source": []
  },
  {
   "cell_type": "code",
   "execution_count": 199,
   "id": "e0284ad5",
   "metadata": {},
   "outputs": [],
   "source": [
    "def get_df_last_week():\n",
    "    eight_days_ago = datetime.datetime.now().date() - timedelta(days=8)\n",
    "    yesterday = datetime.datetime.now().date() - timedelta(days=1)\n",
    "    return eight_days_ago, yesterday\n",
    "\n",
    "def check_market_open():\n",
    "    query = \"https://api.polygon.io/v1/marketstatus/now?apiKey=NahcgY5iZpJiLbXPYqZcgV6RatP09HUV\"\n",
    "    res = requests.get(query)\n",
    "    status = res.json()['market']\n",
    "    return status!='closed'\n",
    "\n",
    "def get_today():\n",
    "    return datetime.datetime.now().date()\n",
    "\n",
    "def generate_last_week_average():\n",
    "    from_date, to_date = get_df_last_week()\n",
    "    res_dict = {}\n",
    "    res_dict_agg = {}\n",
    "    for t in tqdm(tickers):\n",
    "\n",
    "        res_df = pd.DataFrame().from_records(requests.get(query_string).json()['results'])\n",
    "        res_df['datetime'] = res_df['t'].apply(lambda x: datetime.datetime.fromtimestamp(x / 1000, timezone('US/Eastern')).strftime('%Y-%m-%d-%H:%M:%S'))\n",
    "        res_df['date'] = res_df['datetime'].apply(lambda x:'-'.join(x.split('-')[:3]))\n",
    "        res_df['time'] = res_df['datetime'].apply(lambda x:'-'.join(x.split('-')[3:]))\n",
    "        res_dict[t] = res_df\n",
    "        res_dict_agg[t] = res_df[[\"time\", \"date\", \"v\", \"n\"]].groupby('time').mean().reset_index()\n",
    "    return res_dict, res_dict_agg\n",
    " \n",
    "    \n",
    "def get_valid_pct_list(res_dict, res_dict_agg, assume_date=None):\n",
    "    if assume_date is not None:\n",
    "        assume_time = datetime.datetime.timestamp(assume_date) * 1000\n",
    "    if assume_date is not None:\n",
    "        from_date, to_date = assume_date.date(), assume_date.date()\n",
    "    else:\n",
    "        from_date, to_date = get_today(), get_today()\n",
    "    pct_list_positive = []\n",
    "    pct_list_negative = []\n",
    "    for t in tqdm(list(res_dict.keys())):\n",
    "        query_string = f\"https://api.polygon.io/v2/aggs/ticker/{t}/range/30/minute/{from_date}/{to_date}?adjusted=true&sort=asc&limit={5000}&apiKey={api_key}\"\n",
    "        try:\n",
    "            res_df = pd.DataFrame().from_records(requests.get(query_string).json()['results'])\n",
    "        except:\n",
    "            time.sleep(1)\n",
    "            continue\n",
    "        res_df['datetime'] = res_df['t'].apply(lambda x: datetime.datetime.fromtimestamp(x / 1000, timezone('US/Eastern')).strftime('%Y-%m-%d-%H:%M:%S'))\n",
    "        res_df['date'] = res_df['datetime'].apply(lambda x:'-'.join(x.split('-')[:3]))\n",
    "        res_df['time'] = res_df['datetime'].apply(lambda x:'-'.join(x.split('-')[3:]))\n",
    "        res_dict_agg[t].columns = ['time', 'v_avg','n_avg']\n",
    "        res_df = res_df.merge(res_dict_agg[t],on='time', how = 'inner')\n",
    "        res_df['v_pct'] = res_df.apply(lambda x:x['v'] / x['v_avg'],axis = 1)\n",
    "        res_df['n_pct'] = res_df.apply(lambda x:x['n'] / x['n_avg'],axis = 1)\n",
    "        res_df[\"retPct\"]=res_df.apply(lambda x:(x['c'] - x['o']) / x['o'], axis = 1)\n",
    "        if assume_time is not None:\n",
    "            res_df = res_df[res_df['t'] < assume_time - 900*1000 - 1800 * 1000]\n",
    "        else:\n",
    "            now_utc = datetime.now(pytz.utc)\n",
    "            now_est = now_utc.astimezone(pytz.timezone('US/Eastern'))\n",
    "            assume_time  = now_est.timestamp()\n",
    "        if  len(res_df) and res_df.iloc[-1]['t'] >= assume_time - 3600*1000 and res_df.iloc[-1]['v_pct'] > 1:\n",
    "            if res_df.iloc[-1]['retPct'] > 0.005:\n",
    "                pct_list_positive.append((t,res_df.iloc[-1]['v'],res_df.iloc[-1]['n'],res_df.iloc[-1]['v_pct'],res_df.iloc[-1]['n_pct'],res_df.iloc[-1]['retPct']))\n",
    "            if res_df.iloc[-1]['retPct'] < -0.005:\n",
    "                pct_list_negative.append((t,res_df.iloc[-1]['v'],res_df.iloc[-1]['n'],res_df.iloc[-1]['v_pct'],res_df.iloc[-1]['n_pct'],res_df.iloc[-1]['retPct']))\n",
    "    return pct_list_positive, pct_list_negative\n",
    "\n",
    "\n",
    "def generate_top_k_stock(k, pct_list):\n",
    "    return sorted(pct_list, key = lambda x:x[3], reverse=True)[:k], sorted(pct_list, key = lambda x:x[4], reverse=True)[:k]\n",
    "    \n",
    " "
   ]
  },
  {
   "cell_type": "code",
   "execution_count": 187,
   "id": "943ba888",
   "metadata": {},
   "outputs": [],
   "source": [
    "import warnings\n",
    "warnings.filterwarnings('ignore')"
   ]
  },
  {
   "cell_type": "code",
   "execution_count": 123,
   "id": "7172bbb4",
   "metadata": {
    "scrolled": true
   },
   "outputs": [
    {
     "data": {
      "application/vnd.jupyter.widget-view+json": {
       "model_id": "5139b7b94e5547109c789b267b2895e8",
       "version_major": 2,
       "version_minor": 0
      },
      "text/plain": [
       "  0%|          | 0/503 [00:00<?, ?it/s]"
      ]
     },
     "metadata": {},
     "output_type": "display_data"
    }
   ],
   "source": [
    "res_dict, res_dict_agg= generate_last_week_average()"
   ]
  },
  {
   "cell_type": "code",
   "execution_count": 131,
   "id": "1c5c76ce",
   "metadata": {},
   "outputs": [
    {
     "data": {
      "application/vnd.jupyter.widget-view+json": {
       "model_id": "8b0785d1deb746e1b62c06bec31219cd",
       "version_major": 2,
       "version_minor": 0
      },
      "text/plain": [
       "  0%|          | 0/503 [00:00<?, ?it/s]"
      ]
     },
     "metadata": {},
     "output_type": "display_data"
    }
   ],
   "source": [
    "assume_date = datetime.datetime(2024, 3, 1, 10 ,0)\n",
    "pct_list = get_valid_pct_list(res_dict,res_dict_agg, assume_date = assume_date)"
   ]
  },
  {
   "cell_type": "code",
   "execution_count": 136,
   "id": "85220b9b",
   "metadata": {},
   "outputs": [],
   "source": [
    "from IPython.core.display import display, HTML\n"
   ]
  },
  {
   "cell_type": "code",
   "execution_count": 163,
   "id": "a6e86269",
   "metadata": {},
   "outputs": [],
   "source": [
    "\n",
    "def get_pretty_html(final_list):\n",
    "    html_table = \"<table>\\n\"\n",
    "    for i, row in enumerate(final_list):\n",
    "        html_table += \"  <tr>\\n\"\n",
    "        for j, item in enumerate(row):\n",
    "            if i == 0:  # First row (header row)\n",
    "                html_table += f\"    <th style='font-weight: bold; background-color: black; color: white;e'>|{item}</th>\\n\"  \n",
    "            else:\n",
    "                if j < 3:\n",
    "                    html_table += f\"    <td>|{item}</td>\\n\"\n",
    "                else:\n",
    "                    html_table += f\"    <td>|{item * 100:.4f}%</td>\\n\"\n",
    "        html_table += \"  </tr>\\n\"\n",
    "    html_table += \"</table>\"\n",
    "    return html_table\n"
   ]
  },
  {
   "cell_type": "code",
   "execution_count": 164,
   "id": "bf5b5d25",
   "metadata": {},
   "outputs": [
    {
     "data": {
      "text/html": [
       "<table>\n",
       "  <tr>\n",
       "    <th style='font-weight: bold; background-color: black; color: white;e'>|Ticker</th>\n",
       "    <th style='font-weight: bold; background-color: black; color: white;e'>|Volumn</th>\n",
       "    <th style='font-weight: bold; background-color: black; color: white;e'>|Trade</th>\n",
       "    <th style='font-weight: bold; background-color: black; color: white;e'>|VolChangePct</th>\n",
       "    <th style='font-weight: bold; background-color: black; color: white;e'>|#TradeChangePct</th>\n",
       "    <th style='font-weight: bold; background-color: black; color: white;e'>|ReturnInLast30Min</th>\n",
       "  </tr>\n",
       "  <tr>\n",
       "    <td>|ON</td>\n",
       "    <td>|638164.0</td>\n",
       "    <td>|4679</td>\n",
       "    <td>|238.7152%</td>\n",
       "    <td>|136.8662%</td>\n",
       "    <td>|0.6541%</td>\n",
       "  </tr>\n",
       "  <tr>\n",
       "    <td>|AVGO</td>\n",
       "    <td>|247848</td>\n",
       "    <td>|9729</td>\n",
       "    <td>|230.8207%</td>\n",
       "    <td>|202.9482%</td>\n",
       "    <td>|0.7527%</td>\n",
       "  </tr>\n",
       "  <tr>\n",
       "    <td>|FOXA</td>\n",
       "    <td>|281371</td>\n",
       "    <td>|1973</td>\n",
       "    <td>|204.4615%</td>\n",
       "    <td>|111.6476%</td>\n",
       "    <td>|0.5980%</td>\n",
       "  </tr>\n",
       "  <tr>\n",
       "    <td>|TAP</td>\n",
       "    <td>|63974</td>\n",
       "    <td>|1402</td>\n",
       "    <td>|141.2500%</td>\n",
       "    <td>|126.6486%</td>\n",
       "    <td>|0.5312%</td>\n",
       "  </tr>\n",
       "  <tr>\n",
       "    <td>|XEL</td>\n",
       "    <td>|681194.0</td>\n",
       "    <td>|6406</td>\n",
       "    <td>|123.2188%</td>\n",
       "    <td>|114.2127%</td>\n",
       "    <td>|0.7088%</td>\n",
       "  </tr>\n",
       "  <tr>\n",
       "    <td>|FOX</td>\n",
       "    <td>|63441</td>\n",
       "    <td>|1040</td>\n",
       "    <td>|113.5271%</td>\n",
       "    <td>|125.5281%</td>\n",
       "    <td>|0.5586%</td>\n",
       "  </tr>\n",
       "  <tr>\n",
       "    <td>|TSLA</td>\n",
       "    <td>|5602310.0</td>\n",
       "    <td>|55251</td>\n",
       "    <td>|101.7486%</td>\n",
       "    <td>|108.0813%</td>\n",
       "    <td>|0.5563%</td>\n",
       "  </tr>\n",
       "</table>"
      ],
      "text/plain": [
       "<IPython.core.display.HTML object>"
      ]
     },
     "metadata": {},
     "output_type": "display_data"
    },
    {
     "data": {
      "text/plain": [
       "<Response [200]>"
      ]
     },
     "execution_count": 164,
     "metadata": {},
     "output_type": "execute_result"
    }
   ],
   "source": [
    "v_change_top_10, n_change_top_10 = generate_top_k_stock(10, pct_list)\n"
   ]
  },
  {
   "cell_type": "code",
   "execution_count": 155,
   "id": "071885b4",
   "metadata": {},
   "outputs": [],
   "source": [
    "def send_simple_message(title, html):\n",
    "\treturn requests.post(\n",
    "\t\t\"https://api.mailgun.net/v3/sandboxdceab27f745c4070b3e61d4a32c1cc45.mailgun.org/messages\",\n",
    "\t\tauth=(\"api\", \"5a8c9ee0482315542e2d24808ae73f0d-2c441066-5db076b1\"),\n",
    "\t\tdata={\"from\": \"Han Ding<handing2412@gmail.com>\",\n",
    "\t\t\t\"to\": [\"handing2412@gmail.com\",\"klight.wu@gmail.com\"],\n",
    "\t\t\t\"subject\": title,\n",
    "\t\t\t\"html\": html})"
   ]
  },
  {
   "cell_type": "code",
   "execution_count": 171,
   "id": "a37adff0",
   "metadata": {},
   "outputs": [
    {
     "data": {
      "text/plain": [
       "'13:00(PST)'"
      ]
     },
     "execution_count": 171,
     "metadata": {},
     "output_type": "execute_result"
    }
   ],
   "source": []
  },
  {
   "cell_type": "code",
   "execution_count": 200,
   "id": "1881681d",
   "metadata": {
    "scrolled": true
   },
   "outputs": [
    {
     "data": {
      "application/vnd.jupyter.widget-view+json": {
       "model_id": "ecebcb85b3cb496880d7c1ad4c524b01",
       "version_major": 2,
       "version_minor": 0
      },
      "text/plain": [
       "  0%|          | 0/503 [00:00<?, ?it/s]"
      ]
     },
     "metadata": {},
     "output_type": "display_data"
    },
    {
     "data": {
      "application/vnd.jupyter.widget-view+json": {
       "model_id": "d0bab37d41814da7bc4b8e105c527791",
       "version_major": 2,
       "version_minor": 0
      },
      "text/plain": [
       "  0%|          | 0/503 [00:00<?, ?it/s]"
      ]
     },
     "metadata": {},
     "output_type": "display_data"
    },
    {
     "data": {
      "application/vnd.jupyter.widget-view+json": {
       "model_id": "c7d17af2392742179b8ad5b7d6faeba8",
       "version_major": 2,
       "version_minor": 0
      },
      "text/plain": [
       "  0%|          | 0/503 [00:00<?, ?it/s]"
      ]
     },
     "metadata": {},
     "output_type": "display_data"
    },
    {
     "data": {
      "application/vnd.jupyter.widget-view+json": {
       "model_id": "d12724ec64444d50a774a53bf0abaa42",
       "version_major": 2,
       "version_minor": 0
      },
      "text/plain": [
       "  0%|          | 0/503 [00:00<?, ?it/s]"
      ]
     },
     "metadata": {},
     "output_type": "display_data"
    },
    {
     "data": {
      "application/vnd.jupyter.widget-view+json": {
       "model_id": "7b1c64546ae2446bbc0df551acef87cf",
       "version_major": 2,
       "version_minor": 0
      },
      "text/plain": [
       "  0%|          | 0/503 [00:00<?, ?it/s]"
      ]
     },
     "metadata": {},
     "output_type": "display_data"
    },
    {
     "data": {
      "application/vnd.jupyter.widget-view+json": {
       "model_id": "21e0c4b5b2db47e1981956e8427509f1",
       "version_major": 2,
       "version_minor": 0
      },
      "text/plain": [
       "  0%|          | 0/503 [00:00<?, ?it/s]"
      ]
     },
     "metadata": {},
     "output_type": "display_data"
    },
    {
     "data": {
      "application/vnd.jupyter.widget-view+json": {
       "model_id": "c83bc186e6fd4f0c8cc2d4e506e1a2f1",
       "version_major": 2,
       "version_minor": 0
      },
      "text/plain": [
       "  0%|          | 0/503 [00:00<?, ?it/s]"
      ]
     },
     "metadata": {},
     "output_type": "display_data"
    },
    {
     "data": {
      "application/vnd.jupyter.widget-view+json": {
       "model_id": "82bc82dc31fe4906b8c9a35a85069d9e",
       "version_major": 2,
       "version_minor": 0
      },
      "text/plain": [
       "  0%|          | 0/503 [00:00<?, ?it/s]"
      ]
     },
     "metadata": {},
     "output_type": "display_data"
    },
    {
     "ename": "KeyboardInterrupt",
     "evalue": "",
     "output_type": "error",
     "traceback": [
      "\u001b[0;31m---------------------------------------------------------------------------\u001b[0m",
      "\u001b[0;31mKeyboardInterrupt\u001b[0m                         Traceback (most recent call last)",
      "Cell \u001b[0;32mIn[199], line 42\u001b[0m, in \u001b[0;36mget_valid_pct_list\u001b[0;34m(res_dict, res_dict_agg, assume_date)\u001b[0m\n\u001b[1;32m     41\u001b[0m \u001b[38;5;28;01mtry\u001b[39;00m:\n\u001b[0;32m---> 42\u001b[0m     res_df \u001b[38;5;241m=\u001b[39m pd\u001b[38;5;241m.\u001b[39mDataFrame()\u001b[38;5;241m.\u001b[39mfrom_records(\u001b[43mrequests\u001b[49m\u001b[38;5;241;43m.\u001b[39;49m\u001b[43mget\u001b[49m\u001b[43m(\u001b[49m\u001b[43mquery_string\u001b[49m\u001b[43m)\u001b[49m\u001b[38;5;241m.\u001b[39mjson()[\u001b[38;5;124m'\u001b[39m\u001b[38;5;124mresults\u001b[39m\u001b[38;5;124m'\u001b[39m])\n\u001b[1;32m     43\u001b[0m \u001b[38;5;28;01mexcept\u001b[39;00m:\n",
      "File \u001b[0;32m~/miniconda3/envs/gpt/lib/python3.9/site-packages/requests/api.py:73\u001b[0m, in \u001b[0;36mget\u001b[0;34m(url, params, **kwargs)\u001b[0m\n\u001b[1;32m     63\u001b[0m \u001b[38;5;250m\u001b[39m\u001b[38;5;124mr\u001b[39m\u001b[38;5;124;03m\"\"\"Sends a GET request.\u001b[39;00m\n\u001b[1;32m     64\u001b[0m \n\u001b[1;32m     65\u001b[0m \u001b[38;5;124;03m:param url: URL for the new :class:`Request` object.\u001b[39;00m\n\u001b[0;32m   (...)\u001b[0m\n\u001b[1;32m     70\u001b[0m \u001b[38;5;124;03m:rtype: requests.Response\u001b[39;00m\n\u001b[1;32m     71\u001b[0m \u001b[38;5;124;03m\"\"\"\u001b[39;00m\n\u001b[0;32m---> 73\u001b[0m \u001b[38;5;28;01mreturn\u001b[39;00m \u001b[43mrequest\u001b[49m\u001b[43m(\u001b[49m\u001b[38;5;124;43m\"\u001b[39;49m\u001b[38;5;124;43mget\u001b[39;49m\u001b[38;5;124;43m\"\u001b[39;49m\u001b[43m,\u001b[49m\u001b[43m \u001b[49m\u001b[43murl\u001b[49m\u001b[43m,\u001b[49m\u001b[43m \u001b[49m\u001b[43mparams\u001b[49m\u001b[38;5;241;43m=\u001b[39;49m\u001b[43mparams\u001b[49m\u001b[43m,\u001b[49m\u001b[43m \u001b[49m\u001b[38;5;241;43m*\u001b[39;49m\u001b[38;5;241;43m*\u001b[39;49m\u001b[43mkwargs\u001b[49m\u001b[43m)\u001b[49m\n",
      "File \u001b[0;32m~/miniconda3/envs/gpt/lib/python3.9/site-packages/requests/api.py:59\u001b[0m, in \u001b[0;36mrequest\u001b[0;34m(method, url, **kwargs)\u001b[0m\n\u001b[1;32m     58\u001b[0m \u001b[38;5;28;01mwith\u001b[39;00m sessions\u001b[38;5;241m.\u001b[39mSession() \u001b[38;5;28;01mas\u001b[39;00m session:\n\u001b[0;32m---> 59\u001b[0m     \u001b[38;5;28;01mreturn\u001b[39;00m \u001b[43msession\u001b[49m\u001b[38;5;241;43m.\u001b[39;49m\u001b[43mrequest\u001b[49m\u001b[43m(\u001b[49m\u001b[43mmethod\u001b[49m\u001b[38;5;241;43m=\u001b[39;49m\u001b[43mmethod\u001b[49m\u001b[43m,\u001b[49m\u001b[43m \u001b[49m\u001b[43murl\u001b[49m\u001b[38;5;241;43m=\u001b[39;49m\u001b[43murl\u001b[49m\u001b[43m,\u001b[49m\u001b[43m \u001b[49m\u001b[38;5;241;43m*\u001b[39;49m\u001b[38;5;241;43m*\u001b[39;49m\u001b[43mkwargs\u001b[49m\u001b[43m)\u001b[49m\n",
      "File \u001b[0;32m~/miniconda3/envs/gpt/lib/python3.9/site-packages/requests/sessions.py:587\u001b[0m, in \u001b[0;36mSession.request\u001b[0;34m(self, method, url, params, data, headers, cookies, files, auth, timeout, allow_redirects, proxies, hooks, stream, verify, cert, json)\u001b[0m\n\u001b[1;32m    586\u001b[0m send_kwargs\u001b[38;5;241m.\u001b[39mupdate(settings)\n\u001b[0;32m--> 587\u001b[0m resp \u001b[38;5;241m=\u001b[39m \u001b[38;5;28;43mself\u001b[39;49m\u001b[38;5;241;43m.\u001b[39;49m\u001b[43msend\u001b[49m\u001b[43m(\u001b[49m\u001b[43mprep\u001b[49m\u001b[43m,\u001b[49m\u001b[43m \u001b[49m\u001b[38;5;241;43m*\u001b[39;49m\u001b[38;5;241;43m*\u001b[39;49m\u001b[43msend_kwargs\u001b[49m\u001b[43m)\u001b[49m\n\u001b[1;32m    589\u001b[0m \u001b[38;5;28;01mreturn\u001b[39;00m resp\n",
      "File \u001b[0;32m~/miniconda3/envs/gpt/lib/python3.9/site-packages/requests/sessions.py:701\u001b[0m, in \u001b[0;36mSession.send\u001b[0;34m(self, request, **kwargs)\u001b[0m\n\u001b[1;32m    700\u001b[0m \u001b[38;5;66;03m# Send the request\u001b[39;00m\n\u001b[0;32m--> 701\u001b[0m r \u001b[38;5;241m=\u001b[39m \u001b[43madapter\u001b[49m\u001b[38;5;241;43m.\u001b[39;49m\u001b[43msend\u001b[49m\u001b[43m(\u001b[49m\u001b[43mrequest\u001b[49m\u001b[43m,\u001b[49m\u001b[43m \u001b[49m\u001b[38;5;241;43m*\u001b[39;49m\u001b[38;5;241;43m*\u001b[39;49m\u001b[43mkwargs\u001b[49m\u001b[43m)\u001b[49m\n\u001b[1;32m    703\u001b[0m \u001b[38;5;66;03m# Total elapsed time of the request (approximately)\u001b[39;00m\n",
      "File \u001b[0;32m~/miniconda3/envs/gpt/lib/python3.9/site-packages/requests/adapters.py:489\u001b[0m, in \u001b[0;36mHTTPAdapter.send\u001b[0;34m(self, request, stream, timeout, verify, cert, proxies)\u001b[0m\n\u001b[1;32m    488\u001b[0m \u001b[38;5;28;01mif\u001b[39;00m \u001b[38;5;129;01mnot\u001b[39;00m chunked:\n\u001b[0;32m--> 489\u001b[0m     resp \u001b[38;5;241m=\u001b[39m \u001b[43mconn\u001b[49m\u001b[38;5;241;43m.\u001b[39;49m\u001b[43murlopen\u001b[49m\u001b[43m(\u001b[49m\n\u001b[1;32m    490\u001b[0m \u001b[43m        \u001b[49m\u001b[43mmethod\u001b[49m\u001b[38;5;241;43m=\u001b[39;49m\u001b[43mrequest\u001b[49m\u001b[38;5;241;43m.\u001b[39;49m\u001b[43mmethod\u001b[49m\u001b[43m,\u001b[49m\n\u001b[1;32m    491\u001b[0m \u001b[43m        \u001b[49m\u001b[43murl\u001b[49m\u001b[38;5;241;43m=\u001b[39;49m\u001b[43murl\u001b[49m\u001b[43m,\u001b[49m\n\u001b[1;32m    492\u001b[0m \u001b[43m        \u001b[49m\u001b[43mbody\u001b[49m\u001b[38;5;241;43m=\u001b[39;49m\u001b[43mrequest\u001b[49m\u001b[38;5;241;43m.\u001b[39;49m\u001b[43mbody\u001b[49m\u001b[43m,\u001b[49m\n\u001b[1;32m    493\u001b[0m \u001b[43m        \u001b[49m\u001b[43mheaders\u001b[49m\u001b[38;5;241;43m=\u001b[39;49m\u001b[43mrequest\u001b[49m\u001b[38;5;241;43m.\u001b[39;49m\u001b[43mheaders\u001b[49m\u001b[43m,\u001b[49m\n\u001b[1;32m    494\u001b[0m \u001b[43m        \u001b[49m\u001b[43mredirect\u001b[49m\u001b[38;5;241;43m=\u001b[39;49m\u001b[38;5;28;43;01mFalse\u001b[39;49;00m\u001b[43m,\u001b[49m\n\u001b[1;32m    495\u001b[0m \u001b[43m        \u001b[49m\u001b[43massert_same_host\u001b[49m\u001b[38;5;241;43m=\u001b[39;49m\u001b[38;5;28;43;01mFalse\u001b[39;49;00m\u001b[43m,\u001b[49m\n\u001b[1;32m    496\u001b[0m \u001b[43m        \u001b[49m\u001b[43mpreload_content\u001b[49m\u001b[38;5;241;43m=\u001b[39;49m\u001b[38;5;28;43;01mFalse\u001b[39;49;00m\u001b[43m,\u001b[49m\n\u001b[1;32m    497\u001b[0m \u001b[43m        \u001b[49m\u001b[43mdecode_content\u001b[49m\u001b[38;5;241;43m=\u001b[39;49m\u001b[38;5;28;43;01mFalse\u001b[39;49;00m\u001b[43m,\u001b[49m\n\u001b[1;32m    498\u001b[0m \u001b[43m        \u001b[49m\u001b[43mretries\u001b[49m\u001b[38;5;241;43m=\u001b[39;49m\u001b[38;5;28;43mself\u001b[39;49m\u001b[38;5;241;43m.\u001b[39;49m\u001b[43mmax_retries\u001b[49m\u001b[43m,\u001b[49m\n\u001b[1;32m    499\u001b[0m \u001b[43m        \u001b[49m\u001b[43mtimeout\u001b[49m\u001b[38;5;241;43m=\u001b[39;49m\u001b[43mtimeout\u001b[49m\u001b[43m,\u001b[49m\n\u001b[1;32m    500\u001b[0m \u001b[43m    \u001b[49m\u001b[43m)\u001b[49m\n\u001b[1;32m    502\u001b[0m \u001b[38;5;66;03m# Send the request.\u001b[39;00m\n\u001b[1;32m    503\u001b[0m \u001b[38;5;28;01melse\u001b[39;00m:\n",
      "File \u001b[0;32m~/miniconda3/envs/gpt/lib/python3.9/site-packages/urllib3/connectionpool.py:703\u001b[0m, in \u001b[0;36mHTTPConnectionPool.urlopen\u001b[0;34m(self, method, url, body, headers, retries, redirect, assert_same_host, timeout, pool_timeout, release_conn, chunked, body_pos, **response_kw)\u001b[0m\n\u001b[1;32m    702\u001b[0m \u001b[38;5;66;03m# Make the request on the httplib connection object.\u001b[39;00m\n\u001b[0;32m--> 703\u001b[0m httplib_response \u001b[38;5;241m=\u001b[39m \u001b[38;5;28;43mself\u001b[39;49m\u001b[38;5;241;43m.\u001b[39;49m\u001b[43m_make_request\u001b[49m\u001b[43m(\u001b[49m\n\u001b[1;32m    704\u001b[0m \u001b[43m    \u001b[49m\u001b[43mconn\u001b[49m\u001b[43m,\u001b[49m\n\u001b[1;32m    705\u001b[0m \u001b[43m    \u001b[49m\u001b[43mmethod\u001b[49m\u001b[43m,\u001b[49m\n\u001b[1;32m    706\u001b[0m \u001b[43m    \u001b[49m\u001b[43murl\u001b[49m\u001b[43m,\u001b[49m\n\u001b[1;32m    707\u001b[0m \u001b[43m    \u001b[49m\u001b[43mtimeout\u001b[49m\u001b[38;5;241;43m=\u001b[39;49m\u001b[43mtimeout_obj\u001b[49m\u001b[43m,\u001b[49m\n\u001b[1;32m    708\u001b[0m \u001b[43m    \u001b[49m\u001b[43mbody\u001b[49m\u001b[38;5;241;43m=\u001b[39;49m\u001b[43mbody\u001b[49m\u001b[43m,\u001b[49m\n\u001b[1;32m    709\u001b[0m \u001b[43m    \u001b[49m\u001b[43mheaders\u001b[49m\u001b[38;5;241;43m=\u001b[39;49m\u001b[43mheaders\u001b[49m\u001b[43m,\u001b[49m\n\u001b[1;32m    710\u001b[0m \u001b[43m    \u001b[49m\u001b[43mchunked\u001b[49m\u001b[38;5;241;43m=\u001b[39;49m\u001b[43mchunked\u001b[49m\u001b[43m,\u001b[49m\n\u001b[1;32m    711\u001b[0m \u001b[43m\u001b[49m\u001b[43m)\u001b[49m\n\u001b[1;32m    713\u001b[0m \u001b[38;5;66;03m# If we're going to release the connection in ``finally:``, then\u001b[39;00m\n\u001b[1;32m    714\u001b[0m \u001b[38;5;66;03m# the response doesn't need to know about the connection. Otherwise\u001b[39;00m\n\u001b[1;32m    715\u001b[0m \u001b[38;5;66;03m# it will also try to release it and we'll have a double-release\u001b[39;00m\n\u001b[1;32m    716\u001b[0m \u001b[38;5;66;03m# mess.\u001b[39;00m\n",
      "File \u001b[0;32m~/miniconda3/envs/gpt/lib/python3.9/site-packages/urllib3/connectionpool.py:386\u001b[0m, in \u001b[0;36mHTTPConnectionPool._make_request\u001b[0;34m(self, conn, method, url, timeout, chunked, **httplib_request_kw)\u001b[0m\n\u001b[1;32m    385\u001b[0m \u001b[38;5;28;01mtry\u001b[39;00m:\n\u001b[0;32m--> 386\u001b[0m     \u001b[38;5;28;43mself\u001b[39;49m\u001b[38;5;241;43m.\u001b[39;49m\u001b[43m_validate_conn\u001b[49m\u001b[43m(\u001b[49m\u001b[43mconn\u001b[49m\u001b[43m)\u001b[49m\n\u001b[1;32m    387\u001b[0m \u001b[38;5;28;01mexcept\u001b[39;00m (SocketTimeout, BaseSSLError) \u001b[38;5;28;01mas\u001b[39;00m e:\n\u001b[1;32m    388\u001b[0m     \u001b[38;5;66;03m# Py2 raises this as a BaseSSLError, Py3 raises it as socket timeout.\u001b[39;00m\n",
      "File \u001b[0;32m~/miniconda3/envs/gpt/lib/python3.9/site-packages/urllib3/connectionpool.py:1042\u001b[0m, in \u001b[0;36mHTTPSConnectionPool._validate_conn\u001b[0;34m(self, conn)\u001b[0m\n\u001b[1;32m   1041\u001b[0m \u001b[38;5;28;01mif\u001b[39;00m \u001b[38;5;129;01mnot\u001b[39;00m \u001b[38;5;28mgetattr\u001b[39m(conn, \u001b[38;5;124m\"\u001b[39m\u001b[38;5;124msock\u001b[39m\u001b[38;5;124m\"\u001b[39m, \u001b[38;5;28;01mNone\u001b[39;00m):  \u001b[38;5;66;03m# AppEngine might not have  `.sock`\u001b[39;00m\n\u001b[0;32m-> 1042\u001b[0m     \u001b[43mconn\u001b[49m\u001b[38;5;241;43m.\u001b[39;49m\u001b[43mconnect\u001b[49m\u001b[43m(\u001b[49m\u001b[43m)\u001b[49m\n\u001b[1;32m   1044\u001b[0m \u001b[38;5;28;01mif\u001b[39;00m \u001b[38;5;129;01mnot\u001b[39;00m conn\u001b[38;5;241m.\u001b[39mis_verified:\n",
      "File \u001b[0;32m~/miniconda3/envs/gpt/lib/python3.9/site-packages/urllib3/connection.py:363\u001b[0m, in \u001b[0;36mHTTPSConnection.connect\u001b[0;34m(self)\u001b[0m\n\u001b[1;32m    361\u001b[0m \u001b[38;5;28;01mdef\u001b[39;00m \u001b[38;5;21mconnect\u001b[39m(\u001b[38;5;28mself\u001b[39m):\n\u001b[1;32m    362\u001b[0m     \u001b[38;5;66;03m# Add certificate verification\u001b[39;00m\n\u001b[0;32m--> 363\u001b[0m     \u001b[38;5;28mself\u001b[39m\u001b[38;5;241m.\u001b[39msock \u001b[38;5;241m=\u001b[39m conn \u001b[38;5;241m=\u001b[39m \u001b[38;5;28;43mself\u001b[39;49m\u001b[38;5;241;43m.\u001b[39;49m\u001b[43m_new_conn\u001b[49m\u001b[43m(\u001b[49m\u001b[43m)\u001b[49m\n\u001b[1;32m    364\u001b[0m     hostname \u001b[38;5;241m=\u001b[39m \u001b[38;5;28mself\u001b[39m\u001b[38;5;241m.\u001b[39mhost\n",
      "File \u001b[0;32m~/miniconda3/envs/gpt/lib/python3.9/site-packages/urllib3/connection.py:174\u001b[0m, in \u001b[0;36mHTTPConnection._new_conn\u001b[0;34m(self)\u001b[0m\n\u001b[1;32m    173\u001b[0m \u001b[38;5;28;01mtry\u001b[39;00m:\n\u001b[0;32m--> 174\u001b[0m     conn \u001b[38;5;241m=\u001b[39m \u001b[43mconnection\u001b[49m\u001b[38;5;241;43m.\u001b[39;49m\u001b[43mcreate_connection\u001b[49m\u001b[43m(\u001b[49m\n\u001b[1;32m    175\u001b[0m \u001b[43m        \u001b[49m\u001b[43m(\u001b[49m\u001b[38;5;28;43mself\u001b[39;49m\u001b[38;5;241;43m.\u001b[39;49m\u001b[43m_dns_host\u001b[49m\u001b[43m,\u001b[49m\u001b[43m \u001b[49m\u001b[38;5;28;43mself\u001b[39;49m\u001b[38;5;241;43m.\u001b[39;49m\u001b[43mport\u001b[49m\u001b[43m)\u001b[49m\u001b[43m,\u001b[49m\u001b[43m \u001b[49m\u001b[38;5;28;43mself\u001b[39;49m\u001b[38;5;241;43m.\u001b[39;49m\u001b[43mtimeout\u001b[49m\u001b[43m,\u001b[49m\u001b[43m \u001b[49m\u001b[38;5;241;43m*\u001b[39;49m\u001b[38;5;241;43m*\u001b[39;49m\u001b[43mextra_kw\u001b[49m\n\u001b[1;32m    176\u001b[0m \u001b[43m    \u001b[49m\u001b[43m)\u001b[49m\n\u001b[1;32m    178\u001b[0m \u001b[38;5;28;01mexcept\u001b[39;00m SocketTimeout:\n",
      "File \u001b[0;32m~/miniconda3/envs/gpt/lib/python3.9/site-packages/urllib3/util/connection.py:85\u001b[0m, in \u001b[0;36mcreate_connection\u001b[0;34m(address, timeout, source_address, socket_options)\u001b[0m\n\u001b[1;32m     84\u001b[0m     sock\u001b[38;5;241m.\u001b[39mbind(source_address)\n\u001b[0;32m---> 85\u001b[0m \u001b[43msock\u001b[49m\u001b[38;5;241;43m.\u001b[39;49m\u001b[43mconnect\u001b[49m\u001b[43m(\u001b[49m\u001b[43msa\u001b[49m\u001b[43m)\u001b[49m\n\u001b[1;32m     86\u001b[0m \u001b[38;5;28;01mreturn\u001b[39;00m sock\n",
      "\u001b[0;31mKeyboardInterrupt\u001b[0m: ",
      "\nDuring handling of the above exception, another exception occurred:\n",
      "\u001b[0;31mKeyboardInterrupt\u001b[0m                         Traceback (most recent call last)",
      "Cell \u001b[0;32mIn[200], line 15\u001b[0m\n\u001b[1;32m     13\u001b[0m     \u001b[38;5;28;01mcontinue\u001b[39;00m\n\u001b[1;32m     14\u001b[0m assume_date \u001b[38;5;241m=\u001b[39m datetime\u001b[38;5;241m.\u001b[39mdatetime(\u001b[38;5;241m2024\u001b[39m, \u001b[38;5;241m3\u001b[39m, \u001b[38;5;241m1\u001b[39m, h ,m)\n\u001b[0;32m---> 15\u001b[0m pct_list_positive, pct_list_negative \u001b[38;5;241m=\u001b[39m \u001b[43mget_valid_pct_list\u001b[49m\u001b[43m(\u001b[49m\u001b[43mres_dict\u001b[49m\u001b[43m,\u001b[49m\u001b[43mres_dict_agg\u001b[49m\u001b[43m,\u001b[49m\u001b[43m \u001b[49m\u001b[43massume_date\u001b[49m\u001b[43m \u001b[49m\u001b[38;5;241;43m=\u001b[39;49m\u001b[43m \u001b[49m\u001b[43massume_date\u001b[49m\u001b[43m)\u001b[49m\n\u001b[1;32m     16\u001b[0m v_change_top_10_positive, n_change_top_10_positive \u001b[38;5;241m=\u001b[39m generate_top_k_stock(\u001b[38;5;241m10\u001b[39m, pct_list_positive)\n\u001b[1;32m     17\u001b[0m v_change_top_10_negative, n_change_top_10_negative \u001b[38;5;241m=\u001b[39m generate_top_k_stock(\u001b[38;5;241m10\u001b[39m, pct_list_negative)\n",
      "Cell \u001b[0;32mIn[199], line 44\u001b[0m, in \u001b[0;36mget_valid_pct_list\u001b[0;34m(res_dict, res_dict_agg, assume_date)\u001b[0m\n\u001b[1;32m     42\u001b[0m     res_df \u001b[38;5;241m=\u001b[39m pd\u001b[38;5;241m.\u001b[39mDataFrame()\u001b[38;5;241m.\u001b[39mfrom_records(requests\u001b[38;5;241m.\u001b[39mget(query_string)\u001b[38;5;241m.\u001b[39mjson()[\u001b[38;5;124m'\u001b[39m\u001b[38;5;124mresults\u001b[39m\u001b[38;5;124m'\u001b[39m])\n\u001b[1;32m     43\u001b[0m \u001b[38;5;28;01mexcept\u001b[39;00m:\n\u001b[0;32m---> 44\u001b[0m     \u001b[43mtime\u001b[49m\u001b[38;5;241;43m.\u001b[39;49m\u001b[43msleep\u001b[49m\u001b[43m(\u001b[49m\u001b[38;5;241;43m1\u001b[39;49m\u001b[43m)\u001b[49m\n\u001b[1;32m     45\u001b[0m     \u001b[38;5;28;01mcontinue\u001b[39;00m\n\u001b[1;32m     46\u001b[0m res_df[\u001b[38;5;124m'\u001b[39m\u001b[38;5;124mdatetime\u001b[39m\u001b[38;5;124m'\u001b[39m] \u001b[38;5;241m=\u001b[39m res_df[\u001b[38;5;124m'\u001b[39m\u001b[38;5;124mt\u001b[39m\u001b[38;5;124m'\u001b[39m]\u001b[38;5;241m.\u001b[39mapply(\u001b[38;5;28;01mlambda\u001b[39;00m x: datetime\u001b[38;5;241m.\u001b[39mdatetime\u001b[38;5;241m.\u001b[39mfromtimestamp(x \u001b[38;5;241m/\u001b[39m \u001b[38;5;241m1000\u001b[39m, timezone(\u001b[38;5;124m'\u001b[39m\u001b[38;5;124mUS/Eastern\u001b[39m\u001b[38;5;124m'\u001b[39m))\u001b[38;5;241m.\u001b[39mstrftime(\u001b[38;5;124m'\u001b[39m\u001b[38;5;124m%\u001b[39m\u001b[38;5;124mY-\u001b[39m\u001b[38;5;124m%\u001b[39m\u001b[38;5;124mm-\u001b[39m\u001b[38;5;132;01m%d\u001b[39;00m\u001b[38;5;124m-\u001b[39m\u001b[38;5;124m%\u001b[39m\u001b[38;5;124mH:\u001b[39m\u001b[38;5;124m%\u001b[39m\u001b[38;5;124mM:\u001b[39m\u001b[38;5;124m%\u001b[39m\u001b[38;5;124mS\u001b[39m\u001b[38;5;124m'\u001b[39m))\n",
      "\u001b[0;31mKeyboardInterrupt\u001b[0m: "
     ]
    }
   ],
   "source": [
    "import datetime\n",
    "import time\n",
    "\n",
    "def send_message():\n",
    "    print(f\"Message sent at {datetime.datetime.now()}\")\n",
    "\n",
    "# while True:\n",
    "for h in range(6, 14):\n",
    "    for m in [16,46]:\n",
    "        if h == 6 and m == 16:\n",
    "            continue\n",
    "        if h == 13 and m == 46:\n",
    "            continue\n",
    "        assume_date = datetime.datetime(2024, 3, 1, h ,m)\n",
    "        pct_list_positive, pct_list_negative = get_valid_pct_list(res_dict,res_dict_agg, assume_date = assume_date)\n",
    "        v_change_top_10_positive, n_change_top_10_positive = generate_top_k_stock(10, pct_list_positive)\n",
    "        v_change_top_10_negative, n_change_top_10_negative = generate_top_k_stock(10, pct_list_negative)\n",
    "        title = \"[TopVolChange]: Top List At {}\".format(assume_date.strftime('%H:%M(PST) at %m/%d/%Y'))\n",
    "        final_list_positive = [(\"Ticker\",\"Volumn\",\"Trade\",\"VolChangePct\",\"#TradeChangePct\",\"ReturnInLast30Min\")]\n",
    "        final_list_positive += [i for i in v_change_top_10_positive if i[0] in list(set([i[0] for i in v_change_top_10_positive]).intersection([i[0] for i in n_change_top_10_positive]))]\n",
    "\n",
    "        final_list_negative = [(\"Ticker\",\"Volumn\",\"Trade\",\"VolChangePct\",\"#TradeChangePct\",\"ReturnInLast30Min\")]\n",
    "        final_list_negative += [i for i in v_change_top_10_negative if i[0] in list(set([i[0] for i in v_change_top_10_negative]).intersection([i[0] for i in n_change_top_10_negative]))]\n",
    "\n",
    "        html_positive = get_pretty_html(final_list_positive)\n",
    "        html_negative = get_pretty_html(final_list_negative)\n",
    "        html = html_positive + '<br/><br/>' + html_negative\n",
    "        send_simple_message(title, html)\n",
    "\n",
    "    \n",
    "    \n",
    "#     date = datetime.datetime(2024, 3, 1, h ,30)\n",
    "#     unix_timestamp = datetime.datetime.timestamp(date) * 1000\n",
    "#     pct_list = get_valid_pct_list(res_dict,res_dict_agg, assume_time = unix_timestamp)\n",
    "#     v_change_top_10, n_change_top_10 = generate_top_k_stock(10, pct_list)\n",
    "#     title = \"Top10ListAt{}\".format(date.strftime('%m/%d/%Y:%H:%M(PST)'))\n",
    "#     text_1 = '\\n'.join(['\\t'.join([str(_) for _ in i]) for i in v_change_top_10])\n",
    "#     text_2 = '\\n'.join(['\\t'.join([str(_) for _ in i]) for i in n_change_top_10])\n",
    "#     text = \"Top 10 List of Volume at this hour: \\n\" + text_1 + '\\n' + \"Top 10 List of Trade Number at this hour: \\n\" + text_2\n",
    "#     send_simple_message(title, text)\n",
    "    "
   ]
  },
  {
   "cell_type": "code",
   "execution_count": 202,
   "id": "ce89db4f",
   "metadata": {},
   "outputs": [],
   "source": [
    "def is_quarter_hour():\n",
    "    now = datetime.datetime.now()\n",
    "    return now.minute in {16, 46}\n",
    "\n",
    "# Function to check if the current time is 1 am\n",
    "def is_1_am():\n",
    "    now = datetime.datetime.now()\n",
    "    return now.hour == 1 and now.minute == 0  # Check if it's exactly 1 am"
   ]
  },
  {
   "cell_type": "code",
   "execution_count": 203,
   "id": "78237e3a",
   "metadata": {},
   "outputs": [
    {
     "data": {
      "application/vnd.jupyter.widget-view+json": {
       "model_id": "5e8f5c22e71f49a7839f58a243518fc9",
       "version_major": 2,
       "version_minor": 0
      },
      "text/plain": [
       "  0%|          | 0/503 [00:00<?, ?it/s]"
      ]
     },
     "metadata": {},
     "output_type": "display_data"
    },
    {
     "data": {
      "application/vnd.jupyter.widget-view+json": {
       "model_id": "f25e0305829f4295a4873ad7e96fd1bc",
       "version_major": 2,
       "version_minor": 0
      },
      "text/plain": [
       "  0%|          | 0/503 [00:00<?, ?it/s]"
      ]
     },
     "metadata": {},
     "output_type": "display_data"
    },
    {
     "data": {
      "application/vnd.jupyter.widget-view+json": {
       "model_id": "efa28d00ef7f4447a51b2f158f2fb901",
       "version_major": 2,
       "version_minor": 0
      },
      "text/plain": [
       "  0%|          | 0/503 [00:00<?, ?it/s]"
      ]
     },
     "metadata": {},
     "output_type": "display_data"
    },
    {
     "data": {
      "application/vnd.jupyter.widget-view+json": {
       "model_id": "25eb532979ec43fdac3f17d00b29c5b8",
       "version_major": 2,
       "version_minor": 0
      },
      "text/plain": [
       "  0%|          | 0/503 [00:00<?, ?it/s]"
      ]
     },
     "metadata": {},
     "output_type": "display_data"
    },
    {
     "data": {
      "application/vnd.jupyter.widget-view+json": {
       "model_id": "061056fdebf142618a13acc6bff55a62",
       "version_major": 2,
       "version_minor": 0
      },
      "text/plain": [
       "  0%|          | 0/503 [00:00<?, ?it/s]"
      ]
     },
     "metadata": {},
     "output_type": "display_data"
    },
    {
     "data": {
      "application/vnd.jupyter.widget-view+json": {
       "model_id": "5a2c561ea75845ac917ac87cf134ae98",
       "version_major": 2,
       "version_minor": 0
      },
      "text/plain": [
       "  0%|          | 0/503 [00:00<?, ?it/s]"
      ]
     },
     "metadata": {},
     "output_type": "display_data"
    },
    {
     "data": {
      "application/vnd.jupyter.widget-view+json": {
       "model_id": "91ea406b403a426599b58082efd452ce",
       "version_major": 2,
       "version_minor": 0
      },
      "text/plain": [
       "  0%|          | 0/503 [00:00<?, ?it/s]"
      ]
     },
     "metadata": {},
     "output_type": "display_data"
    },
    {
     "data": {
      "application/vnd.jupyter.widget-view+json": {
       "model_id": "dd7dd3289e2543da8bbfa6a3df53481b",
       "version_major": 2,
       "version_minor": 0
      },
      "text/plain": [
       "  0%|          | 0/503 [00:00<?, ?it/s]"
      ]
     },
     "metadata": {},
     "output_type": "display_data"
    },
    {
     "data": {
      "application/vnd.jupyter.widget-view+json": {
       "model_id": "0396c1ef053443bb845e3b5de83bb8fd",
       "version_major": 2,
       "version_minor": 0
      },
      "text/plain": [
       "  0%|          | 0/503 [00:00<?, ?it/s]"
      ]
     },
     "metadata": {},
     "output_type": "display_data"
    },
    {
     "data": {
      "application/vnd.jupyter.widget-view+json": {
       "model_id": "3d054cfa508a4099bbfbd2313c8c2afe",
       "version_major": 2,
       "version_minor": 0
      },
      "text/plain": [
       "  0%|          | 0/503 [00:00<?, ?it/s]"
      ]
     },
     "metadata": {},
     "output_type": "display_data"
    },
    {
     "data": {
      "application/vnd.jupyter.widget-view+json": {
       "model_id": "b73c99b8cc454e15a2b3e60ddcccb5fd",
       "version_major": 2,
       "version_minor": 0
      },
      "text/plain": [
       "  0%|          | 0/503 [00:00<?, ?it/s]"
      ]
     },
     "metadata": {},
     "output_type": "display_data"
    },
    {
     "data": {
      "application/vnd.jupyter.widget-view+json": {
       "model_id": "4e789da7ebdf44868610759583d26ed1",
       "version_major": 2,
       "version_minor": 0
      },
      "text/plain": [
       "  0%|          | 0/503 [00:00<?, ?it/s]"
      ]
     },
     "metadata": {},
     "output_type": "display_data"
    },
    {
     "data": {
      "application/vnd.jupyter.widget-view+json": {
       "model_id": "c93fb84209fb4352a800fbecc0a9b0e5",
       "version_major": 2,
       "version_minor": 0
      },
      "text/plain": [
       "  0%|          | 0/503 [00:00<?, ?it/s]"
      ]
     },
     "metadata": {},
     "output_type": "display_data"
    },
    {
     "data": {
      "application/vnd.jupyter.widget-view+json": {
       "model_id": "d58e240c05164e8da654ffedde711847",
       "version_major": 2,
       "version_minor": 0
      },
      "text/plain": [
       "  0%|          | 0/503 [00:00<?, ?it/s]"
      ]
     },
     "metadata": {},
     "output_type": "display_data"
    },
    {
     "data": {
      "application/vnd.jupyter.widget-view+json": {
       "model_id": "9d5ab81321a4489face936de6e2e4742",
       "version_major": 2,
       "version_minor": 0
      },
      "text/plain": [
       "  0%|          | 0/503 [00:00<?, ?it/s]"
      ]
     },
     "metadata": {},
     "output_type": "display_data"
    },
    {
     "data": {
      "application/vnd.jupyter.widget-view+json": {
       "model_id": "5eb7ee69fa114798a5f8c75996239b4a",
       "version_major": 2,
       "version_minor": 0
      },
      "text/plain": [
       "  0%|          | 0/503 [00:00<?, ?it/s]"
      ]
     },
     "metadata": {},
     "output_type": "display_data"
    },
    {
     "data": {
      "application/vnd.jupyter.widget-view+json": {
       "model_id": "34986389f2034c3281a8cae40a784795",
       "version_major": 2,
       "version_minor": 0
      },
      "text/plain": [
       "  0%|          | 0/503 [00:00<?, ?it/s]"
      ]
     },
     "metadata": {},
     "output_type": "display_data"
    },
    {
     "data": {
      "application/vnd.jupyter.widget-view+json": {
       "model_id": "6d1c5c63a348413d8adfdbe31b717d46",
       "version_major": 2,
       "version_minor": 0
      },
      "text/plain": [
       "  0%|          | 0/503 [00:00<?, ?it/s]"
      ]
     },
     "metadata": {},
     "output_type": "display_data"
    },
    {
     "data": {
      "application/vnd.jupyter.widget-view+json": {
       "model_id": "7c29865961744c3b9dae04b3afca9945",
       "version_major": 2,
       "version_minor": 0
      },
      "text/plain": [
       "  0%|          | 0/503 [00:00<?, ?it/s]"
      ]
     },
     "metadata": {},
     "output_type": "display_data"
    },
    {
     "data": {
      "application/vnd.jupyter.widget-view+json": {
       "model_id": "ecc7afc1661a4b3fbe91ef92263362b2",
       "version_major": 2,
       "version_minor": 0
      },
      "text/plain": [
       "  0%|          | 0/503 [00:00<?, ?it/s]"
      ]
     },
     "metadata": {},
     "output_type": "display_data"
    },
    {
     "data": {
      "application/vnd.jupyter.widget-view+json": {
       "model_id": "b96dcb2718ae497681133bf2c9f48665",
       "version_major": 2,
       "version_minor": 0
      },
      "text/plain": [
       "  0%|          | 0/503 [00:00<?, ?it/s]"
      ]
     },
     "metadata": {},
     "output_type": "display_data"
    },
    {
     "data": {
      "application/vnd.jupyter.widget-view+json": {
       "model_id": "0e1f673a9c0c4bf1a8bdef3e79b96a6b",
       "version_major": 2,
       "version_minor": 0
      },
      "text/plain": [
       "  0%|          | 0/503 [00:00<?, ?it/s]"
      ]
     },
     "metadata": {},
     "output_type": "display_data"
    },
    {
     "data": {
      "application/vnd.jupyter.widget-view+json": {
       "model_id": "a092b11f104f4fca963875ddbb9e88c8",
       "version_major": 2,
       "version_minor": 0
      },
      "text/plain": [
       "  0%|          | 0/503 [00:00<?, ?it/s]"
      ]
     },
     "metadata": {},
     "output_type": "display_data"
    },
    {
     "data": {
      "application/vnd.jupyter.widget-view+json": {
       "model_id": "36eb3425be8243b1a021323556e65032",
       "version_major": 2,
       "version_minor": 0
      },
      "text/plain": [
       "  0%|          | 0/503 [00:00<?, ?it/s]"
      ]
     },
     "metadata": {},
     "output_type": "display_data"
    },
    {
     "data": {
      "application/vnd.jupyter.widget-view+json": {
       "model_id": "323fdf27674f4417b9186e3f5e56475e",
       "version_major": 2,
       "version_minor": 0
      },
      "text/plain": [
       "  0%|          | 0/503 [00:00<?, ?it/s]"
      ]
     },
     "metadata": {},
     "output_type": "display_data"
    },
    {
     "data": {
      "application/vnd.jupyter.widget-view+json": {
       "model_id": "f544a22875804db3bc4d03c73df5d8ec",
       "version_major": 2,
       "version_minor": 0
      },
      "text/plain": [
       "  0%|          | 0/503 [00:00<?, ?it/s]"
      ]
     },
     "metadata": {},
     "output_type": "display_data"
    },
    {
     "data": {
      "application/vnd.jupyter.widget-view+json": {
       "model_id": "5a9ac7c9ec7f40edbb6ccf84a0176078",
       "version_major": 2,
       "version_minor": 0
      },
      "text/plain": [
       "  0%|          | 0/503 [00:00<?, ?it/s]"
      ]
     },
     "metadata": {},
     "output_type": "display_data"
    },
    {
     "data": {
      "application/vnd.jupyter.widget-view+json": {
       "model_id": "ce28e84018814a4e893de7319b9c3dc5",
       "version_major": 2,
       "version_minor": 0
      },
      "text/plain": [
       "  0%|          | 0/503 [00:00<?, ?it/s]"
      ]
     },
     "metadata": {},
     "output_type": "display_data"
    },
    {
     "data": {
      "application/vnd.jupyter.widget-view+json": {
       "model_id": "766a631838824c5bacc9be6b3e45c889",
       "version_major": 2,
       "version_minor": 0
      },
      "text/plain": [
       "  0%|          | 0/503 [00:00<?, ?it/s]"
      ]
     },
     "metadata": {},
     "output_type": "display_data"
    },
    {
     "data": {
      "application/vnd.jupyter.widget-view+json": {
       "model_id": "209d682b5cb34fa5b9ac1d8295af7275",
       "version_major": 2,
       "version_minor": 0
      },
      "text/plain": [
       "  0%|          | 0/503 [00:00<?, ?it/s]"
      ]
     },
     "metadata": {},
     "output_type": "display_data"
    },
    {
     "data": {
      "application/vnd.jupyter.widget-view+json": {
       "model_id": "c3d9953e0db14443a8de43abbe8f708b",
       "version_major": 2,
       "version_minor": 0
      },
      "text/plain": [
       "  0%|          | 0/503 [00:00<?, ?it/s]"
      ]
     },
     "metadata": {},
     "output_type": "display_data"
    },
    {
     "data": {
      "application/vnd.jupyter.widget-view+json": {
       "model_id": "8971e5389a4f48b2996f8ad47ccb86a6",
       "version_major": 2,
       "version_minor": 0
      },
      "text/plain": [
       "  0%|          | 0/503 [00:00<?, ?it/s]"
      ]
     },
     "metadata": {},
     "output_type": "display_data"
    },
    {
     "data": {
      "application/vnd.jupyter.widget-view+json": {
       "model_id": "fb616139728f49aea5303dc4c08763de",
       "version_major": 2,
       "version_minor": 0
      },
      "text/plain": [
       "  0%|          | 0/503 [00:00<?, ?it/s]"
      ]
     },
     "metadata": {},
     "output_type": "display_data"
    },
    {
     "data": {
      "application/vnd.jupyter.widget-view+json": {
       "model_id": "05d32ed31f2b4c5d9e552c5a8f85856a",
       "version_major": 2,
       "version_minor": 0
      },
      "text/plain": [
       "  0%|          | 0/503 [00:00<?, ?it/s]"
      ]
     },
     "metadata": {},
     "output_type": "display_data"
    },
    {
     "data": {
      "application/vnd.jupyter.widget-view+json": {
       "model_id": "f77841fa49ff4debaafd8b9641b39c43",
       "version_major": 2,
       "version_minor": 0
      },
      "text/plain": [
       "  0%|          | 0/503 [00:00<?, ?it/s]"
      ]
     },
     "metadata": {},
     "output_type": "display_data"
    },
    {
     "data": {
      "application/vnd.jupyter.widget-view+json": {
       "model_id": "b9a5c63e61e948959f2c956342330995",
       "version_major": 2,
       "version_minor": 0
      },
      "text/plain": [
       "  0%|          | 0/503 [00:00<?, ?it/s]"
      ]
     },
     "metadata": {},
     "output_type": "display_data"
    },
    {
     "data": {
      "application/vnd.jupyter.widget-view+json": {
       "model_id": "d9606ceb35734804826faac70a5b0b1f",
       "version_major": 2,
       "version_minor": 0
      },
      "text/plain": [
       "  0%|          | 0/503 [00:00<?, ?it/s]"
      ]
     },
     "metadata": {},
     "output_type": "display_data"
    },
    {
     "data": {
      "application/vnd.jupyter.widget-view+json": {
       "model_id": "c290d0ef93b846509b396e90e2e93414",
       "version_major": 2,
       "version_minor": 0
      },
      "text/plain": [
       "  0%|          | 0/503 [00:00<?, ?it/s]"
      ]
     },
     "metadata": {},
     "output_type": "display_data"
    },
    {
     "data": {
      "application/vnd.jupyter.widget-view+json": {
       "model_id": "f944075f05e944ed899d913cc2cd1463",
       "version_major": 2,
       "version_minor": 0
      },
      "text/plain": [
       "  0%|          | 0/503 [00:00<?, ?it/s]"
      ]
     },
     "metadata": {},
     "output_type": "display_data"
    },
    {
     "data": {
      "application/vnd.jupyter.widget-view+json": {
       "model_id": "67c0d17db6ea46a49584c50ae21c996e",
       "version_major": 2,
       "version_minor": 0
      },
      "text/plain": [
       "  0%|          | 0/503 [00:00<?, ?it/s]"
      ]
     },
     "metadata": {},
     "output_type": "display_data"
    },
    {
     "data": {
      "application/vnd.jupyter.widget-view+json": {
       "model_id": "a7a1dfa50ead491aa2fbda759733301f",
       "version_major": 2,
       "version_minor": 0
      },
      "text/plain": [
       "  0%|          | 0/503 [00:00<?, ?it/s]"
      ]
     },
     "metadata": {},
     "output_type": "display_data"
    },
    {
     "data": {
      "application/vnd.jupyter.widget-view+json": {
       "model_id": "d297eb490baf4df6a429b7cf26a73a7b",
       "version_major": 2,
       "version_minor": 0
      },
      "text/plain": [
       "  0%|          | 0/503 [00:00<?, ?it/s]"
      ]
     },
     "metadata": {},
     "output_type": "display_data"
    },
    {
     "data": {
      "application/vnd.jupyter.widget-view+json": {
       "model_id": "dfc477dd6d0742239ac1c997e9cd7e32",
       "version_major": 2,
       "version_minor": 0
      },
      "text/plain": [
       "  0%|          | 0/503 [00:00<?, ?it/s]"
      ]
     },
     "metadata": {},
     "output_type": "display_data"
    },
    {
     "data": {
      "application/vnd.jupyter.widget-view+json": {
       "model_id": "7594534c03a546ceb955e146de13df58",
       "version_major": 2,
       "version_minor": 0
      },
      "text/plain": [
       "  0%|          | 0/503 [00:00<?, ?it/s]"
      ]
     },
     "metadata": {},
     "output_type": "display_data"
    },
    {
     "data": {
      "application/vnd.jupyter.widget-view+json": {
       "model_id": "6d3a8a5f0214405495ef8b780ca8ff47",
       "version_major": 2,
       "version_minor": 0
      },
      "text/plain": [
       "  0%|          | 0/503 [00:00<?, ?it/s]"
      ]
     },
     "metadata": {},
     "output_type": "display_data"
    },
    {
     "data": {
      "application/vnd.jupyter.widget-view+json": {
       "model_id": "daf6289be1374df68e30dfcc30f35a43",
       "version_major": 2,
       "version_minor": 0
      },
      "text/plain": [
       "  0%|          | 0/503 [00:00<?, ?it/s]"
      ]
     },
     "metadata": {},
     "output_type": "display_data"
    },
    {
     "data": {
      "application/vnd.jupyter.widget-view+json": {
       "model_id": "0f13056c2966487186db7d82dd970df5",
       "version_major": 2,
       "version_minor": 0
      },
      "text/plain": [
       "  0%|          | 0/503 [00:00<?, ?it/s]"
      ]
     },
     "metadata": {},
     "output_type": "display_data"
    },
    {
     "data": {
      "application/vnd.jupyter.widget-view+json": {
       "model_id": "1ae0f627d40444e88da3420d7b5e71b7",
       "version_major": 2,
       "version_minor": 0
      },
      "text/plain": [
       "  0%|          | 0/503 [00:00<?, ?it/s]"
      ]
     },
     "metadata": {},
     "output_type": "display_data"
    },
    {
     "data": {
      "application/vnd.jupyter.widget-view+json": {
       "model_id": "37669b6a35da4c30807d0d5458927ed4",
       "version_major": 2,
       "version_minor": 0
      },
      "text/plain": [
       "  0%|          | 0/503 [00:00<?, ?it/s]"
      ]
     },
     "metadata": {},
     "output_type": "display_data"
    },
    {
     "data": {
      "application/vnd.jupyter.widget-view+json": {
       "model_id": "4d16fc79e59d49b290ff034496df969b",
       "version_major": 2,
       "version_minor": 0
      },
      "text/plain": [
       "  0%|          | 0/503 [00:00<?, ?it/s]"
      ]
     },
     "metadata": {},
     "output_type": "display_data"
    },
    {
     "data": {
      "application/vnd.jupyter.widget-view+json": {
       "model_id": "7e47330192f1468786eb5f5c19af23e2",
       "version_major": 2,
       "version_minor": 0
      },
      "text/plain": [
       "  0%|          | 0/503 [00:00<?, ?it/s]"
      ]
     },
     "metadata": {},
     "output_type": "display_data"
    },
    {
     "data": {
      "application/vnd.jupyter.widget-view+json": {
       "model_id": "40e1ee6f27f44c419199a16b6827bc0b",
       "version_major": 2,
       "version_minor": 0
      },
      "text/plain": [
       "  0%|          | 0/503 [00:00<?, ?it/s]"
      ]
     },
     "metadata": {},
     "output_type": "display_data"
    },
    {
     "data": {
      "application/vnd.jupyter.widget-view+json": {
       "model_id": "5b2eb61e2ee041b6907c4f9e29636354",
       "version_major": 2,
       "version_minor": 0
      },
      "text/plain": [
       "  0%|          | 0/503 [00:00<?, ?it/s]"
      ]
     },
     "metadata": {},
     "output_type": "display_data"
    },
    {
     "data": {
      "application/vnd.jupyter.widget-view+json": {
       "model_id": "bcb65e3813624b86a3579a9a8c311061",
       "version_major": 2,
       "version_minor": 0
      },
      "text/plain": [
       "  0%|          | 0/503 [00:00<?, ?it/s]"
      ]
     },
     "metadata": {},
     "output_type": "display_data"
    },
    {
     "data": {
      "application/vnd.jupyter.widget-view+json": {
       "model_id": "8260d6911b8a4b2e84e60442f8235687",
       "version_major": 2,
       "version_minor": 0
      },
      "text/plain": [
       "  0%|          | 0/503 [00:00<?, ?it/s]"
      ]
     },
     "metadata": {},
     "output_type": "display_data"
    },
    {
     "data": {
      "application/vnd.jupyter.widget-view+json": {
       "model_id": "2ee6885b186e4f72b498283ece934fbe",
       "version_major": 2,
       "version_minor": 0
      },
      "text/plain": [
       "  0%|          | 0/503 [00:00<?, ?it/s]"
      ]
     },
     "metadata": {},
     "output_type": "display_data"
    },
    {
     "data": {
      "application/vnd.jupyter.widget-view+json": {
       "model_id": "bd7ffff07c0a413fbfcbf360106eb200",
       "version_major": 2,
       "version_minor": 0
      },
      "text/plain": [
       "  0%|          | 0/503 [00:00<?, ?it/s]"
      ]
     },
     "metadata": {},
     "output_type": "display_data"
    },
    {
     "data": {
      "application/vnd.jupyter.widget-view+json": {
       "model_id": "ce21eee5896e4dfc82b6b3133c322cf0",
       "version_major": 2,
       "version_minor": 0
      },
      "text/plain": [
       "  0%|          | 0/503 [00:00<?, ?it/s]"
      ]
     },
     "metadata": {},
     "output_type": "display_data"
    },
    {
     "data": {
      "application/vnd.jupyter.widget-view+json": {
       "model_id": "9c7792039998470baca3eccc6a9a0afa",
       "version_major": 2,
       "version_minor": 0
      },
      "text/plain": [
       "  0%|          | 0/503 [00:00<?, ?it/s]"
      ]
     },
     "metadata": {},
     "output_type": "display_data"
    },
    {
     "data": {
      "application/vnd.jupyter.widget-view+json": {
       "model_id": "6e30e7e1cbee47b69e7eabc92a90e17f",
       "version_major": 2,
       "version_minor": 0
      },
      "text/plain": [
       "  0%|          | 0/503 [00:00<?, ?it/s]"
      ]
     },
     "metadata": {},
     "output_type": "display_data"
    },
    {
     "data": {
      "application/vnd.jupyter.widget-view+json": {
       "model_id": "5ec45e0249ed4057b92ebe615c2fdcf9",
       "version_major": 2,
       "version_minor": 0
      },
      "text/plain": [
       "  0%|          | 0/503 [00:00<?, ?it/s]"
      ]
     },
     "metadata": {},
     "output_type": "display_data"
    },
    {
     "data": {
      "application/vnd.jupyter.widget-view+json": {
       "model_id": "7e4f73c5a6874d3281ebb426e35909eb",
       "version_major": 2,
       "version_minor": 0
      },
      "text/plain": [
       "  0%|          | 0/503 [00:00<?, ?it/s]"
      ]
     },
     "metadata": {},
     "output_type": "display_data"
    },
    {
     "data": {
      "application/vnd.jupyter.widget-view+json": {
       "model_id": "602afa8467ab44b4afb7b1291cffcad9",
       "version_major": 2,
       "version_minor": 0
      },
      "text/plain": [
       "  0%|          | 0/503 [00:00<?, ?it/s]"
      ]
     },
     "metadata": {},
     "output_type": "display_data"
    },
    {
     "data": {
      "application/vnd.jupyter.widget-view+json": {
       "model_id": "9033bca2688947a3a2ee74647b8abb04",
       "version_major": 2,
       "version_minor": 0
      },
      "text/plain": [
       "  0%|          | 0/503 [00:00<?, ?it/s]"
      ]
     },
     "metadata": {},
     "output_type": "display_data"
    },
    {
     "data": {
      "application/vnd.jupyter.widget-view+json": {
       "model_id": "d088179fc5224044ac1c5bbb66b726af",
       "version_major": 2,
       "version_minor": 0
      },
      "text/plain": [
       "  0%|          | 0/503 [00:00<?, ?it/s]"
      ]
     },
     "metadata": {},
     "output_type": "display_data"
    },
    {
     "data": {
      "application/vnd.jupyter.widget-view+json": {
       "model_id": "0d73f8496d3c41a581462c93ecf9acb7",
       "version_major": 2,
       "version_minor": 0
      },
      "text/plain": [
       "  0%|          | 0/503 [00:00<?, ?it/s]"
      ]
     },
     "metadata": {},
     "output_type": "display_data"
    },
    {
     "data": {
      "application/vnd.jupyter.widget-view+json": {
       "model_id": "ebe94ad6aaa844b38c8e4ed51e99f1a4",
       "version_major": 2,
       "version_minor": 0
      },
      "text/plain": [
       "  0%|          | 0/503 [00:00<?, ?it/s]"
      ]
     },
     "metadata": {},
     "output_type": "display_data"
    },
    {
     "data": {
      "application/vnd.jupyter.widget-view+json": {
       "model_id": "e0468b089ffe4a9eb59c53c47e8868b6",
       "version_major": 2,
       "version_minor": 0
      },
      "text/plain": [
       "  0%|          | 0/503 [00:00<?, ?it/s]"
      ]
     },
     "metadata": {},
     "output_type": "display_data"
    },
    {
     "data": {
      "application/vnd.jupyter.widget-view+json": {
       "model_id": "26fa804e78344d7a897200ddb9c59681",
       "version_major": 2,
       "version_minor": 0
      },
      "text/plain": [
       "  0%|          | 0/503 [00:00<?, ?it/s]"
      ]
     },
     "metadata": {},
     "output_type": "display_data"
    },
    {
     "data": {
      "application/vnd.jupyter.widget-view+json": {
       "model_id": "228efa7a351b456486d66fe0bafa34ca",
       "version_major": 2,
       "version_minor": 0
      },
      "text/plain": [
       "  0%|          | 0/503 [00:00<?, ?it/s]"
      ]
     },
     "metadata": {},
     "output_type": "display_data"
    },
    {
     "data": {
      "application/vnd.jupyter.widget-view+json": {
       "model_id": "dd424f0788414c30af41b5b2635070d0",
       "version_major": 2,
       "version_minor": 0
      },
      "text/plain": [
       "  0%|          | 0/503 [00:00<?, ?it/s]"
      ]
     },
     "metadata": {},
     "output_type": "display_data"
    },
    {
     "data": {
      "application/vnd.jupyter.widget-view+json": {
       "model_id": "8490ec30439d4ff4928a4244d6966cbc",
       "version_major": 2,
       "version_minor": 0
      },
      "text/plain": [
       "  0%|          | 0/503 [00:00<?, ?it/s]"
      ]
     },
     "metadata": {},
     "output_type": "display_data"
    },
    {
     "data": {
      "application/vnd.jupyter.widget-view+json": {
       "model_id": "0372f5159a6a455bbc71de23dcc22e89",
       "version_major": 2,
       "version_minor": 0
      },
      "text/plain": [
       "  0%|          | 0/503 [00:00<?, ?it/s]"
      ]
     },
     "metadata": {},
     "output_type": "display_data"
    },
    {
     "data": {
      "application/vnd.jupyter.widget-view+json": {
       "model_id": "fb126cea7d1c43ddbd8294526c7383cb",
       "version_major": 2,
       "version_minor": 0
      },
      "text/plain": [
       "  0%|          | 0/503 [00:00<?, ?it/s]"
      ]
     },
     "metadata": {},
     "output_type": "display_data"
    },
    {
     "data": {
      "application/vnd.jupyter.widget-view+json": {
       "model_id": "dd4c44ad78d149c5916a982b572a82ce",
       "version_major": 2,
       "version_minor": 0
      },
      "text/plain": [
       "  0%|          | 0/503 [00:00<?, ?it/s]"
      ]
     },
     "metadata": {},
     "output_type": "display_data"
    },
    {
     "data": {
      "application/vnd.jupyter.widget-view+json": {
       "model_id": "4332fdab9c2e4a9c852ec03de0b12dda",
       "version_major": 2,
       "version_minor": 0
      },
      "text/plain": [
       "  0%|          | 0/503 [00:00<?, ?it/s]"
      ]
     },
     "metadata": {},
     "output_type": "display_data"
    },
    {
     "data": {
      "application/vnd.jupyter.widget-view+json": {
       "model_id": "cab8ee55ead04b3b9f2b6f14f8568bad",
       "version_major": 2,
       "version_minor": 0
      },
      "text/plain": [
       "  0%|          | 0/503 [00:00<?, ?it/s]"
      ]
     },
     "metadata": {},
     "output_type": "display_data"
    },
    {
     "data": {
      "application/vnd.jupyter.widget-view+json": {
       "model_id": "dadb217ae9b2410b956fd306e3c738ca",
       "version_major": 2,
       "version_minor": 0
      },
      "text/plain": [
       "  0%|          | 0/503 [00:00<?, ?it/s]"
      ]
     },
     "metadata": {},
     "output_type": "display_data"
    },
    {
     "data": {
      "application/vnd.jupyter.widget-view+json": {
       "model_id": "e7ffcdf9c01f492ab27fd5e094994466",
       "version_major": 2,
       "version_minor": 0
      },
      "text/plain": [
       "  0%|          | 0/503 [00:00<?, ?it/s]"
      ]
     },
     "metadata": {},
     "output_type": "display_data"
    },
    {
     "data": {
      "application/vnd.jupyter.widget-view+json": {
       "model_id": "aa65bf109b7547a780f52ee6280e1948",
       "version_major": 2,
       "version_minor": 0
      },
      "text/plain": [
       "  0%|          | 0/503 [00:00<?, ?it/s]"
      ]
     },
     "metadata": {},
     "output_type": "display_data"
    },
    {
     "data": {
      "application/vnd.jupyter.widget-view+json": {
       "model_id": "ccf8a6316a6841838a6cdc5a84807c64",
       "version_major": 2,
       "version_minor": 0
      },
      "text/plain": [
       "  0%|          | 0/503 [00:00<?, ?it/s]"
      ]
     },
     "metadata": {},
     "output_type": "display_data"
    },
    {
     "data": {
      "application/vnd.jupyter.widget-view+json": {
       "model_id": "444f6316897348d6b0932d9b285a6356",
       "version_major": 2,
       "version_minor": 0
      },
      "text/plain": [
       "  0%|          | 0/503 [00:00<?, ?it/s]"
      ]
     },
     "metadata": {},
     "output_type": "display_data"
    },
    {
     "data": {
      "application/vnd.jupyter.widget-view+json": {
       "model_id": "785da16dae6b4cf9b109e846c47b422c",
       "version_major": 2,
       "version_minor": 0
      },
      "text/plain": [
       "  0%|          | 0/503 [00:00<?, ?it/s]"
      ]
     },
     "metadata": {},
     "output_type": "display_data"
    },
    {
     "data": {
      "application/vnd.jupyter.widget-view+json": {
       "model_id": "fa2dc6755db64bc2ad011d9e45d66a1b",
       "version_major": 2,
       "version_minor": 0
      },
      "text/plain": [
       "  0%|          | 0/503 [00:00<?, ?it/s]"
      ]
     },
     "metadata": {},
     "output_type": "display_data"
    },
    {
     "data": {
      "application/vnd.jupyter.widget-view+json": {
       "model_id": "e4cb3e99db2e4d6d91eaf21efacb7f9e",
       "version_major": 2,
       "version_minor": 0
      },
      "text/plain": [
       "  0%|          | 0/503 [00:00<?, ?it/s]"
      ]
     },
     "metadata": {},
     "output_type": "display_data"
    },
    {
     "data": {
      "application/vnd.jupyter.widget-view+json": {
       "model_id": "0df1478b6ab348a9b8d718aeaa3ba241",
       "version_major": 2,
       "version_minor": 0
      },
      "text/plain": [
       "  0%|          | 0/503 [00:00<?, ?it/s]"
      ]
     },
     "metadata": {},
     "output_type": "display_data"
    },
    {
     "data": {
      "application/vnd.jupyter.widget-view+json": {
       "model_id": "d04e78dc9b5c480cb8b9bb9fc348800c",
       "version_major": 2,
       "version_minor": 0
      },
      "text/plain": [
       "  0%|          | 0/503 [00:00<?, ?it/s]"
      ]
     },
     "metadata": {},
     "output_type": "display_data"
    },
    {
     "data": {
      "application/vnd.jupyter.widget-view+json": {
       "model_id": "767b0321b7284245bcf921d93cca68a7",
       "version_major": 2,
       "version_minor": 0
      },
      "text/plain": [
       "  0%|          | 0/503 [00:00<?, ?it/s]"
      ]
     },
     "metadata": {},
     "output_type": "display_data"
    },
    {
     "ename": "KeyboardInterrupt",
     "evalue": "",
     "output_type": "error",
     "traceback": [
      "\u001b[0;31m---------------------------------------------------------------------------\u001b[0m",
      "\u001b[0;31mKeyboardInterrupt\u001b[0m                         Traceback (most recent call last)",
      "Cell \u001b[0;32mIn[203], line 24\u001b[0m\n\u001b[1;32m     22\u001b[0m \u001b[38;5;28;01mif\u001b[39;00m is_1_am():\n\u001b[1;32m     23\u001b[0m     res_dict, res_dict_agg\u001b[38;5;241m=\u001b[39m generate_last_week_average()\n\u001b[0;32m---> 24\u001b[0m \u001b[43mtime\u001b[49m\u001b[38;5;241;43m.\u001b[39;49m\u001b[43msleep\u001b[49m\u001b[43m(\u001b[49m\u001b[38;5;241;43m30\u001b[39;49m\u001b[43m)\u001b[49m\n",
      "\u001b[0;31mKeyboardInterrupt\u001b[0m: "
     ]
    }
   ],
   "source": [
    "import datetime\n",
    "import time\n",
    "\n",
    "# res_dict, res_dict_agg= generate_last_week_average()\n",
    "while True:\n",
    "    if is_quarter_hour() and check_market_open():\n",
    "        assume_date = datetime.datetime.now()\n",
    "        pct_list_positive, pct_list_negative = get_valid_pct_list(res_dict,res_dict_agg, assume_date = assume_date)\n",
    "        v_change_top_10_positive, n_change_top_10_positive = generate_top_k_stock(10, pct_list_positive)\n",
    "        v_change_top_10_negative, n_change_top_10_negative = generate_top_k_stock(10, pct_list_negative)\n",
    "        title = \"[TopVolChange]: Top List At {}\".format(assume_date.strftime('%H:%M(PST) at %m/%d/%Y'))\n",
    "        final_list_positive = [(\"Ticker\",\"Volumn\",\"Trade\",\"VolChangePct\",\"#TradeChangePct\",\"ReturnInLast30Min\")]\n",
    "        final_list_positive += [i for i in v_change_top_10_positive if i[0] in list(set([i[0] for i in v_change_top_10_positive]).intersection([i[0] for i in n_change_top_10_positive]))]\n",
    "\n",
    "        final_list_negative = [(\"Ticker\",\"Volumn\",\"Trade\",\"VolChangePct\",\"#TradeChangePct\",\"ReturnInLast30Min\")]\n",
    "        final_list_negative += [i for i in v_change_top_10_negative if i[0] in list(set([i[0] for i in v_change_top_10_negative]).intersection([i[0] for i in n_change_top_10_negative]))]\n",
    "\n",
    "        html_positive = get_pretty_html(final_list_positive)\n",
    "        html_negative = get_pretty_html(final_list_negative)\n",
    "        html = html_positive + '<br/><br/>' + html_negative\n",
    "        send_simple_message(title, html)\n",
    "    if is_1_am():\n",
    "        res_dict, res_dict_agg= generate_last_week_average()\n",
    "    time.sleep(30)\n",
    "        \n",
    "        \n",
    "    "
   ]
  },
  {
   "cell_type": "code",
   "execution_count": 56,
   "id": "20ccc1e5",
   "metadata": {},
   "outputs": [],
   "source": [
    "res_df['datetime'] = res_df['t'].apply(lambda x: datetime.datetime.fromtimestamp(x / 1000, timezone('US/Eastern')).strftime('%Y-%m-%d-%H:%M:%S'))\n",
    "res_df['date'] = res_df['datetime'].apply(lambda x:'-'.join(x.split('-')[:3]))\n",
    "res_df['time'] = res_df['datetime'].apply(lambda x:'-'.join(x.split('-')[3:]))"
   ]
  },
  {
   "cell_type": "code",
   "execution_count": 57,
   "id": "cb610cdf",
   "metadata": {},
   "outputs": [],
   "source": [
    "shift_size = len(res_df) // len(res_df.date.unique())"
   ]
  },
  {
   "cell_type": "code",
   "execution_count": 58,
   "id": "6cb5bbd8",
   "metadata": {},
   "outputs": [],
   "source": [
    "res_df['v_previous_day'] = res_df['v'].shift(periods=shift_size)\n",
    "res_df['v_percentage_change'] = ((res_df['v'] - res_df['v_previous_day']) / res_df['v'].mean())"
   ]
  },
  {
   "cell_type": "code",
   "execution_count": 60,
   "id": "9eb9c24d",
   "metadata": {},
   "outputs": [],
   "source": [
    "res_df['ret60min'] = res_df['c'].pct_change(periods=4)\n",
    "res_df['ret45min'] = res_df['c'].pct_change(periods=3)\n",
    "res_df['ret30min'] = res_df['c'].pct_change(periods=2)\n",
    "res_df['ret15min'] = res_df['c'].pct_change(periods=1)"
   ]
  },
  {
   "cell_type": "code",
   "execution_count": 61,
   "id": "91964eba",
   "metadata": {},
   "outputs": [],
   "source": [
    "res_df['Log_Ret'] = np.log(res_df['c'] / res_df['c'].shift(1))\n",
    "res_df['Volatility'] = res_df['Log_Ret'].rolling(window=5).std() * np.sqrt(5)\n",
    "res_df['Volatility60'] = res_df['Volatility'].shift(-4)\n",
    "res_df['Volatility45'] = res_df['Volatility'].shift(-3)\n",
    "res_df['Volatility30'] = res_df['Volatility'].shift(-2)\n",
    "res_df['Volatility15'] = res_df['Volatility'].shift(-1)"
   ]
  },
  {
   "cell_type": "code",
   "execution_count": 62,
   "id": "05e5e452",
   "metadata": {},
   "outputs": [
    {
     "data": {
      "text/html": [
       "<div>\n",
       "<style scoped>\n",
       "    .dataframe tbody tr th:only-of-type {\n",
       "        vertical-align: middle;\n",
       "    }\n",
       "\n",
       "    .dataframe tbody tr th {\n",
       "        vertical-align: top;\n",
       "    }\n",
       "\n",
       "    .dataframe thead th {\n",
       "        text-align: right;\n",
       "    }\n",
       "</style>\n",
       "<table border=\"1\" class=\"dataframe\">\n",
       "  <thead>\n",
       "    <tr style=\"text-align: right;\">\n",
       "      <th></th>\n",
       "      <th>Volatility60</th>\n",
       "      <th>Volatility45</th>\n",
       "      <th>Volatility30</th>\n",
       "      <th>Volatility15</th>\n",
       "      <th>Volatility</th>\n",
       "      <th>ret15min</th>\n",
       "      <th>ret30min</th>\n",
       "      <th>ret45min</th>\n",
       "      <th>ret60min</th>\n",
       "      <th>v_percentage_change</th>\n",
       "    </tr>\n",
       "  </thead>\n",
       "  <tbody>\n",
       "    <tr>\n",
       "      <th>Volatility60</th>\n",
       "      <td>1.000000</td>\n",
       "      <td>0.871624</td>\n",
       "      <td>0.731594</td>\n",
       "      <td>0.587211</td>\n",
       "      <td>0.443354</td>\n",
       "      <td>0.087355</td>\n",
       "      <td>0.072078</td>\n",
       "      <td>0.068836</td>\n",
       "      <td>0.069961</td>\n",
       "      <td>0.068475</td>\n",
       "    </tr>\n",
       "    <tr>\n",
       "      <th>Volatility45</th>\n",
       "      <td>0.871624</td>\n",
       "      <td>1.000000</td>\n",
       "      <td>0.871624</td>\n",
       "      <td>0.731594</td>\n",
       "      <td>0.587211</td>\n",
       "      <td>0.102596</td>\n",
       "      <td>0.132514</td>\n",
       "      <td>0.116951</td>\n",
       "      <td>0.108999</td>\n",
       "      <td>0.111729</td>\n",
       "    </tr>\n",
       "    <tr>\n",
       "      <th>Volatility30</th>\n",
       "      <td>0.731594</td>\n",
       "      <td>0.871624</td>\n",
       "      <td>1.000000</td>\n",
       "      <td>0.871624</td>\n",
       "      <td>0.731594</td>\n",
       "      <td>0.115045</td>\n",
       "      <td>0.151755</td>\n",
       "      <td>0.172820</td>\n",
       "      <td>0.156120</td>\n",
       "      <td>0.134614</td>\n",
       "    </tr>\n",
       "    <tr>\n",
       "      <th>Volatility15</th>\n",
       "      <td>0.587211</td>\n",
       "      <td>0.731594</td>\n",
       "      <td>0.871624</td>\n",
       "      <td>1.000000</td>\n",
       "      <td>0.871624</td>\n",
       "      <td>0.127221</td>\n",
       "      <td>0.168780</td>\n",
       "      <td>0.195369</td>\n",
       "      <td>0.210272</td>\n",
       "      <td>0.149674</td>\n",
       "    </tr>\n",
       "    <tr>\n",
       "      <th>Volatility</th>\n",
       "      <td>0.443354</td>\n",
       "      <td>0.587211</td>\n",
       "      <td>0.731594</td>\n",
       "      <td>0.871624</td>\n",
       "      <td>1.000000</td>\n",
       "      <td>0.140535</td>\n",
       "      <td>0.186471</td>\n",
       "      <td>0.216672</td>\n",
       "      <td>0.236173</td>\n",
       "      <td>0.194205</td>\n",
       "    </tr>\n",
       "    <tr>\n",
       "      <th>ret15min</th>\n",
       "      <td>0.087355</td>\n",
       "      <td>0.102596</td>\n",
       "      <td>0.115045</td>\n",
       "      <td>0.127221</td>\n",
       "      <td>0.140535</td>\n",
       "      <td>1.000000</td>\n",
       "      <td>0.722261</td>\n",
       "      <td>0.586373</td>\n",
       "      <td>0.516199</td>\n",
       "      <td>0.040345</td>\n",
       "    </tr>\n",
       "    <tr>\n",
       "      <th>ret30min</th>\n",
       "      <td>0.072078</td>\n",
       "      <td>0.132514</td>\n",
       "      <td>0.151755</td>\n",
       "      <td>0.168780</td>\n",
       "      <td>0.186471</td>\n",
       "      <td>0.722261</td>\n",
       "      <td>1.000000</td>\n",
       "      <td>0.828776</td>\n",
       "      <td>0.720490</td>\n",
       "      <td>0.030944</td>\n",
       "    </tr>\n",
       "    <tr>\n",
       "      <th>ret45min</th>\n",
       "      <td>0.068836</td>\n",
       "      <td>0.116951</td>\n",
       "      <td>0.172820</td>\n",
       "      <td>0.195369</td>\n",
       "      <td>0.216672</td>\n",
       "      <td>0.586373</td>\n",
       "      <td>0.828776</td>\n",
       "      <td>1.000000</td>\n",
       "      <td>0.877759</td>\n",
       "      <td>0.033826</td>\n",
       "    </tr>\n",
       "    <tr>\n",
       "      <th>ret60min</th>\n",
       "      <td>0.069961</td>\n",
       "      <td>0.108999</td>\n",
       "      <td>0.156120</td>\n",
       "      <td>0.210272</td>\n",
       "      <td>0.236173</td>\n",
       "      <td>0.516199</td>\n",
       "      <td>0.720490</td>\n",
       "      <td>0.877759</td>\n",
       "      <td>1.000000</td>\n",
       "      <td>0.037724</td>\n",
       "    </tr>\n",
       "    <tr>\n",
       "      <th>v_percentage_change</th>\n",
       "      <td>0.068475</td>\n",
       "      <td>0.111729</td>\n",
       "      <td>0.134614</td>\n",
       "      <td>0.149674</td>\n",
       "      <td>0.194205</td>\n",
       "      <td>0.040345</td>\n",
       "      <td>0.030944</td>\n",
       "      <td>0.033826</td>\n",
       "      <td>0.037724</td>\n",
       "      <td>1.000000</td>\n",
       "    </tr>\n",
       "  </tbody>\n",
       "</table>\n",
       "</div>"
      ],
      "text/plain": [
       "                     Volatility60  Volatility45  Volatility30  Volatility15  \\\n",
       "Volatility60             1.000000      0.871624      0.731594      0.587211   \n",
       "Volatility45             0.871624      1.000000      0.871624      0.731594   \n",
       "Volatility30             0.731594      0.871624      1.000000      0.871624   \n",
       "Volatility15             0.587211      0.731594      0.871624      1.000000   \n",
       "Volatility               0.443354      0.587211      0.731594      0.871624   \n",
       "ret15min                 0.087355      0.102596      0.115045      0.127221   \n",
       "ret30min                 0.072078      0.132514      0.151755      0.168780   \n",
       "ret45min                 0.068836      0.116951      0.172820      0.195369   \n",
       "ret60min                 0.069961      0.108999      0.156120      0.210272   \n",
       "v_percentage_change      0.068475      0.111729      0.134614      0.149674   \n",
       "\n",
       "                     Volatility  ret15min  ret30min  ret45min  ret60min  \\\n",
       "Volatility60           0.443354  0.087355  0.072078  0.068836  0.069961   \n",
       "Volatility45           0.587211  0.102596  0.132514  0.116951  0.108999   \n",
       "Volatility30           0.731594  0.115045  0.151755  0.172820  0.156120   \n",
       "Volatility15           0.871624  0.127221  0.168780  0.195369  0.210272   \n",
       "Volatility             1.000000  0.140535  0.186471  0.216672  0.236173   \n",
       "ret15min               0.140535  1.000000  0.722261  0.586373  0.516199   \n",
       "ret30min               0.186471  0.722261  1.000000  0.828776  0.720490   \n",
       "ret45min               0.216672  0.586373  0.828776  1.000000  0.877759   \n",
       "ret60min               0.236173  0.516199  0.720490  0.877759  1.000000   \n",
       "v_percentage_change    0.194205  0.040345  0.030944  0.033826  0.037724   \n",
       "\n",
       "                     v_percentage_change  \n",
       "Volatility60                    0.068475  \n",
       "Volatility45                    0.111729  \n",
       "Volatility30                    0.134614  \n",
       "Volatility15                    0.149674  \n",
       "Volatility                      0.194205  \n",
       "ret15min                        0.040345  \n",
       "ret30min                        0.030944  \n",
       "ret45min                        0.033826  \n",
       "ret60min                        0.037724  \n",
       "v_percentage_change             1.000000  "
      ]
     },
     "execution_count": 62,
     "metadata": {},
     "output_type": "execute_result"
    }
   ],
   "source": [
    "res_df[['Volatility60','Volatility45','Volatility30','Volatility15','Volatility','ret15min','ret30min','ret45min','ret60min','v_percentage_change']].corr()"
   ]
  },
  {
   "cell_type": "code",
   "execution_count": 63,
   "id": "968072a4",
   "metadata": {},
   "outputs": [
    {
     "data": {
      "text/html": [
       "<div>\n",
       "<style scoped>\n",
       "    .dataframe tbody tr th:only-of-type {\n",
       "        vertical-align: middle;\n",
       "    }\n",
       "\n",
       "    .dataframe tbody tr th {\n",
       "        vertical-align: top;\n",
       "    }\n",
       "\n",
       "    .dataframe thead th {\n",
       "        text-align: right;\n",
       "    }\n",
       "</style>\n",
       "<table border=\"1\" class=\"dataframe\">\n",
       "  <thead>\n",
       "    <tr style=\"text-align: right;\">\n",
       "      <th></th>\n",
       "      <th>index</th>\n",
       "      <th>v</th>\n",
       "      <th>vw</th>\n",
       "      <th>o</th>\n",
       "      <th>c</th>\n",
       "      <th>h</th>\n",
       "      <th>l</th>\n",
       "      <th>t</th>\n",
       "      <th>n</th>\n",
       "      <th>datetime</th>\n",
       "      <th>...</th>\n",
       "      <th>ret60min</th>\n",
       "      <th>ret45min</th>\n",
       "      <th>ret30min</th>\n",
       "      <th>ret15min</th>\n",
       "      <th>Log_Ret</th>\n",
       "      <th>Volatility</th>\n",
       "      <th>Volatility60</th>\n",
       "      <th>Volatility45</th>\n",
       "      <th>Volatility30</th>\n",
       "      <th>Volatility15</th>\n",
       "    </tr>\n",
       "  </thead>\n",
       "  <tbody>\n",
       "    <tr>\n",
       "      <th>85</th>\n",
       "      <td>85</td>\n",
       "      <td>4682381.0</td>\n",
       "      <td>146.3423</td>\n",
       "      <td>145.670</td>\n",
       "      <td>145.2655</td>\n",
       "      <td>148.1400</td>\n",
       "      <td>144.83</td>\n",
       "      <td>1672842600000</td>\n",
       "      <td>38039</td>\n",
       "      <td>2023-01-04-09:30:00</td>\n",
       "      <td>...</td>\n",
       "      <td>-0.005031</td>\n",
       "      <td>-0.005099</td>\n",
       "      <td>-0.003461</td>\n",
       "      <td>-0.001955</td>\n",
       "      <td>-0.001957</td>\n",
       "      <td>0.004059</td>\n",
       "      <td>0.007971</td>\n",
       "      <td>0.008053</td>\n",
       "      <td>0.008138</td>\n",
       "      <td>0.002697</td>\n",
       "    </tr>\n",
       "    <tr>\n",
       "      <th>103</th>\n",
       "      <td>103</td>\n",
       "      <td>1826698.0</td>\n",
       "      <td>146.8241</td>\n",
       "      <td>147.530</td>\n",
       "      <td>146.5550</td>\n",
       "      <td>148.5300</td>\n",
       "      <td>145.83</td>\n",
       "      <td>1672858800000</td>\n",
       "      <td>16920</td>\n",
       "      <td>2023-01-04-14:00:00</td>\n",
       "      <td>...</td>\n",
       "      <td>-0.002586</td>\n",
       "      <td>-0.004585</td>\n",
       "      <td>-0.009295</td>\n",
       "      <td>-0.006339</td>\n",
       "      <td>-0.006360</td>\n",
       "      <td>0.010308</td>\n",
       "      <td>0.015817</td>\n",
       "      <td>0.016067</td>\n",
       "      <td>0.014163</td>\n",
       "      <td>0.011508</td>\n",
       "    </tr>\n",
       "    <tr>\n",
       "      <th>104</th>\n",
       "      <td>104</td>\n",
       "      <td>1583936.0</td>\n",
       "      <td>146.3261</td>\n",
       "      <td>146.550</td>\n",
       "      <td>145.5400</td>\n",
       "      <td>147.3800</td>\n",
       "      <td>145.36</td>\n",
       "      <td>1672859700000</td>\n",
       "      <td>12667</td>\n",
       "      <td>2023-01-04-14:15:00</td>\n",
       "      <td>...</td>\n",
       "      <td>-0.011479</td>\n",
       "      <td>-0.016156</td>\n",
       "      <td>-0.013221</td>\n",
       "      <td>-0.006926</td>\n",
       "      <td>-0.006950</td>\n",
       "      <td>0.011508</td>\n",
       "      <td>0.015438</td>\n",
       "      <td>0.015817</td>\n",
       "      <td>0.016067</td>\n",
       "      <td>0.014163</td>\n",
       "    </tr>\n",
       "    <tr>\n",
       "      <th>151</th>\n",
       "      <td>151</td>\n",
       "      <td>2463429.0</td>\n",
       "      <td>143.6609</td>\n",
       "      <td>143.225</td>\n",
       "      <td>143.2900</td>\n",
       "      <td>145.0000</td>\n",
       "      <td>143.00</td>\n",
       "      <td>1672930800000</td>\n",
       "      <td>21561</td>\n",
       "      <td>2023-01-05-10:00:00</td>\n",
       "      <td>...</td>\n",
       "      <td>-0.011657</td>\n",
       "      <td>-0.011589</td>\n",
       "      <td>-0.000697</td>\n",
       "      <td>0.000384</td>\n",
       "      <td>0.000384</td>\n",
       "      <td>0.010893</td>\n",
       "      <td>0.008490</td>\n",
       "      <td>0.007369</td>\n",
       "      <td>0.010812</td>\n",
       "      <td>0.011115</td>\n",
       "    </tr>\n",
       "    <tr>\n",
       "      <th>164</th>\n",
       "      <td>164</td>\n",
       "      <td>1666402.0</td>\n",
       "      <td>143.8900</td>\n",
       "      <td>142.810</td>\n",
       "      <td>144.1500</td>\n",
       "      <td>144.7779</td>\n",
       "      <td>142.70</td>\n",
       "      <td>1672942500000</td>\n",
       "      <td>22051</td>\n",
       "      <td>2023-01-05-13:15:00</td>\n",
       "      <td>...</td>\n",
       "      <td>0.008253</td>\n",
       "      <td>0.012005</td>\n",
       "      <td>0.011098</td>\n",
       "      <td>0.009454</td>\n",
       "      <td>0.009409</td>\n",
       "      <td>0.010543</td>\n",
       "      <td>0.011066</td>\n",
       "      <td>0.010693</td>\n",
       "      <td>0.010591</td>\n",
       "      <td>0.011776</td>\n",
       "    </tr>\n",
       "    <tr>\n",
       "      <th>...</th>\n",
       "      <td>...</td>\n",
       "      <td>...</td>\n",
       "      <td>...</td>\n",
       "      <td>...</td>\n",
       "      <td>...</td>\n",
       "      <td>...</td>\n",
       "      <td>...</td>\n",
       "      <td>...</td>\n",
       "      <td>...</td>\n",
       "      <td>...</td>\n",
       "      <td>...</td>\n",
       "      <td>...</td>\n",
       "      <td>...</td>\n",
       "      <td>...</td>\n",
       "      <td>...</td>\n",
       "      <td>...</td>\n",
       "      <td>...</td>\n",
       "      <td>...</td>\n",
       "      <td>...</td>\n",
       "      <td>...</td>\n",
       "      <td>...</td>\n",
       "    </tr>\n",
       "    <tr>\n",
       "      <th>15871</th>\n",
       "      <td>3984</td>\n",
       "      <td>1542765.0</td>\n",
       "      <td>498.5033</td>\n",
       "      <td>498.150</td>\n",
       "      <td>497.8950</td>\n",
       "      <td>499.2300</td>\n",
       "      <td>497.72</td>\n",
       "      <td>1703877300000</td>\n",
       "      <td>18503</td>\n",
       "      <td>2023-12-29-14:15:00</td>\n",
       "      <td>...</td>\n",
       "      <td>0.007419</td>\n",
       "      <td>0.004793</td>\n",
       "      <td>0.000693</td>\n",
       "      <td>-0.000532</td>\n",
       "      <td>-0.000532</td>\n",
       "      <td>0.003895</td>\n",
       "      <td>0.002815</td>\n",
       "      <td>0.002869</td>\n",
       "      <td>0.003971</td>\n",
       "      <td>0.003825</td>\n",
       "    </tr>\n",
       "    <tr>\n",
       "      <th>15872</th>\n",
       "      <td>3985</td>\n",
       "      <td>1150857.0</td>\n",
       "      <td>498.5604</td>\n",
       "      <td>497.868</td>\n",
       "      <td>498.6900</td>\n",
       "      <td>498.9000</td>\n",
       "      <td>497.80</td>\n",
       "      <td>1703878200000</td>\n",
       "      <td>14738</td>\n",
       "      <td>2023-12-29-14:30:00</td>\n",
       "      <td>...</td>\n",
       "      <td>0.006397</td>\n",
       "      <td>0.002291</td>\n",
       "      <td>0.001064</td>\n",
       "      <td>0.001597</td>\n",
       "      <td>0.001595</td>\n",
       "      <td>0.003825</td>\n",
       "      <td>0.002941</td>\n",
       "      <td>0.002815</td>\n",
       "      <td>0.002869</td>\n",
       "      <td>0.003971</td>\n",
       "    </tr>\n",
       "    <tr>\n",
       "      <th>15873</th>\n",
       "      <td>3986</td>\n",
       "      <td>1394232.0</td>\n",
       "      <td>498.7109</td>\n",
       "      <td>498.685</td>\n",
       "      <td>498.7500</td>\n",
       "      <td>499.5000</td>\n",
       "      <td>498.10</td>\n",
       "      <td>1703879100000</td>\n",
       "      <td>15355</td>\n",
       "      <td>2023-12-29-14:45:00</td>\n",
       "      <td>...</td>\n",
       "      <td>0.002412</td>\n",
       "      <td>0.001184</td>\n",
       "      <td>0.001717</td>\n",
       "      <td>0.000120</td>\n",
       "      <td>0.000120</td>\n",
       "      <td>0.003971</td>\n",
       "      <td>0.002509</td>\n",
       "      <td>0.002941</td>\n",
       "      <td>0.002815</td>\n",
       "      <td>0.002869</td>\n",
       "    </tr>\n",
       "    <tr>\n",
       "      <th>15874</th>\n",
       "      <td>3987</td>\n",
       "      <td>1491679.0</td>\n",
       "      <td>497.6528</td>\n",
       "      <td>498.770</td>\n",
       "      <td>497.9799</td>\n",
       "      <td>498.7800</td>\n",
       "      <td>496.93</td>\n",
       "      <td>1703880000000</td>\n",
       "      <td>17420</td>\n",
       "      <td>2023-12-29-15:00:00</td>\n",
       "      <td>...</td>\n",
       "      <td>-0.000362</td>\n",
       "      <td>0.000171</td>\n",
       "      <td>-0.001424</td>\n",
       "      <td>-0.001544</td>\n",
       "      <td>-0.001545</td>\n",
       "      <td>0.002869</td>\n",
       "      <td>0.002002</td>\n",
       "      <td>0.002509</td>\n",
       "      <td>0.002941</td>\n",
       "      <td>0.002815</td>\n",
       "    </tr>\n",
       "    <tr>\n",
       "      <th>15877</th>\n",
       "      <td>3990</td>\n",
       "      <td>2306628.0</td>\n",
       "      <td>495.4808</td>\n",
       "      <td>496.760</td>\n",
       "      <td>495.2600</td>\n",
       "      <td>496.9798</td>\n",
       "      <td>494.46</td>\n",
       "      <td>1703882700000</td>\n",
       "      <td>32461</td>\n",
       "      <td>2023-12-29-15:45:00</td>\n",
       "      <td>...</td>\n",
       "      <td>-0.006997</td>\n",
       "      <td>-0.005462</td>\n",
       "      <td>-0.004182</td>\n",
       "      <td>-0.003020</td>\n",
       "      <td>-0.003024</td>\n",
       "      <td>0.002509</td>\n",
       "      <td>0.002993</td>\n",
       "      <td>0.002943</td>\n",
       "      <td>0.002545</td>\n",
       "      <td>0.002002</td>\n",
       "    </tr>\n",
       "  </tbody>\n",
       "</table>\n",
       "<p>1583 rows × 24 columns</p>\n",
       "</div>"
      ],
      "text/plain": [
       "       index          v        vw        o         c         h       l  \\\n",
       "85        85  4682381.0  146.3423  145.670  145.2655  148.1400  144.83   \n",
       "103      103  1826698.0  146.8241  147.530  146.5550  148.5300  145.83   \n",
       "104      104  1583936.0  146.3261  146.550  145.5400  147.3800  145.36   \n",
       "151      151  2463429.0  143.6609  143.225  143.2900  145.0000  143.00   \n",
       "164      164  1666402.0  143.8900  142.810  144.1500  144.7779  142.70   \n",
       "...      ...        ...       ...      ...       ...       ...     ...   \n",
       "15871   3984  1542765.0  498.5033  498.150  497.8950  499.2300  497.72   \n",
       "15872   3985  1150857.0  498.5604  497.868  498.6900  498.9000  497.80   \n",
       "15873   3986  1394232.0  498.7109  498.685  498.7500  499.5000  498.10   \n",
       "15874   3987  1491679.0  497.6528  498.770  497.9799  498.7800  496.93   \n",
       "15877   3990  2306628.0  495.4808  496.760  495.2600  496.9798  494.46   \n",
       "\n",
       "                   t      n             datetime  ...  ret60min  ret45min  \\\n",
       "85     1672842600000  38039  2023-01-04-09:30:00  ... -0.005031 -0.005099   \n",
       "103    1672858800000  16920  2023-01-04-14:00:00  ... -0.002586 -0.004585   \n",
       "104    1672859700000  12667  2023-01-04-14:15:00  ... -0.011479 -0.016156   \n",
       "151    1672930800000  21561  2023-01-05-10:00:00  ... -0.011657 -0.011589   \n",
       "164    1672942500000  22051  2023-01-05-13:15:00  ...  0.008253  0.012005   \n",
       "...              ...    ...                  ...  ...       ...       ...   \n",
       "15871  1703877300000  18503  2023-12-29-14:15:00  ...  0.007419  0.004793   \n",
       "15872  1703878200000  14738  2023-12-29-14:30:00  ...  0.006397  0.002291   \n",
       "15873  1703879100000  15355  2023-12-29-14:45:00  ...  0.002412  0.001184   \n",
       "15874  1703880000000  17420  2023-12-29-15:00:00  ... -0.000362  0.000171   \n",
       "15877  1703882700000  32461  2023-12-29-15:45:00  ... -0.006997 -0.005462   \n",
       "\n",
       "       ret30min  ret15min   Log_Ret  Volatility  Volatility60  Volatility45  \\\n",
       "85    -0.003461 -0.001955 -0.001957    0.004059      0.007971      0.008053   \n",
       "103   -0.009295 -0.006339 -0.006360    0.010308      0.015817      0.016067   \n",
       "104   -0.013221 -0.006926 -0.006950    0.011508      0.015438      0.015817   \n",
       "151   -0.000697  0.000384  0.000384    0.010893      0.008490      0.007369   \n",
       "164    0.011098  0.009454  0.009409    0.010543      0.011066      0.010693   \n",
       "...         ...       ...       ...         ...           ...           ...   \n",
       "15871  0.000693 -0.000532 -0.000532    0.003895      0.002815      0.002869   \n",
       "15872  0.001064  0.001597  0.001595    0.003825      0.002941      0.002815   \n",
       "15873  0.001717  0.000120  0.000120    0.003971      0.002509      0.002941   \n",
       "15874 -0.001424 -0.001544 -0.001545    0.002869      0.002002      0.002509   \n",
       "15877 -0.004182 -0.003020 -0.003024    0.002509      0.002993      0.002943   \n",
       "\n",
       "       Volatility30  Volatility15  \n",
       "85         0.008138      0.002697  \n",
       "103        0.014163      0.011508  \n",
       "104        0.016067      0.014163  \n",
       "151        0.010812      0.011115  \n",
       "164        0.010591      0.011776  \n",
       "...             ...           ...  \n",
       "15871      0.003971      0.003825  \n",
       "15872      0.002869      0.003971  \n",
       "15873      0.002815      0.002869  \n",
       "15874      0.002941      0.002815  \n",
       "15877      0.002545      0.002002  \n",
       "\n",
       "[1583 rows x 24 columns]"
      ]
     },
     "execution_count": 63,
     "metadata": {},
     "output_type": "execute_result"
    }
   ],
   "source": [
    "res_df[res_df['v_percentage_change'] > res_df['v_percentage_change'].quantile(0.9)]"
   ]
  },
  {
   "cell_type": "code",
   "execution_count": 64,
   "id": "e03d39ba",
   "metadata": {},
   "outputs": [
    {
     "data": {
      "text/plain": [
       "array([[<Axes: title={'center': 'v_percentage_change'}>]], dtype=object)"
      ]
     },
     "execution_count": 64,
     "metadata": {},
     "output_type": "execute_result"
    },
    {
     "data": {
      "image/png": "[encoded data removed]",
      "text/plain": [
       "<Figure size 640x480 with 1 Axes>"
      ]
     },
     "metadata": {},
     "output_type": "display_data"
    }
   ],
   "source": [
    "res_df[['v_percentage_change']].dropna().hist(bins = 100)"
   ]
  },
  {
   "cell_type": "code",
   "execution_count": 66,
   "id": "87f4657c",
   "metadata": {},
   "outputs": [
    {
     "data": {
      "image/png": "[encoded data removed]",
      "text/plain": [
       "<Figure size 640x480 with 1 Axes>"
      ]
     },
     "metadata": {},
     "output_type": "display_data"
    }
   ],
   "source": [
    "for date, group in res_df.groupby(res_df.date):\n",
    "    # Assuming time is now represented as hours and minutes for simplicity in plotting\n",
    "    plt.plot(group.time, group['v'], label=f'Date: {date}')\n",
    "\n",
    "plt.xlabel('Time')\n",
    "plt.ylabel('Volume')\n",
    "plt.title('Volume Plot by Date and Time')\n",
    "\n",
    "plt.xticks(rotation=45)\n",
    "plt.tight_layout()\n",
    "plt.show()"
   ]
  },
  {
   "cell_type": "code",
   "execution_count": 42,
   "id": "ed7fde10",
   "metadata": {},
   "outputs": [
    {
     "data": {
      "text/plain": [
       "1050"
      ]
     },
     "execution_count": 42,
     "metadata": {},
     "output_type": "execute_result"
    }
   ],
   "source": [
    "len(res)"
   ]
  },
  {
   "cell_type": "code",
   "execution_count": 136,
   "id": "4bb72ad1",
   "metadata": {},
   "outputs": [],
   "source": [
    "import numpy as np"
   ]
  },
  {
   "cell_type": "code",
   "execution_count": 137,
   "id": "7e255f31",
   "metadata": {},
   "outputs": [],
   "source": [
    "res_dict['mean_vol'] = np.array(res_dict['v']) / np.array(res_dict['n'])\n",
    "res_dict"
   ]
  },
  {
   "cell_type": "code",
   "execution_count": 149,
   "id": "8b83c31a",
   "metadata": {},
   "outputs": [
    {
     "ename": "KeyError",
     "evalue": "'Volatility'",
     "output_type": "error",
     "traceback": [
      "\u001b[0;31m---------------------------------------------------------------------------\u001b[0m",
      "\u001b[0;31mKeyError\u001b[0m                                  Traceback (most recent call last)",
      "Cell \u001b[0;32mIn[149], line 2\u001b[0m\n\u001b[1;32m      1\u001b[0m \u001b[38;5;28;01mfor\u001b[39;00m k \u001b[38;5;129;01min\u001b[39;00m [\u001b[38;5;124m'\u001b[39m\u001b[38;5;124mVolatility\u001b[39m\u001b[38;5;124m'\u001b[39m]:\n\u001b[0;32m----> 2\u001b[0m     plt\u001b[38;5;241m.\u001b[39mplot( [(i\u001b[38;5;241m*\u001b[39m\u001b[38;5;241m1.0\u001b[39m) \u001b[38;5;28;01mfor\u001b[39;00m i \u001b[38;5;129;01min\u001b[39;00m \u001b[43mres_dict\u001b[49m\u001b[43m[\u001b[49m\u001b[43mk\u001b[49m\u001b[43m]\u001b[49m],label \u001b[38;5;241m=\u001b[39m k)\n\u001b[1;32m      3\u001b[0m plt\u001b[38;5;241m.\u001b[39mlegend()    \n\u001b[1;32m      4\u001b[0m plt\u001b[38;5;241m.\u001b[39mshow()\n",
      "\u001b[0;31mKeyError\u001b[0m: 'Volatility'"
     ]
    }
   ],
   "source": [
    "for k in ['n']:\n",
    "    plt.plot( [(i*1.0) for i in res_dict[k]],label = k)\n",
    "plt.legend()    \n",
    "plt.show()"
   ]
  },
  {
   "cell_type": "code",
   "execution_count": 164,
   "id": "93334c38",
   "metadata": {},
   "outputs": [],
   "source": [
    "df_data['Log_Ret'] = np.log(df_data['c'] / df_data['c'].shift(1))\n",
    "df_data['Volatility'] = df_data['Log_Ret'].rolling(window=10).std() * np.sqrt(10)\n",
    "df_data['Volatility_Mean10'] = df_data['Volatility'].rolling(window=10).mean()\n",
    "df_data['Volatility_Mean10Shift10'] = df_data['Volatility'].rolling(window=10).mean().shift(-10)"
   ]
  },
  {
   "cell_type": "code",
   "execution_count": 165,
   "id": "b8b0ff08",
   "metadata": {
    "scrolled": true
   },
   "outputs": [
    {
     "data": {
      "text/plain": [
       "<Axes: >"
      ]
     },
     "execution_count": 165,
     "metadata": {},
     "output_type": "execute_result"
    },
    {
     "data": {
      "image/png": "[encoded data removed]",
      "text/plain": [
       "<Figure size 640x480 with 1 Axes>"
      ]
     },
     "metadata": {},
     "output_type": "display_data"
    }
   ],
   "source": [
    "df_data['Volatility'].plot()"
   ]
  },
  {
   "cell_type": "code",
   "execution_count": 167,
   "id": "aaa31b60",
   "metadata": {},
   "outputs": [
    {
     "data": {
      "text/plain": [
       "<Axes: >"
      ]
     },
     "execution_count": 167,
     "metadata": {},
     "output_type": "execute_result"
    },
    {
     "data": {
      "image/png": "[encoded data removed]",
      "text/plain": [
       "<Figure size 640x480 with 1 Axes>"
      ]
     },
     "metadata": {},
     "output_type": "display_data"
    }
   ],
   "source": [
    "df_data[['Volatility_Mean10','Volatility_Mean10Shift10']].plot()"
   ]
  },
  {
   "cell_type": "code",
   "execution_count": 173,
   "id": "8ea44cc0",
   "metadata": {},
   "outputs": [],
   "source": [
    "df_data['whale_trade'] = df_data.apply(lambda x:x['mean_vol']>100 and x['v'] > 10000,axis = 1) "
   ]
  },
  {
   "cell_type": "code",
   "execution_count": 174,
   "id": "4a78b9da",
   "metadata": {},
   "outputs": [],
   "source": [
    "df_data_whale_trade = df_data[df_data['whale_trade']]"
   ]
  },
  {
   "cell_type": "code",
   "execution_count": 178,
   "id": "69dbef26",
   "metadata": {},
   "outputs": [
    {
     "data": {
      "text/plain": [
       "<Axes: >"
      ]
     },
     "execution_count": 178,
     "metadata": {},
     "output_type": "execute_result"
    },
    {
     "data": {
      "image/png": "[encoded data removed]",
      "text/plain": [
       "<Figure size 640x480 with 1 Axes>"
      ]
     },
     "metadata": {},
     "output_type": "display_data"
    }
   ],
   "source": [
    "df_data['whale_trade'].astype(int).plot()"
   ]
  },
  {
   "cell_type": "code",
   "execution_count": 180,
   "id": "4d5b29d1",
   "metadata": {},
   "outputs": [
    {
     "name": "stdout",
     "output_type": "stream",
     "text": [
      "0.0030366321285219032\n",
      "0.003188909885603702\n"
     ]
    }
   ],
   "source": [
    "print(df_data[df_data['whale_trade']]['Volatility_Mean10Shift10'].mean())\n",
    "print(df_data[~df_data['whale_trade']]['Volatility_Mean10Shift10'].mean())"
   ]
  },
  {
   "cell_type": "code",
   "execution_count": 181,
   "id": "3763e22b",
   "metadata": {},
   "outputs": [
    {
     "name": "stdout",
     "output_type": "stream",
     "text": [
      "0.0021661719175068658\n",
      "0.0037879211852700945\n"
     ]
    }
   ],
   "source": [
    "print(df_data[df_data['whale_trade']]['Volatility_Mean10Shift10'].std())\n",
    "print(df_data[~df_data['whale_trade']]['Volatility_Mean10Shift10'].std())"
   ]
  },
  {
   "cell_type": "code",
   "execution_count": null,
   "id": "69fa6a8c",
   "metadata": {},
   "outputs": [],
   "source": []
  }
 ],
 "metadata": {
  "kernelspec": {
   "display_name": "gpt",
   "language": "python",
   "name": "gpt"
  },
  "language_info": {
   "codemirror_mode": {
    "name": "ipython",
    "version": 3
   },
   "file_extension": ".py",
   "mimetype": "text/x-python",
   "name": "python",
   "nbconvert_exporter": "python",
   "pygments_lexer": "ipython3",
   "version": "3.9.16"
  }
 },
 "nbformat": 4,
 "nbformat_minor": 5
}
